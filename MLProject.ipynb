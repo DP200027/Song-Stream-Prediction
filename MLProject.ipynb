{
 "cells": [
  {
   "attachments": {},
   "cell_type": "markdown",
   "metadata": {},
   "source": [
    "Machine Learning Project: Song Stream Prediction, a study of predictive models for music streaming trends and analysis\n"
   ]
  },
  {
   "attachments": {},
   "cell_type": "markdown",
   "metadata": {},
   "source": [
    "Name: Dhavalashri Prasad"
   ]
  },
  {
   "attachments": {},
   "cell_type": "markdown",
   "metadata": {},
   "source": [
    "Net-ID: dxp210085"
   ]
  },
  {
   "attachments": {},
   "cell_type": "markdown",
   "metadata": {},
   "source": [
    "References: "
   ]
  },
  {
   "attachments": {},
   "cell_type": "markdown",
   "metadata": {},
   "source": [
    "https://www.youtube.com/watch?v=nYlrecbFhfI"
   ]
  },
  {
   "attachments": {},
   "cell_type": "markdown",
   "metadata": {},
   "source": [
    "https://medium.com/mlearning-ai/neural-network-theory-and-implementation-for-regression-9e35afd60a51"
   ]
  },
  {
   "attachments": {},
   "cell_type": "markdown",
   "metadata": {},
   "source": [
    "https://machinelearningmastery.com/xgboost-for-regression/"
   ]
  },
  {
   "cell_type": "code",
   "execution_count": 112,
   "metadata": {},
   "outputs": [
    {
     "data": {
      "text/html": [
       "        <script type=\"text/javascript\">\n",
       "        window.PlotlyConfig = {MathJaxConfig: 'local'};\n",
       "        if (window.MathJax && window.MathJax.Hub && window.MathJax.Hub.Config) {window.MathJax.Hub.Config({SVG: {font: \"STIX-Web\"}});}\n",
       "        if (typeof require !== 'undefined') {\n",
       "        require.undef(\"plotly\");\n",
       "        requirejs.config({\n",
       "            paths: {\n",
       "                'plotly': ['https://cdn.plot.ly/plotly-2.18.2.min']\n",
       "            }\n",
       "        });\n",
       "        require(['plotly'], function(Plotly) {\n",
       "            window._Plotly = Plotly;\n",
       "        });\n",
       "        }\n",
       "        </script>\n",
       "        "
      ]
     },
     "metadata": {},
     "output_type": "display_data"
    }
   ],
   "source": [
    "import plotly.express as px\n",
    "import pandas as pd\n",
    "import statsmodels.api as sm\n",
    "import plotly.graph_objs as go\n",
    "import matplotlib.pyplot as plt\n",
    "import numpy as np\n",
    "\n",
    "from plotly.offline import init_notebook_mode, iplot\n",
    "init_notebook_mode(connected=True)\n"
   ]
  },
  {
   "cell_type": "code",
   "execution_count": 113,
   "metadata": {},
   "outputs": [],
   "source": [
    "features_df = pd.read_csv(\"C:\\\\Users\\\\deeee\\\\Downloads\\\\Features_dp.csv\")\n",
    "streams_df = pd.read_csv(\"C:\\\\Users\\\\deeee\\\\Downloads\\\\Streams_dp.csv\")\n"
   ]
  },
  {
   "cell_type": "code",
   "execution_count": 114,
   "metadata": {},
   "outputs": [
    {
     "data": {
      "text/html": [
       "<div>\n",
       "<style scoped>\n",
       "    .dataframe tbody tr th:only-of-type {\n",
       "        vertical-align: middle;\n",
       "    }\n",
       "\n",
       "    .dataframe tbody tr th {\n",
       "        vertical-align: top;\n",
       "    }\n",
       "\n",
       "    .dataframe thead th {\n",
       "        text-align: right;\n",
       "    }\n",
       "</style>\n",
       "<table border=\"1\" class=\"dataframe\">\n",
       "  <thead>\n",
       "    <tr style=\"text-align: right;\">\n",
       "      <th></th>\n",
       "      <th>id</th>\n",
       "      <th>name</th>\n",
       "      <th>duration</th>\n",
       "      <th>energy</th>\n",
       "      <th>key</th>\n",
       "      <th>loudness</th>\n",
       "      <th>mode</th>\n",
       "      <th>speechiness</th>\n",
       "      <th>acousticness</th>\n",
       "      <th>instrumentalness</th>\n",
       "      <th>liveness</th>\n",
       "      <th>valence</th>\n",
       "      <th>tempo</th>\n",
       "      <th>danceability</th>\n",
       "    </tr>\n",
       "  </thead>\n",
       "  <tbody>\n",
       "    <tr>\n",
       "      <th>0</th>\n",
       "      <td>0VjIjW4GlUZAMYd2vXMi3b</td>\n",
       "      <td>Blinding Lights</td>\n",
       "      <td>3.33</td>\n",
       "      <td>0.730</td>\n",
       "      <td>1</td>\n",
       "      <td>-5.934</td>\n",
       "      <td>1</td>\n",
       "      <td>0.0598</td>\n",
       "      <td>0.00146</td>\n",
       "      <td>0.000095</td>\n",
       "      <td>0.0897</td>\n",
       "      <td>0.334</td>\n",
       "      <td>171.005</td>\n",
       "      <td>0.514</td>\n",
       "    </tr>\n",
       "    <tr>\n",
       "      <th>1</th>\n",
       "      <td>7qiZfU4dY1lWllzX7mPBI3</td>\n",
       "      <td>Shape of You</td>\n",
       "      <td>3.90</td>\n",
       "      <td>0.652</td>\n",
       "      <td>1</td>\n",
       "      <td>-3.183</td>\n",
       "      <td>0</td>\n",
       "      <td>0.0802</td>\n",
       "      <td>0.58100</td>\n",
       "      <td>0.000000</td>\n",
       "      <td>0.0931</td>\n",
       "      <td>0.931</td>\n",
       "      <td>95.977</td>\n",
       "      <td>0.825</td>\n",
       "    </tr>\n",
       "    <tr>\n",
       "      <th>2</th>\n",
       "      <td>2XU0oxnq2qxCpomAAuJY8K</td>\n",
       "      <td>Dance Monkey</td>\n",
       "      <td>3.49</td>\n",
       "      <td>0.588</td>\n",
       "      <td>6</td>\n",
       "      <td>-6.400</td>\n",
       "      <td>0</td>\n",
       "      <td>0.0924</td>\n",
       "      <td>0.69200</td>\n",
       "      <td>0.000104</td>\n",
       "      <td>0.1490</td>\n",
       "      <td>0.513</td>\n",
       "      <td>98.027</td>\n",
       "      <td>0.824</td>\n",
       "    </tr>\n",
       "    <tr>\n",
       "      <th>3</th>\n",
       "      <td>7qEHsqek33rTcFNT9PFqLf</td>\n",
       "      <td>Someone You Loved</td>\n",
       "      <td>3.04</td>\n",
       "      <td>0.405</td>\n",
       "      <td>1</td>\n",
       "      <td>-5.679</td>\n",
       "      <td>1</td>\n",
       "      <td>0.0319</td>\n",
       "      <td>0.75100</td>\n",
       "      <td>0.000000</td>\n",
       "      <td>0.1050</td>\n",
       "      <td>0.446</td>\n",
       "      <td>109.891</td>\n",
       "      <td>0.501</td>\n",
       "    </tr>\n",
       "    <tr>\n",
       "      <th>4</th>\n",
       "      <td>0e7ipj03S05BNilyu5bRzt</td>\n",
       "      <td>Rockstar</td>\n",
       "      <td>3.64</td>\n",
       "      <td>0.520</td>\n",
       "      <td>5</td>\n",
       "      <td>-6.136</td>\n",
       "      <td>0</td>\n",
       "      <td>0.0712</td>\n",
       "      <td>0.12400</td>\n",
       "      <td>0.000070</td>\n",
       "      <td>0.1310</td>\n",
       "      <td>0.129</td>\n",
       "      <td>159.801</td>\n",
       "      <td>0.585</td>\n",
       "    </tr>\n",
       "  </tbody>\n",
       "</table>\n",
       "</div>"
      ],
      "text/plain": [
       "                       id               name  duration  energy  key  loudness  \\\n",
       "0  0VjIjW4GlUZAMYd2vXMi3b    Blinding Lights      3.33   0.730    1    -5.934   \n",
       "1  7qiZfU4dY1lWllzX7mPBI3       Shape of You      3.90   0.652    1    -3.183   \n",
       "2  2XU0oxnq2qxCpomAAuJY8K       Dance Monkey      3.49   0.588    6    -6.400   \n",
       "3  7qEHsqek33rTcFNT9PFqLf  Someone You Loved      3.04   0.405    1    -5.679   \n",
       "4  0e7ipj03S05BNilyu5bRzt           Rockstar      3.64   0.520    5    -6.136   \n",
       "\n",
       "   mode  speechiness  acousticness  instrumentalness  liveness  valence  \\\n",
       "0     1       0.0598       0.00146          0.000095    0.0897    0.334   \n",
       "1     0       0.0802       0.58100          0.000000    0.0931    0.931   \n",
       "2     0       0.0924       0.69200          0.000104    0.1490    0.513   \n",
       "3     1       0.0319       0.75100          0.000000    0.1050    0.446   \n",
       "4     0       0.0712       0.12400          0.000070    0.1310    0.129   \n",
       "\n",
       "     tempo  danceability  \n",
       "0  171.005         0.514  \n",
       "1   95.977         0.825  \n",
       "2   98.027         0.824  \n",
       "3  109.891         0.501  \n",
       "4  159.801         0.585  "
      ]
     },
     "execution_count": 114,
     "metadata": {},
     "output_type": "execute_result"
    }
   ],
   "source": [
    "features_df.head()"
   ]
  },
  {
   "cell_type": "code",
   "execution_count": 115,
   "metadata": {},
   "outputs": [
    {
     "data": {
      "text/html": [
       "<div>\n",
       "<style scoped>\n",
       "    .dataframe tbody tr th:only-of-type {\n",
       "        vertical-align: middle;\n",
       "    }\n",
       "\n",
       "    .dataframe tbody tr th {\n",
       "        vertical-align: top;\n",
       "    }\n",
       "\n",
       "    .dataframe thead th {\n",
       "        text-align: right;\n",
       "    }\n",
       "</style>\n",
       "<table border=\"1\" class=\"dataframe\">\n",
       "  <thead>\n",
       "    <tr style=\"text-align: right;\">\n",
       "      <th></th>\n",
       "      <th>Song</th>\n",
       "      <th>Artist</th>\n",
       "      <th>Streams (Billions)</th>\n",
       "      <th>Release Date</th>\n",
       "    </tr>\n",
       "  </thead>\n",
       "  <tbody>\n",
       "    <tr>\n",
       "      <th>0</th>\n",
       "      <td>Blinding Lights</td>\n",
       "      <td>The Weeknd</td>\n",
       "      <td>3.449</td>\n",
       "      <td>29-Nov-19</td>\n",
       "    </tr>\n",
       "    <tr>\n",
       "      <th>1</th>\n",
       "      <td>Shape of You</td>\n",
       "      <td>Ed Sheeran</td>\n",
       "      <td>3.398</td>\n",
       "      <td>6-Jan-17</td>\n",
       "    </tr>\n",
       "    <tr>\n",
       "      <th>2</th>\n",
       "      <td>Dance Monkey</td>\n",
       "      <td>Tones And I</td>\n",
       "      <td>2.770</td>\n",
       "      <td>10-May-19</td>\n",
       "    </tr>\n",
       "    <tr>\n",
       "      <th>3</th>\n",
       "      <td>Someone You Loved</td>\n",
       "      <td>Lewis Capaldi</td>\n",
       "      <td>2.680</td>\n",
       "      <td>8-Nov-18</td>\n",
       "    </tr>\n",
       "    <tr>\n",
       "      <th>4</th>\n",
       "      <td>Rockstar</td>\n",
       "      <td>Post Malone featuring 21 Savage</td>\n",
       "      <td>2.620</td>\n",
       "      <td>15-Sep-17</td>\n",
       "    </tr>\n",
       "  </tbody>\n",
       "</table>\n",
       "</div>"
      ],
      "text/plain": [
       "                Song                           Artist  Streams (Billions)  \\\n",
       "0    Blinding Lights                       The Weeknd               3.449   \n",
       "1       Shape of You                       Ed Sheeran               3.398   \n",
       "2       Dance Monkey                      Tones And I               2.770   \n",
       "3  Someone You Loved                    Lewis Capaldi               2.680   \n",
       "4           Rockstar  Post Malone featuring 21 Savage               2.620   \n",
       "\n",
       "  Release Date  \n",
       "0    29-Nov-19  \n",
       "1     6-Jan-17  \n",
       "2    10-May-19  \n",
       "3     8-Nov-18  \n",
       "4    15-Sep-17  "
      ]
     },
     "execution_count": 115,
     "metadata": {},
     "output_type": "execute_result"
    }
   ],
   "source": [
    "streams_df.head()"
   ]
  },
  {
   "cell_type": "code",
   "execution_count": 116,
   "metadata": {},
   "outputs": [
    {
     "data": {
      "text/plain": [
       "Song                  0\n",
       "Artist                0\n",
       "Streams (Billions)    0\n",
       "Release Date          0\n",
       "dtype: int64"
      ]
     },
     "execution_count": 116,
     "metadata": {},
     "output_type": "execute_result"
    }
   ],
   "source": [
    "streams_df.isna().sum()"
   ]
  },
  {
   "cell_type": "code",
   "execution_count": 117,
   "metadata": {},
   "outputs": [
    {
     "data": {
      "text/plain": [
       "id                  0\n",
       "name                0\n",
       "duration            0\n",
       "energy              0\n",
       "key                 0\n",
       "loudness            0\n",
       "mode                0\n",
       "speechiness         0\n",
       "acousticness        0\n",
       "instrumentalness    0\n",
       "liveness            0\n",
       "valence             0\n",
       "tempo               0\n",
       "danceability        0\n",
       "dtype: int64"
      ]
     },
     "execution_count": 117,
     "metadata": {},
     "output_type": "execute_result"
    }
   ],
   "source": [
    "features_df.isna().sum()"
   ]
  },
  {
   "attachments": {},
   "cell_type": "markdown",
   "metadata": {},
   "source": [
    "Exploratory Data Analysis"
   ]
  },
  {
   "cell_type": "code",
   "execution_count": 148,
   "metadata": {},
   "outputs": [
    {
     "data": {
      "application/vnd.plotly.v1+json": {
       "config": {
        "plotlyServerURL": "https://plot.ly"
       },
       "data": [
        {
         "hovertext": [
          "Name: Blinding Lights<br>Duration: 3.33",
          "Name: Shape of You<br>Duration: 3.9",
          "Name: Dance Monkey<br>Duration: 3.49",
          "Name: Someone You Loved<br>Duration: 3.04",
          "Name: Rockstar<br>Duration: 3.64",
          "Name: Sunflower<br>Duration: 2.63",
          "Name: One Dance<br>Duration: 2.9",
          "Name: Closer<br>Duration: 4.08",
          "Name: Stay<br>Duration: 4.01",
          "Name: Believer<br>Duration: 3.41",
          "Name: Señorita<br>Duration: 3.18",
          "Name: Perfect<br>Duration: 2.96",
          "Name: Heat Waves<br>Duration: 3.98",
          "Name: Say You Won't Let Go<br>Duration: 3.52",
          "Name: Starboy<br>Duration: 3.84",
          "Name: Bad Guy<br>Duration: 3.23",
          "Name: Thinking Out Loud<br>Duration: 4.69",
          "Name: Lucid Dreams<br>Duration: 4.0",
          "Name: Don't Start Now<br>Duration: 3.02",
          "Name: Lovely<br>Duration: 3.34",
          "Name: Watermelon Sugar<br>Duration: 2.9",
          "Name: God's Plan<br>Duration: 3.32",
          "Name: Photograph<br>Duration: 4.32",
          "Name: Bohemian Rhapsody<br>Duration: 5.91",
          "Name: Something Just Like This<br>Duration: 4.12",
          "Name: Sweater Weather<br>Duration: 4.01",
          "Name: Shallow<br>Duration: 3.6",
          "Name: As It Was<br>Duration: 2.79",
          "Name: Love Yourself<br>Duration: 3.9",
          "Name: Circles<br>Duration: 3.59",
          "Name: Sad!<br>Duration: 2.78",
          "Name: Take Me to Church<br>Duration: 4.03",
          "Name: All of Me<br>Duration: 4.49",
          "Name: Thunder<br>Duration: 4.88",
          "Name: 7 Rings<br>Duration: 2.98",
          "Name: Goosebumps<br>Duration: 4.06",
          "Name: Jocelyn Flores<br>Duration: 1.99",
          "Name: Havana<br>Duration: 3.62",
          "Name: Stressed Out<br>Duration: 3.37",
          "Name: XO Tour Llif3<br>Duration: 3.05",
          "Name: Counting Stars<br>Duration: 4.3",
          "Name: New Rules<br>Duration: 3.49",
          "Name: Wake Me Up<br>Duration: 4.12",
          "Name: Riptide<br>Duration: 3.4",
          "Name: Happier<br>Duration: 3.21",
          "Name: Humble<br>Duration: 2.95",
          "Name: Let Her Go<br>Duration: 4.21",
          "Name: The Hills<br>Duration: 4.04",
          "Name: Sicko Mode<br>Duration: 5.21",
          "Name: Can't Hold Us<br>Duration: 1.52",
          "Name: Good 4 U<br>Duration: 2.97",
          "Name: Sorry<br>Duration: 3.1",
          "Name: One Kiss<br>Duration: 3.58",
          "Name: Let Me Love You<br>Duration: 3.43",
          "Name: Drivers License<br>Duration: 4.03",
          "Name: Lean On<br>Duration: 2.94",
          "Name: Treat You Better<br>Duration: 3.13",
          "Name: Roses (Imanbek remix)<br>Duration: 2.95",
          "Name: Better Now<br>Duration: 3.85",
          "Name: Stay with Me<br>Duration: 2.88",
          "Name: Congratulations<br>Duration: 3.67",
          "Name: Faded<br>Duration: 3.54",
          "Name: Without Me<br>Duration: 4.84",
          "Name: Industry Baby<br>Duration: 3.53",
          "Name: Lose Yourself<br>Duration: 5.44",
          "Name: Memories<br>Duration: 4.15",
          "Name: Demons<br>Duration: 2.92",
          "Name: Mr. Brightside<br>Duration: 3.72",
          "Name: Uptown Funk<br>Duration: 4.49",
          "Name: Too Good at Goodbyes<br>Duration: 3.35",
          "Name: Levitating<br>Duration: 3.38",
          "Name: I Took a Pill in Ibiza (Seeb Remix)<br>Duration: 3.3",
          "Name: Don't Let Me Down<br>Duration: 3.49",
          "Name: Thank U, Next<br>Duration: 3.46",
          "Name: I Don't Care<br>Duration: 3.67",
          "Name: Dakiti<br>Duration: 3.42",
          "Name: Montero (Call Me by Your Name)<br>Duration: 2.3",
          "Name: Mood<br>Duration: 2.16",
          "Name: Do I Wanna Know?<br>Duration: 4.54",
          "Name: Unforgettable<br>Duration: 3.9",
          "Name: Dynamite<br>Duration: 3.38",
          "Name: Despacito (remix)<br>Duration: 3.81",
          "Name: Moonlight<br>Duration: 2.25",
          "Name: Wonderwall<br>Duration: 4.31",
          "Name: No Role Modelz<br>Duration: 4.88",
          "Name: That's What I Like<br>Duration: 3.44",
          "Name: The Box<br>Duration: 3.28",
          "Name: 'Till I Collapse<br>Duration: 4.96",
          "Name: There's Nothing Holdin' Me Back<br>Duration: 3.32",
          "Name: Stitches<br>Duration: 3.45",
          "Name: Cheap Thrills<br>Duration: 3.53",
          "Name: Smells Like Teen Spirit<br>Duration: 5.03",
          "Name: See You Again<br>Duration: 3.01",
          "Name: I'm Yours<br>Duration: 2.93",
          "Name: I Like Me Better<br>Duration: 3.29",
          "Name: 7 Years<br>Duration: 3.96",
          "Name: Yellow<br>Duration: 4.45",
          "Name: Sugar<br>Duration: 2.9",
          "Name: Despacito<br>Duration: 3.82",
          "Name: Don't Stop Me Now<br>Duration: 7.05"
         ],
         "marker": {
          "color": "blue"
         },
         "mode": "markers",
         "type": "scatter",
         "x": [
          -5.934,
          -3.183,
          -6.4,
          -5.679,
          -6.136,
          -5.574,
          -5.609,
          -5.599,
          -10.164,
          -4.374,
          -6.049,
          -6.818,
          -6.9,
          -7.398,
          -7.015,
          -10.965,
          -6.061,
          -7.23,
          -12.205,
          -10.109,
          -4.209,
          -9.211,
          -10.48,
          -9.961,
          -6.769,
          -2.81,
          -6.362,
          -5.338,
          -9.828,
          -3.497,
          -4.88,
          -5.303,
          -7.064,
          -5.175,
          -10.732,
          -3.37,
          -9.144,
          -4.333,
          -5.677,
          -6.366,
          -4.972,
          -6.021,
          -5.697,
          -6.694,
          -6.009,
          -6.638,
          -7.346,
          -7.063,
          -3.714,
          -6.351,
          -5.044,
          -7.811,
          -3.24,
          -5.371,
          -8.81,
          -3.081,
          -4.078,
          -5.472,
          -5.804,
          -6.444,
          -4.183,
          -5.085,
          -2.827,
          -7.409,
          -4.565,
          -6.306,
          -3.015,
          -5.23,
          -7.223,
          -8.237,
          -3.787,
          -6.645,
          -7.539,
          -5.634,
          -5.041,
          -10.059,
          -6.725,
          -6.595,
          -7.596,
          -5.043,
          -3.724,
          -4.353,
          -5.723,
          -4.097,
          -8.492,
          -4.961,
          -6.687,
          -3.237,
          -4.063,
          -6.684,
          -5.608,
          -4.556,
          -9.222,
          -6.726,
          -7.621,
          -5.829,
          -7.227,
          -4.209,
          -4.787,
          -5.51
         ],
         "y": [
          0.73,
          0.652,
          0.588,
          0.405,
          0.52,
          0.479,
          0.625,
          0.524,
          0.31,
          0.78,
          0.548,
          0.663,
          0.525,
          0.557,
          0.587,
          0.425,
          0.445,
          0.566,
          0.185,
          0.296,
          0.816,
          0.449,
          0.379,
          0.402,
          0.635,
          0.807,
          0.385,
          0.731,
          0.378,
          0.762,
          0.613,
          0.664,
          0.264,
          0.89,
          0.317,
          0.728,
          0.391,
          0.523,
          0.637,
          0.75,
          0.705,
          0.7,
          0.783,
          0.731,
          0.67,
          0.621,
          0.545,
          0.564,
          0.73,
          0.871,
          0.664,
          0.643,
          0.862,
          0.716,
          0.431,
          0.809,
          0.819,
          0.719,
          0.578,
          0.42,
          0.804,
          0.627,
          0.669,
          0.704,
          0.744,
          0.684,
          0.71,
          0.911,
          0.609,
          0.372,
          0.825,
          0.714,
          0.502,
          0.653,
          0.676,
          0.573,
          0.503,
          0.74,
          0.532,
          0.769,
          0.783,
          0.816,
          0.537,
          0.893,
          0.521,
          0.56,
          0.586,
          0.847,
          0.813,
          0.754,
          0.698,
          0.912,
          0.559,
          0.633,
          0.505,
          0.473,
          0.661,
          0.816,
          0.797,
          0.553
         ]
        }
       ],
       "layout": {
        "template": {
         "data": {
          "bar": [
           {
            "error_x": {
             "color": "#2a3f5f"
            },
            "error_y": {
             "color": "#2a3f5f"
            },
            "marker": {
             "line": {
              "color": "#E5ECF6",
              "width": 0.5
             },
             "pattern": {
              "fillmode": "overlay",
              "size": 10,
              "solidity": 0.2
             }
            },
            "type": "bar"
           }
          ],
          "barpolar": [
           {
            "marker": {
             "line": {
              "color": "#E5ECF6",
              "width": 0.5
             },
             "pattern": {
              "fillmode": "overlay",
              "size": 10,
              "solidity": 0.2
             }
            },
            "type": "barpolar"
           }
          ],
          "carpet": [
           {
            "aaxis": {
             "endlinecolor": "#2a3f5f",
             "gridcolor": "white",
             "linecolor": "white",
             "minorgridcolor": "white",
             "startlinecolor": "#2a3f5f"
            },
            "baxis": {
             "endlinecolor": "#2a3f5f",
             "gridcolor": "white",
             "linecolor": "white",
             "minorgridcolor": "white",
             "startlinecolor": "#2a3f5f"
            },
            "type": "carpet"
           }
          ],
          "choropleth": [
           {
            "colorbar": {
             "outlinewidth": 0,
             "ticks": ""
            },
            "type": "choropleth"
           }
          ],
          "contour": [
           {
            "colorbar": {
             "outlinewidth": 0,
             "ticks": ""
            },
            "colorscale": [
             [
              0,
              "#0d0887"
             ],
             [
              0.1111111111111111,
              "#46039f"
             ],
             [
              0.2222222222222222,
              "#7201a8"
             ],
             [
              0.3333333333333333,
              "#9c179e"
             ],
             [
              0.4444444444444444,
              "#bd3786"
             ],
             [
              0.5555555555555556,
              "#d8576b"
             ],
             [
              0.6666666666666666,
              "#ed7953"
             ],
             [
              0.7777777777777778,
              "#fb9f3a"
             ],
             [
              0.8888888888888888,
              "#fdca26"
             ],
             [
              1,
              "#f0f921"
             ]
            ],
            "type": "contour"
           }
          ],
          "contourcarpet": [
           {
            "colorbar": {
             "outlinewidth": 0,
             "ticks": ""
            },
            "type": "contourcarpet"
           }
          ],
          "heatmap": [
           {
            "colorbar": {
             "outlinewidth": 0,
             "ticks": ""
            },
            "colorscale": [
             [
              0,
              "#0d0887"
             ],
             [
              0.1111111111111111,
              "#46039f"
             ],
             [
              0.2222222222222222,
              "#7201a8"
             ],
             [
              0.3333333333333333,
              "#9c179e"
             ],
             [
              0.4444444444444444,
              "#bd3786"
             ],
             [
              0.5555555555555556,
              "#d8576b"
             ],
             [
              0.6666666666666666,
              "#ed7953"
             ],
             [
              0.7777777777777778,
              "#fb9f3a"
             ],
             [
              0.8888888888888888,
              "#fdca26"
             ],
             [
              1,
              "#f0f921"
             ]
            ],
            "type": "heatmap"
           }
          ],
          "heatmapgl": [
           {
            "colorbar": {
             "outlinewidth": 0,
             "ticks": ""
            },
            "colorscale": [
             [
              0,
              "#0d0887"
             ],
             [
              0.1111111111111111,
              "#46039f"
             ],
             [
              0.2222222222222222,
              "#7201a8"
             ],
             [
              0.3333333333333333,
              "#9c179e"
             ],
             [
              0.4444444444444444,
              "#bd3786"
             ],
             [
              0.5555555555555556,
              "#d8576b"
             ],
             [
              0.6666666666666666,
              "#ed7953"
             ],
             [
              0.7777777777777778,
              "#fb9f3a"
             ],
             [
              0.8888888888888888,
              "#fdca26"
             ],
             [
              1,
              "#f0f921"
             ]
            ],
            "type": "heatmapgl"
           }
          ],
          "histogram": [
           {
            "marker": {
             "pattern": {
              "fillmode": "overlay",
              "size": 10,
              "solidity": 0.2
             }
            },
            "type": "histogram"
           }
          ],
          "histogram2d": [
           {
            "colorbar": {
             "outlinewidth": 0,
             "ticks": ""
            },
            "colorscale": [
             [
              0,
              "#0d0887"
             ],
             [
              0.1111111111111111,
              "#46039f"
             ],
             [
              0.2222222222222222,
              "#7201a8"
             ],
             [
              0.3333333333333333,
              "#9c179e"
             ],
             [
              0.4444444444444444,
              "#bd3786"
             ],
             [
              0.5555555555555556,
              "#d8576b"
             ],
             [
              0.6666666666666666,
              "#ed7953"
             ],
             [
              0.7777777777777778,
              "#fb9f3a"
             ],
             [
              0.8888888888888888,
              "#fdca26"
             ],
             [
              1,
              "#f0f921"
             ]
            ],
            "type": "histogram2d"
           }
          ],
          "histogram2dcontour": [
           {
            "colorbar": {
             "outlinewidth": 0,
             "ticks": ""
            },
            "colorscale": [
             [
              0,
              "#0d0887"
             ],
             [
              0.1111111111111111,
              "#46039f"
             ],
             [
              0.2222222222222222,
              "#7201a8"
             ],
             [
              0.3333333333333333,
              "#9c179e"
             ],
             [
              0.4444444444444444,
              "#bd3786"
             ],
             [
              0.5555555555555556,
              "#d8576b"
             ],
             [
              0.6666666666666666,
              "#ed7953"
             ],
             [
              0.7777777777777778,
              "#fb9f3a"
             ],
             [
              0.8888888888888888,
              "#fdca26"
             ],
             [
              1,
              "#f0f921"
             ]
            ],
            "type": "histogram2dcontour"
           }
          ],
          "mesh3d": [
           {
            "colorbar": {
             "outlinewidth": 0,
             "ticks": ""
            },
            "type": "mesh3d"
           }
          ],
          "parcoords": [
           {
            "line": {
             "colorbar": {
              "outlinewidth": 0,
              "ticks": ""
             }
            },
            "type": "parcoords"
           }
          ],
          "pie": [
           {
            "automargin": true,
            "type": "pie"
           }
          ],
          "scatter": [
           {
            "fillpattern": {
             "fillmode": "overlay",
             "size": 10,
             "solidity": 0.2
            },
            "type": "scatter"
           }
          ],
          "scatter3d": [
           {
            "line": {
             "colorbar": {
              "outlinewidth": 0,
              "ticks": ""
             }
            },
            "marker": {
             "colorbar": {
              "outlinewidth": 0,
              "ticks": ""
             }
            },
            "type": "scatter3d"
           }
          ],
          "scattercarpet": [
           {
            "marker": {
             "colorbar": {
              "outlinewidth": 0,
              "ticks": ""
             }
            },
            "type": "scattercarpet"
           }
          ],
          "scattergeo": [
           {
            "marker": {
             "colorbar": {
              "outlinewidth": 0,
              "ticks": ""
             }
            },
            "type": "scattergeo"
           }
          ],
          "scattergl": [
           {
            "marker": {
             "colorbar": {
              "outlinewidth": 0,
              "ticks": ""
             }
            },
            "type": "scattergl"
           }
          ],
          "scattermapbox": [
           {
            "marker": {
             "colorbar": {
              "outlinewidth": 0,
              "ticks": ""
             }
            },
            "type": "scattermapbox"
           }
          ],
          "scatterpolar": [
           {
            "marker": {
             "colorbar": {
              "outlinewidth": 0,
              "ticks": ""
             }
            },
            "type": "scatterpolar"
           }
          ],
          "scatterpolargl": [
           {
            "marker": {
             "colorbar": {
              "outlinewidth": 0,
              "ticks": ""
             }
            },
            "type": "scatterpolargl"
           }
          ],
          "scatterternary": [
           {
            "marker": {
             "colorbar": {
              "outlinewidth": 0,
              "ticks": ""
             }
            },
            "type": "scatterternary"
           }
          ],
          "surface": [
           {
            "colorbar": {
             "outlinewidth": 0,
             "ticks": ""
            },
            "colorscale": [
             [
              0,
              "#0d0887"
             ],
             [
              0.1111111111111111,
              "#46039f"
             ],
             [
              0.2222222222222222,
              "#7201a8"
             ],
             [
              0.3333333333333333,
              "#9c179e"
             ],
             [
              0.4444444444444444,
              "#bd3786"
             ],
             [
              0.5555555555555556,
              "#d8576b"
             ],
             [
              0.6666666666666666,
              "#ed7953"
             ],
             [
              0.7777777777777778,
              "#fb9f3a"
             ],
             [
              0.8888888888888888,
              "#fdca26"
             ],
             [
              1,
              "#f0f921"
             ]
            ],
            "type": "surface"
           }
          ],
          "table": [
           {
            "cells": {
             "fill": {
              "color": "#EBF0F8"
             },
             "line": {
              "color": "white"
             }
            },
            "header": {
             "fill": {
              "color": "#C8D4E3"
             },
             "line": {
              "color": "white"
             }
            },
            "type": "table"
           }
          ]
         },
         "layout": {
          "annotationdefaults": {
           "arrowcolor": "#2a3f5f",
           "arrowhead": 0,
           "arrowwidth": 1
          },
          "autotypenumbers": "strict",
          "coloraxis": {
           "colorbar": {
            "outlinewidth": 0,
            "ticks": ""
           }
          },
          "colorscale": {
           "diverging": [
            [
             0,
             "#8e0152"
            ],
            [
             0.1,
             "#c51b7d"
            ],
            [
             0.2,
             "#de77ae"
            ],
            [
             0.3,
             "#f1b6da"
            ],
            [
             0.4,
             "#fde0ef"
            ],
            [
             0.5,
             "#f7f7f7"
            ],
            [
             0.6,
             "#e6f5d0"
            ],
            [
             0.7,
             "#b8e186"
            ],
            [
             0.8,
             "#7fbc41"
            ],
            [
             0.9,
             "#4d9221"
            ],
            [
             1,
             "#276419"
            ]
           ],
           "sequential": [
            [
             0,
             "#0d0887"
            ],
            [
             0.1111111111111111,
             "#46039f"
            ],
            [
             0.2222222222222222,
             "#7201a8"
            ],
            [
             0.3333333333333333,
             "#9c179e"
            ],
            [
             0.4444444444444444,
             "#bd3786"
            ],
            [
             0.5555555555555556,
             "#d8576b"
            ],
            [
             0.6666666666666666,
             "#ed7953"
            ],
            [
             0.7777777777777778,
             "#fb9f3a"
            ],
            [
             0.8888888888888888,
             "#fdca26"
            ],
            [
             1,
             "#f0f921"
            ]
           ],
           "sequentialminus": [
            [
             0,
             "#0d0887"
            ],
            [
             0.1111111111111111,
             "#46039f"
            ],
            [
             0.2222222222222222,
             "#7201a8"
            ],
            [
             0.3333333333333333,
             "#9c179e"
            ],
            [
             0.4444444444444444,
             "#bd3786"
            ],
            [
             0.5555555555555556,
             "#d8576b"
            ],
            [
             0.6666666666666666,
             "#ed7953"
            ],
            [
             0.7777777777777778,
             "#fb9f3a"
            ],
            [
             0.8888888888888888,
             "#fdca26"
            ],
            [
             1,
             "#f0f921"
            ]
           ]
          },
          "colorway": [
           "#636efa",
           "#EF553B",
           "#00cc96",
           "#ab63fa",
           "#FFA15A",
           "#19d3f3",
           "#FF6692",
           "#B6E880",
           "#FF97FF",
           "#FECB52"
          ],
          "font": {
           "color": "#2a3f5f"
          },
          "geo": {
           "bgcolor": "white",
           "lakecolor": "white",
           "landcolor": "#E5ECF6",
           "showlakes": true,
           "showland": true,
           "subunitcolor": "white"
          },
          "hoverlabel": {
           "align": "left"
          },
          "hovermode": "closest",
          "mapbox": {
           "style": "light"
          },
          "paper_bgcolor": "white",
          "plot_bgcolor": "#E5ECF6",
          "polar": {
           "angularaxis": {
            "gridcolor": "white",
            "linecolor": "white",
            "ticks": ""
           },
           "bgcolor": "#E5ECF6",
           "radialaxis": {
            "gridcolor": "white",
            "linecolor": "white",
            "ticks": ""
           }
          },
          "scene": {
           "xaxis": {
            "backgroundcolor": "#E5ECF6",
            "gridcolor": "white",
            "gridwidth": 2,
            "linecolor": "white",
            "showbackground": true,
            "ticks": "",
            "zerolinecolor": "white"
           },
           "yaxis": {
            "backgroundcolor": "#E5ECF6",
            "gridcolor": "white",
            "gridwidth": 2,
            "linecolor": "white",
            "showbackground": true,
            "ticks": "",
            "zerolinecolor": "white"
           },
           "zaxis": {
            "backgroundcolor": "#E5ECF6",
            "gridcolor": "white",
            "gridwidth": 2,
            "linecolor": "white",
            "showbackground": true,
            "ticks": "",
            "zerolinecolor": "white"
           }
          },
          "shapedefaults": {
           "line": {
            "color": "#2a3f5f"
           }
          },
          "ternary": {
           "aaxis": {
            "gridcolor": "white",
            "linecolor": "white",
            "ticks": ""
           },
           "baxis": {
            "gridcolor": "white",
            "linecolor": "white",
            "ticks": ""
           },
           "bgcolor": "#E5ECF6",
           "caxis": {
            "gridcolor": "white",
            "linecolor": "white",
            "ticks": ""
           }
          },
          "title": {
           "x": 0.05
          },
          "xaxis": {
           "automargin": true,
           "gridcolor": "white",
           "linecolor": "white",
           "ticks": "",
           "title": {
            "standoff": 15
           },
           "zerolinecolor": "white",
           "zerolinewidth": 2
          },
          "yaxis": {
           "automargin": true,
           "gridcolor": "white",
           "linecolor": "white",
           "ticks": "",
           "title": {
            "standoff": 15
           },
           "zerolinecolor": "white",
           "zerolinewidth": 2
          }
         }
        },
        "title": {
         "text": "Relationship between loudness and energy"
        },
        "xaxis": {
         "title": {
          "text": "Loudness"
         }
        },
        "yaxis": {
         "title": {
          "text": "Energy"
         }
        }
       }
      },
      "text/html": [
       "<div>                            <div id=\"334875a1-ff3b-4d50-aec3-a73d9f598fb5\" class=\"plotly-graph-div\" style=\"height:525px; width:100%;\"></div>            <script type=\"text/javascript\">                require([\"plotly\"], function(Plotly) {                    window.PLOTLYENV=window.PLOTLYENV || {};                                    if (document.getElementById(\"334875a1-ff3b-4d50-aec3-a73d9f598fb5\")) {                    Plotly.newPlot(                        \"334875a1-ff3b-4d50-aec3-a73d9f598fb5\",                        [{\"hovertext\":[\"Name: Blinding Lights<br>Duration: 3.33\",\"Name: Shape of You<br>Duration: 3.9\",\"Name: Dance Monkey<br>Duration: 3.49\",\"Name: Someone You Loved<br>Duration: 3.04\",\"Name: Rockstar<br>Duration: 3.64\",\"Name: Sunflower<br>Duration: 2.63\",\"Name: One Dance<br>Duration: 2.9\",\"Name: Closer<br>Duration: 4.08\",\"Name: Stay<br>Duration: 4.01\",\"Name: Believer<br>Duration: 3.41\",\"Name: Se\\u00f1orita<br>Duration: 3.18\",\"Name: Perfect<br>Duration: 2.96\",\"Name: Heat Waves<br>Duration: 3.98\",\"Name: Say You Won't Let Go<br>Duration: 3.52\",\"Name: Starboy<br>Duration: 3.84\",\"Name: Bad Guy<br>Duration: 3.23\",\"Name: Thinking Out Loud<br>Duration: 4.69\",\"Name: Lucid Dreams<br>Duration: 4.0\",\"Name: Don't Start Now<br>Duration: 3.02\",\"Name: Lovely<br>Duration: 3.34\",\"Name: Watermelon Sugar<br>Duration: 2.9\",\"Name: God's Plan<br>Duration: 3.32\",\"Name: Photograph<br>Duration: 4.32\",\"Name: Bohemian Rhapsody<br>Duration: 5.91\",\"Name: Something Just Like This<br>Duration: 4.12\",\"Name: Sweater Weather<br>Duration: 4.01\",\"Name: Shallow<br>Duration: 3.6\",\"Name: As It Was<br>Duration: 2.79\",\"Name: Love Yourself<br>Duration: 3.9\",\"Name: Circles<br>Duration: 3.59\",\"Name: Sad!<br>Duration: 2.78\",\"Name: Take Me to Church<br>Duration: 4.03\",\"Name: All of Me<br>Duration: 4.49\",\"Name: Thunder<br>Duration: 4.88\",\"Name: 7 Rings<br>Duration: 2.98\",\"Name: Goosebumps<br>Duration: 4.06\",\"Name: Jocelyn Flores<br>Duration: 1.99\",\"Name: Havana<br>Duration: 3.62\",\"Name: Stressed Out<br>Duration: 3.37\",\"Name: XO Tour Llif3<br>Duration: 3.05\",\"Name: Counting Stars<br>Duration: 4.3\",\"Name: New Rules<br>Duration: 3.49\",\"Name: Wake Me Up<br>Duration: 4.12\",\"Name: Riptide<br>Duration: 3.4\",\"Name: Happier<br>Duration: 3.21\",\"Name: Humble<br>Duration: 2.95\",\"Name: Let Her Go<br>Duration: 4.21\",\"Name: The Hills<br>Duration: 4.04\",\"Name: Sicko Mode<br>Duration: 5.21\",\"Name: Can't Hold Us<br>Duration: 1.52\",\"Name: Good 4 U<br>Duration: 2.97\",\"Name: Sorry<br>Duration: 3.1\",\"Name: One Kiss<br>Duration: 3.58\",\"Name: Let Me Love You<br>Duration: 3.43\",\"Name: Drivers License<br>Duration: 4.03\",\"Name: Lean On<br>Duration: 2.94\",\"Name: Treat You Better<br>Duration: 3.13\",\"Name: Roses (Imanbek remix)<br>Duration: 2.95\",\"Name: Better Now<br>Duration: 3.85\",\"Name: Stay with Me<br>Duration: 2.88\",\"Name: Congratulations<br>Duration: 3.67\",\"Name: Faded<br>Duration: 3.54\",\"Name: Without Me<br>Duration: 4.84\",\"Name: Industry Baby<br>Duration: 3.53\",\"Name: Lose Yourself<br>Duration: 5.44\",\"Name: Memories<br>Duration: 4.15\",\"Name: Demons<br>Duration: 2.92\",\"Name: Mr. Brightside<br>Duration: 3.72\",\"Name: Uptown Funk<br>Duration: 4.49\",\"Name: Too Good at Goodbyes<br>Duration: 3.35\",\"Name: Levitating<br>Duration: 3.38\",\"Name: I Took a Pill in Ibiza\\u00a0(Seeb\\u00a0Remix)<br>Duration: 3.3\",\"Name: Don't Let Me Down<br>Duration: 3.49\",\"Name: Thank U, Next<br>Duration: 3.46\",\"Name: I Don't Care<br>Duration: 3.67\",\"Name: Dakiti<br>Duration: 3.42\",\"Name: Montero (Call Me by Your Name)<br>Duration: 2.3\",\"Name: Mood<br>Duration: 2.16\",\"Name: Do I Wanna Know?<br>Duration: 4.54\",\"Name: Unforgettable<br>Duration: 3.9\",\"Name: Dynamite<br>Duration: 3.38\",\"Name: Despacito (remix)<br>Duration: 3.81\",\"Name: Moonlight<br>Duration: 2.25\",\"Name: Wonderwall<br>Duration: 4.31\",\"Name: No Role Modelz<br>Duration: 4.88\",\"Name: That's What I Like<br>Duration: 3.44\",\"Name: The Box<br>Duration: 3.28\",\"Name: 'Till I Collapse<br>Duration: 4.96\",\"Name: There's Nothing Holdin' Me Back<br>Duration: 3.32\",\"Name: Stitches<br>Duration: 3.45\",\"Name: Cheap Thrills<br>Duration: 3.53\",\"Name: Smells Like Teen Spirit<br>Duration: 5.03\",\"Name: See You Again<br>Duration: 3.01\",\"Name: I'm Yours<br>Duration: 2.93\",\"Name: I Like Me Better<br>Duration: 3.29\",\"Name: 7 Years<br>Duration: 3.96\",\"Name: Yellow<br>Duration: 4.45\",\"Name: Sugar<br>Duration: 2.9\",\"Name: Despacito<br>Duration: 3.82\",\"Name: Don't Stop Me Now<br>Duration: 7.05\"],\"marker\":{\"color\":\"blue\"},\"mode\":\"markers\",\"x\":[-5.934,-3.183,-6.4,-5.679,-6.136,-5.574,-5.609,-5.599,-10.164,-4.374,-6.049,-6.818,-6.9,-7.398,-7.015,-10.965,-6.061,-7.23,-12.205,-10.109,-4.209,-9.211,-10.48,-9.961,-6.769,-2.81,-6.362,-5.338,-9.828,-3.497,-4.88,-5.303,-7.064,-5.175,-10.732,-3.37,-9.144,-4.333,-5.677,-6.366,-4.972,-6.021,-5.697,-6.694,-6.009,-6.638,-7.346,-7.063,-3.714,-6.351,-5.044,-7.811,-3.24,-5.371,-8.81,-3.081,-4.078,-5.472,-5.804,-6.444,-4.183,-5.085,-2.827,-7.409,-4.565,-6.306,-3.015,-5.23,-7.223,-8.237,-3.787,-6.645,-7.539,-5.634,-5.041,-10.059,-6.725,-6.595,-7.596,-5.043,-3.724,-4.353,-5.723,-4.097,-8.492,-4.961,-6.687,-3.237,-4.063,-6.684,-5.608,-4.556,-9.222,-6.726,-7.621,-5.829,-7.227,-4.209,-4.787,-5.51],\"y\":[0.73,0.652,0.588,0.405,0.52,0.479,0.625,0.524,0.31,0.78,0.548,0.663,0.525,0.557,0.587,0.425,0.445,0.566,0.185,0.296,0.816,0.449,0.379,0.402,0.635,0.807,0.385,0.731,0.378,0.762,0.613,0.664,0.264,0.89,0.317,0.728,0.391,0.523,0.637,0.75,0.705,0.7,0.783,0.731,0.67,0.621,0.545,0.564,0.73,0.871,0.664,0.643,0.862,0.716,0.431,0.809,0.819,0.719,0.578,0.42,0.804,0.627,0.669,0.704,0.744,0.684,0.71,0.911,0.609,0.372,0.825,0.714,0.502,0.653,0.676,0.573,0.503,0.74,0.532,0.769,0.783,0.816,0.537,0.893,0.521,0.56,0.586,0.847,0.813,0.754,0.698,0.912,0.559,0.633,0.505,0.473,0.661,0.816,0.797,0.553],\"type\":\"scatter\"}],                        {\"template\":{\"data\":{\"histogram2dcontour\":[{\"type\":\"histogram2dcontour\",\"colorbar\":{\"outlinewidth\":0,\"ticks\":\"\"},\"colorscale\":[[0.0,\"#0d0887\"],[0.1111111111111111,\"#46039f\"],[0.2222222222222222,\"#7201a8\"],[0.3333333333333333,\"#9c179e\"],[0.4444444444444444,\"#bd3786\"],[0.5555555555555556,\"#d8576b\"],[0.6666666666666666,\"#ed7953\"],[0.7777777777777778,\"#fb9f3a\"],[0.8888888888888888,\"#fdca26\"],[1.0,\"#f0f921\"]]}],\"choropleth\":[{\"type\":\"choropleth\",\"colorbar\":{\"outlinewidth\":0,\"ticks\":\"\"}}],\"histogram2d\":[{\"type\":\"histogram2d\",\"colorbar\":{\"outlinewidth\":0,\"ticks\":\"\"},\"colorscale\":[[0.0,\"#0d0887\"],[0.1111111111111111,\"#46039f\"],[0.2222222222222222,\"#7201a8\"],[0.3333333333333333,\"#9c179e\"],[0.4444444444444444,\"#bd3786\"],[0.5555555555555556,\"#d8576b\"],[0.6666666666666666,\"#ed7953\"],[0.7777777777777778,\"#fb9f3a\"],[0.8888888888888888,\"#fdca26\"],[1.0,\"#f0f921\"]]}],\"heatmap\":[{\"type\":\"heatmap\",\"colorbar\":{\"outlinewidth\":0,\"ticks\":\"\"},\"colorscale\":[[0.0,\"#0d0887\"],[0.1111111111111111,\"#46039f\"],[0.2222222222222222,\"#7201a8\"],[0.3333333333333333,\"#9c179e\"],[0.4444444444444444,\"#bd3786\"],[0.5555555555555556,\"#d8576b\"],[0.6666666666666666,\"#ed7953\"],[0.7777777777777778,\"#fb9f3a\"],[0.8888888888888888,\"#fdca26\"],[1.0,\"#f0f921\"]]}],\"heatmapgl\":[{\"type\":\"heatmapgl\",\"colorbar\":{\"outlinewidth\":0,\"ticks\":\"\"},\"colorscale\":[[0.0,\"#0d0887\"],[0.1111111111111111,\"#46039f\"],[0.2222222222222222,\"#7201a8\"],[0.3333333333333333,\"#9c179e\"],[0.4444444444444444,\"#bd3786\"],[0.5555555555555556,\"#d8576b\"],[0.6666666666666666,\"#ed7953\"],[0.7777777777777778,\"#fb9f3a\"],[0.8888888888888888,\"#fdca26\"],[1.0,\"#f0f921\"]]}],\"contourcarpet\":[{\"type\":\"contourcarpet\",\"colorbar\":{\"outlinewidth\":0,\"ticks\":\"\"}}],\"contour\":[{\"type\":\"contour\",\"colorbar\":{\"outlinewidth\":0,\"ticks\":\"\"},\"colorscale\":[[0.0,\"#0d0887\"],[0.1111111111111111,\"#46039f\"],[0.2222222222222222,\"#7201a8\"],[0.3333333333333333,\"#9c179e\"],[0.4444444444444444,\"#bd3786\"],[0.5555555555555556,\"#d8576b\"],[0.6666666666666666,\"#ed7953\"],[0.7777777777777778,\"#fb9f3a\"],[0.8888888888888888,\"#fdca26\"],[1.0,\"#f0f921\"]]}],\"surface\":[{\"type\":\"surface\",\"colorbar\":{\"outlinewidth\":0,\"ticks\":\"\"},\"colorscale\":[[0.0,\"#0d0887\"],[0.1111111111111111,\"#46039f\"],[0.2222222222222222,\"#7201a8\"],[0.3333333333333333,\"#9c179e\"],[0.4444444444444444,\"#bd3786\"],[0.5555555555555556,\"#d8576b\"],[0.6666666666666666,\"#ed7953\"],[0.7777777777777778,\"#fb9f3a\"],[0.8888888888888888,\"#fdca26\"],[1.0,\"#f0f921\"]]}],\"mesh3d\":[{\"type\":\"mesh3d\",\"colorbar\":{\"outlinewidth\":0,\"ticks\":\"\"}}],\"scatter\":[{\"fillpattern\":{\"fillmode\":\"overlay\",\"size\":10,\"solidity\":0.2},\"type\":\"scatter\"}],\"parcoords\":[{\"type\":\"parcoords\",\"line\":{\"colorbar\":{\"outlinewidth\":0,\"ticks\":\"\"}}}],\"scatterpolargl\":[{\"type\":\"scatterpolargl\",\"marker\":{\"colorbar\":{\"outlinewidth\":0,\"ticks\":\"\"}}}],\"bar\":[{\"error_x\":{\"color\":\"#2a3f5f\"},\"error_y\":{\"color\":\"#2a3f5f\"},\"marker\":{\"line\":{\"color\":\"#E5ECF6\",\"width\":0.5},\"pattern\":{\"fillmode\":\"overlay\",\"size\":10,\"solidity\":0.2}},\"type\":\"bar\"}],\"scattergeo\":[{\"type\":\"scattergeo\",\"marker\":{\"colorbar\":{\"outlinewidth\":0,\"ticks\":\"\"}}}],\"scatterpolar\":[{\"type\":\"scatterpolar\",\"marker\":{\"colorbar\":{\"outlinewidth\":0,\"ticks\":\"\"}}}],\"histogram\":[{\"marker\":{\"pattern\":{\"fillmode\":\"overlay\",\"size\":10,\"solidity\":0.2}},\"type\":\"histogram\"}],\"scattergl\":[{\"type\":\"scattergl\",\"marker\":{\"colorbar\":{\"outlinewidth\":0,\"ticks\":\"\"}}}],\"scatter3d\":[{\"type\":\"scatter3d\",\"line\":{\"colorbar\":{\"outlinewidth\":0,\"ticks\":\"\"}},\"marker\":{\"colorbar\":{\"outlinewidth\":0,\"ticks\":\"\"}}}],\"scattermapbox\":[{\"type\":\"scattermapbox\",\"marker\":{\"colorbar\":{\"outlinewidth\":0,\"ticks\":\"\"}}}],\"scatterternary\":[{\"type\":\"scatterternary\",\"marker\":{\"colorbar\":{\"outlinewidth\":0,\"ticks\":\"\"}}}],\"scattercarpet\":[{\"type\":\"scattercarpet\",\"marker\":{\"colorbar\":{\"outlinewidth\":0,\"ticks\":\"\"}}}],\"carpet\":[{\"aaxis\":{\"endlinecolor\":\"#2a3f5f\",\"gridcolor\":\"white\",\"linecolor\":\"white\",\"minorgridcolor\":\"white\",\"startlinecolor\":\"#2a3f5f\"},\"baxis\":{\"endlinecolor\":\"#2a3f5f\",\"gridcolor\":\"white\",\"linecolor\":\"white\",\"minorgridcolor\":\"white\",\"startlinecolor\":\"#2a3f5f\"},\"type\":\"carpet\"}],\"table\":[{\"cells\":{\"fill\":{\"color\":\"#EBF0F8\"},\"line\":{\"color\":\"white\"}},\"header\":{\"fill\":{\"color\":\"#C8D4E3\"},\"line\":{\"color\":\"white\"}},\"type\":\"table\"}],\"barpolar\":[{\"marker\":{\"line\":{\"color\":\"#E5ECF6\",\"width\":0.5},\"pattern\":{\"fillmode\":\"overlay\",\"size\":10,\"solidity\":0.2}},\"type\":\"barpolar\"}],\"pie\":[{\"automargin\":true,\"type\":\"pie\"}]},\"layout\":{\"autotypenumbers\":\"strict\",\"colorway\":[\"#636efa\",\"#EF553B\",\"#00cc96\",\"#ab63fa\",\"#FFA15A\",\"#19d3f3\",\"#FF6692\",\"#B6E880\",\"#FF97FF\",\"#FECB52\"],\"font\":{\"color\":\"#2a3f5f\"},\"hovermode\":\"closest\",\"hoverlabel\":{\"align\":\"left\"},\"paper_bgcolor\":\"white\",\"plot_bgcolor\":\"#E5ECF6\",\"polar\":{\"bgcolor\":\"#E5ECF6\",\"angularaxis\":{\"gridcolor\":\"white\",\"linecolor\":\"white\",\"ticks\":\"\"},\"radialaxis\":{\"gridcolor\":\"white\",\"linecolor\":\"white\",\"ticks\":\"\"}},\"ternary\":{\"bgcolor\":\"#E5ECF6\",\"aaxis\":{\"gridcolor\":\"white\",\"linecolor\":\"white\",\"ticks\":\"\"},\"baxis\":{\"gridcolor\":\"white\",\"linecolor\":\"white\",\"ticks\":\"\"},\"caxis\":{\"gridcolor\":\"white\",\"linecolor\":\"white\",\"ticks\":\"\"}},\"coloraxis\":{\"colorbar\":{\"outlinewidth\":0,\"ticks\":\"\"}},\"colorscale\":{\"sequential\":[[0.0,\"#0d0887\"],[0.1111111111111111,\"#46039f\"],[0.2222222222222222,\"#7201a8\"],[0.3333333333333333,\"#9c179e\"],[0.4444444444444444,\"#bd3786\"],[0.5555555555555556,\"#d8576b\"],[0.6666666666666666,\"#ed7953\"],[0.7777777777777778,\"#fb9f3a\"],[0.8888888888888888,\"#fdca26\"],[1.0,\"#f0f921\"]],\"sequentialminus\":[[0.0,\"#0d0887\"],[0.1111111111111111,\"#46039f\"],[0.2222222222222222,\"#7201a8\"],[0.3333333333333333,\"#9c179e\"],[0.4444444444444444,\"#bd3786\"],[0.5555555555555556,\"#d8576b\"],[0.6666666666666666,\"#ed7953\"],[0.7777777777777778,\"#fb9f3a\"],[0.8888888888888888,\"#fdca26\"],[1.0,\"#f0f921\"]],\"diverging\":[[0,\"#8e0152\"],[0.1,\"#c51b7d\"],[0.2,\"#de77ae\"],[0.3,\"#f1b6da\"],[0.4,\"#fde0ef\"],[0.5,\"#f7f7f7\"],[0.6,\"#e6f5d0\"],[0.7,\"#b8e186\"],[0.8,\"#7fbc41\"],[0.9,\"#4d9221\"],[1,\"#276419\"]]},\"xaxis\":{\"gridcolor\":\"white\",\"linecolor\":\"white\",\"ticks\":\"\",\"title\":{\"standoff\":15},\"zerolinecolor\":\"white\",\"automargin\":true,\"zerolinewidth\":2},\"yaxis\":{\"gridcolor\":\"white\",\"linecolor\":\"white\",\"ticks\":\"\",\"title\":{\"standoff\":15},\"zerolinecolor\":\"white\",\"automargin\":true,\"zerolinewidth\":2},\"scene\":{\"xaxis\":{\"backgroundcolor\":\"#E5ECF6\",\"gridcolor\":\"white\",\"linecolor\":\"white\",\"showbackground\":true,\"ticks\":\"\",\"zerolinecolor\":\"white\",\"gridwidth\":2},\"yaxis\":{\"backgroundcolor\":\"#E5ECF6\",\"gridcolor\":\"white\",\"linecolor\":\"white\",\"showbackground\":true,\"ticks\":\"\",\"zerolinecolor\":\"white\",\"gridwidth\":2},\"zaxis\":{\"backgroundcolor\":\"#E5ECF6\",\"gridcolor\":\"white\",\"linecolor\":\"white\",\"showbackground\":true,\"ticks\":\"\",\"zerolinecolor\":\"white\",\"gridwidth\":2}},\"shapedefaults\":{\"line\":{\"color\":\"#2a3f5f\"}},\"annotationdefaults\":{\"arrowcolor\":\"#2a3f5f\",\"arrowhead\":0,\"arrowwidth\":1},\"geo\":{\"bgcolor\":\"white\",\"landcolor\":\"#E5ECF6\",\"subunitcolor\":\"white\",\"showland\":true,\"showlakes\":true,\"lakecolor\":\"white\"},\"title\":{\"x\":0.05},\"mapbox\":{\"style\":\"light\"}}},\"title\":{\"text\":\"Relationship between loudness and energy\"},\"xaxis\":{\"title\":{\"text\":\"Loudness\"}},\"yaxis\":{\"title\":{\"text\":\"Energy\"}}},                        {\"responsive\": true}                    ).then(function(){\n",
       "                            \n",
       "var gd = document.getElementById('334875a1-ff3b-4d50-aec3-a73d9f598fb5');\n",
       "var x = new MutationObserver(function (mutations, observer) {{\n",
       "        var display = window.getComputedStyle(gd).display;\n",
       "        if (!display || display === 'none') {{\n",
       "            console.log([gd, 'removed!']);\n",
       "            Plotly.purge(gd);\n",
       "            observer.disconnect();\n",
       "        }}\n",
       "}});\n",
       "\n",
       "// Listen for the removal of the full notebook cells\n",
       "var notebookContainer = gd.closest('#notebook-container');\n",
       "if (notebookContainer) {{\n",
       "    x.observe(notebookContainer, {childList: true});\n",
       "}}\n",
       "\n",
       "// Listen for the clearing of the current output cell\n",
       "var outputEl = gd.closest('.output');\n",
       "if (outputEl) {{\n",
       "    x.observe(outputEl, {childList: true});\n",
       "}}\n",
       "\n",
       "                        })                };                });            </script>        </div>"
      ]
     },
     "metadata": {},
     "output_type": "display_data"
    }
   ],
   "source": [
    "features_df = pd.read_csv(\"C:\\\\Users\\\\deeee\\\\Downloads\\\\Features_dp.csv\")\n",
    "\n",
    "fig = go.Figure(data=go.Scatter(x=features_df[\"loudness\"], y=features_df[\"energy\"],\n",
    "mode='markers',\n",
    "marker=dict(color='blue'),\n",
    "hovertext=[f\"Name: {n}<br>Duration: {d}\"\n",
    "for n, d in zip(features_df['name'], features_df['duration'])]))\n",
    "\n",
    "fig.update_layout(title='Relationship between loudness and energy',\n",
    "xaxis_title='Loudness', yaxis_title='Energy')\n",
    "\n",
    "fig.show()"
   ]
  },
  {
   "cell_type": "code",
   "execution_count": 119,
   "metadata": {},
   "outputs": [
    {
     "data": {
      "image/png": "[encoded data removed]",
      "text/plain": [
       "<Figure size 640x480 with 1 Axes>"
      ]
     },
     "metadata": {},
     "output_type": "display_data"
    }
   ],
   "source": [
    "plt.scatter(features_df[\"energy\"], streams_df[\"Streams (Billions)\"])\n",
    "plt.xlabel(\"Energy\")\n",
    "plt.ylabel(\"Number of Streams\")\n",
    "plt.title(\"Energy vs. Popularity\")\n",
    "plt.show()\n"
   ]
  },
  {
   "cell_type": "code",
   "execution_count": 228,
   "metadata": {},
   "outputs": [
    {
     "data": {
      "image/png": "[encoded data removed]",
      "text/plain": [
       "<Figure size 640x480 with 1 Axes>"
      ]
     },
     "metadata": {},
     "output_type": "display_data"
    }
   ],
   "source": [
    "plt.scatter(features_df[\"duration\"], streams_df[\"Streams (Billions)\"])\n",
    "plt.xlabel(\"Duration\")\n",
    "plt.ylabel(\"Number of Streams\")\n",
    "plt.title(\"Duration vs. Popularity\")\n",
    "plt.show()\n"
   ]
  },
  {
   "cell_type": "code",
   "execution_count": 149,
   "metadata": {},
   "outputs": [
    {
     "data": {
      "application/vnd.plotly.v1+json": {
       "config": {
        "plotlyServerURL": "https://plot.ly"
       },
       "data": [
        {
         "hovertext": [
          "Name: Blinding Lights<br>Energy: 0.73<br>Speechiness: 0.0598",
          "Name: Shape of You<br>Energy: 0.652<br>Speechiness: 0.0802",
          "Name: Dance Monkey<br>Energy: 0.588<br>Speechiness: 0.0924",
          "Name: Someone You Loved<br>Energy: 0.405<br>Speechiness: 0.0319",
          "Name: Rockstar<br>Energy: 0.52<br>Speechiness: 0.0712",
          "Name: Sunflower<br>Energy: 0.479<br>Speechiness: 0.0466",
          "Name: One Dance<br>Energy: 0.625<br>Speechiness: 0.0536",
          "Name: Closer<br>Energy: 0.524<br>Speechiness: 0.0338",
          "Name: Stay<br>Energy: 0.31<br>Speechiness: 0.0283",
          "Name: Believer<br>Energy: 0.78<br>Speechiness: 0.128",
          "Name: Señorita<br>Energy: 0.548<br>Speechiness: 0.029",
          "Name: Perfect<br>Energy: 0.663<br>Speechiness: 0.0331",
          "Name: Heat Waves<br>Energy: 0.525<br>Speechiness: 0.0944",
          "Name: Say You Won't Let Go<br>Energy: 0.557<br>Speechiness: 0.059",
          "Name: Starboy<br>Energy: 0.587<br>Speechiness: 0.276",
          "Name: Bad Guy<br>Energy: 0.425<br>Speechiness: 0.375",
          "Name: Thinking Out Loud<br>Energy: 0.445<br>Speechiness: 0.0296",
          "Name: Lucid Dreams<br>Energy: 0.566<br>Speechiness: 0.2",
          "Name: Don't Start Now<br>Energy: 0.185<br>Speechiness: 0.0484",
          "Name: Lovely<br>Energy: 0.296<br>Speechiness: 0.0333",
          "Name: Watermelon Sugar<br>Energy: 0.816<br>Speechiness: 0.0465",
          "Name: God's Plan<br>Energy: 0.449<br>Speechiness: 0.109",
          "Name: Photograph<br>Energy: 0.379<br>Speechiness: 0.0359",
          "Name: Bohemian Rhapsody<br>Energy: 0.402<br>Speechiness: 0.0536",
          "Name: Something Just Like This<br>Energy: 0.635<br>Speechiness: 0.0317",
          "Name: Sweater Weather<br>Energy: 0.807<br>Speechiness: 0.0336",
          "Name: Shallow<br>Energy: 0.385<br>Speechiness: 0.0308",
          "Name: As It Was<br>Energy: 0.731<br>Speechiness: 0.0557",
          "Name: Love Yourself<br>Energy: 0.378<br>Speechiness: 0.438",
          "Name: Circles<br>Energy: 0.762<br>Speechiness: 0.0395",
          "Name: Sad!<br>Energy: 0.613<br>Speechiness: 0.145",
          "Name: Take Me to Church<br>Energy: 0.664<br>Speechiness: 0.0464",
          "Name: All of Me<br>Energy: 0.264<br>Speechiness: 0.0322",
          "Name: Thunder<br>Energy: 0.89<br>Speechiness: 0.0364",
          "Name: 7 Rings<br>Energy: 0.317<br>Speechiness: 0.334",
          "Name: Goosebumps<br>Energy: 0.728<br>Speechiness: 0.0484",
          "Name: Jocelyn Flores<br>Energy: 0.391<br>Speechiness: 0.242",
          "Name: Havana<br>Energy: 0.523<br>Speechiness: 0.03",
          "Name: Stressed Out<br>Energy: 0.637<br>Speechiness: 0.141",
          "Name: XO Tour Llif3<br>Energy: 0.75<br>Speechiness: 0.231",
          "Name: Counting Stars<br>Energy: 0.705<br>Speechiness: 0.0382",
          "Name: New Rules<br>Energy: 0.7<br>Speechiness: 0.0694",
          "Name: Wake Me Up<br>Energy: 0.783<br>Speechiness: 0.0523",
          "Name: Riptide<br>Energy: 0.731<br>Speechiness: 0.0379",
          "Name: Happier<br>Energy: 0.67<br>Speechiness: 0.0751",
          "Name: Humble<br>Energy: 0.621<br>Speechiness: 0.102",
          "Name: Let Her Go<br>Energy: 0.545<br>Speechiness: 0.0688",
          "Name: The Hills<br>Energy: 0.564<br>Speechiness: 0.0515",
          "Name: Sicko Mode<br>Energy: 0.73<br>Speechiness: 0.222",
          "Name: Can't Hold Us<br>Energy: 0.871<br>Speechiness: 0.0752",
          "Name: Good 4 U<br>Energy: 0.664<br>Speechiness: 0.154",
          "Name: Sorry<br>Energy: 0.643<br>Speechiness: 0.0984",
          "Name: One Kiss<br>Energy: 0.862<br>Speechiness: 0.11",
          "Name: Let Me Love You<br>Energy: 0.716<br>Speechiness: 0.0349",
          "Name: Drivers License<br>Energy: 0.431<br>Speechiness: 0.0578",
          "Name: Lean On<br>Energy: 0.809<br>Speechiness: 0.0625",
          "Name: Treat You Better<br>Energy: 0.819<br>Speechiness: 0.341",
          "Name: Roses (Imanbek remix)<br>Energy: 0.719<br>Speechiness: 0.0474",
          "Name: Better Now<br>Energy: 0.578<br>Speechiness: 0.04",
          "Name: Stay with Me<br>Energy: 0.42<br>Speechiness: 0.0414",
          "Name: Congratulations<br>Energy: 0.804<br>Speechiness: 0.0363",
          "Name: Faded<br>Energy: 0.627<br>Speechiness: 0.0476",
          "Name: Without Me<br>Energy: 0.669<br>Speechiness: 0.0738",
          "Name: Industry Baby<br>Energy: 0.704<br>Speechiness: 0.0615",
          "Name: Lose Yourself<br>Energy: 0.744<br>Speechiness: 0.257",
          "Name: Memories<br>Energy: 0.684<br>Speechiness: 0.044",
          "Name: Demons<br>Energy: 0.71<br>Speechiness: 0.0321",
          "Name: Mr. Brightside<br>Energy: 0.911<br>Speechiness: 0.0747",
          "Name: Uptown Funk<br>Energy: 0.609<br>Speechiness: 0.0824",
          "Name: Too Good at Goodbyes<br>Energy: 0.372<br>Speechiness: 0.0432",
          "Name: Levitating<br>Energy: 0.825<br>Speechiness: 0.0601",
          "Name: I Took a Pill in Ibiza (Seeb Remix)<br>Energy: 0.714<br>Speechiness: 0.111",
          "Name: Don't Let Me Down<br>Energy: 0.502<br>Speechiness: 0.0493",
          "Name: Thank U, Next<br>Energy: 0.653<br>Speechiness: 0.0658",
          "Name: I Don't Care<br>Energy: 0.676<br>Speechiness: 0.0442",
          "Name: Dakiti<br>Energy: 0.573<br>Speechiness: 0.0544",
          "Name: Montero (Call Me by Your Name)<br>Energy: 0.503<br>Speechiness: 0.22",
          "Name: Mood<br>Energy: 0.74<br>Speechiness: 0.336",
          "Name: Do I Wanna Know?<br>Energy: 0.532<br>Speechiness: 0.0323",
          "Name: Unforgettable<br>Energy: 0.769<br>Speechiness: 0.123",
          "Name: Dynamite<br>Energy: 0.783<br>Speechiness: 0.0859",
          "Name: Despacito (remix)<br>Energy: 0.816<br>Speechiness: 0.167",
          "Name: Moonlight<br>Energy: 0.537<br>Speechiness: 0.0804",
          "Name: Wonderwall<br>Energy: 0.893<br>Speechiness: 0.0406",
          "Name: No Role Modelz<br>Energy: 0.521<br>Speechiness: 0.339",
          "Name: That's What I Like<br>Energy: 0.56<br>Speechiness: 0.0406",
          "Name: The Box<br>Energy: 0.586<br>Speechiness: 0.0559",
          "Name: 'Till I Collapse<br>Energy: 0.847<br>Speechiness: 0.186",
          "Name: There's Nothing Holdin' Me Back<br>Energy: 0.813<br>Speechiness: 0.0554",
          "Name: Stitches<br>Energy: 0.754<br>Speechiness: 0.0615",
          "Name: Cheap Thrills<br>Energy: 0.698<br>Speechiness: 0.105",
          "Name: Smells Like Teen Spirit<br>Energy: 0.912<br>Speechiness: 0.0564",
          "Name: See You Again<br>Energy: 0.559<br>Speechiness: 0.0959",
          "Name: I'm Yours<br>Energy: 0.633<br>Speechiness: 0.0711",
          "Name: I Like Me Better<br>Energy: 0.505<br>Speechiness: 0.255",
          "Name: 7 Years<br>Energy: 0.473<br>Speechiness: 0.0514",
          "Name: Yellow<br>Energy: 0.661<br>Speechiness: 0.0281",
          "Name: Sugar<br>Energy: 0.816<br>Speechiness: 0.0465",
          "Name: Despacito<br>Energy: 0.797<br>Speechiness: 0.153",
          "Name: Don't Stop Me Now<br>Energy: 0.553<br>Speechiness: 0.0773"
         ],
         "marker": {
          "color": "blue"
         },
         "mode": "markers",
         "type": "scatter",
         "x": [
          0.0598,
          0.0802,
          0.0924,
          0.0319,
          0.0712,
          0.0466,
          0.0536,
          0.0338,
          0.0283,
          0.128,
          0.029,
          0.0331,
          0.0944,
          0.059,
          0.276,
          0.375,
          0.0296,
          0.2,
          0.0484,
          0.0333,
          0.0465,
          0.109,
          0.0359,
          0.0536,
          0.0317,
          0.0336,
          0.0308,
          0.0557,
          0.438,
          0.0395,
          0.145,
          0.0464,
          0.0322,
          0.0364,
          0.334,
          0.0484,
          0.242,
          0.03,
          0.141,
          0.231,
          0.0382,
          0.0694,
          0.0523,
          0.0379,
          0.0751,
          0.102,
          0.0688,
          0.0515,
          0.222,
          0.0752,
          0.154,
          0.0984,
          0.11,
          0.0349,
          0.0578,
          0.0625,
          0.341,
          0.0474,
          0.04,
          0.0414,
          0.0363,
          0.0476,
          0.0738,
          0.0615,
          0.257,
          0.044,
          0.0321,
          0.0747,
          0.0824,
          0.0432,
          0.0601,
          0.111,
          0.0493,
          0.0658,
          0.0442,
          0.0544,
          0.22,
          0.336,
          0.0323,
          0.123,
          0.0859,
          0.167,
          0.0804,
          0.0406,
          0.339,
          0.0406,
          0.0559,
          0.186,
          0.0554,
          0.0615,
          0.105,
          0.0564,
          0.0959,
          0.0711,
          0.255,
          0.0514,
          0.0281,
          0.0465,
          0.153,
          0.0773
         ],
         "y": [
          0.73,
          0.652,
          0.588,
          0.405,
          0.52,
          0.479,
          0.625,
          0.524,
          0.31,
          0.78,
          0.548,
          0.663,
          0.525,
          0.557,
          0.587,
          0.425,
          0.445,
          0.566,
          0.185,
          0.296,
          0.816,
          0.449,
          0.379,
          0.402,
          0.635,
          0.807,
          0.385,
          0.731,
          0.378,
          0.762,
          0.613,
          0.664,
          0.264,
          0.89,
          0.317,
          0.728,
          0.391,
          0.523,
          0.637,
          0.75,
          0.705,
          0.7,
          0.783,
          0.731,
          0.67,
          0.621,
          0.545,
          0.564,
          0.73,
          0.871,
          0.664,
          0.643,
          0.862,
          0.716,
          0.431,
          0.809,
          0.819,
          0.719,
          0.578,
          0.42,
          0.804,
          0.627,
          0.669,
          0.704,
          0.744,
          0.684,
          0.71,
          0.911,
          0.609,
          0.372,
          0.825,
          0.714,
          0.502,
          0.653,
          0.676,
          0.573,
          0.503,
          0.74,
          0.532,
          0.769,
          0.783,
          0.816,
          0.537,
          0.893,
          0.521,
          0.56,
          0.586,
          0.847,
          0.813,
          0.754,
          0.698,
          0.912,
          0.559,
          0.633,
          0.505,
          0.473,
          0.661,
          0.816,
          0.797,
          0.553
         ]
        }
       ],
       "layout": {
        "template": {
         "data": {
          "bar": [
           {
            "error_x": {
             "color": "#2a3f5f"
            },
            "error_y": {
             "color": "#2a3f5f"
            },
            "marker": {
             "line": {
              "color": "#E5ECF6",
              "width": 0.5
             },
             "pattern": {
              "fillmode": "overlay",
              "size": 10,
              "solidity": 0.2
             }
            },
            "type": "bar"
           }
          ],
          "barpolar": [
           {
            "marker": {
             "line": {
              "color": "#E5ECF6",
              "width": 0.5
             },
             "pattern": {
              "fillmode": "overlay",
              "size": 10,
              "solidity": 0.2
             }
            },
            "type": "barpolar"
           }
          ],
          "carpet": [
           {
            "aaxis": {
             "endlinecolor": "#2a3f5f",
             "gridcolor": "white",
             "linecolor": "white",
             "minorgridcolor": "white",
             "startlinecolor": "#2a3f5f"
            },
            "baxis": {
             "endlinecolor": "#2a3f5f",
             "gridcolor": "white",
             "linecolor": "white",
             "minorgridcolor": "white",
             "startlinecolor": "#2a3f5f"
            },
            "type": "carpet"
           }
          ],
          "choropleth": [
           {
            "colorbar": {
             "outlinewidth": 0,
             "ticks": ""
            },
            "type": "choropleth"
           }
          ],
          "contour": [
           {
            "colorbar": {
             "outlinewidth": 0,
             "ticks": ""
            },
            "colorscale": [
             [
              0,
              "#0d0887"
             ],
             [
              0.1111111111111111,
              "#46039f"
             ],
             [
              0.2222222222222222,
              "#7201a8"
             ],
             [
              0.3333333333333333,
              "#9c179e"
             ],
             [
              0.4444444444444444,
              "#bd3786"
             ],
             [
              0.5555555555555556,
              "#d8576b"
             ],
             [
              0.6666666666666666,
              "#ed7953"
             ],
             [
              0.7777777777777778,
              "#fb9f3a"
             ],
             [
              0.8888888888888888,
              "#fdca26"
             ],
             [
              1,
              "#f0f921"
             ]
            ],
            "type": "contour"
           }
          ],
          "contourcarpet": [
           {
            "colorbar": {
             "outlinewidth": 0,
             "ticks": ""
            },
            "type": "contourcarpet"
           }
          ],
          "heatmap": [
           {
            "colorbar": {
             "outlinewidth": 0,
             "ticks": ""
            },
            "colorscale": [
             [
              0,
              "#0d0887"
             ],
             [
              0.1111111111111111,
              "#46039f"
             ],
             [
              0.2222222222222222,
              "#7201a8"
             ],
             [
              0.3333333333333333,
              "#9c179e"
             ],
             [
              0.4444444444444444,
              "#bd3786"
             ],
             [
              0.5555555555555556,
              "#d8576b"
             ],
             [
              0.6666666666666666,
              "#ed7953"
             ],
             [
              0.7777777777777778,
              "#fb9f3a"
             ],
             [
              0.8888888888888888,
              "#fdca26"
             ],
             [
              1,
              "#f0f921"
             ]
            ],
            "type": "heatmap"
           }
          ],
          "heatmapgl": [
           {
            "colorbar": {
             "outlinewidth": 0,
             "ticks": ""
            },
            "colorscale": [
             [
              0,
              "#0d0887"
             ],
             [
              0.1111111111111111,
              "#46039f"
             ],
             [
              0.2222222222222222,
              "#7201a8"
             ],
             [
              0.3333333333333333,
              "#9c179e"
             ],
             [
              0.4444444444444444,
              "#bd3786"
             ],
             [
              0.5555555555555556,
              "#d8576b"
             ],
             [
              0.6666666666666666,
              "#ed7953"
             ],
             [
              0.7777777777777778,
              "#fb9f3a"
             ],
             [
              0.8888888888888888,
              "#fdca26"
             ],
             [
              1,
              "#f0f921"
             ]
            ],
            "type": "heatmapgl"
           }
          ],
          "histogram": [
           {
            "marker": {
             "pattern": {
              "fillmode": "overlay",
              "size": 10,
              "solidity": 0.2
             }
            },
            "type": "histogram"
           }
          ],
          "histogram2d": [
           {
            "colorbar": {
             "outlinewidth": 0,
             "ticks": ""
            },
            "colorscale": [
             [
              0,
              "#0d0887"
             ],
             [
              0.1111111111111111,
              "#46039f"
             ],
             [
              0.2222222222222222,
              "#7201a8"
             ],
             [
              0.3333333333333333,
              "#9c179e"
             ],
             [
              0.4444444444444444,
              "#bd3786"
             ],
             [
              0.5555555555555556,
              "#d8576b"
             ],
             [
              0.6666666666666666,
              "#ed7953"
             ],
             [
              0.7777777777777778,
              "#fb9f3a"
             ],
             [
              0.8888888888888888,
              "#fdca26"
             ],
             [
              1,
              "#f0f921"
             ]
            ],
            "type": "histogram2d"
           }
          ],
          "histogram2dcontour": [
           {
            "colorbar": {
             "outlinewidth": 0,
             "ticks": ""
            },
            "colorscale": [
             [
              0,
              "#0d0887"
             ],
             [
              0.1111111111111111,
              "#46039f"
             ],
             [
              0.2222222222222222,
              "#7201a8"
             ],
             [
              0.3333333333333333,
              "#9c179e"
             ],
             [
              0.4444444444444444,
              "#bd3786"
             ],
             [
              0.5555555555555556,
              "#d8576b"
             ],
             [
              0.6666666666666666,
              "#ed7953"
             ],
             [
              0.7777777777777778,
              "#fb9f3a"
             ],
             [
              0.8888888888888888,
              "#fdca26"
             ],
             [
              1,
              "#f0f921"
             ]
            ],
            "type": "histogram2dcontour"
           }
          ],
          "mesh3d": [
           {
            "colorbar": {
             "outlinewidth": 0,
             "ticks": ""
            },
            "type": "mesh3d"
           }
          ],
          "parcoords": [
           {
            "line": {
             "colorbar": {
              "outlinewidth": 0,
              "ticks": ""
             }
            },
            "type": "parcoords"
           }
          ],
          "pie": [
           {
            "automargin": true,
            "type": "pie"
           }
          ],
          "scatter": [
           {
            "fillpattern": {
             "fillmode": "overlay",
             "size": 10,
             "solidity": 0.2
            },
            "type": "scatter"
           }
          ],
          "scatter3d": [
           {
            "line": {
             "colorbar": {
              "outlinewidth": 0,
              "ticks": ""
             }
            },
            "marker": {
             "colorbar": {
              "outlinewidth": 0,
              "ticks": ""
             }
            },
            "type": "scatter3d"
           }
          ],
          "scattercarpet": [
           {
            "marker": {
             "colorbar": {
              "outlinewidth": 0,
              "ticks": ""
             }
            },
            "type": "scattercarpet"
           }
          ],
          "scattergeo": [
           {
            "marker": {
             "colorbar": {
              "outlinewidth": 0,
              "ticks": ""
             }
            },
            "type": "scattergeo"
           }
          ],
          "scattergl": [
           {
            "marker": {
             "colorbar": {
              "outlinewidth": 0,
              "ticks": ""
             }
            },
            "type": "scattergl"
           }
          ],
          "scattermapbox": [
           {
            "marker": {
             "colorbar": {
              "outlinewidth": 0,
              "ticks": ""
             }
            },
            "type": "scattermapbox"
           }
          ],
          "scatterpolar": [
           {
            "marker": {
             "colorbar": {
              "outlinewidth": 0,
              "ticks": ""
             }
            },
            "type": "scatterpolar"
           }
          ],
          "scatterpolargl": [
           {
            "marker": {
             "colorbar": {
              "outlinewidth": 0,
              "ticks": ""
             }
            },
            "type": "scatterpolargl"
           }
          ],
          "scatterternary": [
           {
            "marker": {
             "colorbar": {
              "outlinewidth": 0,
              "ticks": ""
             }
            },
            "type": "scatterternary"
           }
          ],
          "surface": [
           {
            "colorbar": {
             "outlinewidth": 0,
             "ticks": ""
            },
            "colorscale": [
             [
              0,
              "#0d0887"
             ],
             [
              0.1111111111111111,
              "#46039f"
             ],
             [
              0.2222222222222222,
              "#7201a8"
             ],
             [
              0.3333333333333333,
              "#9c179e"
             ],
             [
              0.4444444444444444,
              "#bd3786"
             ],
             [
              0.5555555555555556,
              "#d8576b"
             ],
             [
              0.6666666666666666,
              "#ed7953"
             ],
             [
              0.7777777777777778,
              "#fb9f3a"
             ],
             [
              0.8888888888888888,
              "#fdca26"
             ],
             [
              1,
              "#f0f921"
             ]
            ],
            "type": "surface"
           }
          ],
          "table": [
           {
            "cells": {
             "fill": {
              "color": "#EBF0F8"
             },
             "line": {
              "color": "white"
             }
            },
            "header": {
             "fill": {
              "color": "#C8D4E3"
             },
             "line": {
              "color": "white"
             }
            },
            "type": "table"
           }
          ]
         },
         "layout": {
          "annotationdefaults": {
           "arrowcolor": "#2a3f5f",
           "arrowhead": 0,
           "arrowwidth": 1
          },
          "autotypenumbers": "strict",
          "coloraxis": {
           "colorbar": {
            "outlinewidth": 0,
            "ticks": ""
           }
          },
          "colorscale": {
           "diverging": [
            [
             0,
             "#8e0152"
            ],
            [
             0.1,
             "#c51b7d"
            ],
            [
             0.2,
             "#de77ae"
            ],
            [
             0.3,
             "#f1b6da"
            ],
            [
             0.4,
             "#fde0ef"
            ],
            [
             0.5,
             "#f7f7f7"
            ],
            [
             0.6,
             "#e6f5d0"
            ],
            [
             0.7,
             "#b8e186"
            ],
            [
             0.8,
             "#7fbc41"
            ],
            [
             0.9,
             "#4d9221"
            ],
            [
             1,
             "#276419"
            ]
           ],
           "sequential": [
            [
             0,
             "#0d0887"
            ],
            [
             0.1111111111111111,
             "#46039f"
            ],
            [
             0.2222222222222222,
             "#7201a8"
            ],
            [
             0.3333333333333333,
             "#9c179e"
            ],
            [
             0.4444444444444444,
             "#bd3786"
            ],
            [
             0.5555555555555556,
             "#d8576b"
            ],
            [
             0.6666666666666666,
             "#ed7953"
            ],
            [
             0.7777777777777778,
             "#fb9f3a"
            ],
            [
             0.8888888888888888,
             "#fdca26"
            ],
            [
             1,
             "#f0f921"
            ]
           ],
           "sequentialminus": [
            [
             0,
             "#0d0887"
            ],
            [
             0.1111111111111111,
             "#46039f"
            ],
            [
             0.2222222222222222,
             "#7201a8"
            ],
            [
             0.3333333333333333,
             "#9c179e"
            ],
            [
             0.4444444444444444,
             "#bd3786"
            ],
            [
             0.5555555555555556,
             "#d8576b"
            ],
            [
             0.6666666666666666,
             "#ed7953"
            ],
            [
             0.7777777777777778,
             "#fb9f3a"
            ],
            [
             0.8888888888888888,
             "#fdca26"
            ],
            [
             1,
             "#f0f921"
            ]
           ]
          },
          "colorway": [
           "#636efa",
           "#EF553B",
           "#00cc96",
           "#ab63fa",
           "#FFA15A",
           "#19d3f3",
           "#FF6692",
           "#B6E880",
           "#FF97FF",
           "#FECB52"
          ],
          "font": {
           "color": "#2a3f5f"
          },
          "geo": {
           "bgcolor": "white",
           "lakecolor": "white",
           "landcolor": "#E5ECF6",
           "showlakes": true,
           "showland": true,
           "subunitcolor": "white"
          },
          "hoverlabel": {
           "align": "left"
          },
          "hovermode": "closest",
          "mapbox": {
           "style": "light"
          },
          "paper_bgcolor": "white",
          "plot_bgcolor": "#E5ECF6",
          "polar": {
           "angularaxis": {
            "gridcolor": "white",
            "linecolor": "white",
            "ticks": ""
           },
           "bgcolor": "#E5ECF6",
           "radialaxis": {
            "gridcolor": "white",
            "linecolor": "white",
            "ticks": ""
           }
          },
          "scene": {
           "xaxis": {
            "backgroundcolor": "#E5ECF6",
            "gridcolor": "white",
            "gridwidth": 2,
            "linecolor": "white",
            "showbackground": true,
            "ticks": "",
            "zerolinecolor": "white"
           },
           "yaxis": {
            "backgroundcolor": "#E5ECF6",
            "gridcolor": "white",
            "gridwidth": 2,
            "linecolor": "white",
            "showbackground": true,
            "ticks": "",
            "zerolinecolor": "white"
           },
           "zaxis": {
            "backgroundcolor": "#E5ECF6",
            "gridcolor": "white",
            "gridwidth": 2,
            "linecolor": "white",
            "showbackground": true,
            "ticks": "",
            "zerolinecolor": "white"
           }
          },
          "shapedefaults": {
           "line": {
            "color": "#2a3f5f"
           }
          },
          "ternary": {
           "aaxis": {
            "gridcolor": "white",
            "linecolor": "white",
            "ticks": ""
           },
           "baxis": {
            "gridcolor": "white",
            "linecolor": "white",
            "ticks": ""
           },
           "bgcolor": "#E5ECF6",
           "caxis": {
            "gridcolor": "white",
            "linecolor": "white",
            "ticks": ""
           }
          },
          "title": {
           "x": 0.05
          },
          "xaxis": {
           "automargin": true,
           "gridcolor": "white",
           "linecolor": "white",
           "ticks": "",
           "title": {
            "standoff": 15
           },
           "zerolinecolor": "white",
           "zerolinewidth": 2
          },
          "yaxis": {
           "automargin": true,
           "gridcolor": "white",
           "linecolor": "white",
           "ticks": "",
           "title": {
            "standoff": 15
           },
           "zerolinecolor": "white",
           "zerolinewidth": 2
          }
         }
        },
        "title": {
         "text": "Energy vs. Speechiness"
        },
        "xaxis": {
         "title": {
          "text": "Speechiness"
         }
        },
        "yaxis": {
         "title": {
          "text": "Energy"
         }
        }
       }
      },
      "text/html": [
       "<div>                            <div id=\"12248c94-abd8-4635-ae3e-7c4106e4af8b\" class=\"plotly-graph-div\" style=\"height:525px; width:100%;\"></div>            <script type=\"text/javascript\">                require([\"plotly\"], function(Plotly) {                    window.PLOTLYENV=window.PLOTLYENV || {};                                    if (document.getElementById(\"12248c94-abd8-4635-ae3e-7c4106e4af8b\")) {                    Plotly.newPlot(                        \"12248c94-abd8-4635-ae3e-7c4106e4af8b\",                        [{\"hovertext\":[\"Name: Blinding Lights<br>Energy: 0.73<br>Speechiness: 0.0598\",\"Name: Shape of You<br>Energy: 0.652<br>Speechiness: 0.0802\",\"Name: Dance Monkey<br>Energy: 0.588<br>Speechiness: 0.0924\",\"Name: Someone You Loved<br>Energy: 0.405<br>Speechiness: 0.0319\",\"Name: Rockstar<br>Energy: 0.52<br>Speechiness: 0.0712\",\"Name: Sunflower<br>Energy: 0.479<br>Speechiness: 0.0466\",\"Name: One Dance<br>Energy: 0.625<br>Speechiness: 0.0536\",\"Name: Closer<br>Energy: 0.524<br>Speechiness: 0.0338\",\"Name: Stay<br>Energy: 0.31<br>Speechiness: 0.0283\",\"Name: Believer<br>Energy: 0.78<br>Speechiness: 0.128\",\"Name: Se\\u00f1orita<br>Energy: 0.548<br>Speechiness: 0.029\",\"Name: Perfect<br>Energy: 0.663<br>Speechiness: 0.0331\",\"Name: Heat Waves<br>Energy: 0.525<br>Speechiness: 0.0944\",\"Name: Say You Won't Let Go<br>Energy: 0.557<br>Speechiness: 0.059\",\"Name: Starboy<br>Energy: 0.587<br>Speechiness: 0.276\",\"Name: Bad Guy<br>Energy: 0.425<br>Speechiness: 0.375\",\"Name: Thinking Out Loud<br>Energy: 0.445<br>Speechiness: 0.0296\",\"Name: Lucid Dreams<br>Energy: 0.566<br>Speechiness: 0.2\",\"Name: Don't Start Now<br>Energy: 0.185<br>Speechiness: 0.0484\",\"Name: Lovely<br>Energy: 0.296<br>Speechiness: 0.0333\",\"Name: Watermelon Sugar<br>Energy: 0.816<br>Speechiness: 0.0465\",\"Name: God's Plan<br>Energy: 0.449<br>Speechiness: 0.109\",\"Name: Photograph<br>Energy: 0.379<br>Speechiness: 0.0359\",\"Name: Bohemian Rhapsody<br>Energy: 0.402<br>Speechiness: 0.0536\",\"Name: Something Just Like This<br>Energy: 0.635<br>Speechiness: 0.0317\",\"Name: Sweater Weather<br>Energy: 0.807<br>Speechiness: 0.0336\",\"Name: Shallow<br>Energy: 0.385<br>Speechiness: 0.0308\",\"Name: As It Was<br>Energy: 0.731<br>Speechiness: 0.0557\",\"Name: Love Yourself<br>Energy: 0.378<br>Speechiness: 0.438\",\"Name: Circles<br>Energy: 0.762<br>Speechiness: 0.0395\",\"Name: Sad!<br>Energy: 0.613<br>Speechiness: 0.145\",\"Name: Take Me to Church<br>Energy: 0.664<br>Speechiness: 0.0464\",\"Name: All of Me<br>Energy: 0.264<br>Speechiness: 0.0322\",\"Name: Thunder<br>Energy: 0.89<br>Speechiness: 0.0364\",\"Name: 7 Rings<br>Energy: 0.317<br>Speechiness: 0.334\",\"Name: Goosebumps<br>Energy: 0.728<br>Speechiness: 0.0484\",\"Name: Jocelyn Flores<br>Energy: 0.391<br>Speechiness: 0.242\",\"Name: Havana<br>Energy: 0.523<br>Speechiness: 0.03\",\"Name: Stressed Out<br>Energy: 0.637<br>Speechiness: 0.141\",\"Name: XO Tour Llif3<br>Energy: 0.75<br>Speechiness: 0.231\",\"Name: Counting Stars<br>Energy: 0.705<br>Speechiness: 0.0382\",\"Name: New Rules<br>Energy: 0.7<br>Speechiness: 0.0694\",\"Name: Wake Me Up<br>Energy: 0.783<br>Speechiness: 0.0523\",\"Name: Riptide<br>Energy: 0.731<br>Speechiness: 0.0379\",\"Name: Happier<br>Energy: 0.67<br>Speechiness: 0.0751\",\"Name: Humble<br>Energy: 0.621<br>Speechiness: 0.102\",\"Name: Let Her Go<br>Energy: 0.545<br>Speechiness: 0.0688\",\"Name: The Hills<br>Energy: 0.564<br>Speechiness: 0.0515\",\"Name: Sicko Mode<br>Energy: 0.73<br>Speechiness: 0.222\",\"Name: Can't Hold Us<br>Energy: 0.871<br>Speechiness: 0.0752\",\"Name: Good 4 U<br>Energy: 0.664<br>Speechiness: 0.154\",\"Name: Sorry<br>Energy: 0.643<br>Speechiness: 0.0984\",\"Name: One Kiss<br>Energy: 0.862<br>Speechiness: 0.11\",\"Name: Let Me Love You<br>Energy: 0.716<br>Speechiness: 0.0349\",\"Name: Drivers License<br>Energy: 0.431<br>Speechiness: 0.0578\",\"Name: Lean On<br>Energy: 0.809<br>Speechiness: 0.0625\",\"Name: Treat You Better<br>Energy: 0.819<br>Speechiness: 0.341\",\"Name: Roses (Imanbek remix)<br>Energy: 0.719<br>Speechiness: 0.0474\",\"Name: Better Now<br>Energy: 0.578<br>Speechiness: 0.04\",\"Name: Stay with Me<br>Energy: 0.42<br>Speechiness: 0.0414\",\"Name: Congratulations<br>Energy: 0.804<br>Speechiness: 0.0363\",\"Name: Faded<br>Energy: 0.627<br>Speechiness: 0.0476\",\"Name: Without Me<br>Energy: 0.669<br>Speechiness: 0.0738\",\"Name: Industry Baby<br>Energy: 0.704<br>Speechiness: 0.0615\",\"Name: Lose Yourself<br>Energy: 0.744<br>Speechiness: 0.257\",\"Name: Memories<br>Energy: 0.684<br>Speechiness: 0.044\",\"Name: Demons<br>Energy: 0.71<br>Speechiness: 0.0321\",\"Name: Mr. Brightside<br>Energy: 0.911<br>Speechiness: 0.0747\",\"Name: Uptown Funk<br>Energy: 0.609<br>Speechiness: 0.0824\",\"Name: Too Good at Goodbyes<br>Energy: 0.372<br>Speechiness: 0.0432\",\"Name: Levitating<br>Energy: 0.825<br>Speechiness: 0.0601\",\"Name: I Took a Pill in Ibiza\\u00a0(Seeb\\u00a0Remix)<br>Energy: 0.714<br>Speechiness: 0.111\",\"Name: Don't Let Me Down<br>Energy: 0.502<br>Speechiness: 0.0493\",\"Name: Thank U, Next<br>Energy: 0.653<br>Speechiness: 0.0658\",\"Name: I Don't Care<br>Energy: 0.676<br>Speechiness: 0.0442\",\"Name: Dakiti<br>Energy: 0.573<br>Speechiness: 0.0544\",\"Name: Montero (Call Me by Your Name)<br>Energy: 0.503<br>Speechiness: 0.22\",\"Name: Mood<br>Energy: 0.74<br>Speechiness: 0.336\",\"Name: Do I Wanna Know?<br>Energy: 0.532<br>Speechiness: 0.0323\",\"Name: Unforgettable<br>Energy: 0.769<br>Speechiness: 0.123\",\"Name: Dynamite<br>Energy: 0.783<br>Speechiness: 0.0859\",\"Name: Despacito (remix)<br>Energy: 0.816<br>Speechiness: 0.167\",\"Name: Moonlight<br>Energy: 0.537<br>Speechiness: 0.0804\",\"Name: Wonderwall<br>Energy: 0.893<br>Speechiness: 0.0406\",\"Name: No Role Modelz<br>Energy: 0.521<br>Speechiness: 0.339\",\"Name: That's What I Like<br>Energy: 0.56<br>Speechiness: 0.0406\",\"Name: The Box<br>Energy: 0.586<br>Speechiness: 0.0559\",\"Name: 'Till I Collapse<br>Energy: 0.847<br>Speechiness: 0.186\",\"Name: There's Nothing Holdin' Me Back<br>Energy: 0.813<br>Speechiness: 0.0554\",\"Name: Stitches<br>Energy: 0.754<br>Speechiness: 0.0615\",\"Name: Cheap Thrills<br>Energy: 0.698<br>Speechiness: 0.105\",\"Name: Smells Like Teen Spirit<br>Energy: 0.912<br>Speechiness: 0.0564\",\"Name: See You Again<br>Energy: 0.559<br>Speechiness: 0.0959\",\"Name: I'm Yours<br>Energy: 0.633<br>Speechiness: 0.0711\",\"Name: I Like Me Better<br>Energy: 0.505<br>Speechiness: 0.255\",\"Name: 7 Years<br>Energy: 0.473<br>Speechiness: 0.0514\",\"Name: Yellow<br>Energy: 0.661<br>Speechiness: 0.0281\",\"Name: Sugar<br>Energy: 0.816<br>Speechiness: 0.0465\",\"Name: Despacito<br>Energy: 0.797<br>Speechiness: 0.153\",\"Name: Don't Stop Me Now<br>Energy: 0.553<br>Speechiness: 0.0773\"],\"marker\":{\"color\":\"blue\"},\"mode\":\"markers\",\"x\":[0.0598,0.0802,0.0924,0.0319,0.0712,0.0466,0.0536,0.0338,0.0283,0.128,0.029,0.0331,0.0944,0.059,0.276,0.375,0.0296,0.2,0.0484,0.0333,0.0465,0.109,0.0359,0.0536,0.0317,0.0336,0.0308,0.0557,0.438,0.0395,0.145,0.0464,0.0322,0.0364,0.334,0.0484,0.242,0.03,0.141,0.231,0.0382,0.0694,0.0523,0.0379,0.0751,0.102,0.0688,0.0515,0.222,0.0752,0.154,0.0984,0.11,0.0349,0.0578,0.0625,0.341,0.0474,0.04,0.0414,0.0363,0.0476,0.0738,0.0615,0.257,0.044,0.0321,0.0747,0.0824,0.0432,0.0601,0.111,0.0493,0.0658,0.0442,0.0544,0.22,0.336,0.0323,0.123,0.0859,0.167,0.0804,0.0406,0.339,0.0406,0.0559,0.186,0.0554,0.0615,0.105,0.0564,0.0959,0.0711,0.255,0.0514,0.0281,0.0465,0.153,0.0773],\"y\":[0.73,0.652,0.588,0.405,0.52,0.479,0.625,0.524,0.31,0.78,0.548,0.663,0.525,0.557,0.587,0.425,0.445,0.566,0.185,0.296,0.816,0.449,0.379,0.402,0.635,0.807,0.385,0.731,0.378,0.762,0.613,0.664,0.264,0.89,0.317,0.728,0.391,0.523,0.637,0.75,0.705,0.7,0.783,0.731,0.67,0.621,0.545,0.564,0.73,0.871,0.664,0.643,0.862,0.716,0.431,0.809,0.819,0.719,0.578,0.42,0.804,0.627,0.669,0.704,0.744,0.684,0.71,0.911,0.609,0.372,0.825,0.714,0.502,0.653,0.676,0.573,0.503,0.74,0.532,0.769,0.783,0.816,0.537,0.893,0.521,0.56,0.586,0.847,0.813,0.754,0.698,0.912,0.559,0.633,0.505,0.473,0.661,0.816,0.797,0.553],\"type\":\"scatter\"}],                        {\"template\":{\"data\":{\"histogram2dcontour\":[{\"type\":\"histogram2dcontour\",\"colorbar\":{\"outlinewidth\":0,\"ticks\":\"\"},\"colorscale\":[[0.0,\"#0d0887\"],[0.1111111111111111,\"#46039f\"],[0.2222222222222222,\"#7201a8\"],[0.3333333333333333,\"#9c179e\"],[0.4444444444444444,\"#bd3786\"],[0.5555555555555556,\"#d8576b\"],[0.6666666666666666,\"#ed7953\"],[0.7777777777777778,\"#fb9f3a\"],[0.8888888888888888,\"#fdca26\"],[1.0,\"#f0f921\"]]}],\"choropleth\":[{\"type\":\"choropleth\",\"colorbar\":{\"outlinewidth\":0,\"ticks\":\"\"}}],\"histogram2d\":[{\"type\":\"histogram2d\",\"colorbar\":{\"outlinewidth\":0,\"ticks\":\"\"},\"colorscale\":[[0.0,\"#0d0887\"],[0.1111111111111111,\"#46039f\"],[0.2222222222222222,\"#7201a8\"],[0.3333333333333333,\"#9c179e\"],[0.4444444444444444,\"#bd3786\"],[0.5555555555555556,\"#d8576b\"],[0.6666666666666666,\"#ed7953\"],[0.7777777777777778,\"#fb9f3a\"],[0.8888888888888888,\"#fdca26\"],[1.0,\"#f0f921\"]]}],\"heatmap\":[{\"type\":\"heatmap\",\"colorbar\":{\"outlinewidth\":0,\"ticks\":\"\"},\"colorscale\":[[0.0,\"#0d0887\"],[0.1111111111111111,\"#46039f\"],[0.2222222222222222,\"#7201a8\"],[0.3333333333333333,\"#9c179e\"],[0.4444444444444444,\"#bd3786\"],[0.5555555555555556,\"#d8576b\"],[0.6666666666666666,\"#ed7953\"],[0.7777777777777778,\"#fb9f3a\"],[0.8888888888888888,\"#fdca26\"],[1.0,\"#f0f921\"]]}],\"heatmapgl\":[{\"type\":\"heatmapgl\",\"colorbar\":{\"outlinewidth\":0,\"ticks\":\"\"},\"colorscale\":[[0.0,\"#0d0887\"],[0.1111111111111111,\"#46039f\"],[0.2222222222222222,\"#7201a8\"],[0.3333333333333333,\"#9c179e\"],[0.4444444444444444,\"#bd3786\"],[0.5555555555555556,\"#d8576b\"],[0.6666666666666666,\"#ed7953\"],[0.7777777777777778,\"#fb9f3a\"],[0.8888888888888888,\"#fdca26\"],[1.0,\"#f0f921\"]]}],\"contourcarpet\":[{\"type\":\"contourcarpet\",\"colorbar\":{\"outlinewidth\":0,\"ticks\":\"\"}}],\"contour\":[{\"type\":\"contour\",\"colorbar\":{\"outlinewidth\":0,\"ticks\":\"\"},\"colorscale\":[[0.0,\"#0d0887\"],[0.1111111111111111,\"#46039f\"],[0.2222222222222222,\"#7201a8\"],[0.3333333333333333,\"#9c179e\"],[0.4444444444444444,\"#bd3786\"],[0.5555555555555556,\"#d8576b\"],[0.6666666666666666,\"#ed7953\"],[0.7777777777777778,\"#fb9f3a\"],[0.8888888888888888,\"#fdca26\"],[1.0,\"#f0f921\"]]}],\"surface\":[{\"type\":\"surface\",\"colorbar\":{\"outlinewidth\":0,\"ticks\":\"\"},\"colorscale\":[[0.0,\"#0d0887\"],[0.1111111111111111,\"#46039f\"],[0.2222222222222222,\"#7201a8\"],[0.3333333333333333,\"#9c179e\"],[0.4444444444444444,\"#bd3786\"],[0.5555555555555556,\"#d8576b\"],[0.6666666666666666,\"#ed7953\"],[0.7777777777777778,\"#fb9f3a\"],[0.8888888888888888,\"#fdca26\"],[1.0,\"#f0f921\"]]}],\"mesh3d\":[{\"type\":\"mesh3d\",\"colorbar\":{\"outlinewidth\":0,\"ticks\":\"\"}}],\"scatter\":[{\"fillpattern\":{\"fillmode\":\"overlay\",\"size\":10,\"solidity\":0.2},\"type\":\"scatter\"}],\"parcoords\":[{\"type\":\"parcoords\",\"line\":{\"colorbar\":{\"outlinewidth\":0,\"ticks\":\"\"}}}],\"scatterpolargl\":[{\"type\":\"scatterpolargl\",\"marker\":{\"colorbar\":{\"outlinewidth\":0,\"ticks\":\"\"}}}],\"bar\":[{\"error_x\":{\"color\":\"#2a3f5f\"},\"error_y\":{\"color\":\"#2a3f5f\"},\"marker\":{\"line\":{\"color\":\"#E5ECF6\",\"width\":0.5},\"pattern\":{\"fillmode\":\"overlay\",\"size\":10,\"solidity\":0.2}},\"type\":\"bar\"}],\"scattergeo\":[{\"type\":\"scattergeo\",\"marker\":{\"colorbar\":{\"outlinewidth\":0,\"ticks\":\"\"}}}],\"scatterpolar\":[{\"type\":\"scatterpolar\",\"marker\":{\"colorbar\":{\"outlinewidth\":0,\"ticks\":\"\"}}}],\"histogram\":[{\"marker\":{\"pattern\":{\"fillmode\":\"overlay\",\"size\":10,\"solidity\":0.2}},\"type\":\"histogram\"}],\"scattergl\":[{\"type\":\"scattergl\",\"marker\":{\"colorbar\":{\"outlinewidth\":0,\"ticks\":\"\"}}}],\"scatter3d\":[{\"type\":\"scatter3d\",\"line\":{\"colorbar\":{\"outlinewidth\":0,\"ticks\":\"\"}},\"marker\":{\"colorbar\":{\"outlinewidth\":0,\"ticks\":\"\"}}}],\"scattermapbox\":[{\"type\":\"scattermapbox\",\"marker\":{\"colorbar\":{\"outlinewidth\":0,\"ticks\":\"\"}}}],\"scatterternary\":[{\"type\":\"scatterternary\",\"marker\":{\"colorbar\":{\"outlinewidth\":0,\"ticks\":\"\"}}}],\"scattercarpet\":[{\"type\":\"scattercarpet\",\"marker\":{\"colorbar\":{\"outlinewidth\":0,\"ticks\":\"\"}}}],\"carpet\":[{\"aaxis\":{\"endlinecolor\":\"#2a3f5f\",\"gridcolor\":\"white\",\"linecolor\":\"white\",\"minorgridcolor\":\"white\",\"startlinecolor\":\"#2a3f5f\"},\"baxis\":{\"endlinecolor\":\"#2a3f5f\",\"gridcolor\":\"white\",\"linecolor\":\"white\",\"minorgridcolor\":\"white\",\"startlinecolor\":\"#2a3f5f\"},\"type\":\"carpet\"}],\"table\":[{\"cells\":{\"fill\":{\"color\":\"#EBF0F8\"},\"line\":{\"color\":\"white\"}},\"header\":{\"fill\":{\"color\":\"#C8D4E3\"},\"line\":{\"color\":\"white\"}},\"type\":\"table\"}],\"barpolar\":[{\"marker\":{\"line\":{\"color\":\"#E5ECF6\",\"width\":0.5},\"pattern\":{\"fillmode\":\"overlay\",\"size\":10,\"solidity\":0.2}},\"type\":\"barpolar\"}],\"pie\":[{\"automargin\":true,\"type\":\"pie\"}]},\"layout\":{\"autotypenumbers\":\"strict\",\"colorway\":[\"#636efa\",\"#EF553B\",\"#00cc96\",\"#ab63fa\",\"#FFA15A\",\"#19d3f3\",\"#FF6692\",\"#B6E880\",\"#FF97FF\",\"#FECB52\"],\"font\":{\"color\":\"#2a3f5f\"},\"hovermode\":\"closest\",\"hoverlabel\":{\"align\":\"left\"},\"paper_bgcolor\":\"white\",\"plot_bgcolor\":\"#E5ECF6\",\"polar\":{\"bgcolor\":\"#E5ECF6\",\"angularaxis\":{\"gridcolor\":\"white\",\"linecolor\":\"white\",\"ticks\":\"\"},\"radialaxis\":{\"gridcolor\":\"white\",\"linecolor\":\"white\",\"ticks\":\"\"}},\"ternary\":{\"bgcolor\":\"#E5ECF6\",\"aaxis\":{\"gridcolor\":\"white\",\"linecolor\":\"white\",\"ticks\":\"\"},\"baxis\":{\"gridcolor\":\"white\",\"linecolor\":\"white\",\"ticks\":\"\"},\"caxis\":{\"gridcolor\":\"white\",\"linecolor\":\"white\",\"ticks\":\"\"}},\"coloraxis\":{\"colorbar\":{\"outlinewidth\":0,\"ticks\":\"\"}},\"colorscale\":{\"sequential\":[[0.0,\"#0d0887\"],[0.1111111111111111,\"#46039f\"],[0.2222222222222222,\"#7201a8\"],[0.3333333333333333,\"#9c179e\"],[0.4444444444444444,\"#bd3786\"],[0.5555555555555556,\"#d8576b\"],[0.6666666666666666,\"#ed7953\"],[0.7777777777777778,\"#fb9f3a\"],[0.8888888888888888,\"#fdca26\"],[1.0,\"#f0f921\"]],\"sequentialminus\":[[0.0,\"#0d0887\"],[0.1111111111111111,\"#46039f\"],[0.2222222222222222,\"#7201a8\"],[0.3333333333333333,\"#9c179e\"],[0.4444444444444444,\"#bd3786\"],[0.5555555555555556,\"#d8576b\"],[0.6666666666666666,\"#ed7953\"],[0.7777777777777778,\"#fb9f3a\"],[0.8888888888888888,\"#fdca26\"],[1.0,\"#f0f921\"]],\"diverging\":[[0,\"#8e0152\"],[0.1,\"#c51b7d\"],[0.2,\"#de77ae\"],[0.3,\"#f1b6da\"],[0.4,\"#fde0ef\"],[0.5,\"#f7f7f7\"],[0.6,\"#e6f5d0\"],[0.7,\"#b8e186\"],[0.8,\"#7fbc41\"],[0.9,\"#4d9221\"],[1,\"#276419\"]]},\"xaxis\":{\"gridcolor\":\"white\",\"linecolor\":\"white\",\"ticks\":\"\",\"title\":{\"standoff\":15},\"zerolinecolor\":\"white\",\"automargin\":true,\"zerolinewidth\":2},\"yaxis\":{\"gridcolor\":\"white\",\"linecolor\":\"white\",\"ticks\":\"\",\"title\":{\"standoff\":15},\"zerolinecolor\":\"white\",\"automargin\":true,\"zerolinewidth\":2},\"scene\":{\"xaxis\":{\"backgroundcolor\":\"#E5ECF6\",\"gridcolor\":\"white\",\"linecolor\":\"white\",\"showbackground\":true,\"ticks\":\"\",\"zerolinecolor\":\"white\",\"gridwidth\":2},\"yaxis\":{\"backgroundcolor\":\"#E5ECF6\",\"gridcolor\":\"white\",\"linecolor\":\"white\",\"showbackground\":true,\"ticks\":\"\",\"zerolinecolor\":\"white\",\"gridwidth\":2},\"zaxis\":{\"backgroundcolor\":\"#E5ECF6\",\"gridcolor\":\"white\",\"linecolor\":\"white\",\"showbackground\":true,\"ticks\":\"\",\"zerolinecolor\":\"white\",\"gridwidth\":2}},\"shapedefaults\":{\"line\":{\"color\":\"#2a3f5f\"}},\"annotationdefaults\":{\"arrowcolor\":\"#2a3f5f\",\"arrowhead\":0,\"arrowwidth\":1},\"geo\":{\"bgcolor\":\"white\",\"landcolor\":\"#E5ECF6\",\"subunitcolor\":\"white\",\"showland\":true,\"showlakes\":true,\"lakecolor\":\"white\"},\"title\":{\"x\":0.05},\"mapbox\":{\"style\":\"light\"}}},\"title\":{\"text\":\"Energy vs. Speechiness\"},\"xaxis\":{\"title\":{\"text\":\"Speechiness\"}},\"yaxis\":{\"title\":{\"text\":\"Energy\"}}},                        {\"responsive\": true}                    ).then(function(){\n",
       "                            \n",
       "var gd = document.getElementById('12248c94-abd8-4635-ae3e-7c4106e4af8b');\n",
       "var x = new MutationObserver(function (mutations, observer) {{\n",
       "        var display = window.getComputedStyle(gd).display;\n",
       "        if (!display || display === 'none') {{\n",
       "            console.log([gd, 'removed!']);\n",
       "            Plotly.purge(gd);\n",
       "            observer.disconnect();\n",
       "        }}\n",
       "}});\n",
       "\n",
       "// Listen for the removal of the full notebook cells\n",
       "var notebookContainer = gd.closest('#notebook-container');\n",
       "if (notebookContainer) {{\n",
       "    x.observe(notebookContainer, {childList: true});\n",
       "}}\n",
       "\n",
       "// Listen for the clearing of the current output cell\n",
       "var outputEl = gd.closest('.output');\n",
       "if (outputEl) {{\n",
       "    x.observe(outputEl, {childList: true});\n",
       "}}\n",
       "\n",
       "                        })                };                });            </script>        </div>"
      ]
     },
     "metadata": {},
     "output_type": "display_data"
    }
   ],
   "source": [
    "features_df = pd.read_csv(\"C:\\\\Users\\\\deeee\\\\Downloads\\\\Features_dp.csv\")\n",
    "\n",
    "fig = go.Figure(data=go.Scatter(x=features_df[\"speechiness\"], y=features_df[\"energy\"],\n",
    "mode='markers',\n",
    "marker=dict(color='blue'),\n",
    "hovertext=[f\"Name: {n}<br>Energy: {e}<br>Speechiness: {s}\"\n",
    "for n, e, s in zip(features_df['name'], features_df['energy'], features_df['speechiness'])]\n",
    "))\n",
    "\n",
    "fig.update_layout(title='Energy vs. Speechiness',\n",
    "xaxis_title='Speechiness', yaxis_title='Energy')\n",
    "\n",
    "fig.show()"
   ]
  },
  {
   "cell_type": "code",
   "execution_count": 222,
   "metadata": {},
   "outputs": [
    {
     "data": {
      "application/vnd.plotly.v1+json": {
       "config": {
        "plotlyServerURL": "https://plot.ly"
       },
       "data": [
        {
         "hovertext": [
          "Name: Blinding Lights<br>acousticness: 0.0598<br>speechiness: 0.00146",
          "Name: Shape of You<br>acousticness: 0.0802<br>speechiness: 0.581",
          "Name: Dance Monkey<br>acousticness: 0.0924<br>speechiness: 0.692",
          "Name: Someone You Loved<br>acousticness: 0.0319<br>speechiness: 0.751",
          "Name: Rockstar<br>acousticness: 0.0712<br>speechiness: 0.124",
          "Name: Sunflower<br>acousticness: 0.0466<br>speechiness: 0.556",
          "Name: One Dance<br>acousticness: 0.0536<br>speechiness: 0.00776",
          "Name: Closer<br>acousticness: 0.0338<br>speechiness: 0.414",
          "Name: Stay<br>acousticness: 0.0283<br>speechiness: 0.945",
          "Name: Believer<br>acousticness: 0.128<br>speechiness: 0.0622",
          "Name: Señorita<br>acousticness: 0.029<br>speechiness: 0.0392",
          "Name: Perfect<br>acousticness: 0.0331<br>speechiness: 0.433",
          "Name: Heat Waves<br>acousticness: 0.0944<br>speechiness: 0.44",
          "Name: Say You Won't Let Go<br>acousticness: 0.059<br>speechiness: 0.695",
          "Name: Starboy<br>acousticness: 0.276<br>speechiness: 0.141",
          "Name: Bad Guy<br>acousticness: 0.375<br>speechiness: 0.328",
          "Name: Thinking Out Loud<br>acousticness: 0.0296<br>speechiness: 0.474",
          "Name: Lucid Dreams<br>acousticness: 0.2<br>speechiness: 0.349",
          "Name: Don't Start Now<br>acousticness: 0.0484<br>speechiness: 0.876",
          "Name: Lovely<br>acousticness: 0.0333<br>speechiness: 0.934",
          "Name: Watermelon Sugar<br>acousticness: 0.0465<br>speechiness: 0.122",
          "Name: God's Plan<br>acousticness: 0.109<br>speechiness: 0.0332",
          "Name: Photograph<br>acousticness: 0.0359<br>speechiness: 0.607",
          "Name: Bohemian Rhapsody<br>acousticness: 0.0536<br>speechiness: 0.288",
          "Name: Something Just Like This<br>acousticness: 0.0317<br>speechiness: 0.0498",
          "Name: Sweater Weather<br>acousticness: 0.0336<br>speechiness: 0.0495",
          "Name: Shallow<br>acousticness: 0.0308<br>speechiness: 0.371",
          "Name: As It Was<br>acousticness: 0.0557<br>speechiness: 0.342",
          "Name: Love Yourself<br>acousticness: 0.438<br>speechiness: 0.835",
          "Name: Circles<br>acousticness: 0.0395<br>speechiness: 0.192",
          "Name: Sad!<br>acousticness: 0.145<br>speechiness: 0.258",
          "Name: Take Me to Church<br>acousticness: 0.0464<br>speechiness: 0.634",
          "Name: All of Me<br>acousticness: 0.0322<br>speechiness: 0.922",
          "Name: Thunder<br>acousticness: 0.0364<br>speechiness: 0.000147",
          "Name: 7 Rings<br>acousticness: 0.334<br>speechiness: 0.592",
          "Name: Goosebumps<br>acousticness: 0.0484<br>speechiness: 0.0847",
          "Name: Jocelyn Flores<br>acousticness: 0.242<br>speechiness: 0.469",
          "Name: Havana<br>acousticness: 0.03<br>speechiness: 0.184",
          "Name: Stressed Out<br>acousticness: 0.141<br>speechiness: 0.0462",
          "Name: XO Tour Llif3<br>acousticness: 0.231<br>speechiness: 0.00264",
          "Name: Counting Stars<br>acousticness: 0.0382<br>speechiness: 0.0654",
          "Name: New Rules<br>acousticness: 0.0694<br>speechiness: 0.00265",
          "Name: Wake Me Up<br>acousticness: 0.0523<br>speechiness: 0.0038",
          "Name: Riptide<br>acousticness: 0.0379<br>speechiness: 0.431",
          "Name: Happier<br>acousticness: 0.0751<br>speechiness: 0.121",
          "Name: Humble<br>acousticness: 0.102<br>speechiness: 0.000282",
          "Name: Let Her Go<br>acousticness: 0.0688<br>speechiness: 0.365",
          "Name: The Hills<br>acousticness: 0.0515<br>speechiness: 0.0671",
          "Name: Sicko Mode<br>acousticness: 0.222<br>speechiness: 0.00513",
          "Name: Can't Hold Us<br>acousticness: 0.0752<br>speechiness: 0.000744",
          "Name: Good 4 U<br>acousticness: 0.154<br>speechiness: 0.335",
          "Name: Sorry<br>acousticness: 0.0984<br>speechiness: 8.47e-05",
          "Name: One Kiss<br>acousticness: 0.11<br>speechiness: 0.037",
          "Name: Let Me Love You<br>acousticness: 0.0349<br>speechiness: 0.0863",
          "Name: Drivers License<br>acousticness: 0.0578<br>speechiness: 0.768",
          "Name: Lean On<br>acousticness: 0.0625<br>speechiness: 0.00346",
          "Name: Treat You Better<br>acousticness: 0.341<br>speechiness: 0.106",
          "Name: Roses (Imanbek remix)<br>acousticness: 0.0474<br>speechiness: 0.0143",
          "Name: Better Now<br>acousticness: 0.04<br>speechiness: 0.331",
          "Name: Stay with Me<br>acousticness: 0.0414<br>speechiness: 0.588",
          "Name: Congratulations<br>acousticness: 0.0363<br>speechiness: 0.215",
          "Name: Faded<br>acousticness: 0.0476<br>speechiness: 0.0281",
          "Name: Without Me<br>acousticness: 0.0738<br>speechiness: 0.00286",
          "Name: Industry Baby<br>acousticness: 0.0615<br>speechiness: 0.0203",
          "Name: Lose Yourself<br>acousticness: 0.257<br>speechiness: 0.00868",
          "Name: Memories<br>acousticness: 0.044<br>speechiness: 0.00979",
          "Name: Demons<br>acousticness: 0.0321<br>speechiness: 0.19",
          "Name: Mr. Brightside<br>acousticness: 0.0747<br>speechiness: 0.00121",
          "Name: Uptown Funk<br>acousticness: 0.0824<br>speechiness: 0.00801",
          "Name: Too Good at Goodbyes<br>acousticness: 0.0432<br>speechiness: 0.64",
          "Name: Levitating<br>acousticness: 0.0601<br>speechiness: 0.00883",
          "Name: I Took a Pill in Ibiza (Seeb Remix)<br>acousticness: 0.111<br>speechiness: 0.0353",
          "Name: Don't Let Me Down<br>acousticness: 0.0493<br>speechiness: 0.699",
          "Name: Thank U, Next<br>acousticness: 0.0658<br>speechiness: 0.229",
          "Name: I Don't Care<br>acousticness: 0.0442<br>speechiness: 0.0902",
          "Name: Dakiti<br>acousticness: 0.0544<br>speechiness: 0.401",
          "Name: Montero (Call Me by Your Name)<br>acousticness: 0.22<br>speechiness: 0.293",
          "Name: Mood<br>acousticness: 0.336<br>speechiness: 0.696",
          "Name: Do I Wanna Know?<br>acousticness: 0.0323<br>speechiness: 0.186",
          "Name: Unforgettable<br>acousticness: 0.123<br>speechiness: 0.0293",
          "Name: Dynamite<br>acousticness: 0.0859<br>speechiness: 0.00379",
          "Name: Despacito (remix)<br>acousticness: 0.167<br>speechiness: 0.228",
          "Name: Moonlight<br>acousticness: 0.0804<br>speechiness: 0.556",
          "Name: Wonderwall<br>acousticness: 0.0406<br>speechiness: 0.000509",
          "Name: No Role Modelz<br>acousticness: 0.339<br>speechiness: 0.324",
          "Name: That's What I Like<br>acousticness: 0.0406<br>speechiness: 0.013",
          "Name: The Box<br>acousticness: 0.0559<br>speechiness: 0.104",
          "Name: 'Till I Collapse<br>acousticness: 0.186<br>speechiness: 0.0622",
          "Name: There's Nothing Holdin' Me Back<br>acousticness: 0.0554<br>speechiness: 0.38",
          "Name: Stitches<br>acousticness: 0.0615<br>speechiness: 0.0151",
          "Name: Cheap Thrills<br>acousticness: 0.105<br>speechiness: 0.0472",
          "Name: Smells Like Teen Spirit<br>acousticness: 0.0564<br>speechiness: 2.55e-05",
          "Name: See You Again<br>acousticness: 0.0959<br>speechiness: 0.371",
          "Name: I'm Yours<br>acousticness: 0.0711<br>speechiness: 0.0886",
          "Name: I Like Me Better<br>acousticness: 0.255<br>speechiness: 0.534",
          "Name: 7 Years<br>acousticness: 0.0514<br>speechiness: 0.287",
          "Name: Yellow<br>acousticness: 0.0281<br>speechiness: 0.00239",
          "Name: Sugar<br>acousticness: 0.0465<br>speechiness: 0.122",
          "Name: Despacito<br>acousticness: 0.153<br>speechiness: 0.198",
          "Name: Don't Stop Me Now<br>acousticness: 0.0773<br>speechiness: 0.71"
         ],
         "marker": {
          "color": "blue"
         },
         "mode": "markers",
         "type": "scatter",
         "x": [
          0.0598,
          0.0802,
          0.0924,
          0.0319,
          0.0712,
          0.0466,
          0.0536,
          0.0338,
          0.0283,
          0.128,
          0.029,
          0.0331,
          0.0944,
          0.059,
          0.276,
          0.375,
          0.0296,
          0.2,
          0.0484,
          0.0333,
          0.0465,
          0.109,
          0.0359,
          0.0536,
          0.0317,
          0.0336,
          0.0308,
          0.0557,
          0.438,
          0.0395,
          0.145,
          0.0464,
          0.0322,
          0.0364,
          0.334,
          0.0484,
          0.242,
          0.03,
          0.141,
          0.231,
          0.0382,
          0.0694,
          0.0523,
          0.0379,
          0.0751,
          0.102,
          0.0688,
          0.0515,
          0.222,
          0.0752,
          0.154,
          0.0984,
          0.11,
          0.0349,
          0.0578,
          0.0625,
          0.341,
          0.0474,
          0.04,
          0.0414,
          0.0363,
          0.0476,
          0.0738,
          0.0615,
          0.257,
          0.044,
          0.0321,
          0.0747,
          0.0824,
          0.0432,
          0.0601,
          0.111,
          0.0493,
          0.0658,
          0.0442,
          0.0544,
          0.22,
          0.336,
          0.0323,
          0.123,
          0.0859,
          0.167,
          0.0804,
          0.0406,
          0.339,
          0.0406,
          0.0559,
          0.186,
          0.0554,
          0.0615,
          0.105,
          0.0564,
          0.0959,
          0.0711,
          0.255,
          0.0514,
          0.0281,
          0.0465,
          0.153,
          0.0773
         ],
         "y": [
          0.00146,
          0.581,
          0.692,
          0.751,
          0.124,
          0.556,
          0.00776,
          0.414,
          0.945,
          0.0622,
          0.0392,
          0.433,
          0.44,
          0.695,
          0.141,
          0.328,
          0.474,
          0.349,
          0.876,
          0.934,
          0.122,
          0.0332,
          0.607,
          0.288,
          0.0498,
          0.0495,
          0.371,
          0.342,
          0.835,
          0.192,
          0.258,
          0.634,
          0.922,
          0.000147,
          0.592,
          0.0847,
          0.469,
          0.184,
          0.0462,
          0.00264,
          0.0654,
          0.00265,
          0.0038,
          0.431,
          0.121,
          0.000282,
          0.365,
          0.0671,
          0.00513,
          0.000744,
          0.335,
          0.0000847,
          0.037,
          0.0863,
          0.768,
          0.00346,
          0.106,
          0.0143,
          0.331,
          0.588,
          0.215,
          0.0281,
          0.00286,
          0.0203,
          0.00868,
          0.00979,
          0.19,
          0.00121,
          0.00801,
          0.64,
          0.00883,
          0.0353,
          0.699,
          0.229,
          0.0902,
          0.401,
          0.293,
          0.696,
          0.186,
          0.0293,
          0.00379,
          0.228,
          0.556,
          0.000509,
          0.324,
          0.013,
          0.104,
          0.0622,
          0.38,
          0.0151,
          0.0472,
          0.0000255,
          0.371,
          0.0886,
          0.534,
          0.287,
          0.00239,
          0.122,
          0.198,
          0.71
         ]
        }
       ],
       "layout": {
        "template": {
         "data": {
          "bar": [
           {
            "error_x": {
             "color": "#2a3f5f"
            },
            "error_y": {
             "color": "#2a3f5f"
            },
            "marker": {
             "line": {
              "color": "#E5ECF6",
              "width": 0.5
             },
             "pattern": {
              "fillmode": "overlay",
              "size": 10,
              "solidity": 0.2
             }
            },
            "type": "bar"
           }
          ],
          "barpolar": [
           {
            "marker": {
             "line": {
              "color": "#E5ECF6",
              "width": 0.5
             },
             "pattern": {
              "fillmode": "overlay",
              "size": 10,
              "solidity": 0.2
             }
            },
            "type": "barpolar"
           }
          ],
          "carpet": [
           {
            "aaxis": {
             "endlinecolor": "#2a3f5f",
             "gridcolor": "white",
             "linecolor": "white",
             "minorgridcolor": "white",
             "startlinecolor": "#2a3f5f"
            },
            "baxis": {
             "endlinecolor": "#2a3f5f",
             "gridcolor": "white",
             "linecolor": "white",
             "minorgridcolor": "white",
             "startlinecolor": "#2a3f5f"
            },
            "type": "carpet"
           }
          ],
          "choropleth": [
           {
            "colorbar": {
             "outlinewidth": 0,
             "ticks": ""
            },
            "type": "choropleth"
           }
          ],
          "contour": [
           {
            "colorbar": {
             "outlinewidth": 0,
             "ticks": ""
            },
            "colorscale": [
             [
              0,
              "#0d0887"
             ],
             [
              0.1111111111111111,
              "#46039f"
             ],
             [
              0.2222222222222222,
              "#7201a8"
             ],
             [
              0.3333333333333333,
              "#9c179e"
             ],
             [
              0.4444444444444444,
              "#bd3786"
             ],
             [
              0.5555555555555556,
              "#d8576b"
             ],
             [
              0.6666666666666666,
              "#ed7953"
             ],
             [
              0.7777777777777778,
              "#fb9f3a"
             ],
             [
              0.8888888888888888,
              "#fdca26"
             ],
             [
              1,
              "#f0f921"
             ]
            ],
            "type": "contour"
           }
          ],
          "contourcarpet": [
           {
            "colorbar": {
             "outlinewidth": 0,
             "ticks": ""
            },
            "type": "contourcarpet"
           }
          ],
          "heatmap": [
           {
            "colorbar": {
             "outlinewidth": 0,
             "ticks": ""
            },
            "colorscale": [
             [
              0,
              "#0d0887"
             ],
             [
              0.1111111111111111,
              "#46039f"
             ],
             [
              0.2222222222222222,
              "#7201a8"
             ],
             [
              0.3333333333333333,
              "#9c179e"
             ],
             [
              0.4444444444444444,
              "#bd3786"
             ],
             [
              0.5555555555555556,
              "#d8576b"
             ],
             [
              0.6666666666666666,
              "#ed7953"
             ],
             [
              0.7777777777777778,
              "#fb9f3a"
             ],
             [
              0.8888888888888888,
              "#fdca26"
             ],
             [
              1,
              "#f0f921"
             ]
            ],
            "type": "heatmap"
           }
          ],
          "heatmapgl": [
           {
            "colorbar": {
             "outlinewidth": 0,
             "ticks": ""
            },
            "colorscale": [
             [
              0,
              "#0d0887"
             ],
             [
              0.1111111111111111,
              "#46039f"
             ],
             [
              0.2222222222222222,
              "#7201a8"
             ],
             [
              0.3333333333333333,
              "#9c179e"
             ],
             [
              0.4444444444444444,
              "#bd3786"
             ],
             [
              0.5555555555555556,
              "#d8576b"
             ],
             [
              0.6666666666666666,
              "#ed7953"
             ],
             [
              0.7777777777777778,
              "#fb9f3a"
             ],
             [
              0.8888888888888888,
              "#fdca26"
             ],
             [
              1,
              "#f0f921"
             ]
            ],
            "type": "heatmapgl"
           }
          ],
          "histogram": [
           {
            "marker": {
             "pattern": {
              "fillmode": "overlay",
              "size": 10,
              "solidity": 0.2
             }
            },
            "type": "histogram"
           }
          ],
          "histogram2d": [
           {
            "colorbar": {
             "outlinewidth": 0,
             "ticks": ""
            },
            "colorscale": [
             [
              0,
              "#0d0887"
             ],
             [
              0.1111111111111111,
              "#46039f"
             ],
             [
              0.2222222222222222,
              "#7201a8"
             ],
             [
              0.3333333333333333,
              "#9c179e"
             ],
             [
              0.4444444444444444,
              "#bd3786"
             ],
             [
              0.5555555555555556,
              "#d8576b"
             ],
             [
              0.6666666666666666,
              "#ed7953"
             ],
             [
              0.7777777777777778,
              "#fb9f3a"
             ],
             [
              0.8888888888888888,
              "#fdca26"
             ],
             [
              1,
              "#f0f921"
             ]
            ],
            "type": "histogram2d"
           }
          ],
          "histogram2dcontour": [
           {
            "colorbar": {
             "outlinewidth": 0,
             "ticks": ""
            },
            "colorscale": [
             [
              0,
              "#0d0887"
             ],
             [
              0.1111111111111111,
              "#46039f"
             ],
             [
              0.2222222222222222,
              "#7201a8"
             ],
             [
              0.3333333333333333,
              "#9c179e"
             ],
             [
              0.4444444444444444,
              "#bd3786"
             ],
             [
              0.5555555555555556,
              "#d8576b"
             ],
             [
              0.6666666666666666,
              "#ed7953"
             ],
             [
              0.7777777777777778,
              "#fb9f3a"
             ],
             [
              0.8888888888888888,
              "#fdca26"
             ],
             [
              1,
              "#f0f921"
             ]
            ],
            "type": "histogram2dcontour"
           }
          ],
          "mesh3d": [
           {
            "colorbar": {
             "outlinewidth": 0,
             "ticks": ""
            },
            "type": "mesh3d"
           }
          ],
          "parcoords": [
           {
            "line": {
             "colorbar": {
              "outlinewidth": 0,
              "ticks": ""
             }
            },
            "type": "parcoords"
           }
          ],
          "pie": [
           {
            "automargin": true,
            "type": "pie"
           }
          ],
          "scatter": [
           {
            "fillpattern": {
             "fillmode": "overlay",
             "size": 10,
             "solidity": 0.2
            },
            "type": "scatter"
           }
          ],
          "scatter3d": [
           {
            "line": {
             "colorbar": {
              "outlinewidth": 0,
              "ticks": ""
             }
            },
            "marker": {
             "colorbar": {
              "outlinewidth": 0,
              "ticks": ""
             }
            },
            "type": "scatter3d"
           }
          ],
          "scattercarpet": [
           {
            "marker": {
             "colorbar": {
              "outlinewidth": 0,
              "ticks": ""
             }
            },
            "type": "scattercarpet"
           }
          ],
          "scattergeo": [
           {
            "marker": {
             "colorbar": {
              "outlinewidth": 0,
              "ticks": ""
             }
            },
            "type": "scattergeo"
           }
          ],
          "scattergl": [
           {
            "marker": {
             "colorbar": {
              "outlinewidth": 0,
              "ticks": ""
             }
            },
            "type": "scattergl"
           }
          ],
          "scattermapbox": [
           {
            "marker": {
             "colorbar": {
              "outlinewidth": 0,
              "ticks": ""
             }
            },
            "type": "scattermapbox"
           }
          ],
          "scatterpolar": [
           {
            "marker": {
             "colorbar": {
              "outlinewidth": 0,
              "ticks": ""
             }
            },
            "type": "scatterpolar"
           }
          ],
          "scatterpolargl": [
           {
            "marker": {
             "colorbar": {
              "outlinewidth": 0,
              "ticks": ""
             }
            },
            "type": "scatterpolargl"
           }
          ],
          "scatterternary": [
           {
            "marker": {
             "colorbar": {
              "outlinewidth": 0,
              "ticks": ""
             }
            },
            "type": "scatterternary"
           }
          ],
          "surface": [
           {
            "colorbar": {
             "outlinewidth": 0,
             "ticks": ""
            },
            "colorscale": [
             [
              0,
              "#0d0887"
             ],
             [
              0.1111111111111111,
              "#46039f"
             ],
             [
              0.2222222222222222,
              "#7201a8"
             ],
             [
              0.3333333333333333,
              "#9c179e"
             ],
             [
              0.4444444444444444,
              "#bd3786"
             ],
             [
              0.5555555555555556,
              "#d8576b"
             ],
             [
              0.6666666666666666,
              "#ed7953"
             ],
             [
              0.7777777777777778,
              "#fb9f3a"
             ],
             [
              0.8888888888888888,
              "#fdca26"
             ],
             [
              1,
              "#f0f921"
             ]
            ],
            "type": "surface"
           }
          ],
          "table": [
           {
            "cells": {
             "fill": {
              "color": "#EBF0F8"
             },
             "line": {
              "color": "white"
             }
            },
            "header": {
             "fill": {
              "color": "#C8D4E3"
             },
             "line": {
              "color": "white"
             }
            },
            "type": "table"
           }
          ]
         },
         "layout": {
          "annotationdefaults": {
           "arrowcolor": "#2a3f5f",
           "arrowhead": 0,
           "arrowwidth": 1
          },
          "autotypenumbers": "strict",
          "coloraxis": {
           "colorbar": {
            "outlinewidth": 0,
            "ticks": ""
           }
          },
          "colorscale": {
           "diverging": [
            [
             0,
             "#8e0152"
            ],
            [
             0.1,
             "#c51b7d"
            ],
            [
             0.2,
             "#de77ae"
            ],
            [
             0.3,
             "#f1b6da"
            ],
            [
             0.4,
             "#fde0ef"
            ],
            [
             0.5,
             "#f7f7f7"
            ],
            [
             0.6,
             "#e6f5d0"
            ],
            [
             0.7,
             "#b8e186"
            ],
            [
             0.8,
             "#7fbc41"
            ],
            [
             0.9,
             "#4d9221"
            ],
            [
             1,
             "#276419"
            ]
           ],
           "sequential": [
            [
             0,
             "#0d0887"
            ],
            [
             0.1111111111111111,
             "#46039f"
            ],
            [
             0.2222222222222222,
             "#7201a8"
            ],
            [
             0.3333333333333333,
             "#9c179e"
            ],
            [
             0.4444444444444444,
             "#bd3786"
            ],
            [
             0.5555555555555556,
             "#d8576b"
            ],
            [
             0.6666666666666666,
             "#ed7953"
            ],
            [
             0.7777777777777778,
             "#fb9f3a"
            ],
            [
             0.8888888888888888,
             "#fdca26"
            ],
            [
             1,
             "#f0f921"
            ]
           ],
           "sequentialminus": [
            [
             0,
             "#0d0887"
            ],
            [
             0.1111111111111111,
             "#46039f"
            ],
            [
             0.2222222222222222,
             "#7201a8"
            ],
            [
             0.3333333333333333,
             "#9c179e"
            ],
            [
             0.4444444444444444,
             "#bd3786"
            ],
            [
             0.5555555555555556,
             "#d8576b"
            ],
            [
             0.6666666666666666,
             "#ed7953"
            ],
            [
             0.7777777777777778,
             "#fb9f3a"
            ],
            [
             0.8888888888888888,
             "#fdca26"
            ],
            [
             1,
             "#f0f921"
            ]
           ]
          },
          "colorway": [
           "#636efa",
           "#EF553B",
           "#00cc96",
           "#ab63fa",
           "#FFA15A",
           "#19d3f3",
           "#FF6692",
           "#B6E880",
           "#FF97FF",
           "#FECB52"
          ],
          "font": {
           "color": "#2a3f5f"
          },
          "geo": {
           "bgcolor": "white",
           "lakecolor": "white",
           "landcolor": "#E5ECF6",
           "showlakes": true,
           "showland": true,
           "subunitcolor": "white"
          },
          "hoverlabel": {
           "align": "left"
          },
          "hovermode": "closest",
          "mapbox": {
           "style": "light"
          },
          "paper_bgcolor": "white",
          "plot_bgcolor": "#E5ECF6",
          "polar": {
           "angularaxis": {
            "gridcolor": "white",
            "linecolor": "white",
            "ticks": ""
           },
           "bgcolor": "#E5ECF6",
           "radialaxis": {
            "gridcolor": "white",
            "linecolor": "white",
            "ticks": ""
           }
          },
          "scene": {
           "xaxis": {
            "backgroundcolor": "#E5ECF6",
            "gridcolor": "white",
            "gridwidth": 2,
            "linecolor": "white",
            "showbackground": true,
            "ticks": "",
            "zerolinecolor": "white"
           },
           "yaxis": {
            "backgroundcolor": "#E5ECF6",
            "gridcolor": "white",
            "gridwidth": 2,
            "linecolor": "white",
            "showbackground": true,
            "ticks": "",
            "zerolinecolor": "white"
           },
           "zaxis": {
            "backgroundcolor": "#E5ECF6",
            "gridcolor": "white",
            "gridwidth": 2,
            "linecolor": "white",
            "showbackground": true,
            "ticks": "",
            "zerolinecolor": "white"
           }
          },
          "shapedefaults": {
           "line": {
            "color": "#2a3f5f"
           }
          },
          "ternary": {
           "aaxis": {
            "gridcolor": "white",
            "linecolor": "white",
            "ticks": ""
           },
           "baxis": {
            "gridcolor": "white",
            "linecolor": "white",
            "ticks": ""
           },
           "bgcolor": "#E5ECF6",
           "caxis": {
            "gridcolor": "white",
            "linecolor": "white",
            "ticks": ""
           }
          },
          "title": {
           "x": 0.05
          },
          "xaxis": {
           "automargin": true,
           "gridcolor": "white",
           "linecolor": "white",
           "ticks": "",
           "title": {
            "standoff": 15
           },
           "zerolinecolor": "white",
           "zerolinewidth": 2
          },
          "yaxis": {
           "automargin": true,
           "gridcolor": "white",
           "linecolor": "white",
           "ticks": "",
           "title": {
            "standoff": 15
           },
           "zerolinecolor": "white",
           "zerolinewidth": 2
          }
         }
        },
        "title": {
         "text": "Acousticness vs Speechiness"
        },
        "xaxis": {
         "title": {
          "text": "Speechiness"
         }
        },
        "yaxis": {
         "title": {
          "text": "Acousticness"
         }
        }
       }
      },
      "text/html": [
       "<div>                            <div id=\"26ba6771-98e8-4051-b6ea-f940c3faccd9\" class=\"plotly-graph-div\" style=\"height:525px; width:100%;\"></div>            <script type=\"text/javascript\">                require([\"plotly\"], function(Plotly) {                    window.PLOTLYENV=window.PLOTLYENV || {};                                    if (document.getElementById(\"26ba6771-98e8-4051-b6ea-f940c3faccd9\")) {                    Plotly.newPlot(                        \"26ba6771-98e8-4051-b6ea-f940c3faccd9\",                        [{\"hovertext\":[\"Name: Blinding Lights<br>acousticness: 0.0598<br>speechiness: 0.00146\",\"Name: Shape of You<br>acousticness: 0.0802<br>speechiness: 0.581\",\"Name: Dance Monkey<br>acousticness: 0.0924<br>speechiness: 0.692\",\"Name: Someone You Loved<br>acousticness: 0.0319<br>speechiness: 0.751\",\"Name: Rockstar<br>acousticness: 0.0712<br>speechiness: 0.124\",\"Name: Sunflower<br>acousticness: 0.0466<br>speechiness: 0.556\",\"Name: One Dance<br>acousticness: 0.0536<br>speechiness: 0.00776\",\"Name: Closer<br>acousticness: 0.0338<br>speechiness: 0.414\",\"Name: Stay<br>acousticness: 0.0283<br>speechiness: 0.945\",\"Name: Believer<br>acousticness: 0.128<br>speechiness: 0.0622\",\"Name: Se\\u00f1orita<br>acousticness: 0.029<br>speechiness: 0.0392\",\"Name: Perfect<br>acousticness: 0.0331<br>speechiness: 0.433\",\"Name: Heat Waves<br>acousticness: 0.0944<br>speechiness: 0.44\",\"Name: Say You Won't Let Go<br>acousticness: 0.059<br>speechiness: 0.695\",\"Name: Starboy<br>acousticness: 0.276<br>speechiness: 0.141\",\"Name: Bad Guy<br>acousticness: 0.375<br>speechiness: 0.328\",\"Name: Thinking Out Loud<br>acousticness: 0.0296<br>speechiness: 0.474\",\"Name: Lucid Dreams<br>acousticness: 0.2<br>speechiness: 0.349\",\"Name: Don't Start Now<br>acousticness: 0.0484<br>speechiness: 0.876\",\"Name: Lovely<br>acousticness: 0.0333<br>speechiness: 0.934\",\"Name: Watermelon Sugar<br>acousticness: 0.0465<br>speechiness: 0.122\",\"Name: God's Plan<br>acousticness: 0.109<br>speechiness: 0.0332\",\"Name: Photograph<br>acousticness: 0.0359<br>speechiness: 0.607\",\"Name: Bohemian Rhapsody<br>acousticness: 0.0536<br>speechiness: 0.288\",\"Name: Something Just Like This<br>acousticness: 0.0317<br>speechiness: 0.0498\",\"Name: Sweater Weather<br>acousticness: 0.0336<br>speechiness: 0.0495\",\"Name: Shallow<br>acousticness: 0.0308<br>speechiness: 0.371\",\"Name: As It Was<br>acousticness: 0.0557<br>speechiness: 0.342\",\"Name: Love Yourself<br>acousticness: 0.438<br>speechiness: 0.835\",\"Name: Circles<br>acousticness: 0.0395<br>speechiness: 0.192\",\"Name: Sad!<br>acousticness: 0.145<br>speechiness: 0.258\",\"Name: Take Me to Church<br>acousticness: 0.0464<br>speechiness: 0.634\",\"Name: All of Me<br>acousticness: 0.0322<br>speechiness: 0.922\",\"Name: Thunder<br>acousticness: 0.0364<br>speechiness: 0.000147\",\"Name: 7 Rings<br>acousticness: 0.334<br>speechiness: 0.592\",\"Name: Goosebumps<br>acousticness: 0.0484<br>speechiness: 0.0847\",\"Name: Jocelyn Flores<br>acousticness: 0.242<br>speechiness: 0.469\",\"Name: Havana<br>acousticness: 0.03<br>speechiness: 0.184\",\"Name: Stressed Out<br>acousticness: 0.141<br>speechiness: 0.0462\",\"Name: XO Tour Llif3<br>acousticness: 0.231<br>speechiness: 0.00264\",\"Name: Counting Stars<br>acousticness: 0.0382<br>speechiness: 0.0654\",\"Name: New Rules<br>acousticness: 0.0694<br>speechiness: 0.00265\",\"Name: Wake Me Up<br>acousticness: 0.0523<br>speechiness: 0.0038\",\"Name: Riptide<br>acousticness: 0.0379<br>speechiness: 0.431\",\"Name: Happier<br>acousticness: 0.0751<br>speechiness: 0.121\",\"Name: Humble<br>acousticness: 0.102<br>speechiness: 0.000282\",\"Name: Let Her Go<br>acousticness: 0.0688<br>speechiness: 0.365\",\"Name: The Hills<br>acousticness: 0.0515<br>speechiness: 0.0671\",\"Name: Sicko Mode<br>acousticness: 0.222<br>speechiness: 0.00513\",\"Name: Can't Hold Us<br>acousticness: 0.0752<br>speechiness: 0.000744\",\"Name: Good 4 U<br>acousticness: 0.154<br>speechiness: 0.335\",\"Name: Sorry<br>acousticness: 0.0984<br>speechiness: 8.47e-05\",\"Name: One Kiss<br>acousticness: 0.11<br>speechiness: 0.037\",\"Name: Let Me Love You<br>acousticness: 0.0349<br>speechiness: 0.0863\",\"Name: Drivers License<br>acousticness: 0.0578<br>speechiness: 0.768\",\"Name: Lean On<br>acousticness: 0.0625<br>speechiness: 0.00346\",\"Name: Treat You Better<br>acousticness: 0.341<br>speechiness: 0.106\",\"Name: Roses (Imanbek remix)<br>acousticness: 0.0474<br>speechiness: 0.0143\",\"Name: Better Now<br>acousticness: 0.04<br>speechiness: 0.331\",\"Name: Stay with Me<br>acousticness: 0.0414<br>speechiness: 0.588\",\"Name: Congratulations<br>acousticness: 0.0363<br>speechiness: 0.215\",\"Name: Faded<br>acousticness: 0.0476<br>speechiness: 0.0281\",\"Name: Without Me<br>acousticness: 0.0738<br>speechiness: 0.00286\",\"Name: Industry Baby<br>acousticness: 0.0615<br>speechiness: 0.0203\",\"Name: Lose Yourself<br>acousticness: 0.257<br>speechiness: 0.00868\",\"Name: Memories<br>acousticness: 0.044<br>speechiness: 0.00979\",\"Name: Demons<br>acousticness: 0.0321<br>speechiness: 0.19\",\"Name: Mr. Brightside<br>acousticness: 0.0747<br>speechiness: 0.00121\",\"Name: Uptown Funk<br>acousticness: 0.0824<br>speechiness: 0.00801\",\"Name: Too Good at Goodbyes<br>acousticness: 0.0432<br>speechiness: 0.64\",\"Name: Levitating<br>acousticness: 0.0601<br>speechiness: 0.00883\",\"Name: I Took a Pill in Ibiza\\u00a0(Seeb\\u00a0Remix)<br>acousticness: 0.111<br>speechiness: 0.0353\",\"Name: Don't Let Me Down<br>acousticness: 0.0493<br>speechiness: 0.699\",\"Name: Thank U, Next<br>acousticness: 0.0658<br>speechiness: 0.229\",\"Name: I Don't Care<br>acousticness: 0.0442<br>speechiness: 0.0902\",\"Name: Dakiti<br>acousticness: 0.0544<br>speechiness: 0.401\",\"Name: Montero (Call Me by Your Name)<br>acousticness: 0.22<br>speechiness: 0.293\",\"Name: Mood<br>acousticness: 0.336<br>speechiness: 0.696\",\"Name: Do I Wanna Know?<br>acousticness: 0.0323<br>speechiness: 0.186\",\"Name: Unforgettable<br>acousticness: 0.123<br>speechiness: 0.0293\",\"Name: Dynamite<br>acousticness: 0.0859<br>speechiness: 0.00379\",\"Name: Despacito (remix)<br>acousticness: 0.167<br>speechiness: 0.228\",\"Name: Moonlight<br>acousticness: 0.0804<br>speechiness: 0.556\",\"Name: Wonderwall<br>acousticness: 0.0406<br>speechiness: 0.000509\",\"Name: No Role Modelz<br>acousticness: 0.339<br>speechiness: 0.324\",\"Name: That's What I Like<br>acousticness: 0.0406<br>speechiness: 0.013\",\"Name: The Box<br>acousticness: 0.0559<br>speechiness: 0.104\",\"Name: 'Till I Collapse<br>acousticness: 0.186<br>speechiness: 0.0622\",\"Name: There's Nothing Holdin' Me Back<br>acousticness: 0.0554<br>speechiness: 0.38\",\"Name: Stitches<br>acousticness: 0.0615<br>speechiness: 0.0151\",\"Name: Cheap Thrills<br>acousticness: 0.105<br>speechiness: 0.0472\",\"Name: Smells Like Teen Spirit<br>acousticness: 0.0564<br>speechiness: 2.55e-05\",\"Name: See You Again<br>acousticness: 0.0959<br>speechiness: 0.371\",\"Name: I'm Yours<br>acousticness: 0.0711<br>speechiness: 0.0886\",\"Name: I Like Me Better<br>acousticness: 0.255<br>speechiness: 0.534\",\"Name: 7 Years<br>acousticness: 0.0514<br>speechiness: 0.287\",\"Name: Yellow<br>acousticness: 0.0281<br>speechiness: 0.00239\",\"Name: Sugar<br>acousticness: 0.0465<br>speechiness: 0.122\",\"Name: Despacito<br>acousticness: 0.153<br>speechiness: 0.198\",\"Name: Don't Stop Me Now<br>acousticness: 0.0773<br>speechiness: 0.71\"],\"marker\":{\"color\":\"blue\"},\"mode\":\"markers\",\"x\":[0.0598,0.0802,0.0924,0.0319,0.0712,0.0466,0.0536,0.0338,0.0283,0.128,0.029,0.0331,0.0944,0.059,0.276,0.375,0.0296,0.2,0.0484,0.0333,0.0465,0.109,0.0359,0.0536,0.0317,0.0336,0.0308,0.0557,0.438,0.0395,0.145,0.0464,0.0322,0.0364,0.334,0.0484,0.242,0.03,0.141,0.231,0.0382,0.0694,0.0523,0.0379,0.0751,0.102,0.0688,0.0515,0.222,0.0752,0.154,0.0984,0.11,0.0349,0.0578,0.0625,0.341,0.0474,0.04,0.0414,0.0363,0.0476,0.0738,0.0615,0.257,0.044,0.0321,0.0747,0.0824,0.0432,0.0601,0.111,0.0493,0.0658,0.0442,0.0544,0.22,0.336,0.0323,0.123,0.0859,0.167,0.0804,0.0406,0.339,0.0406,0.0559,0.186,0.0554,0.0615,0.105,0.0564,0.0959,0.0711,0.255,0.0514,0.0281,0.0465,0.153,0.0773],\"y\":[0.00146,0.581,0.692,0.751,0.124,0.556,0.00776,0.414,0.945,0.0622,0.0392,0.433,0.44,0.695,0.141,0.328,0.474,0.349,0.876,0.934,0.122,0.0332,0.607,0.288,0.0498,0.0495,0.371,0.342,0.835,0.192,0.258,0.634,0.922,0.000147,0.592,0.0847,0.469,0.184,0.0462,0.00264,0.0654,0.00265,0.0038,0.431,0.121,0.000282,0.365,0.0671,0.00513,0.000744,0.335,8.47e-05,0.037,0.0863,0.768,0.00346,0.106,0.0143,0.331,0.588,0.215,0.0281,0.00286,0.0203,0.00868,0.00979,0.19,0.00121,0.00801,0.64,0.00883,0.0353,0.699,0.229,0.0902,0.401,0.293,0.696,0.186,0.0293,0.00379,0.228,0.556,0.000509,0.324,0.013,0.104,0.0622,0.38,0.0151,0.0472,2.55e-05,0.371,0.0886,0.534,0.287,0.00239,0.122,0.198,0.71],\"type\":\"scatter\"}],                        {\"template\":{\"data\":{\"histogram2dcontour\":[{\"type\":\"histogram2dcontour\",\"colorbar\":{\"outlinewidth\":0,\"ticks\":\"\"},\"colorscale\":[[0.0,\"#0d0887\"],[0.1111111111111111,\"#46039f\"],[0.2222222222222222,\"#7201a8\"],[0.3333333333333333,\"#9c179e\"],[0.4444444444444444,\"#bd3786\"],[0.5555555555555556,\"#d8576b\"],[0.6666666666666666,\"#ed7953\"],[0.7777777777777778,\"#fb9f3a\"],[0.8888888888888888,\"#fdca26\"],[1.0,\"#f0f921\"]]}],\"choropleth\":[{\"type\":\"choropleth\",\"colorbar\":{\"outlinewidth\":0,\"ticks\":\"\"}}],\"histogram2d\":[{\"type\":\"histogram2d\",\"colorbar\":{\"outlinewidth\":0,\"ticks\":\"\"},\"colorscale\":[[0.0,\"#0d0887\"],[0.1111111111111111,\"#46039f\"],[0.2222222222222222,\"#7201a8\"],[0.3333333333333333,\"#9c179e\"],[0.4444444444444444,\"#bd3786\"],[0.5555555555555556,\"#d8576b\"],[0.6666666666666666,\"#ed7953\"],[0.7777777777777778,\"#fb9f3a\"],[0.8888888888888888,\"#fdca26\"],[1.0,\"#f0f921\"]]}],\"heatmap\":[{\"type\":\"heatmap\",\"colorbar\":{\"outlinewidth\":0,\"ticks\":\"\"},\"colorscale\":[[0.0,\"#0d0887\"],[0.1111111111111111,\"#46039f\"],[0.2222222222222222,\"#7201a8\"],[0.3333333333333333,\"#9c179e\"],[0.4444444444444444,\"#bd3786\"],[0.5555555555555556,\"#d8576b\"],[0.6666666666666666,\"#ed7953\"],[0.7777777777777778,\"#fb9f3a\"],[0.8888888888888888,\"#fdca26\"],[1.0,\"#f0f921\"]]}],\"heatmapgl\":[{\"type\":\"heatmapgl\",\"colorbar\":{\"outlinewidth\":0,\"ticks\":\"\"},\"colorscale\":[[0.0,\"#0d0887\"],[0.1111111111111111,\"#46039f\"],[0.2222222222222222,\"#7201a8\"],[0.3333333333333333,\"#9c179e\"],[0.4444444444444444,\"#bd3786\"],[0.5555555555555556,\"#d8576b\"],[0.6666666666666666,\"#ed7953\"],[0.7777777777777778,\"#fb9f3a\"],[0.8888888888888888,\"#fdca26\"],[1.0,\"#f0f921\"]]}],\"contourcarpet\":[{\"type\":\"contourcarpet\",\"colorbar\":{\"outlinewidth\":0,\"ticks\":\"\"}}],\"contour\":[{\"type\":\"contour\",\"colorbar\":{\"outlinewidth\":0,\"ticks\":\"\"},\"colorscale\":[[0.0,\"#0d0887\"],[0.1111111111111111,\"#46039f\"],[0.2222222222222222,\"#7201a8\"],[0.3333333333333333,\"#9c179e\"],[0.4444444444444444,\"#bd3786\"],[0.5555555555555556,\"#d8576b\"],[0.6666666666666666,\"#ed7953\"],[0.7777777777777778,\"#fb9f3a\"],[0.8888888888888888,\"#fdca26\"],[1.0,\"#f0f921\"]]}],\"surface\":[{\"type\":\"surface\",\"colorbar\":{\"outlinewidth\":0,\"ticks\":\"\"},\"colorscale\":[[0.0,\"#0d0887\"],[0.1111111111111111,\"#46039f\"],[0.2222222222222222,\"#7201a8\"],[0.3333333333333333,\"#9c179e\"],[0.4444444444444444,\"#bd3786\"],[0.5555555555555556,\"#d8576b\"],[0.6666666666666666,\"#ed7953\"],[0.7777777777777778,\"#fb9f3a\"],[0.8888888888888888,\"#fdca26\"],[1.0,\"#f0f921\"]]}],\"mesh3d\":[{\"type\":\"mesh3d\",\"colorbar\":{\"outlinewidth\":0,\"ticks\":\"\"}}],\"scatter\":[{\"fillpattern\":{\"fillmode\":\"overlay\",\"size\":10,\"solidity\":0.2},\"type\":\"scatter\"}],\"parcoords\":[{\"type\":\"parcoords\",\"line\":{\"colorbar\":{\"outlinewidth\":0,\"ticks\":\"\"}}}],\"scatterpolargl\":[{\"type\":\"scatterpolargl\",\"marker\":{\"colorbar\":{\"outlinewidth\":0,\"ticks\":\"\"}}}],\"bar\":[{\"error_x\":{\"color\":\"#2a3f5f\"},\"error_y\":{\"color\":\"#2a3f5f\"},\"marker\":{\"line\":{\"color\":\"#E5ECF6\",\"width\":0.5},\"pattern\":{\"fillmode\":\"overlay\",\"size\":10,\"solidity\":0.2}},\"type\":\"bar\"}],\"scattergeo\":[{\"type\":\"scattergeo\",\"marker\":{\"colorbar\":{\"outlinewidth\":0,\"ticks\":\"\"}}}],\"scatterpolar\":[{\"type\":\"scatterpolar\",\"marker\":{\"colorbar\":{\"outlinewidth\":0,\"ticks\":\"\"}}}],\"histogram\":[{\"marker\":{\"pattern\":{\"fillmode\":\"overlay\",\"size\":10,\"solidity\":0.2}},\"type\":\"histogram\"}],\"scattergl\":[{\"type\":\"scattergl\",\"marker\":{\"colorbar\":{\"outlinewidth\":0,\"ticks\":\"\"}}}],\"scatter3d\":[{\"type\":\"scatter3d\",\"line\":{\"colorbar\":{\"outlinewidth\":0,\"ticks\":\"\"}},\"marker\":{\"colorbar\":{\"outlinewidth\":0,\"ticks\":\"\"}}}],\"scattermapbox\":[{\"type\":\"scattermapbox\",\"marker\":{\"colorbar\":{\"outlinewidth\":0,\"ticks\":\"\"}}}],\"scatterternary\":[{\"type\":\"scatterternary\",\"marker\":{\"colorbar\":{\"outlinewidth\":0,\"ticks\":\"\"}}}],\"scattercarpet\":[{\"type\":\"scattercarpet\",\"marker\":{\"colorbar\":{\"outlinewidth\":0,\"ticks\":\"\"}}}],\"carpet\":[{\"aaxis\":{\"endlinecolor\":\"#2a3f5f\",\"gridcolor\":\"white\",\"linecolor\":\"white\",\"minorgridcolor\":\"white\",\"startlinecolor\":\"#2a3f5f\"},\"baxis\":{\"endlinecolor\":\"#2a3f5f\",\"gridcolor\":\"white\",\"linecolor\":\"white\",\"minorgridcolor\":\"white\",\"startlinecolor\":\"#2a3f5f\"},\"type\":\"carpet\"}],\"table\":[{\"cells\":{\"fill\":{\"color\":\"#EBF0F8\"},\"line\":{\"color\":\"white\"}},\"header\":{\"fill\":{\"color\":\"#C8D4E3\"},\"line\":{\"color\":\"white\"}},\"type\":\"table\"}],\"barpolar\":[{\"marker\":{\"line\":{\"color\":\"#E5ECF6\",\"width\":0.5},\"pattern\":{\"fillmode\":\"overlay\",\"size\":10,\"solidity\":0.2}},\"type\":\"barpolar\"}],\"pie\":[{\"automargin\":true,\"type\":\"pie\"}]},\"layout\":{\"autotypenumbers\":\"strict\",\"colorway\":[\"#636efa\",\"#EF553B\",\"#00cc96\",\"#ab63fa\",\"#FFA15A\",\"#19d3f3\",\"#FF6692\",\"#B6E880\",\"#FF97FF\",\"#FECB52\"],\"font\":{\"color\":\"#2a3f5f\"},\"hovermode\":\"closest\",\"hoverlabel\":{\"align\":\"left\"},\"paper_bgcolor\":\"white\",\"plot_bgcolor\":\"#E5ECF6\",\"polar\":{\"bgcolor\":\"#E5ECF6\",\"angularaxis\":{\"gridcolor\":\"white\",\"linecolor\":\"white\",\"ticks\":\"\"},\"radialaxis\":{\"gridcolor\":\"white\",\"linecolor\":\"white\",\"ticks\":\"\"}},\"ternary\":{\"bgcolor\":\"#E5ECF6\",\"aaxis\":{\"gridcolor\":\"white\",\"linecolor\":\"white\",\"ticks\":\"\"},\"baxis\":{\"gridcolor\":\"white\",\"linecolor\":\"white\",\"ticks\":\"\"},\"caxis\":{\"gridcolor\":\"white\",\"linecolor\":\"white\",\"ticks\":\"\"}},\"coloraxis\":{\"colorbar\":{\"outlinewidth\":0,\"ticks\":\"\"}},\"colorscale\":{\"sequential\":[[0.0,\"#0d0887\"],[0.1111111111111111,\"#46039f\"],[0.2222222222222222,\"#7201a8\"],[0.3333333333333333,\"#9c179e\"],[0.4444444444444444,\"#bd3786\"],[0.5555555555555556,\"#d8576b\"],[0.6666666666666666,\"#ed7953\"],[0.7777777777777778,\"#fb9f3a\"],[0.8888888888888888,\"#fdca26\"],[1.0,\"#f0f921\"]],\"sequentialminus\":[[0.0,\"#0d0887\"],[0.1111111111111111,\"#46039f\"],[0.2222222222222222,\"#7201a8\"],[0.3333333333333333,\"#9c179e\"],[0.4444444444444444,\"#bd3786\"],[0.5555555555555556,\"#d8576b\"],[0.6666666666666666,\"#ed7953\"],[0.7777777777777778,\"#fb9f3a\"],[0.8888888888888888,\"#fdca26\"],[1.0,\"#f0f921\"]],\"diverging\":[[0,\"#8e0152\"],[0.1,\"#c51b7d\"],[0.2,\"#de77ae\"],[0.3,\"#f1b6da\"],[0.4,\"#fde0ef\"],[0.5,\"#f7f7f7\"],[0.6,\"#e6f5d0\"],[0.7,\"#b8e186\"],[0.8,\"#7fbc41\"],[0.9,\"#4d9221\"],[1,\"#276419\"]]},\"xaxis\":{\"gridcolor\":\"white\",\"linecolor\":\"white\",\"ticks\":\"\",\"title\":{\"standoff\":15},\"zerolinecolor\":\"white\",\"automargin\":true,\"zerolinewidth\":2},\"yaxis\":{\"gridcolor\":\"white\",\"linecolor\":\"white\",\"ticks\":\"\",\"title\":{\"standoff\":15},\"zerolinecolor\":\"white\",\"automargin\":true,\"zerolinewidth\":2},\"scene\":{\"xaxis\":{\"backgroundcolor\":\"#E5ECF6\",\"gridcolor\":\"white\",\"linecolor\":\"white\",\"showbackground\":true,\"ticks\":\"\",\"zerolinecolor\":\"white\",\"gridwidth\":2},\"yaxis\":{\"backgroundcolor\":\"#E5ECF6\",\"gridcolor\":\"white\",\"linecolor\":\"white\",\"showbackground\":true,\"ticks\":\"\",\"zerolinecolor\":\"white\",\"gridwidth\":2},\"zaxis\":{\"backgroundcolor\":\"#E5ECF6\",\"gridcolor\":\"white\",\"linecolor\":\"white\",\"showbackground\":true,\"ticks\":\"\",\"zerolinecolor\":\"white\",\"gridwidth\":2}},\"shapedefaults\":{\"line\":{\"color\":\"#2a3f5f\"}},\"annotationdefaults\":{\"arrowcolor\":\"#2a3f5f\",\"arrowhead\":0,\"arrowwidth\":1},\"geo\":{\"bgcolor\":\"white\",\"landcolor\":\"#E5ECF6\",\"subunitcolor\":\"white\",\"showland\":true,\"showlakes\":true,\"lakecolor\":\"white\"},\"title\":{\"x\":0.05},\"mapbox\":{\"style\":\"light\"}}},\"title\":{\"text\":\"Acousticness vs Speechiness\"},\"xaxis\":{\"title\":{\"text\":\"Speechiness\"}},\"yaxis\":{\"title\":{\"text\":\"Acousticness\"}}},                        {\"responsive\": true}                    ).then(function(){\n",
       "                            \n",
       "var gd = document.getElementById('26ba6771-98e8-4051-b6ea-f940c3faccd9');\n",
       "var x = new MutationObserver(function (mutations, observer) {{\n",
       "        var display = window.getComputedStyle(gd).display;\n",
       "        if (!display || display === 'none') {{\n",
       "            console.log([gd, 'removed!']);\n",
       "            Plotly.purge(gd);\n",
       "            observer.disconnect();\n",
       "        }}\n",
       "}});\n",
       "\n",
       "// Listen for the removal of the full notebook cells\n",
       "var notebookContainer = gd.closest('#notebook-container');\n",
       "if (notebookContainer) {{\n",
       "    x.observe(notebookContainer, {childList: true});\n",
       "}}\n",
       "\n",
       "// Listen for the clearing of the current output cell\n",
       "var outputEl = gd.closest('.output');\n",
       "if (outputEl) {{\n",
       "    x.observe(outputEl, {childList: true});\n",
       "}}\n",
       "\n",
       "                        })                };                });            </script>        </div>"
      ]
     },
     "metadata": {},
     "output_type": "display_data"
    }
   ],
   "source": [
    "features_df = pd.read_csv(\"C:\\\\Users\\\\deeee\\\\Downloads\\\\Features_dp.csv\")\n",
    "\n",
    "fig = go.Figure(data=go.Scatter(x=features_df[\"speechiness\"], y=features_df[\"acousticness\"],\n",
    "mode='markers',\n",
    "marker=dict(color='blue'),\n",
    "hovertext=[f\"Name: {n}<br>acousticness: {e}<br>speechiness: {s}\"\n",
    "for n, e, s in zip(features_df['name'], features_df['speechiness'], features_df['acousticness'])]\n",
    "))\n",
    "\n",
    "fig.update_layout(title='Acousticness vs Speechiness',\n",
    "xaxis_title='Speechiness', yaxis_title='Acousticness')\n",
    "\n",
    "fig.show()"
   ]
  },
  {
   "cell_type": "code",
   "execution_count": 157,
   "metadata": {},
   "outputs": [
    {
     "data": {
      "application/vnd.plotly.v1+json": {
       "config": {
        "plotlyServerURL": "https://plot.ly"
       },
       "data": [
        {
         "hovertext": [
          "Name: Blinding Lights<br>Danceability: 0.334<br>Valence: 0.514",
          "Name: Shape of You<br>Danceability: 0.931<br>Valence: 0.825",
          "Name: Dance Monkey<br>Danceability: 0.513<br>Valence: 0.824",
          "Name: Someone You Loved<br>Danceability: 0.446<br>Valence: 0.501",
          "Name: Rockstar<br>Danceability: 0.129<br>Valence: 0.585",
          "Name: Sunflower<br>Danceability: 0.913<br>Valence: 0.76",
          "Name: One Dance<br>Danceability: 0.37<br>Valence: 0.792",
          "Name: Closer<br>Danceability: 0.661<br>Valence: 0.748",
          "Name: Stay<br>Danceability: 0.125<br>Valence: 0.621",
          "Name: Believer<br>Danceability: 0.666<br>Valence: 0.776",
          "Name: Señorita<br>Danceability: 0.749<br>Valence: 0.759",
          "Name: Perfect<br>Danceability: 0.6<br>Valence: 0.634",
          "Name: Heat Waves<br>Danceability: 0.531<br>Valence: 0.761",
          "Name: Say You Won't Let Go<br>Danceability: 0.494<br>Valence: 0.358",
          "Name: Starboy<br>Danceability: 0.486<br>Valence: 0.679",
          "Name: Bad Guy<br>Danceability: 0.562<br>Valence: 0.701",
          "Name: Thinking Out Loud<br>Danceability: 0.591<br>Valence: 0.781",
          "Name: Lucid Dreams<br>Danceability: 0.218<br>Valence: 0.511",
          "Name: Don't Start Now<br>Danceability: 0.707<br>Valence: 0.498",
          "Name: Lovely<br>Danceability: 0.12<br>Valence: 0.351",
          "Name: Watermelon Sugar<br>Danceability: 0.557<br>Valence: 0.548",
          "Name: God's Plan<br>Danceability: 0.357<br>Valence: 0.754",
          "Name: Photograph<br>Danceability: 0.22<br>Valence: 0.718",
          "Name: Bohemian Rhapsody<br>Danceability: 0.228<br>Valence: 0.392",
          "Name: Something Just Like This<br>Danceability: 0.446<br>Valence: 0.617",
          "Name: Sweater Weather<br>Danceability: 0.398<br>Valence: 0.612",
          "Name: Shallow<br>Danceability: 0.323<br>Valence: 0.572",
          "Name: As It Was<br>Danceability: 0.662<br>Valence: 0.52",
          "Name: Love Yourself<br>Danceability: 0.515<br>Valence: 0.609",
          "Name: Circles<br>Danceability: 0.553<br>Valence: 0.695",
          "Name: Sad!<br>Danceability: 0.473<br>Valence: 0.74",
          "Name: Take Me to Church<br>Danceability: 0.437<br>Valence: 0.566",
          "Name: All of Me<br>Danceability: 0.331<br>Valence: 0.422",
          "Name: Thunder<br>Danceability: 0.259<br>Valence: 0.502",
          "Name: 7 Rings<br>Danceability: 0.327<br>Valence: 0.778",
          "Name: Goosebumps<br>Danceability: 0.43<br>Valence: 0.841",
          "Name: Jocelyn Flores<br>Danceability: 0.437<br>Valence: 0.872",
          "Name: Havana<br>Danceability: 0.394<br>Valence: 0.765",
          "Name: Stressed Out<br>Danceability: 0.648<br>Valence: 0.734",
          "Name: XO Tour Llif3<br>Danceability: 0.401<br>Valence: 0.732",
          "Name: Counting Stars<br>Danceability: 0.477<br>Valence: 0.664",
          "Name: New Rules<br>Danceability: 0.608<br>Valence: 0.762",
          "Name: Wake Me Up<br>Danceability: 0.643<br>Valence: 0.532",
          "Name: Riptide<br>Danceability: 0.51<br>Valence: 0.484",
          "Name: Happier<br>Danceability: 0.472<br>Valence: 0.733",
          "Name: Humble<br>Danceability: 0.421<br>Valence: 0.908",
          "Name: Let Her Go<br>Danceability: 0.243<br>Valence: 0.479",
          "Name: The Hills<br>Danceability: 0.137<br>Valence: 0.585",
          "Name: Sicko Mode<br>Danceability: 0.446<br>Valence: 0.834",
          "Name: Can't Hold Us<br>Danceability: 0.219<br>Valence: 0.556",
          "Name: Good 4 U<br>Danceability: 0.688<br>Valence: 0.563",
          "Name: Sorry<br>Danceability: 0.492<br>Valence: 0.73",
          "Name: One Kiss<br>Danceability: 0.592<br>Valence: 0.791",
          "Name: Let Me Love You<br>Danceability: 0.163<br>Valence: 0.649",
          "Name: Drivers License<br>Danceability: 0.137<br>Valence: 0.561",
          "Name: Lean On<br>Danceability: 0.274<br>Valence: 0.723",
          "Name: Treat You Better<br>Danceability: 0.747<br>Valence: 0.444",
          "Name: Roses (Imanbek remix)<br>Danceability: 0.863<br>Valence: 0.769",
          "Name: Better Now<br>Danceability: 0.341<br>Valence: 0.68",
          "Name: Stay with Me<br>Danceability: 0.184<br>Valence: 0.418",
          "Name: Congratulations<br>Danceability: 0.492<br>Valence: 0.63",
          "Name: Faded<br>Danceability: 0.159<br>Valence: 0.468",
          "Name: Without Me<br>Danceability: 0.662<br>Valence: 0.908",
          "Name: Industry Baby<br>Danceability: 0.894<br>Valence: 0.736",
          "Name: Lose Yourself<br>Danceability: 0.0612<br>Valence: 0.692",
          "Name: Memories<br>Danceability: 0.556<br>Valence: 0.34",
          "Name: Demons<br>Danceability: 0.428<br>Valence: 0.505",
          "Name: Mr. Brightside<br>Danceability: 0.236<br>Valence: 0.352",
          "Name: Uptown Funk<br>Danceability: 0.928<br>Valence: 0.856",
          "Name: Too Good at Goodbyes<br>Danceability: 0.476<br>Valence: 0.681",
          "Name: Levitating<br>Danceability: 0.915<br>Valence: 0.702",
          "Name: I Took a Pill in Ibiza (Seeb Remix)<br>Danceability: 0.71<br>Valence: 0.664",
          "Name: Don't Let Me Down<br>Danceability: 0.674<br>Valence: 0.455",
          "Name: Thank U, Next<br>Danceability: 0.412<br>Valence: 0.717",
          "Name: I Don't Care<br>Danceability: 0.843<br>Valence: 0.798",
          "Name: Dakiti<br>Danceability: 0.145<br>Valence: 0.731",
          "Name: Montero (Call Me by Your Name)<br>Danceability: 0.71<br>Valence: 0.593",
          "Name: Mood<br>Danceability: 0.532<br>Valence: 0.768",
          "Name: Do I Wanna Know?<br>Danceability: 0.405<br>Valence: 0.548",
          "Name: Unforgettable<br>Danceability: 0.733<br>Valence: 0.726",
          "Name: Dynamite<br>Danceability: 0.816<br>Valence: 0.751",
          "Name: Despacito (remix)<br>Danceability: 0.816<br>Valence: 0.653",
          "Name: Moonlight<br>Danceability: 0.711<br>Valence: 0.921",
          "Name: Wonderwall<br>Danceability: 0.434<br>Valence: 0.375",
          "Name: No Role Modelz<br>Danceability: 0.494<br>Valence: 0.69",
          "Name: That's What I Like<br>Danceability: 0.86<br>Valence: 0.853",
          "Name: The Box<br>Danceability: 0.642<br>Valence: 0.896",
          "Name: 'Till I Collapse<br>Danceability: 0.1<br>Valence: 0.548",
          "Name: There's Nothing Holdin' Me Back<br>Danceability: 0.969<br>Valence: 0.866",
          "Name: Stitches<br>Danceability: 0.755<br>Valence: 0.752",
          "Name: Cheap Thrills<br>Danceability: 0.732<br>Valence: 0.628",
          "Name: Smells Like Teen Spirit<br>Danceability: 0.72<br>Valence: 0.502",
          "Name: See You Again<br>Danceability: 0.62<br>Valence: 0.558",
          "Name: I'm Yours<br>Danceability: 0.505<br>Valence: 0.646",
          "Name: I Like Me Better<br>Danceability: 0.419<br>Valence: 0.753",
          "Name: 7 Years<br>Danceability: 0.34<br>Valence: 0.765",
          "Name: Yellow<br>Danceability: 0.285<br>Valence: 0.429",
          "Name: Sugar<br>Danceability: 0.557<br>Valence: 0.548",
          "Name: Despacito<br>Danceability: 0.839<br>Valence: 0.655",
          "Name: Don't Stop Me Now<br>Danceability: 0.419<br>Valence: 0.471"
         ],
         "marker": {
          "color": "blue"
         },
         "mode": "markers",
         "type": "scatter",
         "x": [
          0.334,
          0.931,
          0.513,
          0.446,
          0.129,
          0.913,
          0.37,
          0.661,
          0.125,
          0.666,
          0.749,
          0.6,
          0.531,
          0.494,
          0.486,
          0.562,
          0.591,
          0.218,
          0.707,
          0.12,
          0.557,
          0.357,
          0.22,
          0.228,
          0.446,
          0.398,
          0.323,
          0.662,
          0.515,
          0.553,
          0.473,
          0.437,
          0.331,
          0.259,
          0.327,
          0.43,
          0.437,
          0.394,
          0.648,
          0.401,
          0.477,
          0.608,
          0.643,
          0.51,
          0.472,
          0.421,
          0.243,
          0.137,
          0.446,
          0.219,
          0.688,
          0.492,
          0.592,
          0.163,
          0.137,
          0.274,
          0.747,
          0.863,
          0.341,
          0.184,
          0.492,
          0.159,
          0.662,
          0.894,
          0.0612,
          0.556,
          0.428,
          0.236,
          0.928,
          0.476,
          0.915,
          0.71,
          0.674,
          0.412,
          0.843,
          0.145,
          0.71,
          0.532,
          0.405,
          0.733,
          0.816,
          0.816,
          0.711,
          0.434,
          0.494,
          0.86,
          0.642,
          0.1,
          0.969,
          0.755,
          0.732,
          0.72,
          0.62,
          0.505,
          0.419,
          0.34,
          0.285,
          0.557,
          0.839,
          0.419
         ],
         "y": [
          171.005,
          95.977,
          98.027,
          109.891,
          159.801,
          89.911,
          103.967,
          95.01,
          111.893,
          124.949,
          116.967,
          146.053,
          80.87,
          85.043,
          186.003,
          135.128,
          78.997,
          83.903,
          78.775,
          115.284,
          95.39,
          77.169,
          108.033,
          143.883,
          103.019,
          124.053,
          95.799,
          173.93,
          100.418,
          120.042,
          75.023,
          128.945,
          119.93,
          133.52,
          140.048,
          130.049,
          134.021,
          104.988,
          169.977,
          155.096,
          122.017,
          116.078,
          124.08,
          101.654,
          100.964,
          150.011,
          74.897,
          113.003,
          155.008,
          128.044,
          166.928,
          141.961,
          123.994,
          99.988,
          143.875,
          98.007,
          82.695,
          121.955,
          145.038,
          84.094,
          123.146,
          179.642,
          112.238,
          149.995,
          171.374,
          112.969,
          89.938,
          148.033,
          114.988,
          91.873,
          102.977,
          101.969,
          163.347,
          106.966,
          101.956,
          109.928,
          178.781,
          141.059,
          85.03,
          97.985,
          119.975,
          178.085,
          128.009,
          174.323,
          100.028,
          134.066,
          116.971,
          171.447,
          121.998,
          149.789,
          89.976,
          116.761,
          78.558,
          94.875,
          91.972,
          119.992,
          173.372,
          95.39,
          177.928,
          112.603
         ]
        }
       ],
       "layout": {
        "template": {
         "data": {
          "bar": [
           {
            "error_x": {
             "color": "#2a3f5f"
            },
            "error_y": {
             "color": "#2a3f5f"
            },
            "marker": {
             "line": {
              "color": "#E5ECF6",
              "width": 0.5
             },
             "pattern": {
              "fillmode": "overlay",
              "size": 10,
              "solidity": 0.2
             }
            },
            "type": "bar"
           }
          ],
          "barpolar": [
           {
            "marker": {
             "line": {
              "color": "#E5ECF6",
              "width": 0.5
             },
             "pattern": {
              "fillmode": "overlay",
              "size": 10,
              "solidity": 0.2
             }
            },
            "type": "barpolar"
           }
          ],
          "carpet": [
           {
            "aaxis": {
             "endlinecolor": "#2a3f5f",
             "gridcolor": "white",
             "linecolor": "white",
             "minorgridcolor": "white",
             "startlinecolor": "#2a3f5f"
            },
            "baxis": {
             "endlinecolor": "#2a3f5f",
             "gridcolor": "white",
             "linecolor": "white",
             "minorgridcolor": "white",
             "startlinecolor": "#2a3f5f"
            },
            "type": "carpet"
           }
          ],
          "choropleth": [
           {
            "colorbar": {
             "outlinewidth": 0,
             "ticks": ""
            },
            "type": "choropleth"
           }
          ],
          "contour": [
           {
            "colorbar": {
             "outlinewidth": 0,
             "ticks": ""
            },
            "colorscale": [
             [
              0,
              "#0d0887"
             ],
             [
              0.1111111111111111,
              "#46039f"
             ],
             [
              0.2222222222222222,
              "#7201a8"
             ],
             [
              0.3333333333333333,
              "#9c179e"
             ],
             [
              0.4444444444444444,
              "#bd3786"
             ],
             [
              0.5555555555555556,
              "#d8576b"
             ],
             [
              0.6666666666666666,
              "#ed7953"
             ],
             [
              0.7777777777777778,
              "#fb9f3a"
             ],
             [
              0.8888888888888888,
              "#fdca26"
             ],
             [
              1,
              "#f0f921"
             ]
            ],
            "type": "contour"
           }
          ],
          "contourcarpet": [
           {
            "colorbar": {
             "outlinewidth": 0,
             "ticks": ""
            },
            "type": "contourcarpet"
           }
          ],
          "heatmap": [
           {
            "colorbar": {
             "outlinewidth": 0,
             "ticks": ""
            },
            "colorscale": [
             [
              0,
              "#0d0887"
             ],
             [
              0.1111111111111111,
              "#46039f"
             ],
             [
              0.2222222222222222,
              "#7201a8"
             ],
             [
              0.3333333333333333,
              "#9c179e"
             ],
             [
              0.4444444444444444,
              "#bd3786"
             ],
             [
              0.5555555555555556,
              "#d8576b"
             ],
             [
              0.6666666666666666,
              "#ed7953"
             ],
             [
              0.7777777777777778,
              "#fb9f3a"
             ],
             [
              0.8888888888888888,
              "#fdca26"
             ],
             [
              1,
              "#f0f921"
             ]
            ],
            "type": "heatmap"
           }
          ],
          "heatmapgl": [
           {
            "colorbar": {
             "outlinewidth": 0,
             "ticks": ""
            },
            "colorscale": [
             [
              0,
              "#0d0887"
             ],
             [
              0.1111111111111111,
              "#46039f"
             ],
             [
              0.2222222222222222,
              "#7201a8"
             ],
             [
              0.3333333333333333,
              "#9c179e"
             ],
             [
              0.4444444444444444,
              "#bd3786"
             ],
             [
              0.5555555555555556,
              "#d8576b"
             ],
             [
              0.6666666666666666,
              "#ed7953"
             ],
             [
              0.7777777777777778,
              "#fb9f3a"
             ],
             [
              0.8888888888888888,
              "#fdca26"
             ],
             [
              1,
              "#f0f921"
             ]
            ],
            "type": "heatmapgl"
           }
          ],
          "histogram": [
           {
            "marker": {
             "pattern": {
              "fillmode": "overlay",
              "size": 10,
              "solidity": 0.2
             }
            },
            "type": "histogram"
           }
          ],
          "histogram2d": [
           {
            "colorbar": {
             "outlinewidth": 0,
             "ticks": ""
            },
            "colorscale": [
             [
              0,
              "#0d0887"
             ],
             [
              0.1111111111111111,
              "#46039f"
             ],
             [
              0.2222222222222222,
              "#7201a8"
             ],
             [
              0.3333333333333333,
              "#9c179e"
             ],
             [
              0.4444444444444444,
              "#bd3786"
             ],
             [
              0.5555555555555556,
              "#d8576b"
             ],
             [
              0.6666666666666666,
              "#ed7953"
             ],
             [
              0.7777777777777778,
              "#fb9f3a"
             ],
             [
              0.8888888888888888,
              "#fdca26"
             ],
             [
              1,
              "#f0f921"
             ]
            ],
            "type": "histogram2d"
           }
          ],
          "histogram2dcontour": [
           {
            "colorbar": {
             "outlinewidth": 0,
             "ticks": ""
            },
            "colorscale": [
             [
              0,
              "#0d0887"
             ],
             [
              0.1111111111111111,
              "#46039f"
             ],
             [
              0.2222222222222222,
              "#7201a8"
             ],
             [
              0.3333333333333333,
              "#9c179e"
             ],
             [
              0.4444444444444444,
              "#bd3786"
             ],
             [
              0.5555555555555556,
              "#d8576b"
             ],
             [
              0.6666666666666666,
              "#ed7953"
             ],
             [
              0.7777777777777778,
              "#fb9f3a"
             ],
             [
              0.8888888888888888,
              "#fdca26"
             ],
             [
              1,
              "#f0f921"
             ]
            ],
            "type": "histogram2dcontour"
           }
          ],
          "mesh3d": [
           {
            "colorbar": {
             "outlinewidth": 0,
             "ticks": ""
            },
            "type": "mesh3d"
           }
          ],
          "parcoords": [
           {
            "line": {
             "colorbar": {
              "outlinewidth": 0,
              "ticks": ""
             }
            },
            "type": "parcoords"
           }
          ],
          "pie": [
           {
            "automargin": true,
            "type": "pie"
           }
          ],
          "scatter": [
           {
            "fillpattern": {
             "fillmode": "overlay",
             "size": 10,
             "solidity": 0.2
            },
            "type": "scatter"
           }
          ],
          "scatter3d": [
           {
            "line": {
             "colorbar": {
              "outlinewidth": 0,
              "ticks": ""
             }
            },
            "marker": {
             "colorbar": {
              "outlinewidth": 0,
              "ticks": ""
             }
            },
            "type": "scatter3d"
           }
          ],
          "scattercarpet": [
           {
            "marker": {
             "colorbar": {
              "outlinewidth": 0,
              "ticks": ""
             }
            },
            "type": "scattercarpet"
           }
          ],
          "scattergeo": [
           {
            "marker": {
             "colorbar": {
              "outlinewidth": 0,
              "ticks": ""
             }
            },
            "type": "scattergeo"
           }
          ],
          "scattergl": [
           {
            "marker": {
             "colorbar": {
              "outlinewidth": 0,
              "ticks": ""
             }
            },
            "type": "scattergl"
           }
          ],
          "scattermapbox": [
           {
            "marker": {
             "colorbar": {
              "outlinewidth": 0,
              "ticks": ""
             }
            },
            "type": "scattermapbox"
           }
          ],
          "scatterpolar": [
           {
            "marker": {
             "colorbar": {
              "outlinewidth": 0,
              "ticks": ""
             }
            },
            "type": "scatterpolar"
           }
          ],
          "scatterpolargl": [
           {
            "marker": {
             "colorbar": {
              "outlinewidth": 0,
              "ticks": ""
             }
            },
            "type": "scatterpolargl"
           }
          ],
          "scatterternary": [
           {
            "marker": {
             "colorbar": {
              "outlinewidth": 0,
              "ticks": ""
             }
            },
            "type": "scatterternary"
           }
          ],
          "surface": [
           {
            "colorbar": {
             "outlinewidth": 0,
             "ticks": ""
            },
            "colorscale": [
             [
              0,
              "#0d0887"
             ],
             [
              0.1111111111111111,
              "#46039f"
             ],
             [
              0.2222222222222222,
              "#7201a8"
             ],
             [
              0.3333333333333333,
              "#9c179e"
             ],
             [
              0.4444444444444444,
              "#bd3786"
             ],
             [
              0.5555555555555556,
              "#d8576b"
             ],
             [
              0.6666666666666666,
              "#ed7953"
             ],
             [
              0.7777777777777778,
              "#fb9f3a"
             ],
             [
              0.8888888888888888,
              "#fdca26"
             ],
             [
              1,
              "#f0f921"
             ]
            ],
            "type": "surface"
           }
          ],
          "table": [
           {
            "cells": {
             "fill": {
              "color": "#EBF0F8"
             },
             "line": {
              "color": "white"
             }
            },
            "header": {
             "fill": {
              "color": "#C8D4E3"
             },
             "line": {
              "color": "white"
             }
            },
            "type": "table"
           }
          ]
         },
         "layout": {
          "annotationdefaults": {
           "arrowcolor": "#2a3f5f",
           "arrowhead": 0,
           "arrowwidth": 1
          },
          "autotypenumbers": "strict",
          "coloraxis": {
           "colorbar": {
            "outlinewidth": 0,
            "ticks": ""
           }
          },
          "colorscale": {
           "diverging": [
            [
             0,
             "#8e0152"
            ],
            [
             0.1,
             "#c51b7d"
            ],
            [
             0.2,
             "#de77ae"
            ],
            [
             0.3,
             "#f1b6da"
            ],
            [
             0.4,
             "#fde0ef"
            ],
            [
             0.5,
             "#f7f7f7"
            ],
            [
             0.6,
             "#e6f5d0"
            ],
            [
             0.7,
             "#b8e186"
            ],
            [
             0.8,
             "#7fbc41"
            ],
            [
             0.9,
             "#4d9221"
            ],
            [
             1,
             "#276419"
            ]
           ],
           "sequential": [
            [
             0,
             "#0d0887"
            ],
            [
             0.1111111111111111,
             "#46039f"
            ],
            [
             0.2222222222222222,
             "#7201a8"
            ],
            [
             0.3333333333333333,
             "#9c179e"
            ],
            [
             0.4444444444444444,
             "#bd3786"
            ],
            [
             0.5555555555555556,
             "#d8576b"
            ],
            [
             0.6666666666666666,
             "#ed7953"
            ],
            [
             0.7777777777777778,
             "#fb9f3a"
            ],
            [
             0.8888888888888888,
             "#fdca26"
            ],
            [
             1,
             "#f0f921"
            ]
           ],
           "sequentialminus": [
            [
             0,
             "#0d0887"
            ],
            [
             0.1111111111111111,
             "#46039f"
            ],
            [
             0.2222222222222222,
             "#7201a8"
            ],
            [
             0.3333333333333333,
             "#9c179e"
            ],
            [
             0.4444444444444444,
             "#bd3786"
            ],
            [
             0.5555555555555556,
             "#d8576b"
            ],
            [
             0.6666666666666666,
             "#ed7953"
            ],
            [
             0.7777777777777778,
             "#fb9f3a"
            ],
            [
             0.8888888888888888,
             "#fdca26"
            ],
            [
             1,
             "#f0f921"
            ]
           ]
          },
          "colorway": [
           "#636efa",
           "#EF553B",
           "#00cc96",
           "#ab63fa",
           "#FFA15A",
           "#19d3f3",
           "#FF6692",
           "#B6E880",
           "#FF97FF",
           "#FECB52"
          ],
          "font": {
           "color": "#2a3f5f"
          },
          "geo": {
           "bgcolor": "white",
           "lakecolor": "white",
           "landcolor": "#E5ECF6",
           "showlakes": true,
           "showland": true,
           "subunitcolor": "white"
          },
          "hoverlabel": {
           "align": "left"
          },
          "hovermode": "closest",
          "mapbox": {
           "style": "light"
          },
          "paper_bgcolor": "white",
          "plot_bgcolor": "#E5ECF6",
          "polar": {
           "angularaxis": {
            "gridcolor": "white",
            "linecolor": "white",
            "ticks": ""
           },
           "bgcolor": "#E5ECF6",
           "radialaxis": {
            "gridcolor": "white",
            "linecolor": "white",
            "ticks": ""
           }
          },
          "scene": {
           "xaxis": {
            "backgroundcolor": "#E5ECF6",
            "gridcolor": "white",
            "gridwidth": 2,
            "linecolor": "white",
            "showbackground": true,
            "ticks": "",
            "zerolinecolor": "white"
           },
           "yaxis": {
            "backgroundcolor": "#E5ECF6",
            "gridcolor": "white",
            "gridwidth": 2,
            "linecolor": "white",
            "showbackground": true,
            "ticks": "",
            "zerolinecolor": "white"
           },
           "zaxis": {
            "backgroundcolor": "#E5ECF6",
            "gridcolor": "white",
            "gridwidth": 2,
            "linecolor": "white",
            "showbackground": true,
            "ticks": "",
            "zerolinecolor": "white"
           }
          },
          "shapedefaults": {
           "line": {
            "color": "#2a3f5f"
           }
          },
          "ternary": {
           "aaxis": {
            "gridcolor": "white",
            "linecolor": "white",
            "ticks": ""
           },
           "baxis": {
            "gridcolor": "white",
            "linecolor": "white",
            "ticks": ""
           },
           "bgcolor": "#E5ECF6",
           "caxis": {
            "gridcolor": "white",
            "linecolor": "white",
            "ticks": ""
           }
          },
          "title": {
           "x": 0.05
          },
          "xaxis": {
           "automargin": true,
           "gridcolor": "white",
           "linecolor": "white",
           "ticks": "",
           "title": {
            "standoff": 15
           },
           "zerolinecolor": "white",
           "zerolinewidth": 2
          },
          "yaxis": {
           "automargin": true,
           "gridcolor": "white",
           "linecolor": "white",
           "ticks": "",
           "title": {
            "standoff": 15
           },
           "zerolinecolor": "white",
           "zerolinewidth": 2
          }
         }
        },
        "title": {
         "text": "Danceability vs. Valence"
        },
        "xaxis": {
         "title": {
          "text": "Valence"
         }
        },
        "yaxis": {
         "title": {
          "text": "Danceability"
         }
        }
       }
      },
      "text/html": [
       "<div>                            <div id=\"ff263fdc-9c16-4b90-927d-dbcac1dccc1b\" class=\"plotly-graph-div\" style=\"height:525px; width:100%;\"></div>            <script type=\"text/javascript\">                require([\"plotly\"], function(Plotly) {                    window.PLOTLYENV=window.PLOTLYENV || {};                                    if (document.getElementById(\"ff263fdc-9c16-4b90-927d-dbcac1dccc1b\")) {                    Plotly.newPlot(                        \"ff263fdc-9c16-4b90-927d-dbcac1dccc1b\",                        [{\"hovertext\":[\"Name: Blinding Lights<br>Danceability: 0.334<br>Valence: 0.514\",\"Name: Shape of You<br>Danceability: 0.931<br>Valence: 0.825\",\"Name: Dance Monkey<br>Danceability: 0.513<br>Valence: 0.824\",\"Name: Someone You Loved<br>Danceability: 0.446<br>Valence: 0.501\",\"Name: Rockstar<br>Danceability: 0.129<br>Valence: 0.585\",\"Name: Sunflower<br>Danceability: 0.913<br>Valence: 0.76\",\"Name: One Dance<br>Danceability: 0.37<br>Valence: 0.792\",\"Name: Closer<br>Danceability: 0.661<br>Valence: 0.748\",\"Name: Stay<br>Danceability: 0.125<br>Valence: 0.621\",\"Name: Believer<br>Danceability: 0.666<br>Valence: 0.776\",\"Name: Se\\u00f1orita<br>Danceability: 0.749<br>Valence: 0.759\",\"Name: Perfect<br>Danceability: 0.6<br>Valence: 0.634\",\"Name: Heat Waves<br>Danceability: 0.531<br>Valence: 0.761\",\"Name: Say You Won't Let Go<br>Danceability: 0.494<br>Valence: 0.358\",\"Name: Starboy<br>Danceability: 0.486<br>Valence: 0.679\",\"Name: Bad Guy<br>Danceability: 0.562<br>Valence: 0.701\",\"Name: Thinking Out Loud<br>Danceability: 0.591<br>Valence: 0.781\",\"Name: Lucid Dreams<br>Danceability: 0.218<br>Valence: 0.511\",\"Name: Don't Start Now<br>Danceability: 0.707<br>Valence: 0.498\",\"Name: Lovely<br>Danceability: 0.12<br>Valence: 0.351\",\"Name: Watermelon Sugar<br>Danceability: 0.557<br>Valence: 0.548\",\"Name: God's Plan<br>Danceability: 0.357<br>Valence: 0.754\",\"Name: Photograph<br>Danceability: 0.22<br>Valence: 0.718\",\"Name: Bohemian Rhapsody<br>Danceability: 0.228<br>Valence: 0.392\",\"Name: Something Just Like This<br>Danceability: 0.446<br>Valence: 0.617\",\"Name: Sweater Weather<br>Danceability: 0.398<br>Valence: 0.612\",\"Name: Shallow<br>Danceability: 0.323<br>Valence: 0.572\",\"Name: As It Was<br>Danceability: 0.662<br>Valence: 0.52\",\"Name: Love Yourself<br>Danceability: 0.515<br>Valence: 0.609\",\"Name: Circles<br>Danceability: 0.553<br>Valence: 0.695\",\"Name: Sad!<br>Danceability: 0.473<br>Valence: 0.74\",\"Name: Take Me to Church<br>Danceability: 0.437<br>Valence: 0.566\",\"Name: All of Me<br>Danceability: 0.331<br>Valence: 0.422\",\"Name: Thunder<br>Danceability: 0.259<br>Valence: 0.502\",\"Name: 7 Rings<br>Danceability: 0.327<br>Valence: 0.778\",\"Name: Goosebumps<br>Danceability: 0.43<br>Valence: 0.841\",\"Name: Jocelyn Flores<br>Danceability: 0.437<br>Valence: 0.872\",\"Name: Havana<br>Danceability: 0.394<br>Valence: 0.765\",\"Name: Stressed Out<br>Danceability: 0.648<br>Valence: 0.734\",\"Name: XO Tour Llif3<br>Danceability: 0.401<br>Valence: 0.732\",\"Name: Counting Stars<br>Danceability: 0.477<br>Valence: 0.664\",\"Name: New Rules<br>Danceability: 0.608<br>Valence: 0.762\",\"Name: Wake Me Up<br>Danceability: 0.643<br>Valence: 0.532\",\"Name: Riptide<br>Danceability: 0.51<br>Valence: 0.484\",\"Name: Happier<br>Danceability: 0.472<br>Valence: 0.733\",\"Name: Humble<br>Danceability: 0.421<br>Valence: 0.908\",\"Name: Let Her Go<br>Danceability: 0.243<br>Valence: 0.479\",\"Name: The Hills<br>Danceability: 0.137<br>Valence: 0.585\",\"Name: Sicko Mode<br>Danceability: 0.446<br>Valence: 0.834\",\"Name: Can't Hold Us<br>Danceability: 0.219<br>Valence: 0.556\",\"Name: Good 4 U<br>Danceability: 0.688<br>Valence: 0.563\",\"Name: Sorry<br>Danceability: 0.492<br>Valence: 0.73\",\"Name: One Kiss<br>Danceability: 0.592<br>Valence: 0.791\",\"Name: Let Me Love You<br>Danceability: 0.163<br>Valence: 0.649\",\"Name: Drivers License<br>Danceability: 0.137<br>Valence: 0.561\",\"Name: Lean On<br>Danceability: 0.274<br>Valence: 0.723\",\"Name: Treat You Better<br>Danceability: 0.747<br>Valence: 0.444\",\"Name: Roses (Imanbek remix)<br>Danceability: 0.863<br>Valence: 0.769\",\"Name: Better Now<br>Danceability: 0.341<br>Valence: 0.68\",\"Name: Stay with Me<br>Danceability: 0.184<br>Valence: 0.418\",\"Name: Congratulations<br>Danceability: 0.492<br>Valence: 0.63\",\"Name: Faded<br>Danceability: 0.159<br>Valence: 0.468\",\"Name: Without Me<br>Danceability: 0.662<br>Valence: 0.908\",\"Name: Industry Baby<br>Danceability: 0.894<br>Valence: 0.736\",\"Name: Lose Yourself<br>Danceability: 0.0612<br>Valence: 0.692\",\"Name: Memories<br>Danceability: 0.556<br>Valence: 0.34\",\"Name: Demons<br>Danceability: 0.428<br>Valence: 0.505\",\"Name: Mr. Brightside<br>Danceability: 0.236<br>Valence: 0.352\",\"Name: Uptown Funk<br>Danceability: 0.928<br>Valence: 0.856\",\"Name: Too Good at Goodbyes<br>Danceability: 0.476<br>Valence: 0.681\",\"Name: Levitating<br>Danceability: 0.915<br>Valence: 0.702\",\"Name: I Took a Pill in Ibiza\\u00a0(Seeb\\u00a0Remix)<br>Danceability: 0.71<br>Valence: 0.664\",\"Name: Don't Let Me Down<br>Danceability: 0.674<br>Valence: 0.455\",\"Name: Thank U, Next<br>Danceability: 0.412<br>Valence: 0.717\",\"Name: I Don't Care<br>Danceability: 0.843<br>Valence: 0.798\",\"Name: Dakiti<br>Danceability: 0.145<br>Valence: 0.731\",\"Name: Montero (Call Me by Your Name)<br>Danceability: 0.71<br>Valence: 0.593\",\"Name: Mood<br>Danceability: 0.532<br>Valence: 0.768\",\"Name: Do I Wanna Know?<br>Danceability: 0.405<br>Valence: 0.548\",\"Name: Unforgettable<br>Danceability: 0.733<br>Valence: 0.726\",\"Name: Dynamite<br>Danceability: 0.816<br>Valence: 0.751\",\"Name: Despacito (remix)<br>Danceability: 0.816<br>Valence: 0.653\",\"Name: Moonlight<br>Danceability: 0.711<br>Valence: 0.921\",\"Name: Wonderwall<br>Danceability: 0.434<br>Valence: 0.375\",\"Name: No Role Modelz<br>Danceability: 0.494<br>Valence: 0.69\",\"Name: That's What I Like<br>Danceability: 0.86<br>Valence: 0.853\",\"Name: The Box<br>Danceability: 0.642<br>Valence: 0.896\",\"Name: 'Till I Collapse<br>Danceability: 0.1<br>Valence: 0.548\",\"Name: There's Nothing Holdin' Me Back<br>Danceability: 0.969<br>Valence: 0.866\",\"Name: Stitches<br>Danceability: 0.755<br>Valence: 0.752\",\"Name: Cheap Thrills<br>Danceability: 0.732<br>Valence: 0.628\",\"Name: Smells Like Teen Spirit<br>Danceability: 0.72<br>Valence: 0.502\",\"Name: See You Again<br>Danceability: 0.62<br>Valence: 0.558\",\"Name: I'm Yours<br>Danceability: 0.505<br>Valence: 0.646\",\"Name: I Like Me Better<br>Danceability: 0.419<br>Valence: 0.753\",\"Name: 7 Years<br>Danceability: 0.34<br>Valence: 0.765\",\"Name: Yellow<br>Danceability: 0.285<br>Valence: 0.429\",\"Name: Sugar<br>Danceability: 0.557<br>Valence: 0.548\",\"Name: Despacito<br>Danceability: 0.839<br>Valence: 0.655\",\"Name: Don't Stop Me Now<br>Danceability: 0.419<br>Valence: 0.471\"],\"marker\":{\"color\":\"blue\"},\"mode\":\"markers\",\"x\":[0.334,0.931,0.513,0.446,0.129,0.913,0.37,0.661,0.125,0.666,0.749,0.6,0.531,0.494,0.486,0.562,0.591,0.218,0.707,0.12,0.557,0.357,0.22,0.228,0.446,0.398,0.323,0.662,0.515,0.553,0.473,0.437,0.331,0.259,0.327,0.43,0.437,0.394,0.648,0.401,0.477,0.608,0.643,0.51,0.472,0.421,0.243,0.137,0.446,0.219,0.688,0.492,0.592,0.163,0.137,0.274,0.747,0.863,0.341,0.184,0.492,0.159,0.662,0.894,0.0612,0.556,0.428,0.236,0.928,0.476,0.915,0.71,0.674,0.412,0.843,0.145,0.71,0.532,0.405,0.733,0.816,0.816,0.711,0.434,0.494,0.86,0.642,0.1,0.969,0.755,0.732,0.72,0.62,0.505,0.419,0.34,0.285,0.557,0.839,0.419],\"y\":[171.005,95.977,98.027,109.891,159.801,89.911,103.967,95.01,111.893,124.949,116.967,146.053,80.87,85.043,186.003,135.128,78.997,83.903,78.775,115.284,95.39,77.169,108.033,143.883,103.019,124.053,95.799,173.93,100.418,120.042,75.023,128.945,119.93,133.52,140.048,130.049,134.021,104.988,169.977,155.096,122.017,116.078,124.08,101.654,100.964,150.011,74.897,113.003,155.008,128.044,166.928,141.961,123.994,99.988,143.875,98.007,82.695,121.955,145.038,84.094,123.146,179.642,112.238,149.995,171.374,112.969,89.938,148.033,114.988,91.873,102.977,101.969,163.347,106.966,101.956,109.928,178.781,141.059,85.03,97.985,119.975,178.085,128.009,174.323,100.028,134.066,116.971,171.447,121.998,149.789,89.976,116.761,78.558,94.875,91.972,119.992,173.372,95.39,177.928,112.603],\"type\":\"scatter\"}],                        {\"template\":{\"data\":{\"histogram2dcontour\":[{\"type\":\"histogram2dcontour\",\"colorbar\":{\"outlinewidth\":0,\"ticks\":\"\"},\"colorscale\":[[0.0,\"#0d0887\"],[0.1111111111111111,\"#46039f\"],[0.2222222222222222,\"#7201a8\"],[0.3333333333333333,\"#9c179e\"],[0.4444444444444444,\"#bd3786\"],[0.5555555555555556,\"#d8576b\"],[0.6666666666666666,\"#ed7953\"],[0.7777777777777778,\"#fb9f3a\"],[0.8888888888888888,\"#fdca26\"],[1.0,\"#f0f921\"]]}],\"choropleth\":[{\"type\":\"choropleth\",\"colorbar\":{\"outlinewidth\":0,\"ticks\":\"\"}}],\"histogram2d\":[{\"type\":\"histogram2d\",\"colorbar\":{\"outlinewidth\":0,\"ticks\":\"\"},\"colorscale\":[[0.0,\"#0d0887\"],[0.1111111111111111,\"#46039f\"],[0.2222222222222222,\"#7201a8\"],[0.3333333333333333,\"#9c179e\"],[0.4444444444444444,\"#bd3786\"],[0.5555555555555556,\"#d8576b\"],[0.6666666666666666,\"#ed7953\"],[0.7777777777777778,\"#fb9f3a\"],[0.8888888888888888,\"#fdca26\"],[1.0,\"#f0f921\"]]}],\"heatmap\":[{\"type\":\"heatmap\",\"colorbar\":{\"outlinewidth\":0,\"ticks\":\"\"},\"colorscale\":[[0.0,\"#0d0887\"],[0.1111111111111111,\"#46039f\"],[0.2222222222222222,\"#7201a8\"],[0.3333333333333333,\"#9c179e\"],[0.4444444444444444,\"#bd3786\"],[0.5555555555555556,\"#d8576b\"],[0.6666666666666666,\"#ed7953\"],[0.7777777777777778,\"#fb9f3a\"],[0.8888888888888888,\"#fdca26\"],[1.0,\"#f0f921\"]]}],\"heatmapgl\":[{\"type\":\"heatmapgl\",\"colorbar\":{\"outlinewidth\":0,\"ticks\":\"\"},\"colorscale\":[[0.0,\"#0d0887\"],[0.1111111111111111,\"#46039f\"],[0.2222222222222222,\"#7201a8\"],[0.3333333333333333,\"#9c179e\"],[0.4444444444444444,\"#bd3786\"],[0.5555555555555556,\"#d8576b\"],[0.6666666666666666,\"#ed7953\"],[0.7777777777777778,\"#fb9f3a\"],[0.8888888888888888,\"#fdca26\"],[1.0,\"#f0f921\"]]}],\"contourcarpet\":[{\"type\":\"contourcarpet\",\"colorbar\":{\"outlinewidth\":0,\"ticks\":\"\"}}],\"contour\":[{\"type\":\"contour\",\"colorbar\":{\"outlinewidth\":0,\"ticks\":\"\"},\"colorscale\":[[0.0,\"#0d0887\"],[0.1111111111111111,\"#46039f\"],[0.2222222222222222,\"#7201a8\"],[0.3333333333333333,\"#9c179e\"],[0.4444444444444444,\"#bd3786\"],[0.5555555555555556,\"#d8576b\"],[0.6666666666666666,\"#ed7953\"],[0.7777777777777778,\"#fb9f3a\"],[0.8888888888888888,\"#fdca26\"],[1.0,\"#f0f921\"]]}],\"surface\":[{\"type\":\"surface\",\"colorbar\":{\"outlinewidth\":0,\"ticks\":\"\"},\"colorscale\":[[0.0,\"#0d0887\"],[0.1111111111111111,\"#46039f\"],[0.2222222222222222,\"#7201a8\"],[0.3333333333333333,\"#9c179e\"],[0.4444444444444444,\"#bd3786\"],[0.5555555555555556,\"#d8576b\"],[0.6666666666666666,\"#ed7953\"],[0.7777777777777778,\"#fb9f3a\"],[0.8888888888888888,\"#fdca26\"],[1.0,\"#f0f921\"]]}],\"mesh3d\":[{\"type\":\"mesh3d\",\"colorbar\":{\"outlinewidth\":0,\"ticks\":\"\"}}],\"scatter\":[{\"fillpattern\":{\"fillmode\":\"overlay\",\"size\":10,\"solidity\":0.2},\"type\":\"scatter\"}],\"parcoords\":[{\"type\":\"parcoords\",\"line\":{\"colorbar\":{\"outlinewidth\":0,\"ticks\":\"\"}}}],\"scatterpolargl\":[{\"type\":\"scatterpolargl\",\"marker\":{\"colorbar\":{\"outlinewidth\":0,\"ticks\":\"\"}}}],\"bar\":[{\"error_x\":{\"color\":\"#2a3f5f\"},\"error_y\":{\"color\":\"#2a3f5f\"},\"marker\":{\"line\":{\"color\":\"#E5ECF6\",\"width\":0.5},\"pattern\":{\"fillmode\":\"overlay\",\"size\":10,\"solidity\":0.2}},\"type\":\"bar\"}],\"scattergeo\":[{\"type\":\"scattergeo\",\"marker\":{\"colorbar\":{\"outlinewidth\":0,\"ticks\":\"\"}}}],\"scatterpolar\":[{\"type\":\"scatterpolar\",\"marker\":{\"colorbar\":{\"outlinewidth\":0,\"ticks\":\"\"}}}],\"histogram\":[{\"marker\":{\"pattern\":{\"fillmode\":\"overlay\",\"size\":10,\"solidity\":0.2}},\"type\":\"histogram\"}],\"scattergl\":[{\"type\":\"scattergl\",\"marker\":{\"colorbar\":{\"outlinewidth\":0,\"ticks\":\"\"}}}],\"scatter3d\":[{\"type\":\"scatter3d\",\"line\":{\"colorbar\":{\"outlinewidth\":0,\"ticks\":\"\"}},\"marker\":{\"colorbar\":{\"outlinewidth\":0,\"ticks\":\"\"}}}],\"scattermapbox\":[{\"type\":\"scattermapbox\",\"marker\":{\"colorbar\":{\"outlinewidth\":0,\"ticks\":\"\"}}}],\"scatterternary\":[{\"type\":\"scatterternary\",\"marker\":{\"colorbar\":{\"outlinewidth\":0,\"ticks\":\"\"}}}],\"scattercarpet\":[{\"type\":\"scattercarpet\",\"marker\":{\"colorbar\":{\"outlinewidth\":0,\"ticks\":\"\"}}}],\"carpet\":[{\"aaxis\":{\"endlinecolor\":\"#2a3f5f\",\"gridcolor\":\"white\",\"linecolor\":\"white\",\"minorgridcolor\":\"white\",\"startlinecolor\":\"#2a3f5f\"},\"baxis\":{\"endlinecolor\":\"#2a3f5f\",\"gridcolor\":\"white\",\"linecolor\":\"white\",\"minorgridcolor\":\"white\",\"startlinecolor\":\"#2a3f5f\"},\"type\":\"carpet\"}],\"table\":[{\"cells\":{\"fill\":{\"color\":\"#EBF0F8\"},\"line\":{\"color\":\"white\"}},\"header\":{\"fill\":{\"color\":\"#C8D4E3\"},\"line\":{\"color\":\"white\"}},\"type\":\"table\"}],\"barpolar\":[{\"marker\":{\"line\":{\"color\":\"#E5ECF6\",\"width\":0.5},\"pattern\":{\"fillmode\":\"overlay\",\"size\":10,\"solidity\":0.2}},\"type\":\"barpolar\"}],\"pie\":[{\"automargin\":true,\"type\":\"pie\"}]},\"layout\":{\"autotypenumbers\":\"strict\",\"colorway\":[\"#636efa\",\"#EF553B\",\"#00cc96\",\"#ab63fa\",\"#FFA15A\",\"#19d3f3\",\"#FF6692\",\"#B6E880\",\"#FF97FF\",\"#FECB52\"],\"font\":{\"color\":\"#2a3f5f\"},\"hovermode\":\"closest\",\"hoverlabel\":{\"align\":\"left\"},\"paper_bgcolor\":\"white\",\"plot_bgcolor\":\"#E5ECF6\",\"polar\":{\"bgcolor\":\"#E5ECF6\",\"angularaxis\":{\"gridcolor\":\"white\",\"linecolor\":\"white\",\"ticks\":\"\"},\"radialaxis\":{\"gridcolor\":\"white\",\"linecolor\":\"white\",\"ticks\":\"\"}},\"ternary\":{\"bgcolor\":\"#E5ECF6\",\"aaxis\":{\"gridcolor\":\"white\",\"linecolor\":\"white\",\"ticks\":\"\"},\"baxis\":{\"gridcolor\":\"white\",\"linecolor\":\"white\",\"ticks\":\"\"},\"caxis\":{\"gridcolor\":\"white\",\"linecolor\":\"white\",\"ticks\":\"\"}},\"coloraxis\":{\"colorbar\":{\"outlinewidth\":0,\"ticks\":\"\"}},\"colorscale\":{\"sequential\":[[0.0,\"#0d0887\"],[0.1111111111111111,\"#46039f\"],[0.2222222222222222,\"#7201a8\"],[0.3333333333333333,\"#9c179e\"],[0.4444444444444444,\"#bd3786\"],[0.5555555555555556,\"#d8576b\"],[0.6666666666666666,\"#ed7953\"],[0.7777777777777778,\"#fb9f3a\"],[0.8888888888888888,\"#fdca26\"],[1.0,\"#f0f921\"]],\"sequentialminus\":[[0.0,\"#0d0887\"],[0.1111111111111111,\"#46039f\"],[0.2222222222222222,\"#7201a8\"],[0.3333333333333333,\"#9c179e\"],[0.4444444444444444,\"#bd3786\"],[0.5555555555555556,\"#d8576b\"],[0.6666666666666666,\"#ed7953\"],[0.7777777777777778,\"#fb9f3a\"],[0.8888888888888888,\"#fdca26\"],[1.0,\"#f0f921\"]],\"diverging\":[[0,\"#8e0152\"],[0.1,\"#c51b7d\"],[0.2,\"#de77ae\"],[0.3,\"#f1b6da\"],[0.4,\"#fde0ef\"],[0.5,\"#f7f7f7\"],[0.6,\"#e6f5d0\"],[0.7,\"#b8e186\"],[0.8,\"#7fbc41\"],[0.9,\"#4d9221\"],[1,\"#276419\"]]},\"xaxis\":{\"gridcolor\":\"white\",\"linecolor\":\"white\",\"ticks\":\"\",\"title\":{\"standoff\":15},\"zerolinecolor\":\"white\",\"automargin\":true,\"zerolinewidth\":2},\"yaxis\":{\"gridcolor\":\"white\",\"linecolor\":\"white\",\"ticks\":\"\",\"title\":{\"standoff\":15},\"zerolinecolor\":\"white\",\"automargin\":true,\"zerolinewidth\":2},\"scene\":{\"xaxis\":{\"backgroundcolor\":\"#E5ECF6\",\"gridcolor\":\"white\",\"linecolor\":\"white\",\"showbackground\":true,\"ticks\":\"\",\"zerolinecolor\":\"white\",\"gridwidth\":2},\"yaxis\":{\"backgroundcolor\":\"#E5ECF6\",\"gridcolor\":\"white\",\"linecolor\":\"white\",\"showbackground\":true,\"ticks\":\"\",\"zerolinecolor\":\"white\",\"gridwidth\":2},\"zaxis\":{\"backgroundcolor\":\"#E5ECF6\",\"gridcolor\":\"white\",\"linecolor\":\"white\",\"showbackground\":true,\"ticks\":\"\",\"zerolinecolor\":\"white\",\"gridwidth\":2}},\"shapedefaults\":{\"line\":{\"color\":\"#2a3f5f\"}},\"annotationdefaults\":{\"arrowcolor\":\"#2a3f5f\",\"arrowhead\":0,\"arrowwidth\":1},\"geo\":{\"bgcolor\":\"white\",\"landcolor\":\"#E5ECF6\",\"subunitcolor\":\"white\",\"showland\":true,\"showlakes\":true,\"lakecolor\":\"white\"},\"title\":{\"x\":0.05},\"mapbox\":{\"style\":\"light\"}}},\"title\":{\"text\":\"Danceability vs. Valence\"},\"xaxis\":{\"title\":{\"text\":\"Valence\"}},\"yaxis\":{\"title\":{\"text\":\"Danceability\"}}},                        {\"responsive\": true}                    ).then(function(){\n",
       "                            \n",
       "var gd = document.getElementById('ff263fdc-9c16-4b90-927d-dbcac1dccc1b');\n",
       "var x = new MutationObserver(function (mutations, observer) {{\n",
       "        var display = window.getComputedStyle(gd).display;\n",
       "        if (!display || display === 'none') {{\n",
       "            console.log([gd, 'removed!']);\n",
       "            Plotly.purge(gd);\n",
       "            observer.disconnect();\n",
       "        }}\n",
       "}});\n",
       "\n",
       "// Listen for the removal of the full notebook cells\n",
       "var notebookContainer = gd.closest('#notebook-container');\n",
       "if (notebookContainer) {{\n",
       "    x.observe(notebookContainer, {childList: true});\n",
       "}}\n",
       "\n",
       "// Listen for the clearing of the current output cell\n",
       "var outputEl = gd.closest('.output');\n",
       "if (outputEl) {{\n",
       "    x.observe(outputEl, {childList: true});\n",
       "}}\n",
       "\n",
       "                        })                };                });            </script>        </div>"
      ]
     },
     "metadata": {},
     "output_type": "display_data"
    }
   ],
   "source": [
    "features_df = pd.read_csv(\"C:\\\\Users\\\\deeee\\\\Downloads\\\\Features_dp.csv\")\n",
    "\n",
    "fig = go.Figure(data=go.Scatter(x=features_df[\"valence\"], y=features_df[\"tempo\"],\n",
    "mode='markers',\n",
    "marker=dict(color='blue'),\n",
    "hovertext=[f\"Name: {n}<br>Danceability: {e}<br>Valence: {s}\"\n",
    "for n, e, s in zip(features_df['name'], features_df['valence'], features_df['danceability'])]\n",
    "))\n",
    "\n",
    "fig.update_layout(title='Danceability vs. Valence',\n",
    "xaxis_title='Valence', yaxis_title='Danceability')\n",
    "\n",
    "fig.show()"
   ]
  },
  {
   "cell_type": "code",
   "execution_count": 345,
   "metadata": {},
   "outputs": [
    {
     "data": {
      "application/vnd.plotly.v1+json": {
       "config": {
        "plotlyServerURL": "https://plot.ly"
       },
       "data": [
        {
         "hovertext": [
          "Name: Blinding Lights<br>tempo: 171.005<br>danceability: 0.514",
          "Name: Shape of You<br>tempo: 95.977<br>danceability: 0.825",
          "Name: Dance Monkey<br>tempo: 98.027<br>danceability: 0.824",
          "Name: Someone You Loved<br>tempo: 109.891<br>danceability: 0.501",
          "Name: Rockstar<br>tempo: 159.801<br>danceability: 0.585",
          "Name: Sunflower<br>tempo: 89.911<br>danceability: 0.76",
          "Name: One Dance<br>tempo: 103.967<br>danceability: 0.792",
          "Name: Closer<br>tempo: 95.01<br>danceability: 0.748",
          "Name: Stay<br>tempo: 111.893<br>danceability: 0.621",
          "Name: Believer<br>tempo: 124.949<br>danceability: 0.776",
          "Name: Señorita<br>tempo: 116.967<br>danceability: 0.759",
          "Name: Perfect<br>tempo: 146.053<br>danceability: 0.634",
          "Name: Heat Waves<br>tempo: 80.87<br>danceability: 0.761",
          "Name: Say You Won't Let Go<br>tempo: 85.043<br>danceability: 0.358",
          "Name: Starboy<br>tempo: 186.003<br>danceability: 0.679",
          "Name: Bad Guy<br>tempo: 135.128<br>danceability: 0.701",
          "Name: Thinking Out Loud<br>tempo: 78.997<br>danceability: 0.781",
          "Name: Lucid Dreams<br>tempo: 83.903<br>danceability: 0.511",
          "Name: Don't Start Now<br>tempo: 78.775<br>danceability: 0.498",
          "Name: Lovely<br>tempo: 115.284<br>danceability: 0.351",
          "Name: Watermelon Sugar<br>tempo: 95.39<br>danceability: 0.548",
          "Name: God's Plan<br>tempo: 77.169<br>danceability: 0.754",
          "Name: Photograph<br>tempo: 108.033<br>danceability: 0.718",
          "Name: Bohemian Rhapsody<br>tempo: 143.883<br>danceability: 0.392",
          "Name: Something Just Like This<br>tempo: 103.019<br>danceability: 0.617",
          "Name: Sweater Weather<br>tempo: 124.053<br>danceability: 0.612",
          "Name: Shallow<br>tempo: 95.799<br>danceability: 0.572",
          "Name: As It Was<br>tempo: 173.93<br>danceability: 0.52",
          "Name: Love Yourself<br>tempo: 100.418<br>danceability: 0.609",
          "Name: Circles<br>tempo: 120.042<br>danceability: 0.695",
          "Name: Sad!<br>tempo: 75.023<br>danceability: 0.74",
          "Name: Take Me to Church<br>tempo: 128.945<br>danceability: 0.566",
          "Name: All of Me<br>tempo: 119.93<br>danceability: 0.422",
          "Name: Thunder<br>tempo: 133.52<br>danceability: 0.502",
          "Name: 7 Rings<br>tempo: 140.048<br>danceability: 0.778",
          "Name: Goosebumps<br>tempo: 130.049<br>danceability: 0.841",
          "Name: Jocelyn Flores<br>tempo: 134.021<br>danceability: 0.872",
          "Name: Havana<br>tempo: 104.988<br>danceability: 0.765",
          "Name: Stressed Out<br>tempo: 169.977<br>danceability: 0.734",
          "Name: XO Tour Llif3<br>tempo: 155.096<br>danceability: 0.732",
          "Name: Counting Stars<br>tempo: 122.017<br>danceability: 0.664",
          "Name: New Rules<br>tempo: 116.078<br>danceability: 0.762",
          "Name: Wake Me Up<br>tempo: 124.08<br>danceability: 0.532",
          "Name: Riptide<br>tempo: 101.654<br>danceability: 0.484",
          "Name: Happier<br>tempo: 100.964<br>danceability: 0.733",
          "Name: Humble<br>tempo: 150.011<br>danceability: 0.908",
          "Name: Let Her Go<br>tempo: 74.897<br>danceability: 0.479",
          "Name: The Hills<br>tempo: 113.003<br>danceability: 0.585",
          "Name: Sicko Mode<br>tempo: 155.008<br>danceability: 0.834",
          "Name: Can't Hold Us<br>tempo: 128.044<br>danceability: 0.556",
          "Name: Good 4 U<br>tempo: 166.928<br>danceability: 0.563",
          "Name: Sorry<br>tempo: 141.961<br>danceability: 0.73",
          "Name: One Kiss<br>tempo: 123.994<br>danceability: 0.791",
          "Name: Let Me Love You<br>tempo: 99.988<br>danceability: 0.649",
          "Name: Drivers License<br>tempo: 143.875<br>danceability: 0.561",
          "Name: Lean On<br>tempo: 98.007<br>danceability: 0.723",
          "Name: Treat You Better<br>tempo: 82.695<br>danceability: 0.444",
          "Name: Roses (Imanbek remix)<br>tempo: 121.955<br>danceability: 0.769",
          "Name: Better Now<br>tempo: 145.038<br>danceability: 0.68",
          "Name: Stay with Me<br>tempo: 84.094<br>danceability: 0.418",
          "Name: Congratulations<br>tempo: 123.146<br>danceability: 0.63",
          "Name: Faded<br>tempo: 179.642<br>danceability: 0.468",
          "Name: Without Me<br>tempo: 112.238<br>danceability: 0.908",
          "Name: Industry Baby<br>tempo: 149.995<br>danceability: 0.736",
          "Name: Lose Yourself<br>tempo: 171.374<br>danceability: 0.692",
          "Name: Memories<br>tempo: 112.969<br>danceability: 0.34",
          "Name: Demons<br>tempo: 89.938<br>danceability: 0.505",
          "Name: Mr. Brightside<br>tempo: 148.033<br>danceability: 0.352",
          "Name: Uptown Funk<br>tempo: 114.988<br>danceability: 0.856",
          "Name: Too Good at Goodbyes<br>tempo: 91.873<br>danceability: 0.681",
          "Name: Levitating<br>tempo: 102.977<br>danceability: 0.702",
          "Name: I Took a Pill in Ibiza (Seeb Remix)<br>tempo: 101.969<br>danceability: 0.664",
          "Name: Don't Let Me Down<br>tempo: 163.347<br>danceability: 0.455",
          "Name: Thank U, Next<br>tempo: 106.966<br>danceability: 0.717",
          "Name: I Don't Care<br>tempo: 101.956<br>danceability: 0.798",
          "Name: Dakiti<br>tempo: 109.928<br>danceability: 0.731",
          "Name: Montero (Call Me by Your Name)<br>tempo: 178.781<br>danceability: 0.593",
          "Name: Mood<br>tempo: 141.059<br>danceability: 0.768",
          "Name: Do I Wanna Know?<br>tempo: 85.03<br>danceability: 0.548",
          "Name: Unforgettable<br>tempo: 97.985<br>danceability: 0.726",
          "Name: Dynamite<br>tempo: 119.975<br>danceability: 0.751",
          "Name: Despacito (remix)<br>tempo: 178.085<br>danceability: 0.653",
          "Name: Moonlight<br>tempo: 128.009<br>danceability: 0.921",
          "Name: Wonderwall<br>tempo: 174.323<br>danceability: 0.375",
          "Name: No Role Modelz<br>tempo: 100.028<br>danceability: 0.69",
          "Name: That's What I Like<br>tempo: 134.066<br>danceability: 0.853",
          "Name: The Box<br>tempo: 116.971<br>danceability: 0.896",
          "Name: 'Till I Collapse<br>tempo: 171.447<br>danceability: 0.548",
          "Name: There's Nothing Holdin' Me Back<br>tempo: 121.998<br>danceability: 0.866",
          "Name: Stitches<br>tempo: 149.789<br>danceability: 0.752",
          "Name: Cheap Thrills<br>tempo: 89.976<br>danceability: 0.628",
          "Name: Smells Like Teen Spirit<br>tempo: 116.761<br>danceability: 0.502",
          "Name: See You Again<br>tempo: 78.558<br>danceability: 0.558",
          "Name: I'm Yours<br>tempo: 94.875<br>danceability: 0.646",
          "Name: I Like Me Better<br>tempo: 91.972<br>danceability: 0.753",
          "Name: 7 Years<br>tempo: 119.992<br>danceability: 0.765",
          "Name: Yellow<br>tempo: 173.372<br>danceability: 0.429",
          "Name: Sugar<br>tempo: 95.39<br>danceability: 0.548",
          "Name: Despacito<br>tempo: 177.928<br>danceability: 0.655",
          "Name: Don't Stop Me Now<br>tempo: 112.603<br>danceability: 0.471"
         ],
         "marker": {
          "color": "blue"
         },
         "mode": "markers",
         "type": "scatter",
         "x": [
          171.005,
          95.977,
          98.027,
          109.891,
          159.801,
          89.911,
          103.967,
          95.01,
          111.893,
          124.949,
          116.967,
          146.053,
          80.87,
          85.043,
          186.003,
          135.128,
          78.997,
          83.903,
          78.775,
          115.284,
          95.39,
          77.169,
          108.033,
          143.883,
          103.019,
          124.053,
          95.799,
          173.93,
          100.418,
          120.042,
          75.023,
          128.945,
          119.93,
          133.52,
          140.048,
          130.049,
          134.021,
          104.988,
          169.977,
          155.096,
          122.017,
          116.078,
          124.08,
          101.654,
          100.964,
          150.011,
          74.897,
          113.003,
          155.008,
          128.044,
          166.928,
          141.961,
          123.994,
          99.988,
          143.875,
          98.007,
          82.695,
          121.955,
          145.038,
          84.094,
          123.146,
          179.642,
          112.238,
          149.995,
          171.374,
          112.969,
          89.938,
          148.033,
          114.988,
          91.873,
          102.977,
          101.969,
          163.347,
          106.966,
          101.956,
          109.928,
          178.781,
          141.059,
          85.03,
          97.985,
          119.975,
          178.085,
          128.009,
          174.323,
          100.028,
          134.066,
          116.971,
          171.447,
          121.998,
          149.789,
          89.976,
          116.761,
          78.558,
          94.875,
          91.972,
          119.992,
          173.372,
          95.39,
          177.928,
          112.603
         ],
         "y": [
          0.514,
          0.825,
          0.824,
          0.501,
          0.585,
          0.76,
          0.792,
          0.748,
          0.621,
          0.776,
          0.759,
          0.634,
          0.761,
          0.358,
          0.679,
          0.701,
          0.781,
          0.511,
          0.498,
          0.351,
          0.548,
          0.754,
          0.718,
          0.392,
          0.617,
          0.612,
          0.572,
          0.52,
          0.609,
          0.695,
          0.74,
          0.566,
          0.422,
          0.502,
          0.778,
          0.841,
          0.872,
          0.765,
          0.734,
          0.732,
          0.664,
          0.762,
          0.532,
          0.484,
          0.733,
          0.908,
          0.479,
          0.585,
          0.834,
          0.556,
          0.563,
          0.73,
          0.791,
          0.649,
          0.561,
          0.723,
          0.444,
          0.769,
          0.68,
          0.418,
          0.63,
          0.468,
          0.908,
          0.736,
          0.692,
          0.34,
          0.505,
          0.352,
          0.856,
          0.681,
          0.702,
          0.664,
          0.455,
          0.717,
          0.798,
          0.731,
          0.593,
          0.768,
          0.548,
          0.726,
          0.751,
          0.653,
          0.921,
          0.375,
          0.69,
          0.853,
          0.896,
          0.548,
          0.866,
          0.752,
          0.628,
          0.502,
          0.558,
          0.646,
          0.753,
          0.765,
          0.429,
          0.548,
          0.655,
          0.471
         ]
        }
       ],
       "layout": {
        "template": {
         "data": {
          "bar": [
           {
            "error_x": {
             "color": "#2a3f5f"
            },
            "error_y": {
             "color": "#2a3f5f"
            },
            "marker": {
             "line": {
              "color": "#E5ECF6",
              "width": 0.5
             },
             "pattern": {
              "fillmode": "overlay",
              "size": 10,
              "solidity": 0.2
             }
            },
            "type": "bar"
           }
          ],
          "barpolar": [
           {
            "marker": {
             "line": {
              "color": "#E5ECF6",
              "width": 0.5
             },
             "pattern": {
              "fillmode": "overlay",
              "size": 10,
              "solidity": 0.2
             }
            },
            "type": "barpolar"
           }
          ],
          "carpet": [
           {
            "aaxis": {
             "endlinecolor": "#2a3f5f",
             "gridcolor": "white",
             "linecolor": "white",
             "minorgridcolor": "white",
             "startlinecolor": "#2a3f5f"
            },
            "baxis": {
             "endlinecolor": "#2a3f5f",
             "gridcolor": "white",
             "linecolor": "white",
             "minorgridcolor": "white",
             "startlinecolor": "#2a3f5f"
            },
            "type": "carpet"
           }
          ],
          "choropleth": [
           {
            "colorbar": {
             "outlinewidth": 0,
             "ticks": ""
            },
            "type": "choropleth"
           }
          ],
          "contour": [
           {
            "colorbar": {
             "outlinewidth": 0,
             "ticks": ""
            },
            "colorscale": [
             [
              0,
              "#0d0887"
             ],
             [
              0.1111111111111111,
              "#46039f"
             ],
             [
              0.2222222222222222,
              "#7201a8"
             ],
             [
              0.3333333333333333,
              "#9c179e"
             ],
             [
              0.4444444444444444,
              "#bd3786"
             ],
             [
              0.5555555555555556,
              "#d8576b"
             ],
             [
              0.6666666666666666,
              "#ed7953"
             ],
             [
              0.7777777777777778,
              "#fb9f3a"
             ],
             [
              0.8888888888888888,
              "#fdca26"
             ],
             [
              1,
              "#f0f921"
             ]
            ],
            "type": "contour"
           }
          ],
          "contourcarpet": [
           {
            "colorbar": {
             "outlinewidth": 0,
             "ticks": ""
            },
            "type": "contourcarpet"
           }
          ],
          "heatmap": [
           {
            "colorbar": {
             "outlinewidth": 0,
             "ticks": ""
            },
            "colorscale": [
             [
              0,
              "#0d0887"
             ],
             [
              0.1111111111111111,
              "#46039f"
             ],
             [
              0.2222222222222222,
              "#7201a8"
             ],
             [
              0.3333333333333333,
              "#9c179e"
             ],
             [
              0.4444444444444444,
              "#bd3786"
             ],
             [
              0.5555555555555556,
              "#d8576b"
             ],
             [
              0.6666666666666666,
              "#ed7953"
             ],
             [
              0.7777777777777778,
              "#fb9f3a"
             ],
             [
              0.8888888888888888,
              "#fdca26"
             ],
             [
              1,
              "#f0f921"
             ]
            ],
            "type": "heatmap"
           }
          ],
          "heatmapgl": [
           {
            "colorbar": {
             "outlinewidth": 0,
             "ticks": ""
            },
            "colorscale": [
             [
              0,
              "#0d0887"
             ],
             [
              0.1111111111111111,
              "#46039f"
             ],
             [
              0.2222222222222222,
              "#7201a8"
             ],
             [
              0.3333333333333333,
              "#9c179e"
             ],
             [
              0.4444444444444444,
              "#bd3786"
             ],
             [
              0.5555555555555556,
              "#d8576b"
             ],
             [
              0.6666666666666666,
              "#ed7953"
             ],
             [
              0.7777777777777778,
              "#fb9f3a"
             ],
             [
              0.8888888888888888,
              "#fdca26"
             ],
             [
              1,
              "#f0f921"
             ]
            ],
            "type": "heatmapgl"
           }
          ],
          "histogram": [
           {
            "marker": {
             "pattern": {
              "fillmode": "overlay",
              "size": 10,
              "solidity": 0.2
             }
            },
            "type": "histogram"
           }
          ],
          "histogram2d": [
           {
            "colorbar": {
             "outlinewidth": 0,
             "ticks": ""
            },
            "colorscale": [
             [
              0,
              "#0d0887"
             ],
             [
              0.1111111111111111,
              "#46039f"
             ],
             [
              0.2222222222222222,
              "#7201a8"
             ],
             [
              0.3333333333333333,
              "#9c179e"
             ],
             [
              0.4444444444444444,
              "#bd3786"
             ],
             [
              0.5555555555555556,
              "#d8576b"
             ],
             [
              0.6666666666666666,
              "#ed7953"
             ],
             [
              0.7777777777777778,
              "#fb9f3a"
             ],
             [
              0.8888888888888888,
              "#fdca26"
             ],
             [
              1,
              "#f0f921"
             ]
            ],
            "type": "histogram2d"
           }
          ],
          "histogram2dcontour": [
           {
            "colorbar": {
             "outlinewidth": 0,
             "ticks": ""
            },
            "colorscale": [
             [
              0,
              "#0d0887"
             ],
             [
              0.1111111111111111,
              "#46039f"
             ],
             [
              0.2222222222222222,
              "#7201a8"
             ],
             [
              0.3333333333333333,
              "#9c179e"
             ],
             [
              0.4444444444444444,
              "#bd3786"
             ],
             [
              0.5555555555555556,
              "#d8576b"
             ],
             [
              0.6666666666666666,
              "#ed7953"
             ],
             [
              0.7777777777777778,
              "#fb9f3a"
             ],
             [
              0.8888888888888888,
              "#fdca26"
             ],
             [
              1,
              "#f0f921"
             ]
            ],
            "type": "histogram2dcontour"
           }
          ],
          "mesh3d": [
           {
            "colorbar": {
             "outlinewidth": 0,
             "ticks": ""
            },
            "type": "mesh3d"
           }
          ],
          "parcoords": [
           {
            "line": {
             "colorbar": {
              "outlinewidth": 0,
              "ticks": ""
             }
            },
            "type": "parcoords"
           }
          ],
          "pie": [
           {
            "automargin": true,
            "type": "pie"
           }
          ],
          "scatter": [
           {
            "fillpattern": {
             "fillmode": "overlay",
             "size": 10,
             "solidity": 0.2
            },
            "type": "scatter"
           }
          ],
          "scatter3d": [
           {
            "line": {
             "colorbar": {
              "outlinewidth": 0,
              "ticks": ""
             }
            },
            "marker": {
             "colorbar": {
              "outlinewidth": 0,
              "ticks": ""
             }
            },
            "type": "scatter3d"
           }
          ],
          "scattercarpet": [
           {
            "marker": {
             "colorbar": {
              "outlinewidth": 0,
              "ticks": ""
             }
            },
            "type": "scattercarpet"
           }
          ],
          "scattergeo": [
           {
            "marker": {
             "colorbar": {
              "outlinewidth": 0,
              "ticks": ""
             }
            },
            "type": "scattergeo"
           }
          ],
          "scattergl": [
           {
            "marker": {
             "colorbar": {
              "outlinewidth": 0,
              "ticks": ""
             }
            },
            "type": "scattergl"
           }
          ],
          "scattermapbox": [
           {
            "marker": {
             "colorbar": {
              "outlinewidth": 0,
              "ticks": ""
             }
            },
            "type": "scattermapbox"
           }
          ],
          "scatterpolar": [
           {
            "marker": {
             "colorbar": {
              "outlinewidth": 0,
              "ticks": ""
             }
            },
            "type": "scatterpolar"
           }
          ],
          "scatterpolargl": [
           {
            "marker": {
             "colorbar": {
              "outlinewidth": 0,
              "ticks": ""
             }
            },
            "type": "scatterpolargl"
           }
          ],
          "scatterternary": [
           {
            "marker": {
             "colorbar": {
              "outlinewidth": 0,
              "ticks": ""
             }
            },
            "type": "scatterternary"
           }
          ],
          "surface": [
           {
            "colorbar": {
             "outlinewidth": 0,
             "ticks": ""
            },
            "colorscale": [
             [
              0,
              "#0d0887"
             ],
             [
              0.1111111111111111,
              "#46039f"
             ],
             [
              0.2222222222222222,
              "#7201a8"
             ],
             [
              0.3333333333333333,
              "#9c179e"
             ],
             [
              0.4444444444444444,
              "#bd3786"
             ],
             [
              0.5555555555555556,
              "#d8576b"
             ],
             [
              0.6666666666666666,
              "#ed7953"
             ],
             [
              0.7777777777777778,
              "#fb9f3a"
             ],
             [
              0.8888888888888888,
              "#fdca26"
             ],
             [
              1,
              "#f0f921"
             ]
            ],
            "type": "surface"
           }
          ],
          "table": [
           {
            "cells": {
             "fill": {
              "color": "#EBF0F8"
             },
             "line": {
              "color": "white"
             }
            },
            "header": {
             "fill": {
              "color": "#C8D4E3"
             },
             "line": {
              "color": "white"
             }
            },
            "type": "table"
           }
          ]
         },
         "layout": {
          "annotationdefaults": {
           "arrowcolor": "#2a3f5f",
           "arrowhead": 0,
           "arrowwidth": 1
          },
          "autotypenumbers": "strict",
          "coloraxis": {
           "colorbar": {
            "outlinewidth": 0,
            "ticks": ""
           }
          },
          "colorscale": {
           "diverging": [
            [
             0,
             "#8e0152"
            ],
            [
             0.1,
             "#c51b7d"
            ],
            [
             0.2,
             "#de77ae"
            ],
            [
             0.3,
             "#f1b6da"
            ],
            [
             0.4,
             "#fde0ef"
            ],
            [
             0.5,
             "#f7f7f7"
            ],
            [
             0.6,
             "#e6f5d0"
            ],
            [
             0.7,
             "#b8e186"
            ],
            [
             0.8,
             "#7fbc41"
            ],
            [
             0.9,
             "#4d9221"
            ],
            [
             1,
             "#276419"
            ]
           ],
           "sequential": [
            [
             0,
             "#0d0887"
            ],
            [
             0.1111111111111111,
             "#46039f"
            ],
            [
             0.2222222222222222,
             "#7201a8"
            ],
            [
             0.3333333333333333,
             "#9c179e"
            ],
            [
             0.4444444444444444,
             "#bd3786"
            ],
            [
             0.5555555555555556,
             "#d8576b"
            ],
            [
             0.6666666666666666,
             "#ed7953"
            ],
            [
             0.7777777777777778,
             "#fb9f3a"
            ],
            [
             0.8888888888888888,
             "#fdca26"
            ],
            [
             1,
             "#f0f921"
            ]
           ],
           "sequentialminus": [
            [
             0,
             "#0d0887"
            ],
            [
             0.1111111111111111,
             "#46039f"
            ],
            [
             0.2222222222222222,
             "#7201a8"
            ],
            [
             0.3333333333333333,
             "#9c179e"
            ],
            [
             0.4444444444444444,
             "#bd3786"
            ],
            [
             0.5555555555555556,
             "#d8576b"
            ],
            [
             0.6666666666666666,
             "#ed7953"
            ],
            [
             0.7777777777777778,
             "#fb9f3a"
            ],
            [
             0.8888888888888888,
             "#fdca26"
            ],
            [
             1,
             "#f0f921"
            ]
           ]
          },
          "colorway": [
           "#636efa",
           "#EF553B",
           "#00cc96",
           "#ab63fa",
           "#FFA15A",
           "#19d3f3",
           "#FF6692",
           "#B6E880",
           "#FF97FF",
           "#FECB52"
          ],
          "font": {
           "color": "#2a3f5f"
          },
          "geo": {
           "bgcolor": "white",
           "lakecolor": "white",
           "landcolor": "#E5ECF6",
           "showlakes": true,
           "showland": true,
           "subunitcolor": "white"
          },
          "hoverlabel": {
           "align": "left"
          },
          "hovermode": "closest",
          "mapbox": {
           "style": "light"
          },
          "paper_bgcolor": "white",
          "plot_bgcolor": "#E5ECF6",
          "polar": {
           "angularaxis": {
            "gridcolor": "white",
            "linecolor": "white",
            "ticks": ""
           },
           "bgcolor": "#E5ECF6",
           "radialaxis": {
            "gridcolor": "white",
            "linecolor": "white",
            "ticks": ""
           }
          },
          "scene": {
           "xaxis": {
            "backgroundcolor": "#E5ECF6",
            "gridcolor": "white",
            "gridwidth": 2,
            "linecolor": "white",
            "showbackground": true,
            "ticks": "",
            "zerolinecolor": "white"
           },
           "yaxis": {
            "backgroundcolor": "#E5ECF6",
            "gridcolor": "white",
            "gridwidth": 2,
            "linecolor": "white",
            "showbackground": true,
            "ticks": "",
            "zerolinecolor": "white"
           },
           "zaxis": {
            "backgroundcolor": "#E5ECF6",
            "gridcolor": "white",
            "gridwidth": 2,
            "linecolor": "white",
            "showbackground": true,
            "ticks": "",
            "zerolinecolor": "white"
           }
          },
          "shapedefaults": {
           "line": {
            "color": "#2a3f5f"
           }
          },
          "ternary": {
           "aaxis": {
            "gridcolor": "white",
            "linecolor": "white",
            "ticks": ""
           },
           "baxis": {
            "gridcolor": "white",
            "linecolor": "white",
            "ticks": ""
           },
           "bgcolor": "#E5ECF6",
           "caxis": {
            "gridcolor": "white",
            "linecolor": "white",
            "ticks": ""
           }
          },
          "title": {
           "x": 0.05
          },
          "xaxis": {
           "automargin": true,
           "gridcolor": "white",
           "linecolor": "white",
           "ticks": "",
           "title": {
            "standoff": 15
           },
           "zerolinecolor": "white",
           "zerolinewidth": 2
          },
          "yaxis": {
           "automargin": true,
           "gridcolor": "white",
           "linecolor": "white",
           "ticks": "",
           "title": {
            "standoff": 15
           },
           "zerolinecolor": "white",
           "zerolinewidth": 2
          }
         }
        },
        "title": {
         "text": "Tempo vs. Danceability"
        },
        "xaxis": {
         "title": {
          "text": "Tempo"
         }
        },
        "yaxis": {
         "title": {
          "text": "Danceability"
         }
        }
       }
      },
      "text/html": [
       "<div>                            <div id=\"062b04d7-fc45-4c91-83e7-a5d98eac28d2\" class=\"plotly-graph-div\" style=\"height:525px; width:100%;\"></div>            <script type=\"text/javascript\">                require([\"plotly\"], function(Plotly) {                    window.PLOTLYENV=window.PLOTLYENV || {};                                    if (document.getElementById(\"062b04d7-fc45-4c91-83e7-a5d98eac28d2\")) {                    Plotly.newPlot(                        \"062b04d7-fc45-4c91-83e7-a5d98eac28d2\",                        [{\"hovertext\":[\"Name: Blinding Lights<br>tempo: 171.005<br>danceability: 0.514\",\"Name: Shape of You<br>tempo: 95.977<br>danceability: 0.825\",\"Name: Dance Monkey<br>tempo: 98.027<br>danceability: 0.824\",\"Name: Someone You Loved<br>tempo: 109.891<br>danceability: 0.501\",\"Name: Rockstar<br>tempo: 159.801<br>danceability: 0.585\",\"Name: Sunflower<br>tempo: 89.911<br>danceability: 0.76\",\"Name: One Dance<br>tempo: 103.967<br>danceability: 0.792\",\"Name: Closer<br>tempo: 95.01<br>danceability: 0.748\",\"Name: Stay<br>tempo: 111.893<br>danceability: 0.621\",\"Name: Believer<br>tempo: 124.949<br>danceability: 0.776\",\"Name: Se\\u00f1orita<br>tempo: 116.967<br>danceability: 0.759\",\"Name: Perfect<br>tempo: 146.053<br>danceability: 0.634\",\"Name: Heat Waves<br>tempo: 80.87<br>danceability: 0.761\",\"Name: Say You Won't Let Go<br>tempo: 85.043<br>danceability: 0.358\",\"Name: Starboy<br>tempo: 186.003<br>danceability: 0.679\",\"Name: Bad Guy<br>tempo: 135.128<br>danceability: 0.701\",\"Name: Thinking Out Loud<br>tempo: 78.997<br>danceability: 0.781\",\"Name: Lucid Dreams<br>tempo: 83.903<br>danceability: 0.511\",\"Name: Don't Start Now<br>tempo: 78.775<br>danceability: 0.498\",\"Name: Lovely<br>tempo: 115.284<br>danceability: 0.351\",\"Name: Watermelon Sugar<br>tempo: 95.39<br>danceability: 0.548\",\"Name: God's Plan<br>tempo: 77.169<br>danceability: 0.754\",\"Name: Photograph<br>tempo: 108.033<br>danceability: 0.718\",\"Name: Bohemian Rhapsody<br>tempo: 143.883<br>danceability: 0.392\",\"Name: Something Just Like This<br>tempo: 103.019<br>danceability: 0.617\",\"Name: Sweater Weather<br>tempo: 124.053<br>danceability: 0.612\",\"Name: Shallow<br>tempo: 95.799<br>danceability: 0.572\",\"Name: As It Was<br>tempo: 173.93<br>danceability: 0.52\",\"Name: Love Yourself<br>tempo: 100.418<br>danceability: 0.609\",\"Name: Circles<br>tempo: 120.042<br>danceability: 0.695\",\"Name: Sad!<br>tempo: 75.023<br>danceability: 0.74\",\"Name: Take Me to Church<br>tempo: 128.945<br>danceability: 0.566\",\"Name: All of Me<br>tempo: 119.93<br>danceability: 0.422\",\"Name: Thunder<br>tempo: 133.52<br>danceability: 0.502\",\"Name: 7 Rings<br>tempo: 140.048<br>danceability: 0.778\",\"Name: Goosebumps<br>tempo: 130.049<br>danceability: 0.841\",\"Name: Jocelyn Flores<br>tempo: 134.021<br>danceability: 0.872\",\"Name: Havana<br>tempo: 104.988<br>danceability: 0.765\",\"Name: Stressed Out<br>tempo: 169.977<br>danceability: 0.734\",\"Name: XO Tour Llif3<br>tempo: 155.096<br>danceability: 0.732\",\"Name: Counting Stars<br>tempo: 122.017<br>danceability: 0.664\",\"Name: New Rules<br>tempo: 116.078<br>danceability: 0.762\",\"Name: Wake Me Up<br>tempo: 124.08<br>danceability: 0.532\",\"Name: Riptide<br>tempo: 101.654<br>danceability: 0.484\",\"Name: Happier<br>tempo: 100.964<br>danceability: 0.733\",\"Name: Humble<br>tempo: 150.011<br>danceability: 0.908\",\"Name: Let Her Go<br>tempo: 74.897<br>danceability: 0.479\",\"Name: The Hills<br>tempo: 113.003<br>danceability: 0.585\",\"Name: Sicko Mode<br>tempo: 155.008<br>danceability: 0.834\",\"Name: Can't Hold Us<br>tempo: 128.044<br>danceability: 0.556\",\"Name: Good 4 U<br>tempo: 166.928<br>danceability: 0.563\",\"Name: Sorry<br>tempo: 141.961<br>danceability: 0.73\",\"Name: One Kiss<br>tempo: 123.994<br>danceability: 0.791\",\"Name: Let Me Love You<br>tempo: 99.988<br>danceability: 0.649\",\"Name: Drivers License<br>tempo: 143.875<br>danceability: 0.561\",\"Name: Lean On<br>tempo: 98.007<br>danceability: 0.723\",\"Name: Treat You Better<br>tempo: 82.695<br>danceability: 0.444\",\"Name: Roses (Imanbek remix)<br>tempo: 121.955<br>danceability: 0.769\",\"Name: Better Now<br>tempo: 145.038<br>danceability: 0.68\",\"Name: Stay with Me<br>tempo: 84.094<br>danceability: 0.418\",\"Name: Congratulations<br>tempo: 123.146<br>danceability: 0.63\",\"Name: Faded<br>tempo: 179.642<br>danceability: 0.468\",\"Name: Without Me<br>tempo: 112.238<br>danceability: 0.908\",\"Name: Industry Baby<br>tempo: 149.995<br>danceability: 0.736\",\"Name: Lose Yourself<br>tempo: 171.374<br>danceability: 0.692\",\"Name: Memories<br>tempo: 112.969<br>danceability: 0.34\",\"Name: Demons<br>tempo: 89.938<br>danceability: 0.505\",\"Name: Mr. Brightside<br>tempo: 148.033<br>danceability: 0.352\",\"Name: Uptown Funk<br>tempo: 114.988<br>danceability: 0.856\",\"Name: Too Good at Goodbyes<br>tempo: 91.873<br>danceability: 0.681\",\"Name: Levitating<br>tempo: 102.977<br>danceability: 0.702\",\"Name: I Took a Pill in Ibiza\\u00a0(Seeb\\u00a0Remix)<br>tempo: 101.969<br>danceability: 0.664\",\"Name: Don't Let Me Down<br>tempo: 163.347<br>danceability: 0.455\",\"Name: Thank U, Next<br>tempo: 106.966<br>danceability: 0.717\",\"Name: I Don't Care<br>tempo: 101.956<br>danceability: 0.798\",\"Name: Dakiti<br>tempo: 109.928<br>danceability: 0.731\",\"Name: Montero (Call Me by Your Name)<br>tempo: 178.781<br>danceability: 0.593\",\"Name: Mood<br>tempo: 141.059<br>danceability: 0.768\",\"Name: Do I Wanna Know?<br>tempo: 85.03<br>danceability: 0.548\",\"Name: Unforgettable<br>tempo: 97.985<br>danceability: 0.726\",\"Name: Dynamite<br>tempo: 119.975<br>danceability: 0.751\",\"Name: Despacito (remix)<br>tempo: 178.085<br>danceability: 0.653\",\"Name: Moonlight<br>tempo: 128.009<br>danceability: 0.921\",\"Name: Wonderwall<br>tempo: 174.323<br>danceability: 0.375\",\"Name: No Role Modelz<br>tempo: 100.028<br>danceability: 0.69\",\"Name: That's What I Like<br>tempo: 134.066<br>danceability: 0.853\",\"Name: The Box<br>tempo: 116.971<br>danceability: 0.896\",\"Name: 'Till I Collapse<br>tempo: 171.447<br>danceability: 0.548\",\"Name: There's Nothing Holdin' Me Back<br>tempo: 121.998<br>danceability: 0.866\",\"Name: Stitches<br>tempo: 149.789<br>danceability: 0.752\",\"Name: Cheap Thrills<br>tempo: 89.976<br>danceability: 0.628\",\"Name: Smells Like Teen Spirit<br>tempo: 116.761<br>danceability: 0.502\",\"Name: See You Again<br>tempo: 78.558<br>danceability: 0.558\",\"Name: I'm Yours<br>tempo: 94.875<br>danceability: 0.646\",\"Name: I Like Me Better<br>tempo: 91.972<br>danceability: 0.753\",\"Name: 7 Years<br>tempo: 119.992<br>danceability: 0.765\",\"Name: Yellow<br>tempo: 173.372<br>danceability: 0.429\",\"Name: Sugar<br>tempo: 95.39<br>danceability: 0.548\",\"Name: Despacito<br>tempo: 177.928<br>danceability: 0.655\",\"Name: Don't Stop Me Now<br>tempo: 112.603<br>danceability: 0.471\"],\"marker\":{\"color\":\"blue\"},\"mode\":\"markers\",\"x\":[171.005,95.977,98.027,109.891,159.801,89.911,103.967,95.01,111.893,124.949,116.967,146.053,80.87,85.043,186.003,135.128,78.997,83.903,78.775,115.284,95.39,77.169,108.033,143.883,103.019,124.053,95.799,173.93,100.418,120.042,75.023,128.945,119.93,133.52,140.048,130.049,134.021,104.988,169.977,155.096,122.017,116.078,124.08,101.654,100.964,150.011,74.897,113.003,155.008,128.044,166.928,141.961,123.994,99.988,143.875,98.007,82.695,121.955,145.038,84.094,123.146,179.642,112.238,149.995,171.374,112.969,89.938,148.033,114.988,91.873,102.977,101.969,163.347,106.966,101.956,109.928,178.781,141.059,85.03,97.985,119.975,178.085,128.009,174.323,100.028,134.066,116.971,171.447,121.998,149.789,89.976,116.761,78.558,94.875,91.972,119.992,173.372,95.39,177.928,112.603],\"y\":[0.514,0.825,0.824,0.501,0.585,0.76,0.792,0.748,0.621,0.776,0.759,0.634,0.761,0.358,0.679,0.701,0.781,0.511,0.498,0.351,0.548,0.754,0.718,0.392,0.617,0.612,0.572,0.52,0.609,0.695,0.74,0.566,0.422,0.502,0.778,0.841,0.872,0.765,0.734,0.732,0.664,0.762,0.532,0.484,0.733,0.908,0.479,0.585,0.834,0.556,0.563,0.73,0.791,0.649,0.561,0.723,0.444,0.769,0.68,0.418,0.63,0.468,0.908,0.736,0.692,0.34,0.505,0.352,0.856,0.681,0.702,0.664,0.455,0.717,0.798,0.731,0.593,0.768,0.548,0.726,0.751,0.653,0.921,0.375,0.69,0.853,0.896,0.548,0.866,0.752,0.628,0.502,0.558,0.646,0.753,0.765,0.429,0.548,0.655,0.471],\"type\":\"scatter\"}],                        {\"template\":{\"data\":{\"histogram2dcontour\":[{\"type\":\"histogram2dcontour\",\"colorbar\":{\"outlinewidth\":0,\"ticks\":\"\"},\"colorscale\":[[0.0,\"#0d0887\"],[0.1111111111111111,\"#46039f\"],[0.2222222222222222,\"#7201a8\"],[0.3333333333333333,\"#9c179e\"],[0.4444444444444444,\"#bd3786\"],[0.5555555555555556,\"#d8576b\"],[0.6666666666666666,\"#ed7953\"],[0.7777777777777778,\"#fb9f3a\"],[0.8888888888888888,\"#fdca26\"],[1.0,\"#f0f921\"]]}],\"choropleth\":[{\"type\":\"choropleth\",\"colorbar\":{\"outlinewidth\":0,\"ticks\":\"\"}}],\"histogram2d\":[{\"type\":\"histogram2d\",\"colorbar\":{\"outlinewidth\":0,\"ticks\":\"\"},\"colorscale\":[[0.0,\"#0d0887\"],[0.1111111111111111,\"#46039f\"],[0.2222222222222222,\"#7201a8\"],[0.3333333333333333,\"#9c179e\"],[0.4444444444444444,\"#bd3786\"],[0.5555555555555556,\"#d8576b\"],[0.6666666666666666,\"#ed7953\"],[0.7777777777777778,\"#fb9f3a\"],[0.8888888888888888,\"#fdca26\"],[1.0,\"#f0f921\"]]}],\"heatmap\":[{\"type\":\"heatmap\",\"colorbar\":{\"outlinewidth\":0,\"ticks\":\"\"},\"colorscale\":[[0.0,\"#0d0887\"],[0.1111111111111111,\"#46039f\"],[0.2222222222222222,\"#7201a8\"],[0.3333333333333333,\"#9c179e\"],[0.4444444444444444,\"#bd3786\"],[0.5555555555555556,\"#d8576b\"],[0.6666666666666666,\"#ed7953\"],[0.7777777777777778,\"#fb9f3a\"],[0.8888888888888888,\"#fdca26\"],[1.0,\"#f0f921\"]]}],\"heatmapgl\":[{\"type\":\"heatmapgl\",\"colorbar\":{\"outlinewidth\":0,\"ticks\":\"\"},\"colorscale\":[[0.0,\"#0d0887\"],[0.1111111111111111,\"#46039f\"],[0.2222222222222222,\"#7201a8\"],[0.3333333333333333,\"#9c179e\"],[0.4444444444444444,\"#bd3786\"],[0.5555555555555556,\"#d8576b\"],[0.6666666666666666,\"#ed7953\"],[0.7777777777777778,\"#fb9f3a\"],[0.8888888888888888,\"#fdca26\"],[1.0,\"#f0f921\"]]}],\"contourcarpet\":[{\"type\":\"contourcarpet\",\"colorbar\":{\"outlinewidth\":0,\"ticks\":\"\"}}],\"contour\":[{\"type\":\"contour\",\"colorbar\":{\"outlinewidth\":0,\"ticks\":\"\"},\"colorscale\":[[0.0,\"#0d0887\"],[0.1111111111111111,\"#46039f\"],[0.2222222222222222,\"#7201a8\"],[0.3333333333333333,\"#9c179e\"],[0.4444444444444444,\"#bd3786\"],[0.5555555555555556,\"#d8576b\"],[0.6666666666666666,\"#ed7953\"],[0.7777777777777778,\"#fb9f3a\"],[0.8888888888888888,\"#fdca26\"],[1.0,\"#f0f921\"]]}],\"surface\":[{\"type\":\"surface\",\"colorbar\":{\"outlinewidth\":0,\"ticks\":\"\"},\"colorscale\":[[0.0,\"#0d0887\"],[0.1111111111111111,\"#46039f\"],[0.2222222222222222,\"#7201a8\"],[0.3333333333333333,\"#9c179e\"],[0.4444444444444444,\"#bd3786\"],[0.5555555555555556,\"#d8576b\"],[0.6666666666666666,\"#ed7953\"],[0.7777777777777778,\"#fb9f3a\"],[0.8888888888888888,\"#fdca26\"],[1.0,\"#f0f921\"]]}],\"mesh3d\":[{\"type\":\"mesh3d\",\"colorbar\":{\"outlinewidth\":0,\"ticks\":\"\"}}],\"scatter\":[{\"fillpattern\":{\"fillmode\":\"overlay\",\"size\":10,\"solidity\":0.2},\"type\":\"scatter\"}],\"parcoords\":[{\"type\":\"parcoords\",\"line\":{\"colorbar\":{\"outlinewidth\":0,\"ticks\":\"\"}}}],\"scatterpolargl\":[{\"type\":\"scatterpolargl\",\"marker\":{\"colorbar\":{\"outlinewidth\":0,\"ticks\":\"\"}}}],\"bar\":[{\"error_x\":{\"color\":\"#2a3f5f\"},\"error_y\":{\"color\":\"#2a3f5f\"},\"marker\":{\"line\":{\"color\":\"#E5ECF6\",\"width\":0.5},\"pattern\":{\"fillmode\":\"overlay\",\"size\":10,\"solidity\":0.2}},\"type\":\"bar\"}],\"scattergeo\":[{\"type\":\"scattergeo\",\"marker\":{\"colorbar\":{\"outlinewidth\":0,\"ticks\":\"\"}}}],\"scatterpolar\":[{\"type\":\"scatterpolar\",\"marker\":{\"colorbar\":{\"outlinewidth\":0,\"ticks\":\"\"}}}],\"histogram\":[{\"marker\":{\"pattern\":{\"fillmode\":\"overlay\",\"size\":10,\"solidity\":0.2}},\"type\":\"histogram\"}],\"scattergl\":[{\"type\":\"scattergl\",\"marker\":{\"colorbar\":{\"outlinewidth\":0,\"ticks\":\"\"}}}],\"scatter3d\":[{\"type\":\"scatter3d\",\"line\":{\"colorbar\":{\"outlinewidth\":0,\"ticks\":\"\"}},\"marker\":{\"colorbar\":{\"outlinewidth\":0,\"ticks\":\"\"}}}],\"scattermapbox\":[{\"type\":\"scattermapbox\",\"marker\":{\"colorbar\":{\"outlinewidth\":0,\"ticks\":\"\"}}}],\"scatterternary\":[{\"type\":\"scatterternary\",\"marker\":{\"colorbar\":{\"outlinewidth\":0,\"ticks\":\"\"}}}],\"scattercarpet\":[{\"type\":\"scattercarpet\",\"marker\":{\"colorbar\":{\"outlinewidth\":0,\"ticks\":\"\"}}}],\"carpet\":[{\"aaxis\":{\"endlinecolor\":\"#2a3f5f\",\"gridcolor\":\"white\",\"linecolor\":\"white\",\"minorgridcolor\":\"white\",\"startlinecolor\":\"#2a3f5f\"},\"baxis\":{\"endlinecolor\":\"#2a3f5f\",\"gridcolor\":\"white\",\"linecolor\":\"white\",\"minorgridcolor\":\"white\",\"startlinecolor\":\"#2a3f5f\"},\"type\":\"carpet\"}],\"table\":[{\"cells\":{\"fill\":{\"color\":\"#EBF0F8\"},\"line\":{\"color\":\"white\"}},\"header\":{\"fill\":{\"color\":\"#C8D4E3\"},\"line\":{\"color\":\"white\"}},\"type\":\"table\"}],\"barpolar\":[{\"marker\":{\"line\":{\"color\":\"#E5ECF6\",\"width\":0.5},\"pattern\":{\"fillmode\":\"overlay\",\"size\":10,\"solidity\":0.2}},\"type\":\"barpolar\"}],\"pie\":[{\"automargin\":true,\"type\":\"pie\"}]},\"layout\":{\"autotypenumbers\":\"strict\",\"colorway\":[\"#636efa\",\"#EF553B\",\"#00cc96\",\"#ab63fa\",\"#FFA15A\",\"#19d3f3\",\"#FF6692\",\"#B6E880\",\"#FF97FF\",\"#FECB52\"],\"font\":{\"color\":\"#2a3f5f\"},\"hovermode\":\"closest\",\"hoverlabel\":{\"align\":\"left\"},\"paper_bgcolor\":\"white\",\"plot_bgcolor\":\"#E5ECF6\",\"polar\":{\"bgcolor\":\"#E5ECF6\",\"angularaxis\":{\"gridcolor\":\"white\",\"linecolor\":\"white\",\"ticks\":\"\"},\"radialaxis\":{\"gridcolor\":\"white\",\"linecolor\":\"white\",\"ticks\":\"\"}},\"ternary\":{\"bgcolor\":\"#E5ECF6\",\"aaxis\":{\"gridcolor\":\"white\",\"linecolor\":\"white\",\"ticks\":\"\"},\"baxis\":{\"gridcolor\":\"white\",\"linecolor\":\"white\",\"ticks\":\"\"},\"caxis\":{\"gridcolor\":\"white\",\"linecolor\":\"white\",\"ticks\":\"\"}},\"coloraxis\":{\"colorbar\":{\"outlinewidth\":0,\"ticks\":\"\"}},\"colorscale\":{\"sequential\":[[0.0,\"#0d0887\"],[0.1111111111111111,\"#46039f\"],[0.2222222222222222,\"#7201a8\"],[0.3333333333333333,\"#9c179e\"],[0.4444444444444444,\"#bd3786\"],[0.5555555555555556,\"#d8576b\"],[0.6666666666666666,\"#ed7953\"],[0.7777777777777778,\"#fb9f3a\"],[0.8888888888888888,\"#fdca26\"],[1.0,\"#f0f921\"]],\"sequentialminus\":[[0.0,\"#0d0887\"],[0.1111111111111111,\"#46039f\"],[0.2222222222222222,\"#7201a8\"],[0.3333333333333333,\"#9c179e\"],[0.4444444444444444,\"#bd3786\"],[0.5555555555555556,\"#d8576b\"],[0.6666666666666666,\"#ed7953\"],[0.7777777777777778,\"#fb9f3a\"],[0.8888888888888888,\"#fdca26\"],[1.0,\"#f0f921\"]],\"diverging\":[[0,\"#8e0152\"],[0.1,\"#c51b7d\"],[0.2,\"#de77ae\"],[0.3,\"#f1b6da\"],[0.4,\"#fde0ef\"],[0.5,\"#f7f7f7\"],[0.6,\"#e6f5d0\"],[0.7,\"#b8e186\"],[0.8,\"#7fbc41\"],[0.9,\"#4d9221\"],[1,\"#276419\"]]},\"xaxis\":{\"gridcolor\":\"white\",\"linecolor\":\"white\",\"ticks\":\"\",\"title\":{\"standoff\":15},\"zerolinecolor\":\"white\",\"automargin\":true,\"zerolinewidth\":2},\"yaxis\":{\"gridcolor\":\"white\",\"linecolor\":\"white\",\"ticks\":\"\",\"title\":{\"standoff\":15},\"zerolinecolor\":\"white\",\"automargin\":true,\"zerolinewidth\":2},\"scene\":{\"xaxis\":{\"backgroundcolor\":\"#E5ECF6\",\"gridcolor\":\"white\",\"linecolor\":\"white\",\"showbackground\":true,\"ticks\":\"\",\"zerolinecolor\":\"white\",\"gridwidth\":2},\"yaxis\":{\"backgroundcolor\":\"#E5ECF6\",\"gridcolor\":\"white\",\"linecolor\":\"white\",\"showbackground\":true,\"ticks\":\"\",\"zerolinecolor\":\"white\",\"gridwidth\":2},\"zaxis\":{\"backgroundcolor\":\"#E5ECF6\",\"gridcolor\":\"white\",\"linecolor\":\"white\",\"showbackground\":true,\"ticks\":\"\",\"zerolinecolor\":\"white\",\"gridwidth\":2}},\"shapedefaults\":{\"line\":{\"color\":\"#2a3f5f\"}},\"annotationdefaults\":{\"arrowcolor\":\"#2a3f5f\",\"arrowhead\":0,\"arrowwidth\":1},\"geo\":{\"bgcolor\":\"white\",\"landcolor\":\"#E5ECF6\",\"subunitcolor\":\"white\",\"showland\":true,\"showlakes\":true,\"lakecolor\":\"white\"},\"title\":{\"x\":0.05},\"mapbox\":{\"style\":\"light\"}}},\"title\":{\"text\":\"Tempo vs. Danceability\"},\"xaxis\":{\"title\":{\"text\":\"Tempo\"}},\"yaxis\":{\"title\":{\"text\":\"Danceability\"}}},                        {\"responsive\": true}                    ).then(function(){\n",
       "                            \n",
       "var gd = document.getElementById('062b04d7-fc45-4c91-83e7-a5d98eac28d2');\n",
       "var x = new MutationObserver(function (mutations, observer) {{\n",
       "        var display = window.getComputedStyle(gd).display;\n",
       "        if (!display || display === 'none') {{\n",
       "            console.log([gd, 'removed!']);\n",
       "            Plotly.purge(gd);\n",
       "            observer.disconnect();\n",
       "        }}\n",
       "}});\n",
       "\n",
       "// Listen for the removal of the full notebook cells\n",
       "var notebookContainer = gd.closest('#notebook-container');\n",
       "if (notebookContainer) {{\n",
       "    x.observe(notebookContainer, {childList: true});\n",
       "}}\n",
       "\n",
       "// Listen for the clearing of the current output cell\n",
       "var outputEl = gd.closest('.output');\n",
       "if (outputEl) {{\n",
       "    x.observe(outputEl, {childList: true});\n",
       "}}\n",
       "\n",
       "                        })                };                });            </script>        </div>"
      ]
     },
     "metadata": {},
     "output_type": "display_data"
    }
   ],
   "source": [
    "fig = go.Figure(data=go.Scatter(x=features_df[\"tempo\"], y=features_df[\"danceability\"],\n",
    "mode='markers',\n",
    "marker=dict(color='blue'),\n",
    "hovertext=[f\"Name: {n}<br>tempo: {e}<br>danceability: {s}\"\n",
    "for n, e, s in zip(features_df['name'], features_df['tempo'], features_df['danceability'])]\n",
    "))\n",
    "\n",
    "fig.update_layout(title='Tempo vs. Danceability',\n",
    "xaxis_title='Tempo', yaxis_title='Danceability')\n",
    "\n",
    "fig.show()"
   ]
  },
  {
   "cell_type": "code",
   "execution_count": 124,
   "metadata": {},
   "outputs": [
    {
     "name": "stderr",
     "output_type": "stream",
     "text": [
      "C:\\Users\\deeee\\AppData\\Local\\Temp\\ipykernel_16704\\3607800477.py:2: FutureWarning:\n",
      "\n",
      "The default value of numeric_only in DataFrame.corr is deprecated. In a future version, it will default to False. Select only valid columns or specify the value of numeric_only to silence this warning.\n",
      "\n"
     ]
    },
    {
     "data": {
      "application/vnd.plotly.v1+json": {
       "config": {
        "plotlyServerURL": "https://plot.ly"
       },
       "data": [
        {
         "colorbar": {
          "title": {
           "text": "Correlation"
          }
         },
         "colorscale": [
          [
           0,
           "rgb(103,0,31)"
          ],
          [
           0.1,
           "rgb(178,24,43)"
          ],
          [
           0.2,
           "rgb(214,96,77)"
          ],
          [
           0.3,
           "rgb(244,165,130)"
          ],
          [
           0.4,
           "rgb(253,219,199)"
          ],
          [
           0.5,
           "rgb(247,247,247)"
          ],
          [
           0.6,
           "rgb(209,229,240)"
          ],
          [
           0.7,
           "rgb(146,197,222)"
          ],
          [
           0.8,
           "rgb(67,147,195)"
          ],
          [
           0.9,
           "rgb(33,102,172)"
          ],
          [
           1,
           "rgb(5,48,97)"
          ]
         ],
         "type": "heatmap",
         "x": [
          "duration",
          "energy",
          "key",
          "loudness",
          "mode",
          "speechiness",
          "acousticness",
          "instrumentalness",
          "liveness",
          "valence",
          "tempo",
          "danceability"
         ],
         "y": [
          "duration",
          "energy",
          "key",
          "loudness",
          "mode",
          "speechiness",
          "acousticness",
          "instrumentalness",
          "liveness",
          "valence",
          "tempo",
          "danceability"
         ],
         "z": [
          [
           1,
           0.008278614200594534,
           -0.046874750505900314,
           0.07343194842763727,
           0.16391612065235409,
           -0.07393835035806474,
           -0.03654176043653525,
           -0.10744973383221322,
           -0.12560303719153165,
           -0.2044256400579198,
           0.0639215106168033,
           -0.20087233464148227
          ],
          [
           0.008278614200594534,
           1,
           -0.08754193814226693,
           0.741793502987356,
           0.09525516594024587,
           -0.05964367755397553,
           -0.7035515059812375,
           -0.27503397994943996,
           -0.03325132300307001,
           0.23865934271999706,
           0.25986317310798107,
           0.014443446799637383
          ],
          [
           -0.046874750505900314,
           -0.08754193814226693,
           1,
           -0.08133864011876027,
           -0.16324382286961345,
           0.034264593163458396,
           0.050491818214248425,
           0.20654719260796486,
           0.10796099918629051,
           0.03144839600421261,
           -0.09284467690299435,
           0.04341581757436363
          ],
          [
           0.07343194842763727,
           0.741793502987356,
           -0.08133864011876027,
           1,
           0.17908753864867694,
           -0.21400859527291832,
           -0.5111766423472645,
           -0.3453495741252484,
           -0.019159187566629293,
           0.26039739741510215,
           0.12191553151792427,
           0.13903918009979674
          ],
          [
           0.16391612065235409,
           0.09525516594024587,
           -0.16324382286961345,
           0.17908753864867694,
           1,
           -0.11528172938662606,
           -0.02659284077668303,
           -0.08279376827361168,
           -0.03504187057255182,
           -0.07895240269377798,
           -0.0278198021632115,
           -0.18328793377278424
          ],
          [
           -0.07393835035806474,
           -0.05964367755397553,
           0.034264593163458396,
           -0.21400859527291832,
           -0.11528172938662606,
           1,
           0.07903033844378839,
           0.009310982611582752,
           -0.007594313388843635,
           0.02660260017970011,
           0.17232408325980925,
           0.16208857727808712
          ],
          [
           -0.03654176043653525,
           -0.7035515059812375,
           0.050491818214248425,
           -0.5111766423472645,
           -0.02659284077668303,
           0.07903033844378839,
           1,
           0.2266349850095711,
           -0.12215418296018644,
           -0.1398982315335356,
           -0.23581047438913233,
           -0.1860991514493598
          ],
          [
           -0.10744973383221322,
           -0.27503397994943996,
           0.20654719260796486,
           -0.3453495741252484,
           -0.08279376827361168,
           0.009310982611582752,
           0.2266349850095711,
           1,
           0.029135847760233164,
           0.104192154226373,
           -0.10337207609801355,
           -0.09196819918254653
          ],
          [
           -0.12560303719153165,
           -0.03325132300307001,
           0.10796099918629051,
           -0.019159187566629293,
           -0.03504187057255182,
           -0.007594313388843635,
           -0.12215418296018644,
           0.029135847760233164,
           1,
           -0.16977733889273874,
           -0.09047199530470293,
           0.010374016238572169
          ],
          [
           -0.2044256400579198,
           0.23865934271999706,
           0.03144839600421261,
           0.26039739741510215,
           -0.07895240269377798,
           0.02660260017970011,
           -0.1398982315335356,
           0.104192154226373,
           -0.16977733889273874,
           1,
           -0.05904329506998928,
           0.37964280244192977
          ],
          [
           0.0639215106168033,
           0.25986317310798107,
           -0.09284467690299435,
           0.12191553151792427,
           -0.0278198021632115,
           0.17232408325980925,
           -0.23581047438913233,
           -0.10337207609801355,
           -0.09047199530470293,
           -0.05904329506998928,
           1,
           -0.05772721185569122
          ],
          [
           -0.20087233464148227,
           0.014443446799637383,
           0.04341581757436363,
           0.13903918009979674,
           -0.18328793377278424,
           0.16208857727808712,
           -0.1860991514493598,
           -0.09196819918254653,
           0.010374016238572169,
           0.37964280244192977,
           -0.05772721185569122,
           1
          ]
         ]
        }
       ],
       "layout": {
        "template": {
         "data": {
          "bar": [
           {
            "error_x": {
             "color": "#2a3f5f"
            },
            "error_y": {
             "color": "#2a3f5f"
            },
            "marker": {
             "line": {
              "color": "#E5ECF6",
              "width": 0.5
             },
             "pattern": {
              "fillmode": "overlay",
              "size": 10,
              "solidity": 0.2
             }
            },
            "type": "bar"
           }
          ],
          "barpolar": [
           {
            "marker": {
             "line": {
              "color": "#E5ECF6",
              "width": 0.5
             },
             "pattern": {
              "fillmode": "overlay",
              "size": 10,
              "solidity": 0.2
             }
            },
            "type": "barpolar"
           }
          ],
          "carpet": [
           {
            "aaxis": {
             "endlinecolor": "#2a3f5f",
             "gridcolor": "white",
             "linecolor": "white",
             "minorgridcolor": "white",
             "startlinecolor": "#2a3f5f"
            },
            "baxis": {
             "endlinecolor": "#2a3f5f",
             "gridcolor": "white",
             "linecolor": "white",
             "minorgridcolor": "white",
             "startlinecolor": "#2a3f5f"
            },
            "type": "carpet"
           }
          ],
          "choropleth": [
           {
            "colorbar": {
             "outlinewidth": 0,
             "ticks": ""
            },
            "type": "choropleth"
           }
          ],
          "contour": [
           {
            "colorbar": {
             "outlinewidth": 0,
             "ticks": ""
            },
            "colorscale": [
             [
              0,
              "#0d0887"
             ],
             [
              0.1111111111111111,
              "#46039f"
             ],
             [
              0.2222222222222222,
              "#7201a8"
             ],
             [
              0.3333333333333333,
              "#9c179e"
             ],
             [
              0.4444444444444444,
              "#bd3786"
             ],
             [
              0.5555555555555556,
              "#d8576b"
             ],
             [
              0.6666666666666666,
              "#ed7953"
             ],
             [
              0.7777777777777778,
              "#fb9f3a"
             ],
             [
              0.8888888888888888,
              "#fdca26"
             ],
             [
              1,
              "#f0f921"
             ]
            ],
            "type": "contour"
           }
          ],
          "contourcarpet": [
           {
            "colorbar": {
             "outlinewidth": 0,
             "ticks": ""
            },
            "type": "contourcarpet"
           }
          ],
          "heatmap": [
           {
            "colorbar": {
             "outlinewidth": 0,
             "ticks": ""
            },
            "colorscale": [
             [
              0,
              "#0d0887"
             ],
             [
              0.1111111111111111,
              "#46039f"
             ],
             [
              0.2222222222222222,
              "#7201a8"
             ],
             [
              0.3333333333333333,
              "#9c179e"
             ],
             [
              0.4444444444444444,
              "#bd3786"
             ],
             [
              0.5555555555555556,
              "#d8576b"
             ],
             [
              0.6666666666666666,
              "#ed7953"
             ],
             [
              0.7777777777777778,
              "#fb9f3a"
             ],
             [
              0.8888888888888888,
              "#fdca26"
             ],
             [
              1,
              "#f0f921"
             ]
            ],
            "type": "heatmap"
           }
          ],
          "heatmapgl": [
           {
            "colorbar": {
             "outlinewidth": 0,
             "ticks": ""
            },
            "colorscale": [
             [
              0,
              "#0d0887"
             ],
             [
              0.1111111111111111,
              "#46039f"
             ],
             [
              0.2222222222222222,
              "#7201a8"
             ],
             [
              0.3333333333333333,
              "#9c179e"
             ],
             [
              0.4444444444444444,
              "#bd3786"
             ],
             [
              0.5555555555555556,
              "#d8576b"
             ],
             [
              0.6666666666666666,
              "#ed7953"
             ],
             [
              0.7777777777777778,
              "#fb9f3a"
             ],
             [
              0.8888888888888888,
              "#fdca26"
             ],
             [
              1,
              "#f0f921"
             ]
            ],
            "type": "heatmapgl"
           }
          ],
          "histogram": [
           {
            "marker": {
             "pattern": {
              "fillmode": "overlay",
              "size": 10,
              "solidity": 0.2
             }
            },
            "type": "histogram"
           }
          ],
          "histogram2d": [
           {
            "colorbar": {
             "outlinewidth": 0,
             "ticks": ""
            },
            "colorscale": [
             [
              0,
              "#0d0887"
             ],
             [
              0.1111111111111111,
              "#46039f"
             ],
             [
              0.2222222222222222,
              "#7201a8"
             ],
             [
              0.3333333333333333,
              "#9c179e"
             ],
             [
              0.4444444444444444,
              "#bd3786"
             ],
             [
              0.5555555555555556,
              "#d8576b"
             ],
             [
              0.6666666666666666,
              "#ed7953"
             ],
             [
              0.7777777777777778,
              "#fb9f3a"
             ],
             [
              0.8888888888888888,
              "#fdca26"
             ],
             [
              1,
              "#f0f921"
             ]
            ],
            "type": "histogram2d"
           }
          ],
          "histogram2dcontour": [
           {
            "colorbar": {
             "outlinewidth": 0,
             "ticks": ""
            },
            "colorscale": [
             [
              0,
              "#0d0887"
             ],
             [
              0.1111111111111111,
              "#46039f"
             ],
             [
              0.2222222222222222,
              "#7201a8"
             ],
             [
              0.3333333333333333,
              "#9c179e"
             ],
             [
              0.4444444444444444,
              "#bd3786"
             ],
             [
              0.5555555555555556,
              "#d8576b"
             ],
             [
              0.6666666666666666,
              "#ed7953"
             ],
             [
              0.7777777777777778,
              "#fb9f3a"
             ],
             [
              0.8888888888888888,
              "#fdca26"
             ],
             [
              1,
              "#f0f921"
             ]
            ],
            "type": "histogram2dcontour"
           }
          ],
          "mesh3d": [
           {
            "colorbar": {
             "outlinewidth": 0,
             "ticks": ""
            },
            "type": "mesh3d"
           }
          ],
          "parcoords": [
           {
            "line": {
             "colorbar": {
              "outlinewidth": 0,
              "ticks": ""
             }
            },
            "type": "parcoords"
           }
          ],
          "pie": [
           {
            "automargin": true,
            "type": "pie"
           }
          ],
          "scatter": [
           {
            "fillpattern": {
             "fillmode": "overlay",
             "size": 10,
             "solidity": 0.2
            },
            "type": "scatter"
           }
          ],
          "scatter3d": [
           {
            "line": {
             "colorbar": {
              "outlinewidth": 0,
              "ticks": ""
             }
            },
            "marker": {
             "colorbar": {
              "outlinewidth": 0,
              "ticks": ""
             }
            },
            "type": "scatter3d"
           }
          ],
          "scattercarpet": [
           {
            "marker": {
             "colorbar": {
              "outlinewidth": 0,
              "ticks": ""
             }
            },
            "type": "scattercarpet"
           }
          ],
          "scattergeo": [
           {
            "marker": {
             "colorbar": {
              "outlinewidth": 0,
              "ticks": ""
             }
            },
            "type": "scattergeo"
           }
          ],
          "scattergl": [
           {
            "marker": {
             "colorbar": {
              "outlinewidth": 0,
              "ticks": ""
             }
            },
            "type": "scattergl"
           }
          ],
          "scattermapbox": [
           {
            "marker": {
             "colorbar": {
              "outlinewidth": 0,
              "ticks": ""
             }
            },
            "type": "scattermapbox"
           }
          ],
          "scatterpolar": [
           {
            "marker": {
             "colorbar": {
              "outlinewidth": 0,
              "ticks": ""
             }
            },
            "type": "scatterpolar"
           }
          ],
          "scatterpolargl": [
           {
            "marker": {
             "colorbar": {
              "outlinewidth": 0,
              "ticks": ""
             }
            },
            "type": "scatterpolargl"
           }
          ],
          "scatterternary": [
           {
            "marker": {
             "colorbar": {
              "outlinewidth": 0,
              "ticks": ""
             }
            },
            "type": "scatterternary"
           }
          ],
          "surface": [
           {
            "colorbar": {
             "outlinewidth": 0,
             "ticks": ""
            },
            "colorscale": [
             [
              0,
              "#0d0887"
             ],
             [
              0.1111111111111111,
              "#46039f"
             ],
             [
              0.2222222222222222,
              "#7201a8"
             ],
             [
              0.3333333333333333,
              "#9c179e"
             ],
             [
              0.4444444444444444,
              "#bd3786"
             ],
             [
              0.5555555555555556,
              "#d8576b"
             ],
             [
              0.6666666666666666,
              "#ed7953"
             ],
             [
              0.7777777777777778,
              "#fb9f3a"
             ],
             [
              0.8888888888888888,
              "#fdca26"
             ],
             [
              1,
              "#f0f921"
             ]
            ],
            "type": "surface"
           }
          ],
          "table": [
           {
            "cells": {
             "fill": {
              "color": "#EBF0F8"
             },
             "line": {
              "color": "white"
             }
            },
            "header": {
             "fill": {
              "color": "#C8D4E3"
             },
             "line": {
              "color": "white"
             }
            },
            "type": "table"
           }
          ]
         },
         "layout": {
          "annotationdefaults": {
           "arrowcolor": "#2a3f5f",
           "arrowhead": 0,
           "arrowwidth": 1
          },
          "autotypenumbers": "strict",
          "coloraxis": {
           "colorbar": {
            "outlinewidth": 0,
            "ticks": ""
           }
          },
          "colorscale": {
           "diverging": [
            [
             0,
             "#8e0152"
            ],
            [
             0.1,
             "#c51b7d"
            ],
            [
             0.2,
             "#de77ae"
            ],
            [
             0.3,
             "#f1b6da"
            ],
            [
             0.4,
             "#fde0ef"
            ],
            [
             0.5,
             "#f7f7f7"
            ],
            [
             0.6,
             "#e6f5d0"
            ],
            [
             0.7,
             "#b8e186"
            ],
            [
             0.8,
             "#7fbc41"
            ],
            [
             0.9,
             "#4d9221"
            ],
            [
             1,
             "#276419"
            ]
           ],
           "sequential": [
            [
             0,
             "#0d0887"
            ],
            [
             0.1111111111111111,
             "#46039f"
            ],
            [
             0.2222222222222222,
             "#7201a8"
            ],
            [
             0.3333333333333333,
             "#9c179e"
            ],
            [
             0.4444444444444444,
             "#bd3786"
            ],
            [
             0.5555555555555556,
             "#d8576b"
            ],
            [
             0.6666666666666666,
             "#ed7953"
            ],
            [
             0.7777777777777778,
             "#fb9f3a"
            ],
            [
             0.8888888888888888,
             "#fdca26"
            ],
            [
             1,
             "#f0f921"
            ]
           ],
           "sequentialminus": [
            [
             0,
             "#0d0887"
            ],
            [
             0.1111111111111111,
             "#46039f"
            ],
            [
             0.2222222222222222,
             "#7201a8"
            ],
            [
             0.3333333333333333,
             "#9c179e"
            ],
            [
             0.4444444444444444,
             "#bd3786"
            ],
            [
             0.5555555555555556,
             "#d8576b"
            ],
            [
             0.6666666666666666,
             "#ed7953"
            ],
            [
             0.7777777777777778,
             "#fb9f3a"
            ],
            [
             0.8888888888888888,
             "#fdca26"
            ],
            [
             1,
             "#f0f921"
            ]
           ]
          },
          "colorway": [
           "#636efa",
           "#EF553B",
           "#00cc96",
           "#ab63fa",
           "#FFA15A",
           "#19d3f3",
           "#FF6692",
           "#B6E880",
           "#FF97FF",
           "#FECB52"
          ],
          "font": {
           "color": "#2a3f5f"
          },
          "geo": {
           "bgcolor": "white",
           "lakecolor": "white",
           "landcolor": "#E5ECF6",
           "showlakes": true,
           "showland": true,
           "subunitcolor": "white"
          },
          "hoverlabel": {
           "align": "left"
          },
          "hovermode": "closest",
          "mapbox": {
           "style": "light"
          },
          "paper_bgcolor": "white",
          "plot_bgcolor": "#E5ECF6",
          "polar": {
           "angularaxis": {
            "gridcolor": "white",
            "linecolor": "white",
            "ticks": ""
           },
           "bgcolor": "#E5ECF6",
           "radialaxis": {
            "gridcolor": "white",
            "linecolor": "white",
            "ticks": ""
           }
          },
          "scene": {
           "xaxis": {
            "backgroundcolor": "#E5ECF6",
            "gridcolor": "white",
            "gridwidth": 2,
            "linecolor": "white",
            "showbackground": true,
            "ticks": "",
            "zerolinecolor": "white"
           },
           "yaxis": {
            "backgroundcolor": "#E5ECF6",
            "gridcolor": "white",
            "gridwidth": 2,
            "linecolor": "white",
            "showbackground": true,
            "ticks": "",
            "zerolinecolor": "white"
           },
           "zaxis": {
            "backgroundcolor": "#E5ECF6",
            "gridcolor": "white",
            "gridwidth": 2,
            "linecolor": "white",
            "showbackground": true,
            "ticks": "",
            "zerolinecolor": "white"
           }
          },
          "shapedefaults": {
           "line": {
            "color": "#2a3f5f"
           }
          },
          "ternary": {
           "aaxis": {
            "gridcolor": "white",
            "linecolor": "white",
            "ticks": ""
           },
           "baxis": {
            "gridcolor": "white",
            "linecolor": "white",
            "ticks": ""
           },
           "bgcolor": "#E5ECF6",
           "caxis": {
            "gridcolor": "white",
            "linecolor": "white",
            "ticks": ""
           }
          },
          "title": {
           "x": 0.05
          },
          "xaxis": {
           "automargin": true,
           "gridcolor": "white",
           "linecolor": "white",
           "ticks": "",
           "title": {
            "standoff": 15
           },
           "zerolinecolor": "white",
           "zerolinewidth": 2
          },
          "yaxis": {
           "automargin": true,
           "gridcolor": "white",
           "linecolor": "white",
           "ticks": "",
           "title": {
            "standoff": 15
           },
           "zerolinecolor": "white",
           "zerolinewidth": 2
          }
         }
        },
        "title": {
         "text": "Correlation Matrix of Audio Features"
        },
        "xaxis": {
         "title": {
          "text": ""
         }
        },
        "yaxis": {
         "title": {
          "text": ""
         }
        }
       }
      },
      "text/html": [
       "<div>                            <div id=\"a9269cd8-aba0-4572-8370-fae4dad552bc\" class=\"plotly-graph-div\" style=\"height:525px; width:100%;\"></div>            <script type=\"text/javascript\">                require([\"plotly\"], function(Plotly) {                    window.PLOTLYENV=window.PLOTLYENV || {};                                    if (document.getElementById(\"a9269cd8-aba0-4572-8370-fae4dad552bc\")) {                    Plotly.newPlot(                        \"a9269cd8-aba0-4572-8370-fae4dad552bc\",                        [{\"colorbar\":{\"title\":{\"text\":\"Correlation\"}},\"colorscale\":[[0.0,\"rgb(103,0,31)\"],[0.1,\"rgb(178,24,43)\"],[0.2,\"rgb(214,96,77)\"],[0.3,\"rgb(244,165,130)\"],[0.4,\"rgb(253,219,199)\"],[0.5,\"rgb(247,247,247)\"],[0.6,\"rgb(209,229,240)\"],[0.7,\"rgb(146,197,222)\"],[0.8,\"rgb(67,147,195)\"],[0.9,\"rgb(33,102,172)\"],[1.0,\"rgb(5,48,97)\"]],\"x\":[\"duration\",\"energy\",\"key\",\"loudness\",\"mode\",\"speechiness\",\"acousticness\",\"instrumentalness\",\"liveness\",\"valence\",\"tempo\",\"danceability\"],\"y\":[\"duration\",\"energy\",\"key\",\"loudness\",\"mode\",\"speechiness\",\"acousticness\",\"instrumentalness\",\"liveness\",\"valence\",\"tempo\",\"danceability\"],\"z\":[[1.0,0.008278614200594534,-0.046874750505900314,0.07343194842763727,0.16391612065235409,-0.07393835035806474,-0.03654176043653525,-0.10744973383221322,-0.12560303719153165,-0.2044256400579198,0.0639215106168033,-0.20087233464148227],[0.008278614200594534,1.0,-0.08754193814226693,0.741793502987356,0.09525516594024587,-0.05964367755397553,-0.7035515059812375,-0.27503397994943996,-0.03325132300307001,0.23865934271999706,0.25986317310798107,0.014443446799637383],[-0.046874750505900314,-0.08754193814226693,1.0,-0.08133864011876027,-0.16324382286961345,0.034264593163458396,0.050491818214248425,0.20654719260796486,0.10796099918629051,0.03144839600421261,-0.09284467690299435,0.04341581757436363],[0.07343194842763727,0.741793502987356,-0.08133864011876027,1.0,0.17908753864867694,-0.21400859527291832,-0.5111766423472645,-0.3453495741252484,-0.019159187566629293,0.26039739741510215,0.12191553151792427,0.13903918009979674],[0.16391612065235409,0.09525516594024587,-0.16324382286961345,0.17908753864867694,1.0,-0.11528172938662606,-0.02659284077668303,-0.08279376827361168,-0.03504187057255182,-0.07895240269377798,-0.0278198021632115,-0.18328793377278424],[-0.07393835035806474,-0.05964367755397553,0.034264593163458396,-0.21400859527291832,-0.11528172938662606,1.0,0.07903033844378839,0.009310982611582752,-0.007594313388843635,0.02660260017970011,0.17232408325980925,0.16208857727808712],[-0.03654176043653525,-0.7035515059812375,0.050491818214248425,-0.5111766423472645,-0.02659284077668303,0.07903033844378839,1.0,0.2266349850095711,-0.12215418296018644,-0.1398982315335356,-0.23581047438913233,-0.1860991514493598],[-0.10744973383221322,-0.27503397994943996,0.20654719260796486,-0.3453495741252484,-0.08279376827361168,0.009310982611582752,0.2266349850095711,1.0,0.029135847760233164,0.104192154226373,-0.10337207609801355,-0.09196819918254653],[-0.12560303719153165,-0.03325132300307001,0.10796099918629051,-0.019159187566629293,-0.03504187057255182,-0.007594313388843635,-0.12215418296018644,0.029135847760233164,1.0,-0.16977733889273874,-0.09047199530470293,0.010374016238572169],[-0.2044256400579198,0.23865934271999706,0.03144839600421261,0.26039739741510215,-0.07895240269377798,0.02660260017970011,-0.1398982315335356,0.104192154226373,-0.16977733889273874,1.0,-0.05904329506998928,0.37964280244192977],[0.0639215106168033,0.25986317310798107,-0.09284467690299435,0.12191553151792427,-0.0278198021632115,0.17232408325980925,-0.23581047438913233,-0.10337207609801355,-0.09047199530470293,-0.05904329506998928,1.0,-0.05772721185569122],[-0.20087233464148227,0.014443446799637383,0.04341581757436363,0.13903918009979674,-0.18328793377278424,0.16208857727808712,-0.1860991514493598,-0.09196819918254653,0.010374016238572169,0.37964280244192977,-0.05772721185569122,1.0]],\"type\":\"heatmap\"}],                        {\"template\":{\"data\":{\"histogram2dcontour\":[{\"type\":\"histogram2dcontour\",\"colorbar\":{\"outlinewidth\":0,\"ticks\":\"\"},\"colorscale\":[[0.0,\"#0d0887\"],[0.1111111111111111,\"#46039f\"],[0.2222222222222222,\"#7201a8\"],[0.3333333333333333,\"#9c179e\"],[0.4444444444444444,\"#bd3786\"],[0.5555555555555556,\"#d8576b\"],[0.6666666666666666,\"#ed7953\"],[0.7777777777777778,\"#fb9f3a\"],[0.8888888888888888,\"#fdca26\"],[1.0,\"#f0f921\"]]}],\"choropleth\":[{\"type\":\"choropleth\",\"colorbar\":{\"outlinewidth\":0,\"ticks\":\"\"}}],\"histogram2d\":[{\"type\":\"histogram2d\",\"colorbar\":{\"outlinewidth\":0,\"ticks\":\"\"},\"colorscale\":[[0.0,\"#0d0887\"],[0.1111111111111111,\"#46039f\"],[0.2222222222222222,\"#7201a8\"],[0.3333333333333333,\"#9c179e\"],[0.4444444444444444,\"#bd3786\"],[0.5555555555555556,\"#d8576b\"],[0.6666666666666666,\"#ed7953\"],[0.7777777777777778,\"#fb9f3a\"],[0.8888888888888888,\"#fdca26\"],[1.0,\"#f0f921\"]]}],\"heatmap\":[{\"type\":\"heatmap\",\"colorbar\":{\"outlinewidth\":0,\"ticks\":\"\"},\"colorscale\":[[0.0,\"#0d0887\"],[0.1111111111111111,\"#46039f\"],[0.2222222222222222,\"#7201a8\"],[0.3333333333333333,\"#9c179e\"],[0.4444444444444444,\"#bd3786\"],[0.5555555555555556,\"#d8576b\"],[0.6666666666666666,\"#ed7953\"],[0.7777777777777778,\"#fb9f3a\"],[0.8888888888888888,\"#fdca26\"],[1.0,\"#f0f921\"]]}],\"heatmapgl\":[{\"type\":\"heatmapgl\",\"colorbar\":{\"outlinewidth\":0,\"ticks\":\"\"},\"colorscale\":[[0.0,\"#0d0887\"],[0.1111111111111111,\"#46039f\"],[0.2222222222222222,\"#7201a8\"],[0.3333333333333333,\"#9c179e\"],[0.4444444444444444,\"#bd3786\"],[0.5555555555555556,\"#d8576b\"],[0.6666666666666666,\"#ed7953\"],[0.7777777777777778,\"#fb9f3a\"],[0.8888888888888888,\"#fdca26\"],[1.0,\"#f0f921\"]]}],\"contourcarpet\":[{\"type\":\"contourcarpet\",\"colorbar\":{\"outlinewidth\":0,\"ticks\":\"\"}}],\"contour\":[{\"type\":\"contour\",\"colorbar\":{\"outlinewidth\":0,\"ticks\":\"\"},\"colorscale\":[[0.0,\"#0d0887\"],[0.1111111111111111,\"#46039f\"],[0.2222222222222222,\"#7201a8\"],[0.3333333333333333,\"#9c179e\"],[0.4444444444444444,\"#bd3786\"],[0.5555555555555556,\"#d8576b\"],[0.6666666666666666,\"#ed7953\"],[0.7777777777777778,\"#fb9f3a\"],[0.8888888888888888,\"#fdca26\"],[1.0,\"#f0f921\"]]}],\"surface\":[{\"type\":\"surface\",\"colorbar\":{\"outlinewidth\":0,\"ticks\":\"\"},\"colorscale\":[[0.0,\"#0d0887\"],[0.1111111111111111,\"#46039f\"],[0.2222222222222222,\"#7201a8\"],[0.3333333333333333,\"#9c179e\"],[0.4444444444444444,\"#bd3786\"],[0.5555555555555556,\"#d8576b\"],[0.6666666666666666,\"#ed7953\"],[0.7777777777777778,\"#fb9f3a\"],[0.8888888888888888,\"#fdca26\"],[1.0,\"#f0f921\"]]}],\"mesh3d\":[{\"type\":\"mesh3d\",\"colorbar\":{\"outlinewidth\":0,\"ticks\":\"\"}}],\"scatter\":[{\"fillpattern\":{\"fillmode\":\"overlay\",\"size\":10,\"solidity\":0.2},\"type\":\"scatter\"}],\"parcoords\":[{\"type\":\"parcoords\",\"line\":{\"colorbar\":{\"outlinewidth\":0,\"ticks\":\"\"}}}],\"scatterpolargl\":[{\"type\":\"scatterpolargl\",\"marker\":{\"colorbar\":{\"outlinewidth\":0,\"ticks\":\"\"}}}],\"bar\":[{\"error_x\":{\"color\":\"#2a3f5f\"},\"error_y\":{\"color\":\"#2a3f5f\"},\"marker\":{\"line\":{\"color\":\"#E5ECF6\",\"width\":0.5},\"pattern\":{\"fillmode\":\"overlay\",\"size\":10,\"solidity\":0.2}},\"type\":\"bar\"}],\"scattergeo\":[{\"type\":\"scattergeo\",\"marker\":{\"colorbar\":{\"outlinewidth\":0,\"ticks\":\"\"}}}],\"scatterpolar\":[{\"type\":\"scatterpolar\",\"marker\":{\"colorbar\":{\"outlinewidth\":0,\"ticks\":\"\"}}}],\"histogram\":[{\"marker\":{\"pattern\":{\"fillmode\":\"overlay\",\"size\":10,\"solidity\":0.2}},\"type\":\"histogram\"}],\"scattergl\":[{\"type\":\"scattergl\",\"marker\":{\"colorbar\":{\"outlinewidth\":0,\"ticks\":\"\"}}}],\"scatter3d\":[{\"type\":\"scatter3d\",\"line\":{\"colorbar\":{\"outlinewidth\":0,\"ticks\":\"\"}},\"marker\":{\"colorbar\":{\"outlinewidth\":0,\"ticks\":\"\"}}}],\"scattermapbox\":[{\"type\":\"scattermapbox\",\"marker\":{\"colorbar\":{\"outlinewidth\":0,\"ticks\":\"\"}}}],\"scatterternary\":[{\"type\":\"scatterternary\",\"marker\":{\"colorbar\":{\"outlinewidth\":0,\"ticks\":\"\"}}}],\"scattercarpet\":[{\"type\":\"scattercarpet\",\"marker\":{\"colorbar\":{\"outlinewidth\":0,\"ticks\":\"\"}}}],\"carpet\":[{\"aaxis\":{\"endlinecolor\":\"#2a3f5f\",\"gridcolor\":\"white\",\"linecolor\":\"white\",\"minorgridcolor\":\"white\",\"startlinecolor\":\"#2a3f5f\"},\"baxis\":{\"endlinecolor\":\"#2a3f5f\",\"gridcolor\":\"white\",\"linecolor\":\"white\",\"minorgridcolor\":\"white\",\"startlinecolor\":\"#2a3f5f\"},\"type\":\"carpet\"}],\"table\":[{\"cells\":{\"fill\":{\"color\":\"#EBF0F8\"},\"line\":{\"color\":\"white\"}},\"header\":{\"fill\":{\"color\":\"#C8D4E3\"},\"line\":{\"color\":\"white\"}},\"type\":\"table\"}],\"barpolar\":[{\"marker\":{\"line\":{\"color\":\"#E5ECF6\",\"width\":0.5},\"pattern\":{\"fillmode\":\"overlay\",\"size\":10,\"solidity\":0.2}},\"type\":\"barpolar\"}],\"pie\":[{\"automargin\":true,\"type\":\"pie\"}]},\"layout\":{\"autotypenumbers\":\"strict\",\"colorway\":[\"#636efa\",\"#EF553B\",\"#00cc96\",\"#ab63fa\",\"#FFA15A\",\"#19d3f3\",\"#FF6692\",\"#B6E880\",\"#FF97FF\",\"#FECB52\"],\"font\":{\"color\":\"#2a3f5f\"},\"hovermode\":\"closest\",\"hoverlabel\":{\"align\":\"left\"},\"paper_bgcolor\":\"white\",\"plot_bgcolor\":\"#E5ECF6\",\"polar\":{\"bgcolor\":\"#E5ECF6\",\"angularaxis\":{\"gridcolor\":\"white\",\"linecolor\":\"white\",\"ticks\":\"\"},\"radialaxis\":{\"gridcolor\":\"white\",\"linecolor\":\"white\",\"ticks\":\"\"}},\"ternary\":{\"bgcolor\":\"#E5ECF6\",\"aaxis\":{\"gridcolor\":\"white\",\"linecolor\":\"white\",\"ticks\":\"\"},\"baxis\":{\"gridcolor\":\"white\",\"linecolor\":\"white\",\"ticks\":\"\"},\"caxis\":{\"gridcolor\":\"white\",\"linecolor\":\"white\",\"ticks\":\"\"}},\"coloraxis\":{\"colorbar\":{\"outlinewidth\":0,\"ticks\":\"\"}},\"colorscale\":{\"sequential\":[[0.0,\"#0d0887\"],[0.1111111111111111,\"#46039f\"],[0.2222222222222222,\"#7201a8\"],[0.3333333333333333,\"#9c179e\"],[0.4444444444444444,\"#bd3786\"],[0.5555555555555556,\"#d8576b\"],[0.6666666666666666,\"#ed7953\"],[0.7777777777777778,\"#fb9f3a\"],[0.8888888888888888,\"#fdca26\"],[1.0,\"#f0f921\"]],\"sequentialminus\":[[0.0,\"#0d0887\"],[0.1111111111111111,\"#46039f\"],[0.2222222222222222,\"#7201a8\"],[0.3333333333333333,\"#9c179e\"],[0.4444444444444444,\"#bd3786\"],[0.5555555555555556,\"#d8576b\"],[0.6666666666666666,\"#ed7953\"],[0.7777777777777778,\"#fb9f3a\"],[0.8888888888888888,\"#fdca26\"],[1.0,\"#f0f921\"]],\"diverging\":[[0,\"#8e0152\"],[0.1,\"#c51b7d\"],[0.2,\"#de77ae\"],[0.3,\"#f1b6da\"],[0.4,\"#fde0ef\"],[0.5,\"#f7f7f7\"],[0.6,\"#e6f5d0\"],[0.7,\"#b8e186\"],[0.8,\"#7fbc41\"],[0.9,\"#4d9221\"],[1,\"#276419\"]]},\"xaxis\":{\"gridcolor\":\"white\",\"linecolor\":\"white\",\"ticks\":\"\",\"title\":{\"standoff\":15},\"zerolinecolor\":\"white\",\"automargin\":true,\"zerolinewidth\":2},\"yaxis\":{\"gridcolor\":\"white\",\"linecolor\":\"white\",\"ticks\":\"\",\"title\":{\"standoff\":15},\"zerolinecolor\":\"white\",\"automargin\":true,\"zerolinewidth\":2},\"scene\":{\"xaxis\":{\"backgroundcolor\":\"#E5ECF6\",\"gridcolor\":\"white\",\"linecolor\":\"white\",\"showbackground\":true,\"ticks\":\"\",\"zerolinecolor\":\"white\",\"gridwidth\":2},\"yaxis\":{\"backgroundcolor\":\"#E5ECF6\",\"gridcolor\":\"white\",\"linecolor\":\"white\",\"showbackground\":true,\"ticks\":\"\",\"zerolinecolor\":\"white\",\"gridwidth\":2},\"zaxis\":{\"backgroundcolor\":\"#E5ECF6\",\"gridcolor\":\"white\",\"linecolor\":\"white\",\"showbackground\":true,\"ticks\":\"\",\"zerolinecolor\":\"white\",\"gridwidth\":2}},\"shapedefaults\":{\"line\":{\"color\":\"#2a3f5f\"}},\"annotationdefaults\":{\"arrowcolor\":\"#2a3f5f\",\"arrowhead\":0,\"arrowwidth\":1},\"geo\":{\"bgcolor\":\"white\",\"landcolor\":\"#E5ECF6\",\"subunitcolor\":\"white\",\"showland\":true,\"showlakes\":true,\"lakecolor\":\"white\"},\"title\":{\"x\":0.05},\"mapbox\":{\"style\":\"light\"}}},\"title\":{\"text\":\"Correlation Matrix of Audio Features\"},\"xaxis\":{\"title\":{\"text\":\"\"}},\"yaxis\":{\"title\":{\"text\":\"\"}}},                        {\"responsive\": true}                    ).then(function(){\n",
       "                            \n",
       "var gd = document.getElementById('a9269cd8-aba0-4572-8370-fae4dad552bc');\n",
       "var x = new MutationObserver(function (mutations, observer) {{\n",
       "        var display = window.getComputedStyle(gd).display;\n",
       "        if (!display || display === 'none') {{\n",
       "            console.log([gd, 'removed!']);\n",
       "            Plotly.purge(gd);\n",
       "            observer.disconnect();\n",
       "        }}\n",
       "}});\n",
       "\n",
       "// Listen for the removal of the full notebook cells\n",
       "var notebookContainer = gd.closest('#notebook-container');\n",
       "if (notebookContainer) {{\n",
       "    x.observe(notebookContainer, {childList: true});\n",
       "}}\n",
       "\n",
       "// Listen for the clearing of the current output cell\n",
       "var outputEl = gd.closest('.output');\n",
       "if (outputEl) {{\n",
       "    x.observe(outputEl, {childList: true});\n",
       "}}\n",
       "\n",
       "                        })                };                });            </script>        </div>"
      ]
     },
     "metadata": {},
     "output_type": "display_data"
    }
   ],
   "source": [
    "features_df = pd.read_csv(\"C:\\\\Users\\\\deeee\\\\Downloads\\\\Features_dp.csv\")\n",
    "corr_matrix = features_df.corr()\n",
    "fig = go.Figure(data=go.Heatmap(\n",
    "z=corr_matrix.values,\n",
    "x=corr_matrix.index.values,\n",
    "y=corr_matrix.columns.values,\n",
    "colorscale='RdBu',\n",
    "colorbar=dict(title='Correlation')\n",
    "))\n",
    "fig.update_layout(title='Correlation Matrix of Audio Features',\n",
    "xaxis_title='', yaxis_title='')\n",
    "\n",
    "fig.show()"
   ]
  },
  {
   "cell_type": "code",
   "execution_count": 155,
   "metadata": {},
   "outputs": [
    {
     "data": {
      "application/vnd.plotly.v1+json": {
       "config": {
        "plotlyServerURL": "https://plot.ly"
       },
       "data": [
        {
         "alignmentgroup": "True",
         "hovertemplate": "Artist=%{x}<br>Streams (Billions)=%{y}<extra></extra>",
         "legendgroup": "",
         "marker": {
          "color": "#636efa",
          "pattern": {
           "shape": ""
          }
         },
         "name": "",
         "offsetgroup": "",
         "orientation": "v",
         "showlegend": false,
         "textposition": "auto",
         "type": "bar",
         "x": [
          "The Weeknd",
          "Ed Sheeran",
          "Imagine Dragons",
          "Ed Sheeran",
          "Ed Sheeran",
          "Dua Lipa",
          "Harry Styles",
          "Ed Sheeran",
          "Queen",
          "Harry Styles",
          "Justin Bieber",
          "Post Malone",
          "XXXTentacion",
          "Imagine Dragons",
          "XXXTentacion",
          "Dua Lipa",
          "The Weeknd",
          "Justin Bieber",
          "Shawn Mendes",
          "Post Malone",
          "Imagine Dragons",
          "XXXTentacion",
          "Shawn Mendes",
          "Shawn Mendes",
          "Queen"
         ],
         "xaxis": "x",
         "y": [
          3.449,
          3.398,
          2.41,
          2.361,
          2.177,
          2.17,
          2.14,
          2.099,
          2.069,
          2.012,
          2.003,
          1.99,
          1.987,
          1.926,
          1.905,
          1.825,
          1.802,
          1.76,
          1.725,
          1.71,
          1.679,
          1.6,
          1.579,
          1.559,
          1.521
         ],
         "yaxis": "y"
        }
       ],
       "layout": {
        "barmode": "relative",
        "legend": {
         "tracegroupgap": 0
        },
        "template": {
         "data": {
          "bar": [
           {
            "error_x": {
             "color": "#2a3f5f"
            },
            "error_y": {
             "color": "#2a3f5f"
            },
            "marker": {
             "line": {
              "color": "#E5ECF6",
              "width": 0.5
             },
             "pattern": {
              "fillmode": "overlay",
              "size": 10,
              "solidity": 0.2
             }
            },
            "type": "bar"
           }
          ],
          "barpolar": [
           {
            "marker": {
             "line": {
              "color": "#E5ECF6",
              "width": 0.5
             },
             "pattern": {
              "fillmode": "overlay",
              "size": 10,
              "solidity": 0.2
             }
            },
            "type": "barpolar"
           }
          ],
          "carpet": [
           {
            "aaxis": {
             "endlinecolor": "#2a3f5f",
             "gridcolor": "white",
             "linecolor": "white",
             "minorgridcolor": "white",
             "startlinecolor": "#2a3f5f"
            },
            "baxis": {
             "endlinecolor": "#2a3f5f",
             "gridcolor": "white",
             "linecolor": "white",
             "minorgridcolor": "white",
             "startlinecolor": "#2a3f5f"
            },
            "type": "carpet"
           }
          ],
          "choropleth": [
           {
            "colorbar": {
             "outlinewidth": 0,
             "ticks": ""
            },
            "type": "choropleth"
           }
          ],
          "contour": [
           {
            "colorbar": {
             "outlinewidth": 0,
             "ticks": ""
            },
            "colorscale": [
             [
              0,
              "#0d0887"
             ],
             [
              0.1111111111111111,
              "#46039f"
             ],
             [
              0.2222222222222222,
              "#7201a8"
             ],
             [
              0.3333333333333333,
              "#9c179e"
             ],
             [
              0.4444444444444444,
              "#bd3786"
             ],
             [
              0.5555555555555556,
              "#d8576b"
             ],
             [
              0.6666666666666666,
              "#ed7953"
             ],
             [
              0.7777777777777778,
              "#fb9f3a"
             ],
             [
              0.8888888888888888,
              "#fdca26"
             ],
             [
              1,
              "#f0f921"
             ]
            ],
            "type": "contour"
           }
          ],
          "contourcarpet": [
           {
            "colorbar": {
             "outlinewidth": 0,
             "ticks": ""
            },
            "type": "contourcarpet"
           }
          ],
          "heatmap": [
           {
            "colorbar": {
             "outlinewidth": 0,
             "ticks": ""
            },
            "colorscale": [
             [
              0,
              "#0d0887"
             ],
             [
              0.1111111111111111,
              "#46039f"
             ],
             [
              0.2222222222222222,
              "#7201a8"
             ],
             [
              0.3333333333333333,
              "#9c179e"
             ],
             [
              0.4444444444444444,
              "#bd3786"
             ],
             [
              0.5555555555555556,
              "#d8576b"
             ],
             [
              0.6666666666666666,
              "#ed7953"
             ],
             [
              0.7777777777777778,
              "#fb9f3a"
             ],
             [
              0.8888888888888888,
              "#fdca26"
             ],
             [
              1,
              "#f0f921"
             ]
            ],
            "type": "heatmap"
           }
          ],
          "heatmapgl": [
           {
            "colorbar": {
             "outlinewidth": 0,
             "ticks": ""
            },
            "colorscale": [
             [
              0,
              "#0d0887"
             ],
             [
              0.1111111111111111,
              "#46039f"
             ],
             [
              0.2222222222222222,
              "#7201a8"
             ],
             [
              0.3333333333333333,
              "#9c179e"
             ],
             [
              0.4444444444444444,
              "#bd3786"
             ],
             [
              0.5555555555555556,
              "#d8576b"
             ],
             [
              0.6666666666666666,
              "#ed7953"
             ],
             [
              0.7777777777777778,
              "#fb9f3a"
             ],
             [
              0.8888888888888888,
              "#fdca26"
             ],
             [
              1,
              "#f0f921"
             ]
            ],
            "type": "heatmapgl"
           }
          ],
          "histogram": [
           {
            "marker": {
             "pattern": {
              "fillmode": "overlay",
              "size": 10,
              "solidity": 0.2
             }
            },
            "type": "histogram"
           }
          ],
          "histogram2d": [
           {
            "colorbar": {
             "outlinewidth": 0,
             "ticks": ""
            },
            "colorscale": [
             [
              0,
              "#0d0887"
             ],
             [
              0.1111111111111111,
              "#46039f"
             ],
             [
              0.2222222222222222,
              "#7201a8"
             ],
             [
              0.3333333333333333,
              "#9c179e"
             ],
             [
              0.4444444444444444,
              "#bd3786"
             ],
             [
              0.5555555555555556,
              "#d8576b"
             ],
             [
              0.6666666666666666,
              "#ed7953"
             ],
             [
              0.7777777777777778,
              "#fb9f3a"
             ],
             [
              0.8888888888888888,
              "#fdca26"
             ],
             [
              1,
              "#f0f921"
             ]
            ],
            "type": "histogram2d"
           }
          ],
          "histogram2dcontour": [
           {
            "colorbar": {
             "outlinewidth": 0,
             "ticks": ""
            },
            "colorscale": [
             [
              0,
              "#0d0887"
             ],
             [
              0.1111111111111111,
              "#46039f"
             ],
             [
              0.2222222222222222,
              "#7201a8"
             ],
             [
              0.3333333333333333,
              "#9c179e"
             ],
             [
              0.4444444444444444,
              "#bd3786"
             ],
             [
              0.5555555555555556,
              "#d8576b"
             ],
             [
              0.6666666666666666,
              "#ed7953"
             ],
             [
              0.7777777777777778,
              "#fb9f3a"
             ],
             [
              0.8888888888888888,
              "#fdca26"
             ],
             [
              1,
              "#f0f921"
             ]
            ],
            "type": "histogram2dcontour"
           }
          ],
          "mesh3d": [
           {
            "colorbar": {
             "outlinewidth": 0,
             "ticks": ""
            },
            "type": "mesh3d"
           }
          ],
          "parcoords": [
           {
            "line": {
             "colorbar": {
              "outlinewidth": 0,
              "ticks": ""
             }
            },
            "type": "parcoords"
           }
          ],
          "pie": [
           {
            "automargin": true,
            "type": "pie"
           }
          ],
          "scatter": [
           {
            "fillpattern": {
             "fillmode": "overlay",
             "size": 10,
             "solidity": 0.2
            },
            "type": "scatter"
           }
          ],
          "scatter3d": [
           {
            "line": {
             "colorbar": {
              "outlinewidth": 0,
              "ticks": ""
             }
            },
            "marker": {
             "colorbar": {
              "outlinewidth": 0,
              "ticks": ""
             }
            },
            "type": "scatter3d"
           }
          ],
          "scattercarpet": [
           {
            "marker": {
             "colorbar": {
              "outlinewidth": 0,
              "ticks": ""
             }
            },
            "type": "scattercarpet"
           }
          ],
          "scattergeo": [
           {
            "marker": {
             "colorbar": {
              "outlinewidth": 0,
              "ticks": ""
             }
            },
            "type": "scattergeo"
           }
          ],
          "scattergl": [
           {
            "marker": {
             "colorbar": {
              "outlinewidth": 0,
              "ticks": ""
             }
            },
            "type": "scattergl"
           }
          ],
          "scattermapbox": [
           {
            "marker": {
             "colorbar": {
              "outlinewidth": 0,
              "ticks": ""
             }
            },
            "type": "scattermapbox"
           }
          ],
          "scatterpolar": [
           {
            "marker": {
             "colorbar": {
              "outlinewidth": 0,
              "ticks": ""
             }
            },
            "type": "scatterpolar"
           }
          ],
          "scatterpolargl": [
           {
            "marker": {
             "colorbar": {
              "outlinewidth": 0,
              "ticks": ""
             }
            },
            "type": "scatterpolargl"
           }
          ],
          "scatterternary": [
           {
            "marker": {
             "colorbar": {
              "outlinewidth": 0,
              "ticks": ""
             }
            },
            "type": "scatterternary"
           }
          ],
          "surface": [
           {
            "colorbar": {
             "outlinewidth": 0,
             "ticks": ""
            },
            "colorscale": [
             [
              0,
              "#0d0887"
             ],
             [
              0.1111111111111111,
              "#46039f"
             ],
             [
              0.2222222222222222,
              "#7201a8"
             ],
             [
              0.3333333333333333,
              "#9c179e"
             ],
             [
              0.4444444444444444,
              "#bd3786"
             ],
             [
              0.5555555555555556,
              "#d8576b"
             ],
             [
              0.6666666666666666,
              "#ed7953"
             ],
             [
              0.7777777777777778,
              "#fb9f3a"
             ],
             [
              0.8888888888888888,
              "#fdca26"
             ],
             [
              1,
              "#f0f921"
             ]
            ],
            "type": "surface"
           }
          ],
          "table": [
           {
            "cells": {
             "fill": {
              "color": "#EBF0F8"
             },
             "line": {
              "color": "white"
             }
            },
            "header": {
             "fill": {
              "color": "#C8D4E3"
             },
             "line": {
              "color": "white"
             }
            },
            "type": "table"
           }
          ]
         },
         "layout": {
          "annotationdefaults": {
           "arrowcolor": "#2a3f5f",
           "arrowhead": 0,
           "arrowwidth": 1
          },
          "autotypenumbers": "strict",
          "coloraxis": {
           "colorbar": {
            "outlinewidth": 0,
            "ticks": ""
           }
          },
          "colorscale": {
           "diverging": [
            [
             0,
             "#8e0152"
            ],
            [
             0.1,
             "#c51b7d"
            ],
            [
             0.2,
             "#de77ae"
            ],
            [
             0.3,
             "#f1b6da"
            ],
            [
             0.4,
             "#fde0ef"
            ],
            [
             0.5,
             "#f7f7f7"
            ],
            [
             0.6,
             "#e6f5d0"
            ],
            [
             0.7,
             "#b8e186"
            ],
            [
             0.8,
             "#7fbc41"
            ],
            [
             0.9,
             "#4d9221"
            ],
            [
             1,
             "#276419"
            ]
           ],
           "sequential": [
            [
             0,
             "#0d0887"
            ],
            [
             0.1111111111111111,
             "#46039f"
            ],
            [
             0.2222222222222222,
             "#7201a8"
            ],
            [
             0.3333333333333333,
             "#9c179e"
            ],
            [
             0.4444444444444444,
             "#bd3786"
            ],
            [
             0.5555555555555556,
             "#d8576b"
            ],
            [
             0.6666666666666666,
             "#ed7953"
            ],
            [
             0.7777777777777778,
             "#fb9f3a"
            ],
            [
             0.8888888888888888,
             "#fdca26"
            ],
            [
             1,
             "#f0f921"
            ]
           ],
           "sequentialminus": [
            [
             0,
             "#0d0887"
            ],
            [
             0.1111111111111111,
             "#46039f"
            ],
            [
             0.2222222222222222,
             "#7201a8"
            ],
            [
             0.3333333333333333,
             "#9c179e"
            ],
            [
             0.4444444444444444,
             "#bd3786"
            ],
            [
             0.5555555555555556,
             "#d8576b"
            ],
            [
             0.6666666666666666,
             "#ed7953"
            ],
            [
             0.7777777777777778,
             "#fb9f3a"
            ],
            [
             0.8888888888888888,
             "#fdca26"
            ],
            [
             1,
             "#f0f921"
            ]
           ]
          },
          "colorway": [
           "#636efa",
           "#EF553B",
           "#00cc96",
           "#ab63fa",
           "#FFA15A",
           "#19d3f3",
           "#FF6692",
           "#B6E880",
           "#FF97FF",
           "#FECB52"
          ],
          "font": {
           "color": "#2a3f5f"
          },
          "geo": {
           "bgcolor": "white",
           "lakecolor": "white",
           "landcolor": "#E5ECF6",
           "showlakes": true,
           "showland": true,
           "subunitcolor": "white"
          },
          "hoverlabel": {
           "align": "left"
          },
          "hovermode": "closest",
          "mapbox": {
           "style": "light"
          },
          "paper_bgcolor": "white",
          "plot_bgcolor": "#E5ECF6",
          "polar": {
           "angularaxis": {
            "gridcolor": "white",
            "linecolor": "white",
            "ticks": ""
           },
           "bgcolor": "#E5ECF6",
           "radialaxis": {
            "gridcolor": "white",
            "linecolor": "white",
            "ticks": ""
           }
          },
          "scene": {
           "xaxis": {
            "backgroundcolor": "#E5ECF6",
            "gridcolor": "white",
            "gridwidth": 2,
            "linecolor": "white",
            "showbackground": true,
            "ticks": "",
            "zerolinecolor": "white"
           },
           "yaxis": {
            "backgroundcolor": "#E5ECF6",
            "gridcolor": "white",
            "gridwidth": 2,
            "linecolor": "white",
            "showbackground": true,
            "ticks": "",
            "zerolinecolor": "white"
           },
           "zaxis": {
            "backgroundcolor": "#E5ECF6",
            "gridcolor": "white",
            "gridwidth": 2,
            "linecolor": "white",
            "showbackground": true,
            "ticks": "",
            "zerolinecolor": "white"
           }
          },
          "shapedefaults": {
           "line": {
            "color": "#2a3f5f"
           }
          },
          "ternary": {
           "aaxis": {
            "gridcolor": "white",
            "linecolor": "white",
            "ticks": ""
           },
           "baxis": {
            "gridcolor": "white",
            "linecolor": "white",
            "ticks": ""
           },
           "bgcolor": "#E5ECF6",
           "caxis": {
            "gridcolor": "white",
            "linecolor": "white",
            "ticks": ""
           }
          },
          "title": {
           "x": 0.05
          },
          "xaxis": {
           "automargin": true,
           "gridcolor": "white",
           "linecolor": "white",
           "ticks": "",
           "title": {
            "standoff": 15
           },
           "zerolinecolor": "white",
           "zerolinewidth": 2
          },
          "yaxis": {
           "automargin": true,
           "gridcolor": "white",
           "linecolor": "white",
           "ticks": "",
           "title": {
            "standoff": 15
           },
           "zerolinecolor": "white",
           "zerolinewidth": 2
          }
         }
        },
        "title": {
         "text": "Top 10 Most Streamed Artists"
        },
        "xaxis": {
         "anchor": "y",
         "domain": [
          0,
          1
         ],
         "title": {
          "text": "Artist"
         }
        },
        "yaxis": {
         "anchor": "x",
         "domain": [
          0,
          1
         ],
         "title": {
          "text": "Streams (Billions)"
         }
        }
       }
      },
      "text/html": [
       "<div>                            <div id=\"0770c376-1c8a-4a04-a471-66feec2ca554\" class=\"plotly-graph-div\" style=\"height:525px; width:100%;\"></div>            <script type=\"text/javascript\">                require([\"plotly\"], function(Plotly) {                    window.PLOTLYENV=window.PLOTLYENV || {};                                    if (document.getElementById(\"0770c376-1c8a-4a04-a471-66feec2ca554\")) {                    Plotly.newPlot(                        \"0770c376-1c8a-4a04-a471-66feec2ca554\",                        [{\"alignmentgroup\":\"True\",\"hovertemplate\":\"Artist=%{x}<br>Streams (Billions)=%{y}<extra></extra>\",\"legendgroup\":\"\",\"marker\":{\"color\":\"#636efa\",\"pattern\":{\"shape\":\"\"}},\"name\":\"\",\"offsetgroup\":\"\",\"orientation\":\"v\",\"showlegend\":false,\"textposition\":\"auto\",\"x\":[\"The Weeknd\",\"Ed Sheeran\",\"Imagine Dragons\",\"Ed Sheeran\",\"Ed Sheeran\",\"Dua Lipa\",\"Harry Styles\",\"Ed Sheeran\",\"Queen\",\"Harry Styles\",\"Justin Bieber\",\"Post Malone\",\"XXXTentacion\",\"Imagine Dragons\",\"XXXTentacion\",\"Dua Lipa\",\"The Weeknd\",\"Justin Bieber\",\"Shawn Mendes\",\"Post Malone\",\"Imagine Dragons\",\"XXXTentacion\",\"Shawn Mendes\",\"Shawn Mendes\",\"Queen\"],\"xaxis\":\"x\",\"y\":[3.449,3.398,2.41,2.361,2.177,2.17,2.14,2.099,2.069,2.012,2.003,1.99,1.987,1.926,1.905,1.825,1.802,1.76,1.725,1.71,1.679,1.6,1.579,1.559,1.521],\"yaxis\":\"y\",\"type\":\"bar\"}],                        {\"template\":{\"data\":{\"histogram2dcontour\":[{\"type\":\"histogram2dcontour\",\"colorbar\":{\"outlinewidth\":0,\"ticks\":\"\"},\"colorscale\":[[0.0,\"#0d0887\"],[0.1111111111111111,\"#46039f\"],[0.2222222222222222,\"#7201a8\"],[0.3333333333333333,\"#9c179e\"],[0.4444444444444444,\"#bd3786\"],[0.5555555555555556,\"#d8576b\"],[0.6666666666666666,\"#ed7953\"],[0.7777777777777778,\"#fb9f3a\"],[0.8888888888888888,\"#fdca26\"],[1.0,\"#f0f921\"]]}],\"choropleth\":[{\"type\":\"choropleth\",\"colorbar\":{\"outlinewidth\":0,\"ticks\":\"\"}}],\"histogram2d\":[{\"type\":\"histogram2d\",\"colorbar\":{\"outlinewidth\":0,\"ticks\":\"\"},\"colorscale\":[[0.0,\"#0d0887\"],[0.1111111111111111,\"#46039f\"],[0.2222222222222222,\"#7201a8\"],[0.3333333333333333,\"#9c179e\"],[0.4444444444444444,\"#bd3786\"],[0.5555555555555556,\"#d8576b\"],[0.6666666666666666,\"#ed7953\"],[0.7777777777777778,\"#fb9f3a\"],[0.8888888888888888,\"#fdca26\"],[1.0,\"#f0f921\"]]}],\"heatmap\":[{\"type\":\"heatmap\",\"colorbar\":{\"outlinewidth\":0,\"ticks\":\"\"},\"colorscale\":[[0.0,\"#0d0887\"],[0.1111111111111111,\"#46039f\"],[0.2222222222222222,\"#7201a8\"],[0.3333333333333333,\"#9c179e\"],[0.4444444444444444,\"#bd3786\"],[0.5555555555555556,\"#d8576b\"],[0.6666666666666666,\"#ed7953\"],[0.7777777777777778,\"#fb9f3a\"],[0.8888888888888888,\"#fdca26\"],[1.0,\"#f0f921\"]]}],\"heatmapgl\":[{\"type\":\"heatmapgl\",\"colorbar\":{\"outlinewidth\":0,\"ticks\":\"\"},\"colorscale\":[[0.0,\"#0d0887\"],[0.1111111111111111,\"#46039f\"],[0.2222222222222222,\"#7201a8\"],[0.3333333333333333,\"#9c179e\"],[0.4444444444444444,\"#bd3786\"],[0.5555555555555556,\"#d8576b\"],[0.6666666666666666,\"#ed7953\"],[0.7777777777777778,\"#fb9f3a\"],[0.8888888888888888,\"#fdca26\"],[1.0,\"#f0f921\"]]}],\"contourcarpet\":[{\"type\":\"contourcarpet\",\"colorbar\":{\"outlinewidth\":0,\"ticks\":\"\"}}],\"contour\":[{\"type\":\"contour\",\"colorbar\":{\"outlinewidth\":0,\"ticks\":\"\"},\"colorscale\":[[0.0,\"#0d0887\"],[0.1111111111111111,\"#46039f\"],[0.2222222222222222,\"#7201a8\"],[0.3333333333333333,\"#9c179e\"],[0.4444444444444444,\"#bd3786\"],[0.5555555555555556,\"#d8576b\"],[0.6666666666666666,\"#ed7953\"],[0.7777777777777778,\"#fb9f3a\"],[0.8888888888888888,\"#fdca26\"],[1.0,\"#f0f921\"]]}],\"surface\":[{\"type\":\"surface\",\"colorbar\":{\"outlinewidth\":0,\"ticks\":\"\"},\"colorscale\":[[0.0,\"#0d0887\"],[0.1111111111111111,\"#46039f\"],[0.2222222222222222,\"#7201a8\"],[0.3333333333333333,\"#9c179e\"],[0.4444444444444444,\"#bd3786\"],[0.5555555555555556,\"#d8576b\"],[0.6666666666666666,\"#ed7953\"],[0.7777777777777778,\"#fb9f3a\"],[0.8888888888888888,\"#fdca26\"],[1.0,\"#f0f921\"]]}],\"mesh3d\":[{\"type\":\"mesh3d\",\"colorbar\":{\"outlinewidth\":0,\"ticks\":\"\"}}],\"scatter\":[{\"fillpattern\":{\"fillmode\":\"overlay\",\"size\":10,\"solidity\":0.2},\"type\":\"scatter\"}],\"parcoords\":[{\"type\":\"parcoords\",\"line\":{\"colorbar\":{\"outlinewidth\":0,\"ticks\":\"\"}}}],\"scatterpolargl\":[{\"type\":\"scatterpolargl\",\"marker\":{\"colorbar\":{\"outlinewidth\":0,\"ticks\":\"\"}}}],\"bar\":[{\"error_x\":{\"color\":\"#2a3f5f\"},\"error_y\":{\"color\":\"#2a3f5f\"},\"marker\":{\"line\":{\"color\":\"#E5ECF6\",\"width\":0.5},\"pattern\":{\"fillmode\":\"overlay\",\"size\":10,\"solidity\":0.2}},\"type\":\"bar\"}],\"scattergeo\":[{\"type\":\"scattergeo\",\"marker\":{\"colorbar\":{\"outlinewidth\":0,\"ticks\":\"\"}}}],\"scatterpolar\":[{\"type\":\"scatterpolar\",\"marker\":{\"colorbar\":{\"outlinewidth\":0,\"ticks\":\"\"}}}],\"histogram\":[{\"marker\":{\"pattern\":{\"fillmode\":\"overlay\",\"size\":10,\"solidity\":0.2}},\"type\":\"histogram\"}],\"scattergl\":[{\"type\":\"scattergl\",\"marker\":{\"colorbar\":{\"outlinewidth\":0,\"ticks\":\"\"}}}],\"scatter3d\":[{\"type\":\"scatter3d\",\"line\":{\"colorbar\":{\"outlinewidth\":0,\"ticks\":\"\"}},\"marker\":{\"colorbar\":{\"outlinewidth\":0,\"ticks\":\"\"}}}],\"scattermapbox\":[{\"type\":\"scattermapbox\",\"marker\":{\"colorbar\":{\"outlinewidth\":0,\"ticks\":\"\"}}}],\"scatterternary\":[{\"type\":\"scatterternary\",\"marker\":{\"colorbar\":{\"outlinewidth\":0,\"ticks\":\"\"}}}],\"scattercarpet\":[{\"type\":\"scattercarpet\",\"marker\":{\"colorbar\":{\"outlinewidth\":0,\"ticks\":\"\"}}}],\"carpet\":[{\"aaxis\":{\"endlinecolor\":\"#2a3f5f\",\"gridcolor\":\"white\",\"linecolor\":\"white\",\"minorgridcolor\":\"white\",\"startlinecolor\":\"#2a3f5f\"},\"baxis\":{\"endlinecolor\":\"#2a3f5f\",\"gridcolor\":\"white\",\"linecolor\":\"white\",\"minorgridcolor\":\"white\",\"startlinecolor\":\"#2a3f5f\"},\"type\":\"carpet\"}],\"table\":[{\"cells\":{\"fill\":{\"color\":\"#EBF0F8\"},\"line\":{\"color\":\"white\"}},\"header\":{\"fill\":{\"color\":\"#C8D4E3\"},\"line\":{\"color\":\"white\"}},\"type\":\"table\"}],\"barpolar\":[{\"marker\":{\"line\":{\"color\":\"#E5ECF6\",\"width\":0.5},\"pattern\":{\"fillmode\":\"overlay\",\"size\":10,\"solidity\":0.2}},\"type\":\"barpolar\"}],\"pie\":[{\"automargin\":true,\"type\":\"pie\"}]},\"layout\":{\"autotypenumbers\":\"strict\",\"colorway\":[\"#636efa\",\"#EF553B\",\"#00cc96\",\"#ab63fa\",\"#FFA15A\",\"#19d3f3\",\"#FF6692\",\"#B6E880\",\"#FF97FF\",\"#FECB52\"],\"font\":{\"color\":\"#2a3f5f\"},\"hovermode\":\"closest\",\"hoverlabel\":{\"align\":\"left\"},\"paper_bgcolor\":\"white\",\"plot_bgcolor\":\"#E5ECF6\",\"polar\":{\"bgcolor\":\"#E5ECF6\",\"angularaxis\":{\"gridcolor\":\"white\",\"linecolor\":\"white\",\"ticks\":\"\"},\"radialaxis\":{\"gridcolor\":\"white\",\"linecolor\":\"white\",\"ticks\":\"\"}},\"ternary\":{\"bgcolor\":\"#E5ECF6\",\"aaxis\":{\"gridcolor\":\"white\",\"linecolor\":\"white\",\"ticks\":\"\"},\"baxis\":{\"gridcolor\":\"white\",\"linecolor\":\"white\",\"ticks\":\"\"},\"caxis\":{\"gridcolor\":\"white\",\"linecolor\":\"white\",\"ticks\":\"\"}},\"coloraxis\":{\"colorbar\":{\"outlinewidth\":0,\"ticks\":\"\"}},\"colorscale\":{\"sequential\":[[0.0,\"#0d0887\"],[0.1111111111111111,\"#46039f\"],[0.2222222222222222,\"#7201a8\"],[0.3333333333333333,\"#9c179e\"],[0.4444444444444444,\"#bd3786\"],[0.5555555555555556,\"#d8576b\"],[0.6666666666666666,\"#ed7953\"],[0.7777777777777778,\"#fb9f3a\"],[0.8888888888888888,\"#fdca26\"],[1.0,\"#f0f921\"]],\"sequentialminus\":[[0.0,\"#0d0887\"],[0.1111111111111111,\"#46039f\"],[0.2222222222222222,\"#7201a8\"],[0.3333333333333333,\"#9c179e\"],[0.4444444444444444,\"#bd3786\"],[0.5555555555555556,\"#d8576b\"],[0.6666666666666666,\"#ed7953\"],[0.7777777777777778,\"#fb9f3a\"],[0.8888888888888888,\"#fdca26\"],[1.0,\"#f0f921\"]],\"diverging\":[[0,\"#8e0152\"],[0.1,\"#c51b7d\"],[0.2,\"#de77ae\"],[0.3,\"#f1b6da\"],[0.4,\"#fde0ef\"],[0.5,\"#f7f7f7\"],[0.6,\"#e6f5d0\"],[0.7,\"#b8e186\"],[0.8,\"#7fbc41\"],[0.9,\"#4d9221\"],[1,\"#276419\"]]},\"xaxis\":{\"gridcolor\":\"white\",\"linecolor\":\"white\",\"ticks\":\"\",\"title\":{\"standoff\":15},\"zerolinecolor\":\"white\",\"automargin\":true,\"zerolinewidth\":2},\"yaxis\":{\"gridcolor\":\"white\",\"linecolor\":\"white\",\"ticks\":\"\",\"title\":{\"standoff\":15},\"zerolinecolor\":\"white\",\"automargin\":true,\"zerolinewidth\":2},\"scene\":{\"xaxis\":{\"backgroundcolor\":\"#E5ECF6\",\"gridcolor\":\"white\",\"linecolor\":\"white\",\"showbackground\":true,\"ticks\":\"\",\"zerolinecolor\":\"white\",\"gridwidth\":2},\"yaxis\":{\"backgroundcolor\":\"#E5ECF6\",\"gridcolor\":\"white\",\"linecolor\":\"white\",\"showbackground\":true,\"ticks\":\"\",\"zerolinecolor\":\"white\",\"gridwidth\":2},\"zaxis\":{\"backgroundcolor\":\"#E5ECF6\",\"gridcolor\":\"white\",\"linecolor\":\"white\",\"showbackground\":true,\"ticks\":\"\",\"zerolinecolor\":\"white\",\"gridwidth\":2}},\"shapedefaults\":{\"line\":{\"color\":\"#2a3f5f\"}},\"annotationdefaults\":{\"arrowcolor\":\"#2a3f5f\",\"arrowhead\":0,\"arrowwidth\":1},\"geo\":{\"bgcolor\":\"white\",\"landcolor\":\"#E5ECF6\",\"subunitcolor\":\"white\",\"showland\":true,\"showlakes\":true,\"lakecolor\":\"white\"},\"title\":{\"x\":0.05},\"mapbox\":{\"style\":\"light\"}}},\"xaxis\":{\"anchor\":\"y\",\"domain\":[0.0,1.0],\"title\":{\"text\":\"Artist\"}},\"yaxis\":{\"anchor\":\"x\",\"domain\":[0.0,1.0],\"title\":{\"text\":\"Streams (Billions)\"}},\"legend\":{\"tracegroupgap\":0},\"title\":{\"text\":\"Top 10 Most Streamed Artists\"},\"barmode\":\"relative\"},                        {\"responsive\": true}                    ).then(function(){\n",
       "                            \n",
       "var gd = document.getElementById('0770c376-1c8a-4a04-a471-66feec2ca554');\n",
       "var x = new MutationObserver(function (mutations, observer) {{\n",
       "        var display = window.getComputedStyle(gd).display;\n",
       "        if (!display || display === 'none') {{\n",
       "            console.log([gd, 'removed!']);\n",
       "            Plotly.purge(gd);\n",
       "            observer.disconnect();\n",
       "        }}\n",
       "}});\n",
       "\n",
       "// Listen for the removal of the full notebook cells\n",
       "var notebookContainer = gd.closest('#notebook-container');\n",
       "if (notebookContainer) {{\n",
       "    x.observe(notebookContainer, {childList: true});\n",
       "}}\n",
       "\n",
       "// Listen for the clearing of the current output cell\n",
       "var outputEl = gd.closest('.output');\n",
       "if (outputEl) {{\n",
       "    x.observe(outputEl, {childList: true});\n",
       "}}\n",
       "\n",
       "                        })                };                });            </script>        </div>"
      ]
     },
     "metadata": {},
     "output_type": "display_data"
    }
   ],
   "source": [
    "artist_streams = streams_df.groupby('Artist')['Streams (Billions)'].sum()\n",
    "\n",
    "top_artists = artist_streams.sort_values(ascending=False).head(10)\n",
    "\n",
    "top_artists_df = streams_df[streams_df['Artist'].isin(top_artists.index)]\n",
    "\n",
    "fig = px.bar(top_artists_df, x=\"Artist\", y=\"Streams (Billions)\", title=\"Top 10 Most Streamed Artists\")\n",
    "fig.show()\n"
   ]
  },
  {
   "cell_type": "code",
   "execution_count": 272,
   "metadata": {},
   "outputs": [
    {
     "data": {
      "application/vnd.plotly.v1+json": {
       "config": {
        "plotlyServerURL": "https://plot.ly"
       },
       "data": [
        {
         "hovertemplate": "acousticness=%{x}<br>energy=%{y}<extra></extra>",
         "legendgroup": "",
         "marker": {
          "color": "#636efa",
          "symbol": "circle"
         },
         "mode": "markers",
         "name": "",
         "orientation": "v",
         "showlegend": false,
         "type": "scatter",
         "x": [
          0.00146,
          0.581,
          0.692,
          0.751,
          0.124,
          0.556,
          0.00776,
          0.414,
          0.945,
          0.0622,
          0.0392,
          0.433,
          0.44,
          0.695,
          0.141,
          0.328,
          0.474,
          0.349,
          0.876,
          0.934,
          0.122,
          0.0332,
          0.607,
          0.288,
          0.0498,
          0.0495,
          0.371,
          0.342,
          0.835,
          0.192,
          0.258,
          0.634,
          0.922,
          0.000147,
          0.592,
          0.0847,
          0.469,
          0.184,
          0.0462,
          0.00264,
          0.0654,
          0.00265,
          0.0038,
          0.431,
          0.121,
          0.000282,
          0.365,
          0.0671,
          0.00513,
          0.000744,
          0.335,
          0.0000847,
          0.037,
          0.0863,
          0.768,
          0.00346,
          0.106,
          0.0143,
          0.331,
          0.588,
          0.215,
          0.0281,
          0.00286,
          0.0203,
          0.00868,
          0.00979,
          0.19,
          0.00121,
          0.00801,
          0.64,
          0.00883,
          0.0353,
          0.699,
          0.229,
          0.0902,
          0.401,
          0.293,
          0.696,
          0.186,
          0.0293,
          0.00379,
          0.228,
          0.556,
          0.000509,
          0.324,
          0.013,
          0.104,
          0.0622,
          0.38,
          0.0151,
          0.0472,
          0.0000255,
          0.371,
          0.0886,
          0.534,
          0.287,
          0.00239,
          0.122,
          0.198,
          0.71
         ],
         "xaxis": "x",
         "y": [
          0.73,
          0.652,
          0.588,
          0.405,
          0.52,
          0.479,
          0.625,
          0.524,
          0.31,
          0.78,
          0.548,
          0.663,
          0.525,
          0.557,
          0.587,
          0.425,
          0.445,
          0.566,
          0.185,
          0.296,
          0.816,
          0.449,
          0.379,
          0.402,
          0.635,
          0.807,
          0.385,
          0.731,
          0.378,
          0.762,
          0.613,
          0.664,
          0.264,
          0.89,
          0.317,
          0.728,
          0.391,
          0.523,
          0.637,
          0.75,
          0.705,
          0.7,
          0.783,
          0.731,
          0.67,
          0.621,
          0.545,
          0.564,
          0.73,
          0.871,
          0.664,
          0.643,
          0.862,
          0.716,
          0.431,
          0.809,
          0.819,
          0.719,
          0.578,
          0.42,
          0.804,
          0.627,
          0.669,
          0.704,
          0.744,
          0.684,
          0.71,
          0.911,
          0.609,
          0.372,
          0.825,
          0.714,
          0.502,
          0.653,
          0.676,
          0.573,
          0.503,
          0.74,
          0.532,
          0.769,
          0.783,
          0.816,
          0.537,
          0.893,
          0.521,
          0.56,
          0.586,
          0.847,
          0.813,
          0.754,
          0.698,
          0.912,
          0.559,
          0.633,
          0.505,
          0.473,
          0.661,
          0.816,
          0.797,
          0.553
         ],
         "yaxis": "y"
        },
        {
         "hovertemplate": "<b>OLS trendline</b><br>energy = -0.412811 * acousticness + 0.733225<br>R<sup>2</sup>=0.494985<br><br>acousticness=%{x}<br>energy=%{y} <b>(trend)</b><extra></extra>",
         "legendgroup": "",
         "marker": {
          "color": "#636efa",
          "symbol": "circle"
         },
         "mode": "lines",
         "name": "",
         "showlegend": false,
         "type": "scatter",
         "x": [
          0.0000255,
          0.0000847,
          0.000147,
          0.000282,
          0.000509,
          0.000744,
          0.00121,
          0.00146,
          0.00239,
          0.00264,
          0.00265,
          0.00286,
          0.00346,
          0.00379,
          0.0038,
          0.00513,
          0.00776,
          0.00801,
          0.00868,
          0.00883,
          0.00979,
          0.013,
          0.0143,
          0.0151,
          0.0203,
          0.0281,
          0.0293,
          0.0332,
          0.0353,
          0.037,
          0.0392,
          0.0462,
          0.0472,
          0.0495,
          0.0498,
          0.0622,
          0.0622,
          0.0654,
          0.0671,
          0.0847,
          0.0863,
          0.0886,
          0.0902,
          0.104,
          0.106,
          0.121,
          0.122,
          0.122,
          0.124,
          0.141,
          0.184,
          0.186,
          0.19,
          0.192,
          0.198,
          0.215,
          0.228,
          0.229,
          0.258,
          0.287,
          0.288,
          0.293,
          0.324,
          0.328,
          0.331,
          0.335,
          0.342,
          0.349,
          0.365,
          0.371,
          0.371,
          0.38,
          0.401,
          0.414,
          0.431,
          0.433,
          0.44,
          0.469,
          0.474,
          0.534,
          0.556,
          0.556,
          0.581,
          0.588,
          0.592,
          0.607,
          0.634,
          0.64,
          0.692,
          0.695,
          0.696,
          0.699,
          0.71,
          0.751,
          0.768,
          0.835,
          0.876,
          0.922,
          0.934,
          0.945
         ],
         "xaxis": "x",
         "y": [
          0.7332143740232239,
          0.7331899356112247,
          0.7331642174850836,
          0.7331084879982612,
          0.7330147798981969,
          0.7329177693100245,
          0.7327253993777338,
          0.732622196624359,
          0.7322382823818046,
          0.7321350796284297,
          0.7321309515182948,
          0.7320442612054598,
          0.7317965745973602,
          0.7316603469629054,
          0.7316562188527704,
          0.7311071802048162,
          0.7300214872393128,
          0.729918284485938,
          0.7296417011068934,
          0.7295797794548685,
          0.7291834808819091,
          0.7278583575285761,
          0.7273217032110268,
          0.7269914544002274,
          0.7248448371300306,
          0.7216249112247353,
          0.7211295380085361,
          0.7195195750558884,
          0.7186526719275397,
          0.7179508932045907,
          0.7170427089748921,
          0.7141530318803964,
          0.713740220866897,
          0.7127907555358484,
          0.7126669122317986,
          0.7075480556644062,
          0.7075480556644062,
          0.7062270604212082,
          0.7055252816982592,
          0.69825980786067,
          0.697599310239071,
          0.6966498449080224,
          0.6959893472864234,
          0.6902925553001318,
          0.689466933273133,
          0.6832747680706422,
          0.6828619570571428,
          0.6828619570571428,
          0.682036335030144,
          0.6750185478006544,
          0.6572676742201807,
          0.656442052193182,
          0.6547908081391844,
          0.6539651861121857,
          0.6514883200311894,
          0.6444705328016997,
          0.6391039896262077,
          0.6386911786127083,
          0.6267196592212261,
          0.6147481398297439,
          0.6143353288162445,
          0.6122712737487476,
          0.5994741323302665,
          0.597822888276269,
          0.5965844552357709,
          0.5949332111817732,
          0.5920435340872775,
          0.5891538569927819,
          0.5825488807767916,
          0.5800720146957953,
          0.5800720146957953,
          0.5763567155743008,
          0.5676876842908136,
          0.5623211411153216,
          0.5553033538858321,
          0.5544777318588332,
          0.5515880547643376,
          0.5396165353728554,
          0.5375524803053584,
          0.5127838194953951,
          0.5037019771984086,
          0.5037019771984086,
          0.4933817018609239,
          0.49049202476642817,
          0.48884078071243064,
          0.4826486155099398,
          0.47150271814545636,
          0.46902585206446,
          0.4475596793624919,
          0.4463212463219937,
          0.44590843530849433,
          0.4446700022679962,
          0.44012908111950294,
          0.42320382956602803,
          0.41618604233653844,
          0.38852770443207946,
          0.37160245287860455,
          0.35261314625763274,
          0.34765941409564005,
          0.34311849294714686
         ],
         "yaxis": "y"
        }
       ],
       "layout": {
        "legend": {
         "tracegroupgap": 0
        },
        "template": {
         "data": {
          "bar": [
           {
            "error_x": {
             "color": "#2a3f5f"
            },
            "error_y": {
             "color": "#2a3f5f"
            },
            "marker": {
             "line": {
              "color": "#E5ECF6",
              "width": 0.5
             },
             "pattern": {
              "fillmode": "overlay",
              "size": 10,
              "solidity": 0.2
             }
            },
            "type": "bar"
           }
          ],
          "barpolar": [
           {
            "marker": {
             "line": {
              "color": "#E5ECF6",
              "width": 0.5
             },
             "pattern": {
              "fillmode": "overlay",
              "size": 10,
              "solidity": 0.2
             }
            },
            "type": "barpolar"
           }
          ],
          "carpet": [
           {
            "aaxis": {
             "endlinecolor": "#2a3f5f",
             "gridcolor": "white",
             "linecolor": "white",
             "minorgridcolor": "white",
             "startlinecolor": "#2a3f5f"
            },
            "baxis": {
             "endlinecolor": "#2a3f5f",
             "gridcolor": "white",
             "linecolor": "white",
             "minorgridcolor": "white",
             "startlinecolor": "#2a3f5f"
            },
            "type": "carpet"
           }
          ],
          "choropleth": [
           {
            "colorbar": {
             "outlinewidth": 0,
             "ticks": ""
            },
            "type": "choropleth"
           }
          ],
          "contour": [
           {
            "colorbar": {
             "outlinewidth": 0,
             "ticks": ""
            },
            "colorscale": [
             [
              0,
              "#0d0887"
             ],
             [
              0.1111111111111111,
              "#46039f"
             ],
             [
              0.2222222222222222,
              "#7201a8"
             ],
             [
              0.3333333333333333,
              "#9c179e"
             ],
             [
              0.4444444444444444,
              "#bd3786"
             ],
             [
              0.5555555555555556,
              "#d8576b"
             ],
             [
              0.6666666666666666,
              "#ed7953"
             ],
             [
              0.7777777777777778,
              "#fb9f3a"
             ],
             [
              0.8888888888888888,
              "#fdca26"
             ],
             [
              1,
              "#f0f921"
             ]
            ],
            "type": "contour"
           }
          ],
          "contourcarpet": [
           {
            "colorbar": {
             "outlinewidth": 0,
             "ticks": ""
            },
            "type": "contourcarpet"
           }
          ],
          "heatmap": [
           {
            "colorbar": {
             "outlinewidth": 0,
             "ticks": ""
            },
            "colorscale": [
             [
              0,
              "#0d0887"
             ],
             [
              0.1111111111111111,
              "#46039f"
             ],
             [
              0.2222222222222222,
              "#7201a8"
             ],
             [
              0.3333333333333333,
              "#9c179e"
             ],
             [
              0.4444444444444444,
              "#bd3786"
             ],
             [
              0.5555555555555556,
              "#d8576b"
             ],
             [
              0.6666666666666666,
              "#ed7953"
             ],
             [
              0.7777777777777778,
              "#fb9f3a"
             ],
             [
              0.8888888888888888,
              "#fdca26"
             ],
             [
              1,
              "#f0f921"
             ]
            ],
            "type": "heatmap"
           }
          ],
          "heatmapgl": [
           {
            "colorbar": {
             "outlinewidth": 0,
             "ticks": ""
            },
            "colorscale": [
             [
              0,
              "#0d0887"
             ],
             [
              0.1111111111111111,
              "#46039f"
             ],
             [
              0.2222222222222222,
              "#7201a8"
             ],
             [
              0.3333333333333333,
              "#9c179e"
             ],
             [
              0.4444444444444444,
              "#bd3786"
             ],
             [
              0.5555555555555556,
              "#d8576b"
             ],
             [
              0.6666666666666666,
              "#ed7953"
             ],
             [
              0.7777777777777778,
              "#fb9f3a"
             ],
             [
              0.8888888888888888,
              "#fdca26"
             ],
             [
              1,
              "#f0f921"
             ]
            ],
            "type": "heatmapgl"
           }
          ],
          "histogram": [
           {
            "marker": {
             "pattern": {
              "fillmode": "overlay",
              "size": 10,
              "solidity": 0.2
             }
            },
            "type": "histogram"
           }
          ],
          "histogram2d": [
           {
            "colorbar": {
             "outlinewidth": 0,
             "ticks": ""
            },
            "colorscale": [
             [
              0,
              "#0d0887"
             ],
             [
              0.1111111111111111,
              "#46039f"
             ],
             [
              0.2222222222222222,
              "#7201a8"
             ],
             [
              0.3333333333333333,
              "#9c179e"
             ],
             [
              0.4444444444444444,
              "#bd3786"
             ],
             [
              0.5555555555555556,
              "#d8576b"
             ],
             [
              0.6666666666666666,
              "#ed7953"
             ],
             [
              0.7777777777777778,
              "#fb9f3a"
             ],
             [
              0.8888888888888888,
              "#fdca26"
             ],
             [
              1,
              "#f0f921"
             ]
            ],
            "type": "histogram2d"
           }
          ],
          "histogram2dcontour": [
           {
            "colorbar": {
             "outlinewidth": 0,
             "ticks": ""
            },
            "colorscale": [
             [
              0,
              "#0d0887"
             ],
             [
              0.1111111111111111,
              "#46039f"
             ],
             [
              0.2222222222222222,
              "#7201a8"
             ],
             [
              0.3333333333333333,
              "#9c179e"
             ],
             [
              0.4444444444444444,
              "#bd3786"
             ],
             [
              0.5555555555555556,
              "#d8576b"
             ],
             [
              0.6666666666666666,
              "#ed7953"
             ],
             [
              0.7777777777777778,
              "#fb9f3a"
             ],
             [
              0.8888888888888888,
              "#fdca26"
             ],
             [
              1,
              "#f0f921"
             ]
            ],
            "type": "histogram2dcontour"
           }
          ],
          "mesh3d": [
           {
            "colorbar": {
             "outlinewidth": 0,
             "ticks": ""
            },
            "type": "mesh3d"
           }
          ],
          "parcoords": [
           {
            "line": {
             "colorbar": {
              "outlinewidth": 0,
              "ticks": ""
             }
            },
            "type": "parcoords"
           }
          ],
          "pie": [
           {
            "automargin": true,
            "type": "pie"
           }
          ],
          "scatter": [
           {
            "fillpattern": {
             "fillmode": "overlay",
             "size": 10,
             "solidity": 0.2
            },
            "type": "scatter"
           }
          ],
          "scatter3d": [
           {
            "line": {
             "colorbar": {
              "outlinewidth": 0,
              "ticks": ""
             }
            },
            "marker": {
             "colorbar": {
              "outlinewidth": 0,
              "ticks": ""
             }
            },
            "type": "scatter3d"
           }
          ],
          "scattercarpet": [
           {
            "marker": {
             "colorbar": {
              "outlinewidth": 0,
              "ticks": ""
             }
            },
            "type": "scattercarpet"
           }
          ],
          "scattergeo": [
           {
            "marker": {
             "colorbar": {
              "outlinewidth": 0,
              "ticks": ""
             }
            },
            "type": "scattergeo"
           }
          ],
          "scattergl": [
           {
            "marker": {
             "colorbar": {
              "outlinewidth": 0,
              "ticks": ""
             }
            },
            "type": "scattergl"
           }
          ],
          "scattermapbox": [
           {
            "marker": {
             "colorbar": {
              "outlinewidth": 0,
              "ticks": ""
             }
            },
            "type": "scattermapbox"
           }
          ],
          "scatterpolar": [
           {
            "marker": {
             "colorbar": {
              "outlinewidth": 0,
              "ticks": ""
             }
            },
            "type": "scatterpolar"
           }
          ],
          "scatterpolargl": [
           {
            "marker": {
             "colorbar": {
              "outlinewidth": 0,
              "ticks": ""
             }
            },
            "type": "scatterpolargl"
           }
          ],
          "scatterternary": [
           {
            "marker": {
             "colorbar": {
              "outlinewidth": 0,
              "ticks": ""
             }
            },
            "type": "scatterternary"
           }
          ],
          "surface": [
           {
            "colorbar": {
             "outlinewidth": 0,
             "ticks": ""
            },
            "colorscale": [
             [
              0,
              "#0d0887"
             ],
             [
              0.1111111111111111,
              "#46039f"
             ],
             [
              0.2222222222222222,
              "#7201a8"
             ],
             [
              0.3333333333333333,
              "#9c179e"
             ],
             [
              0.4444444444444444,
              "#bd3786"
             ],
             [
              0.5555555555555556,
              "#d8576b"
             ],
             [
              0.6666666666666666,
              "#ed7953"
             ],
             [
              0.7777777777777778,
              "#fb9f3a"
             ],
             [
              0.8888888888888888,
              "#fdca26"
             ],
             [
              1,
              "#f0f921"
             ]
            ],
            "type": "surface"
           }
          ],
          "table": [
           {
            "cells": {
             "fill": {
              "color": "#EBF0F8"
             },
             "line": {
              "color": "white"
             }
            },
            "header": {
             "fill": {
              "color": "#C8D4E3"
             },
             "line": {
              "color": "white"
             }
            },
            "type": "table"
           }
          ]
         },
         "layout": {
          "annotationdefaults": {
           "arrowcolor": "#2a3f5f",
           "arrowhead": 0,
           "arrowwidth": 1
          },
          "autotypenumbers": "strict",
          "coloraxis": {
           "colorbar": {
            "outlinewidth": 0,
            "ticks": ""
           }
          },
          "colorscale": {
           "diverging": [
            [
             0,
             "#8e0152"
            ],
            [
             0.1,
             "#c51b7d"
            ],
            [
             0.2,
             "#de77ae"
            ],
            [
             0.3,
             "#f1b6da"
            ],
            [
             0.4,
             "#fde0ef"
            ],
            [
             0.5,
             "#f7f7f7"
            ],
            [
             0.6,
             "#e6f5d0"
            ],
            [
             0.7,
             "#b8e186"
            ],
            [
             0.8,
             "#7fbc41"
            ],
            [
             0.9,
             "#4d9221"
            ],
            [
             1,
             "#276419"
            ]
           ],
           "sequential": [
            [
             0,
             "#0d0887"
            ],
            [
             0.1111111111111111,
             "#46039f"
            ],
            [
             0.2222222222222222,
             "#7201a8"
            ],
            [
             0.3333333333333333,
             "#9c179e"
            ],
            [
             0.4444444444444444,
             "#bd3786"
            ],
            [
             0.5555555555555556,
             "#d8576b"
            ],
            [
             0.6666666666666666,
             "#ed7953"
            ],
            [
             0.7777777777777778,
             "#fb9f3a"
            ],
            [
             0.8888888888888888,
             "#fdca26"
            ],
            [
             1,
             "#f0f921"
            ]
           ],
           "sequentialminus": [
            [
             0,
             "#0d0887"
            ],
            [
             0.1111111111111111,
             "#46039f"
            ],
            [
             0.2222222222222222,
             "#7201a8"
            ],
            [
             0.3333333333333333,
             "#9c179e"
            ],
            [
             0.4444444444444444,
             "#bd3786"
            ],
            [
             0.5555555555555556,
             "#d8576b"
            ],
            [
             0.6666666666666666,
             "#ed7953"
            ],
            [
             0.7777777777777778,
             "#fb9f3a"
            ],
            [
             0.8888888888888888,
             "#fdca26"
            ],
            [
             1,
             "#f0f921"
            ]
           ]
          },
          "colorway": [
           "#636efa",
           "#EF553B",
           "#00cc96",
           "#ab63fa",
           "#FFA15A",
           "#19d3f3",
           "#FF6692",
           "#B6E880",
           "#FF97FF",
           "#FECB52"
          ],
          "font": {
           "color": "#2a3f5f"
          },
          "geo": {
           "bgcolor": "white",
           "lakecolor": "white",
           "landcolor": "#E5ECF6",
           "showlakes": true,
           "showland": true,
           "subunitcolor": "white"
          },
          "hoverlabel": {
           "align": "left"
          },
          "hovermode": "closest",
          "mapbox": {
           "style": "light"
          },
          "paper_bgcolor": "white",
          "plot_bgcolor": "#E5ECF6",
          "polar": {
           "angularaxis": {
            "gridcolor": "white",
            "linecolor": "white",
            "ticks": ""
           },
           "bgcolor": "#E5ECF6",
           "radialaxis": {
            "gridcolor": "white",
            "linecolor": "white",
            "ticks": ""
           }
          },
          "scene": {
           "xaxis": {
            "backgroundcolor": "#E5ECF6",
            "gridcolor": "white",
            "gridwidth": 2,
            "linecolor": "white",
            "showbackground": true,
            "ticks": "",
            "zerolinecolor": "white"
           },
           "yaxis": {
            "backgroundcolor": "#E5ECF6",
            "gridcolor": "white",
            "gridwidth": 2,
            "linecolor": "white",
            "showbackground": true,
            "ticks": "",
            "zerolinecolor": "white"
           },
           "zaxis": {
            "backgroundcolor": "#E5ECF6",
            "gridcolor": "white",
            "gridwidth": 2,
            "linecolor": "white",
            "showbackground": true,
            "ticks": "",
            "zerolinecolor": "white"
           }
          },
          "shapedefaults": {
           "line": {
            "color": "#2a3f5f"
           }
          },
          "ternary": {
           "aaxis": {
            "gridcolor": "white",
            "linecolor": "white",
            "ticks": ""
           },
           "baxis": {
            "gridcolor": "white",
            "linecolor": "white",
            "ticks": ""
           },
           "bgcolor": "#E5ECF6",
           "caxis": {
            "gridcolor": "white",
            "linecolor": "white",
            "ticks": ""
           }
          },
          "title": {
           "x": 0.05
          },
          "xaxis": {
           "automargin": true,
           "gridcolor": "white",
           "linecolor": "white",
           "ticks": "",
           "title": {
            "standoff": 15
           },
           "zerolinecolor": "white",
           "zerolinewidth": 2
          },
          "yaxis": {
           "automargin": true,
           "gridcolor": "white",
           "linecolor": "white",
           "ticks": "",
           "title": {
            "standoff": 15
           },
           "zerolinecolor": "white",
           "zerolinewidth": 2
          }
         }
        },
        "title": {
         "text": "Acousticness vs Energy"
        },
        "xaxis": {
         "anchor": "y",
         "domain": [
          0,
          1
         ],
         "title": {
          "text": "acousticness"
         }
        },
        "yaxis": {
         "anchor": "x",
         "domain": [
          0,
          1
         ],
         "title": {
          "text": "energy"
         }
        }
       }
      },
      "text/html": [
       "<div>                            <div id=\"4c9bc98d-83ef-4db1-bace-8847588000b5\" class=\"plotly-graph-div\" style=\"height:525px; width:100%;\"></div>            <script type=\"text/javascript\">                require([\"plotly\"], function(Plotly) {                    window.PLOTLYENV=window.PLOTLYENV || {};                                    if (document.getElementById(\"4c9bc98d-83ef-4db1-bace-8847588000b5\")) {                    Plotly.newPlot(                        \"4c9bc98d-83ef-4db1-bace-8847588000b5\",                        [{\"hovertemplate\":\"acousticness=%{x}<br>energy=%{y}<extra></extra>\",\"legendgroup\":\"\",\"marker\":{\"color\":\"#636efa\",\"symbol\":\"circle\"},\"mode\":\"markers\",\"name\":\"\",\"orientation\":\"v\",\"showlegend\":false,\"x\":[0.00146,0.581,0.692,0.751,0.124,0.556,0.00776,0.414,0.945,0.0622,0.0392,0.433,0.44,0.695,0.141,0.328,0.474,0.349,0.876,0.934,0.122,0.0332,0.607,0.288,0.0498,0.0495,0.371,0.342,0.835,0.192,0.258,0.634,0.922,0.000147,0.592,0.0847,0.469,0.184,0.0462,0.00264,0.0654,0.00265,0.0038,0.431,0.121,0.000282,0.365,0.0671,0.00513,0.000744,0.335,8.47e-05,0.037,0.0863,0.768,0.00346,0.106,0.0143,0.331,0.588,0.215,0.0281,0.00286,0.0203,0.00868,0.00979,0.19,0.00121,0.00801,0.64,0.00883,0.0353,0.699,0.229,0.0902,0.401,0.293,0.696,0.186,0.0293,0.00379,0.228,0.556,0.000509,0.324,0.013,0.104,0.0622,0.38,0.0151,0.0472,2.55e-05,0.371,0.0886,0.534,0.287,0.00239,0.122,0.198,0.71],\"xaxis\":\"x\",\"y\":[0.73,0.652,0.588,0.405,0.52,0.479,0.625,0.524,0.31,0.78,0.548,0.663,0.525,0.557,0.587,0.425,0.445,0.566,0.185,0.296,0.816,0.449,0.379,0.402,0.635,0.807,0.385,0.731,0.378,0.762,0.613,0.664,0.264,0.89,0.317,0.728,0.391,0.523,0.637,0.75,0.705,0.7,0.783,0.731,0.67,0.621,0.545,0.564,0.73,0.871,0.664,0.643,0.862,0.716,0.431,0.809,0.819,0.719,0.578,0.42,0.804,0.627,0.669,0.704,0.744,0.684,0.71,0.911,0.609,0.372,0.825,0.714,0.502,0.653,0.676,0.573,0.503,0.74,0.532,0.769,0.783,0.816,0.537,0.893,0.521,0.56,0.586,0.847,0.813,0.754,0.698,0.912,0.559,0.633,0.505,0.473,0.661,0.816,0.797,0.553],\"yaxis\":\"y\",\"type\":\"scatter\"},{\"hovertemplate\":\"<b>OLS trendline</b><br>energy = -0.412811 * acousticness + 0.733225<br>R<sup>2</sup>=0.494985<br><br>acousticness=%{x}<br>energy=%{y} <b>(trend)</b><extra></extra>\",\"legendgroup\":\"\",\"marker\":{\"color\":\"#636efa\",\"symbol\":\"circle\"},\"mode\":\"lines\",\"name\":\"\",\"showlegend\":false,\"x\":[2.55e-05,8.47e-05,0.000147,0.000282,0.000509,0.000744,0.00121,0.00146,0.00239,0.00264,0.00265,0.00286,0.00346,0.00379,0.0038,0.00513,0.00776,0.00801,0.00868,0.00883,0.00979,0.013,0.0143,0.0151,0.0203,0.0281,0.0293,0.0332,0.0353,0.037,0.0392,0.0462,0.0472,0.0495,0.0498,0.0622,0.0622,0.0654,0.0671,0.0847,0.0863,0.0886,0.0902,0.104,0.106,0.121,0.122,0.122,0.124,0.141,0.184,0.186,0.19,0.192,0.198,0.215,0.228,0.229,0.258,0.287,0.288,0.293,0.324,0.328,0.331,0.335,0.342,0.349,0.365,0.371,0.371,0.38,0.401,0.414,0.431,0.433,0.44,0.469,0.474,0.534,0.556,0.556,0.581,0.588,0.592,0.607,0.634,0.64,0.692,0.695,0.696,0.699,0.71,0.751,0.768,0.835,0.876,0.922,0.934,0.945],\"xaxis\":\"x\",\"y\":[0.7332143740232239,0.7331899356112247,0.7331642174850836,0.7331084879982612,0.7330147798981969,0.7329177693100245,0.7327253993777338,0.732622196624359,0.7322382823818046,0.7321350796284297,0.7321309515182948,0.7320442612054598,0.7317965745973602,0.7316603469629054,0.7316562188527704,0.7311071802048162,0.7300214872393128,0.729918284485938,0.7296417011068934,0.7295797794548685,0.7291834808819091,0.7278583575285761,0.7273217032110268,0.7269914544002274,0.7248448371300306,0.7216249112247353,0.7211295380085361,0.7195195750558884,0.7186526719275397,0.7179508932045907,0.7170427089748921,0.7141530318803964,0.713740220866897,0.7127907555358484,0.7126669122317986,0.7075480556644062,0.7075480556644062,0.7062270604212082,0.7055252816982592,0.69825980786067,0.697599310239071,0.6966498449080224,0.6959893472864234,0.6902925553001318,0.689466933273133,0.6832747680706422,0.6828619570571428,0.6828619570571428,0.682036335030144,0.6750185478006544,0.6572676742201807,0.656442052193182,0.6547908081391844,0.6539651861121857,0.6514883200311894,0.6444705328016997,0.6391039896262077,0.6386911786127083,0.6267196592212261,0.6147481398297439,0.6143353288162445,0.6122712737487476,0.5994741323302665,0.597822888276269,0.5965844552357709,0.5949332111817732,0.5920435340872775,0.5891538569927819,0.5825488807767916,0.5800720146957953,0.5800720146957953,0.5763567155743008,0.5676876842908136,0.5623211411153216,0.5553033538858321,0.5544777318588332,0.5515880547643376,0.5396165353728554,0.5375524803053584,0.5127838194953951,0.5037019771984086,0.5037019771984086,0.4933817018609239,0.49049202476642817,0.48884078071243064,0.4826486155099398,0.47150271814545636,0.46902585206446,0.4475596793624919,0.4463212463219937,0.44590843530849433,0.4446700022679962,0.44012908111950294,0.42320382956602803,0.41618604233653844,0.38852770443207946,0.37160245287860455,0.35261314625763274,0.34765941409564005,0.34311849294714686],\"yaxis\":\"y\",\"type\":\"scatter\"}],                        {\"template\":{\"data\":{\"histogram2dcontour\":[{\"type\":\"histogram2dcontour\",\"colorbar\":{\"outlinewidth\":0,\"ticks\":\"\"},\"colorscale\":[[0.0,\"#0d0887\"],[0.1111111111111111,\"#46039f\"],[0.2222222222222222,\"#7201a8\"],[0.3333333333333333,\"#9c179e\"],[0.4444444444444444,\"#bd3786\"],[0.5555555555555556,\"#d8576b\"],[0.6666666666666666,\"#ed7953\"],[0.7777777777777778,\"#fb9f3a\"],[0.8888888888888888,\"#fdca26\"],[1.0,\"#f0f921\"]]}],\"choropleth\":[{\"type\":\"choropleth\",\"colorbar\":{\"outlinewidth\":0,\"ticks\":\"\"}}],\"histogram2d\":[{\"type\":\"histogram2d\",\"colorbar\":{\"outlinewidth\":0,\"ticks\":\"\"},\"colorscale\":[[0.0,\"#0d0887\"],[0.1111111111111111,\"#46039f\"],[0.2222222222222222,\"#7201a8\"],[0.3333333333333333,\"#9c179e\"],[0.4444444444444444,\"#bd3786\"],[0.5555555555555556,\"#d8576b\"],[0.6666666666666666,\"#ed7953\"],[0.7777777777777778,\"#fb9f3a\"],[0.8888888888888888,\"#fdca26\"],[1.0,\"#f0f921\"]]}],\"heatmap\":[{\"type\":\"heatmap\",\"colorbar\":{\"outlinewidth\":0,\"ticks\":\"\"},\"colorscale\":[[0.0,\"#0d0887\"],[0.1111111111111111,\"#46039f\"],[0.2222222222222222,\"#7201a8\"],[0.3333333333333333,\"#9c179e\"],[0.4444444444444444,\"#bd3786\"],[0.5555555555555556,\"#d8576b\"],[0.6666666666666666,\"#ed7953\"],[0.7777777777777778,\"#fb9f3a\"],[0.8888888888888888,\"#fdca26\"],[1.0,\"#f0f921\"]]}],\"heatmapgl\":[{\"type\":\"heatmapgl\",\"colorbar\":{\"outlinewidth\":0,\"ticks\":\"\"},\"colorscale\":[[0.0,\"#0d0887\"],[0.1111111111111111,\"#46039f\"],[0.2222222222222222,\"#7201a8\"],[0.3333333333333333,\"#9c179e\"],[0.4444444444444444,\"#bd3786\"],[0.5555555555555556,\"#d8576b\"],[0.6666666666666666,\"#ed7953\"],[0.7777777777777778,\"#fb9f3a\"],[0.8888888888888888,\"#fdca26\"],[1.0,\"#f0f921\"]]}],\"contourcarpet\":[{\"type\":\"contourcarpet\",\"colorbar\":{\"outlinewidth\":0,\"ticks\":\"\"}}],\"contour\":[{\"type\":\"contour\",\"colorbar\":{\"outlinewidth\":0,\"ticks\":\"\"},\"colorscale\":[[0.0,\"#0d0887\"],[0.1111111111111111,\"#46039f\"],[0.2222222222222222,\"#7201a8\"],[0.3333333333333333,\"#9c179e\"],[0.4444444444444444,\"#bd3786\"],[0.5555555555555556,\"#d8576b\"],[0.6666666666666666,\"#ed7953\"],[0.7777777777777778,\"#fb9f3a\"],[0.8888888888888888,\"#fdca26\"],[1.0,\"#f0f921\"]]}],\"surface\":[{\"type\":\"surface\",\"colorbar\":{\"outlinewidth\":0,\"ticks\":\"\"},\"colorscale\":[[0.0,\"#0d0887\"],[0.1111111111111111,\"#46039f\"],[0.2222222222222222,\"#7201a8\"],[0.3333333333333333,\"#9c179e\"],[0.4444444444444444,\"#bd3786\"],[0.5555555555555556,\"#d8576b\"],[0.6666666666666666,\"#ed7953\"],[0.7777777777777778,\"#fb9f3a\"],[0.8888888888888888,\"#fdca26\"],[1.0,\"#f0f921\"]]}],\"mesh3d\":[{\"type\":\"mesh3d\",\"colorbar\":{\"outlinewidth\":0,\"ticks\":\"\"}}],\"scatter\":[{\"fillpattern\":{\"fillmode\":\"overlay\",\"size\":10,\"solidity\":0.2},\"type\":\"scatter\"}],\"parcoords\":[{\"type\":\"parcoords\",\"line\":{\"colorbar\":{\"outlinewidth\":0,\"ticks\":\"\"}}}],\"scatterpolargl\":[{\"type\":\"scatterpolargl\",\"marker\":{\"colorbar\":{\"outlinewidth\":0,\"ticks\":\"\"}}}],\"bar\":[{\"error_x\":{\"color\":\"#2a3f5f\"},\"error_y\":{\"color\":\"#2a3f5f\"},\"marker\":{\"line\":{\"color\":\"#E5ECF6\",\"width\":0.5},\"pattern\":{\"fillmode\":\"overlay\",\"size\":10,\"solidity\":0.2}},\"type\":\"bar\"}],\"scattergeo\":[{\"type\":\"scattergeo\",\"marker\":{\"colorbar\":{\"outlinewidth\":0,\"ticks\":\"\"}}}],\"scatterpolar\":[{\"type\":\"scatterpolar\",\"marker\":{\"colorbar\":{\"outlinewidth\":0,\"ticks\":\"\"}}}],\"histogram\":[{\"marker\":{\"pattern\":{\"fillmode\":\"overlay\",\"size\":10,\"solidity\":0.2}},\"type\":\"histogram\"}],\"scattergl\":[{\"type\":\"scattergl\",\"marker\":{\"colorbar\":{\"outlinewidth\":0,\"ticks\":\"\"}}}],\"scatter3d\":[{\"type\":\"scatter3d\",\"line\":{\"colorbar\":{\"outlinewidth\":0,\"ticks\":\"\"}},\"marker\":{\"colorbar\":{\"outlinewidth\":0,\"ticks\":\"\"}}}],\"scattermapbox\":[{\"type\":\"scattermapbox\",\"marker\":{\"colorbar\":{\"outlinewidth\":0,\"ticks\":\"\"}}}],\"scatterternary\":[{\"type\":\"scatterternary\",\"marker\":{\"colorbar\":{\"outlinewidth\":0,\"ticks\":\"\"}}}],\"scattercarpet\":[{\"type\":\"scattercarpet\",\"marker\":{\"colorbar\":{\"outlinewidth\":0,\"ticks\":\"\"}}}],\"carpet\":[{\"aaxis\":{\"endlinecolor\":\"#2a3f5f\",\"gridcolor\":\"white\",\"linecolor\":\"white\",\"minorgridcolor\":\"white\",\"startlinecolor\":\"#2a3f5f\"},\"baxis\":{\"endlinecolor\":\"#2a3f5f\",\"gridcolor\":\"white\",\"linecolor\":\"white\",\"minorgridcolor\":\"white\",\"startlinecolor\":\"#2a3f5f\"},\"type\":\"carpet\"}],\"table\":[{\"cells\":{\"fill\":{\"color\":\"#EBF0F8\"},\"line\":{\"color\":\"white\"}},\"header\":{\"fill\":{\"color\":\"#C8D4E3\"},\"line\":{\"color\":\"white\"}},\"type\":\"table\"}],\"barpolar\":[{\"marker\":{\"line\":{\"color\":\"#E5ECF6\",\"width\":0.5},\"pattern\":{\"fillmode\":\"overlay\",\"size\":10,\"solidity\":0.2}},\"type\":\"barpolar\"}],\"pie\":[{\"automargin\":true,\"type\":\"pie\"}]},\"layout\":{\"autotypenumbers\":\"strict\",\"colorway\":[\"#636efa\",\"#EF553B\",\"#00cc96\",\"#ab63fa\",\"#FFA15A\",\"#19d3f3\",\"#FF6692\",\"#B6E880\",\"#FF97FF\",\"#FECB52\"],\"font\":{\"color\":\"#2a3f5f\"},\"hovermode\":\"closest\",\"hoverlabel\":{\"align\":\"left\"},\"paper_bgcolor\":\"white\",\"plot_bgcolor\":\"#E5ECF6\",\"polar\":{\"bgcolor\":\"#E5ECF6\",\"angularaxis\":{\"gridcolor\":\"white\",\"linecolor\":\"white\",\"ticks\":\"\"},\"radialaxis\":{\"gridcolor\":\"white\",\"linecolor\":\"white\",\"ticks\":\"\"}},\"ternary\":{\"bgcolor\":\"#E5ECF6\",\"aaxis\":{\"gridcolor\":\"white\",\"linecolor\":\"white\",\"ticks\":\"\"},\"baxis\":{\"gridcolor\":\"white\",\"linecolor\":\"white\",\"ticks\":\"\"},\"caxis\":{\"gridcolor\":\"white\",\"linecolor\":\"white\",\"ticks\":\"\"}},\"coloraxis\":{\"colorbar\":{\"outlinewidth\":0,\"ticks\":\"\"}},\"colorscale\":{\"sequential\":[[0.0,\"#0d0887\"],[0.1111111111111111,\"#46039f\"],[0.2222222222222222,\"#7201a8\"],[0.3333333333333333,\"#9c179e\"],[0.4444444444444444,\"#bd3786\"],[0.5555555555555556,\"#d8576b\"],[0.6666666666666666,\"#ed7953\"],[0.7777777777777778,\"#fb9f3a\"],[0.8888888888888888,\"#fdca26\"],[1.0,\"#f0f921\"]],\"sequentialminus\":[[0.0,\"#0d0887\"],[0.1111111111111111,\"#46039f\"],[0.2222222222222222,\"#7201a8\"],[0.3333333333333333,\"#9c179e\"],[0.4444444444444444,\"#bd3786\"],[0.5555555555555556,\"#d8576b\"],[0.6666666666666666,\"#ed7953\"],[0.7777777777777778,\"#fb9f3a\"],[0.8888888888888888,\"#fdca26\"],[1.0,\"#f0f921\"]],\"diverging\":[[0,\"#8e0152\"],[0.1,\"#c51b7d\"],[0.2,\"#de77ae\"],[0.3,\"#f1b6da\"],[0.4,\"#fde0ef\"],[0.5,\"#f7f7f7\"],[0.6,\"#e6f5d0\"],[0.7,\"#b8e186\"],[0.8,\"#7fbc41\"],[0.9,\"#4d9221\"],[1,\"#276419\"]]},\"xaxis\":{\"gridcolor\":\"white\",\"linecolor\":\"white\",\"ticks\":\"\",\"title\":{\"standoff\":15},\"zerolinecolor\":\"white\",\"automargin\":true,\"zerolinewidth\":2},\"yaxis\":{\"gridcolor\":\"white\",\"linecolor\":\"white\",\"ticks\":\"\",\"title\":{\"standoff\":15},\"zerolinecolor\":\"white\",\"automargin\":true,\"zerolinewidth\":2},\"scene\":{\"xaxis\":{\"backgroundcolor\":\"#E5ECF6\",\"gridcolor\":\"white\",\"linecolor\":\"white\",\"showbackground\":true,\"ticks\":\"\",\"zerolinecolor\":\"white\",\"gridwidth\":2},\"yaxis\":{\"backgroundcolor\":\"#E5ECF6\",\"gridcolor\":\"white\",\"linecolor\":\"white\",\"showbackground\":true,\"ticks\":\"\",\"zerolinecolor\":\"white\",\"gridwidth\":2},\"zaxis\":{\"backgroundcolor\":\"#E5ECF6\",\"gridcolor\":\"white\",\"linecolor\":\"white\",\"showbackground\":true,\"ticks\":\"\",\"zerolinecolor\":\"white\",\"gridwidth\":2}},\"shapedefaults\":{\"line\":{\"color\":\"#2a3f5f\"}},\"annotationdefaults\":{\"arrowcolor\":\"#2a3f5f\",\"arrowhead\":0,\"arrowwidth\":1},\"geo\":{\"bgcolor\":\"white\",\"landcolor\":\"#E5ECF6\",\"subunitcolor\":\"white\",\"showland\":true,\"showlakes\":true,\"lakecolor\":\"white\"},\"title\":{\"x\":0.05},\"mapbox\":{\"style\":\"light\"}}},\"xaxis\":{\"anchor\":\"y\",\"domain\":[0.0,1.0],\"title\":{\"text\":\"acousticness\"}},\"yaxis\":{\"anchor\":\"x\",\"domain\":[0.0,1.0],\"title\":{\"text\":\"energy\"}},\"legend\":{\"tracegroupgap\":0},\"title\":{\"text\":\"Acousticness vs Energy\"}},                        {\"responsive\": true}                    ).then(function(){\n",
       "                            \n",
       "var gd = document.getElementById('4c9bc98d-83ef-4db1-bace-8847588000b5');\n",
       "var x = new MutationObserver(function (mutations, observer) {{\n",
       "        var display = window.getComputedStyle(gd).display;\n",
       "        if (!display || display === 'none') {{\n",
       "            console.log([gd, 'removed!']);\n",
       "            Plotly.purge(gd);\n",
       "            observer.disconnect();\n",
       "        }}\n",
       "}});\n",
       "\n",
       "// Listen for the removal of the full notebook cells\n",
       "var notebookContainer = gd.closest('#notebook-container');\n",
       "if (notebookContainer) {{\n",
       "    x.observe(notebookContainer, {childList: true});\n",
       "}}\n",
       "\n",
       "// Listen for the clearing of the current output cell\n",
       "var outputEl = gd.closest('.output');\n",
       "if (outputEl) {{\n",
       "    x.observe(outputEl, {childList: true});\n",
       "}}\n",
       "\n",
       "                        })                };                });            </script>        </div>"
      ]
     },
     "metadata": {},
     "output_type": "display_data"
    }
   ],
   "source": [
    "fig = px.scatter(df, x='acousticness', y='energy', trendline='ols', title='Acousticness vs Energy')\n",
    "fig.show()"
   ]
  },
  {
   "cell_type": "code",
   "execution_count": 259,
   "metadata": {},
   "outputs": [
    {
     "data": {
      "text/plain": [
       "key  mode\n",
       "1    1       11\n",
       "2    1        8\n",
       "7    1        7\n",
       "6    0        6\n",
       "10   1        6\n",
       "8    1        6\n",
       "0    1        6\n",
       "6    1        5\n",
       "9    0        5\n",
       "4    1        5\n",
       "11   0        4\n",
       "10   0        4\n",
       "11   1        4\n",
       "5    1        4\n",
       "4    0        4\n",
       "1    0        4\n",
       "0    0        3\n",
       "7    0        2\n",
       "9    1        2\n",
       "8    0        1\n",
       "5    0        1\n",
       "3    1        1\n",
       "     0        1\n",
       "dtype: int64"
      ]
     },
     "execution_count": 259,
     "metadata": {},
     "output_type": "execute_result"
    }
   ],
   "source": [
    "a=features_df.groupby(['key', 'mode']).size().sort_values(ascending=False)\n",
    "a"
   ]
  },
  {
   "cell_type": "code",
   "execution_count": 260,
   "metadata": {},
   "outputs": [
    {
     "data": {
      "text/plain": [
       "65"
      ]
     },
     "execution_count": 260,
     "metadata": {},
     "output_type": "execute_result"
    }
   ],
   "source": [
    "a.loc[(slice(None), 1),].sum()"
   ]
  },
  {
   "attachments": {},
   "cell_type": "markdown",
   "metadata": {},
   "source": [
    "This means that 65% of the songs in this dataset are in the Major scale."
   ]
  },
  {
   "cell_type": "code",
   "execution_count": 263,
   "metadata": {},
   "outputs": [
    {
     "data": {
      "application/vnd.plotly.v1+json": {
       "config": {
        "plotlyServerURL": "https://plot.ly"
       },
       "data": [
        {
         "alignmentgroup": "True",
         "bingroup": "x",
         "histfunc": "sum",
         "hovertemplate": "mode=%{x}<br>sum of valence=%{y}<extra></extra>",
         "legendgroup": "",
         "marker": {
          "color": "#636efa",
          "pattern": {
           "shape": ""
          }
         },
         "name": "",
         "offsetgroup": "",
         "orientation": "v",
         "showlegend": false,
         "type": "histogram",
         "x": [
          1,
          0,
          0,
          1,
          0,
          1,
          1,
          1,
          0,
          0,
          0,
          1,
          1,
          1,
          1,
          1,
          1,
          0,
          0,
          0,
          1,
          1,
          1,
          0,
          0,
          1,
          1,
          0,
          1,
          1,
          1,
          0,
          1,
          1,
          0,
          1,
          0,
          1,
          0,
          0,
          0,
          0,
          1,
          1,
          1,
          0,
          1,
          0,
          1,
          1,
          1,
          0,
          0,
          1,
          1,
          0,
          0,
          1,
          1,
          1,
          1,
          1,
          1,
          0,
          1,
          1,
          1,
          1,
          1,
          1,
          0,
          0,
          1,
          1,
          1,
          0,
          0,
          1,
          1,
          1,
          1,
          1,
          0,
          1,
          0,
          1,
          0,
          1,
          0,
          1,
          0,
          1,
          1,
          1,
          1,
          1,
          1,
          1,
          1,
          1
         ],
         "xaxis": "x",
         "y": [
          0.334,
          0.931,
          0.513,
          0.446,
          0.129,
          0.913,
          0.37,
          0.661,
          0.125,
          0.666,
          0.749,
          0.6,
          0.531,
          0.494,
          0.486,
          0.562,
          0.591,
          0.218,
          0.707,
          0.12,
          0.557,
          0.357,
          0.22,
          0.228,
          0.446,
          0.398,
          0.323,
          0.662,
          0.515,
          0.553,
          0.473,
          0.437,
          0.331,
          0.259,
          0.327,
          0.43,
          0.437,
          0.394,
          0.648,
          0.401,
          0.477,
          0.608,
          0.643,
          0.51,
          0.472,
          0.421,
          0.243,
          0.137,
          0.446,
          0.219,
          0.688,
          0.492,
          0.592,
          0.163,
          0.137,
          0.274,
          0.747,
          0.863,
          0.341,
          0.184,
          0.492,
          0.159,
          0.662,
          0.894,
          0.0612,
          0.556,
          0.428,
          0.236,
          0.928,
          0.476,
          0.915,
          0.71,
          0.674,
          0.412,
          0.843,
          0.145,
          0.71,
          0.532,
          0.405,
          0.733,
          0.816,
          0.816,
          0.711,
          0.434,
          0.494,
          0.86,
          0.642,
          0.1,
          0.969,
          0.755,
          0.732,
          0.72,
          0.62,
          0.505,
          0.419,
          0.34,
          0.285,
          0.557,
          0.839,
          0.419
         ],
         "yaxis": "y"
        }
       ],
       "layout": {
        "barmode": "relative",
        "legend": {
         "tracegroupgap": 0
        },
        "template": {
         "data": {
          "bar": [
           {
            "error_x": {
             "color": "#2a3f5f"
            },
            "error_y": {
             "color": "#2a3f5f"
            },
            "marker": {
             "line": {
              "color": "#E5ECF6",
              "width": 0.5
             },
             "pattern": {
              "fillmode": "overlay",
              "size": 10,
              "solidity": 0.2
             }
            },
            "type": "bar"
           }
          ],
          "barpolar": [
           {
            "marker": {
             "line": {
              "color": "#E5ECF6",
              "width": 0.5
             },
             "pattern": {
              "fillmode": "overlay",
              "size": 10,
              "solidity": 0.2
             }
            },
            "type": "barpolar"
           }
          ],
          "carpet": [
           {
            "aaxis": {
             "endlinecolor": "#2a3f5f",
             "gridcolor": "white",
             "linecolor": "white",
             "minorgridcolor": "white",
             "startlinecolor": "#2a3f5f"
            },
            "baxis": {
             "endlinecolor": "#2a3f5f",
             "gridcolor": "white",
             "linecolor": "white",
             "minorgridcolor": "white",
             "startlinecolor": "#2a3f5f"
            },
            "type": "carpet"
           }
          ],
          "choropleth": [
           {
            "colorbar": {
             "outlinewidth": 0,
             "ticks": ""
            },
            "type": "choropleth"
           }
          ],
          "contour": [
           {
            "colorbar": {
             "outlinewidth": 0,
             "ticks": ""
            },
            "colorscale": [
             [
              0,
              "#0d0887"
             ],
             [
              0.1111111111111111,
              "#46039f"
             ],
             [
              0.2222222222222222,
              "#7201a8"
             ],
             [
              0.3333333333333333,
              "#9c179e"
             ],
             [
              0.4444444444444444,
              "#bd3786"
             ],
             [
              0.5555555555555556,
              "#d8576b"
             ],
             [
              0.6666666666666666,
              "#ed7953"
             ],
             [
              0.7777777777777778,
              "#fb9f3a"
             ],
             [
              0.8888888888888888,
              "#fdca26"
             ],
             [
              1,
              "#f0f921"
             ]
            ],
            "type": "contour"
           }
          ],
          "contourcarpet": [
           {
            "colorbar": {
             "outlinewidth": 0,
             "ticks": ""
            },
            "type": "contourcarpet"
           }
          ],
          "heatmap": [
           {
            "colorbar": {
             "outlinewidth": 0,
             "ticks": ""
            },
            "colorscale": [
             [
              0,
              "#0d0887"
             ],
             [
              0.1111111111111111,
              "#46039f"
             ],
             [
              0.2222222222222222,
              "#7201a8"
             ],
             [
              0.3333333333333333,
              "#9c179e"
             ],
             [
              0.4444444444444444,
              "#bd3786"
             ],
             [
              0.5555555555555556,
              "#d8576b"
             ],
             [
              0.6666666666666666,
              "#ed7953"
             ],
             [
              0.7777777777777778,
              "#fb9f3a"
             ],
             [
              0.8888888888888888,
              "#fdca26"
             ],
             [
              1,
              "#f0f921"
             ]
            ],
            "type": "heatmap"
           }
          ],
          "heatmapgl": [
           {
            "colorbar": {
             "outlinewidth": 0,
             "ticks": ""
            },
            "colorscale": [
             [
              0,
              "#0d0887"
             ],
             [
              0.1111111111111111,
              "#46039f"
             ],
             [
              0.2222222222222222,
              "#7201a8"
             ],
             [
              0.3333333333333333,
              "#9c179e"
             ],
             [
              0.4444444444444444,
              "#bd3786"
             ],
             [
              0.5555555555555556,
              "#d8576b"
             ],
             [
              0.6666666666666666,
              "#ed7953"
             ],
             [
              0.7777777777777778,
              "#fb9f3a"
             ],
             [
              0.8888888888888888,
              "#fdca26"
             ],
             [
              1,
              "#f0f921"
             ]
            ],
            "type": "heatmapgl"
           }
          ],
          "histogram": [
           {
            "marker": {
             "pattern": {
              "fillmode": "overlay",
              "size": 10,
              "solidity": 0.2
             }
            },
            "type": "histogram"
           }
          ],
          "histogram2d": [
           {
            "colorbar": {
             "outlinewidth": 0,
             "ticks": ""
            },
            "colorscale": [
             [
              0,
              "#0d0887"
             ],
             [
              0.1111111111111111,
              "#46039f"
             ],
             [
              0.2222222222222222,
              "#7201a8"
             ],
             [
              0.3333333333333333,
              "#9c179e"
             ],
             [
              0.4444444444444444,
              "#bd3786"
             ],
             [
              0.5555555555555556,
              "#d8576b"
             ],
             [
              0.6666666666666666,
              "#ed7953"
             ],
             [
              0.7777777777777778,
              "#fb9f3a"
             ],
             [
              0.8888888888888888,
              "#fdca26"
             ],
             [
              1,
              "#f0f921"
             ]
            ],
            "type": "histogram2d"
           }
          ],
          "histogram2dcontour": [
           {
            "colorbar": {
             "outlinewidth": 0,
             "ticks": ""
            },
            "colorscale": [
             [
              0,
              "#0d0887"
             ],
             [
              0.1111111111111111,
              "#46039f"
             ],
             [
              0.2222222222222222,
              "#7201a8"
             ],
             [
              0.3333333333333333,
              "#9c179e"
             ],
             [
              0.4444444444444444,
              "#bd3786"
             ],
             [
              0.5555555555555556,
              "#d8576b"
             ],
             [
              0.6666666666666666,
              "#ed7953"
             ],
             [
              0.7777777777777778,
              "#fb9f3a"
             ],
             [
              0.8888888888888888,
              "#fdca26"
             ],
             [
              1,
              "#f0f921"
             ]
            ],
            "type": "histogram2dcontour"
           }
          ],
          "mesh3d": [
           {
            "colorbar": {
             "outlinewidth": 0,
             "ticks": ""
            },
            "type": "mesh3d"
           }
          ],
          "parcoords": [
           {
            "line": {
             "colorbar": {
              "outlinewidth": 0,
              "ticks": ""
             }
            },
            "type": "parcoords"
           }
          ],
          "pie": [
           {
            "automargin": true,
            "type": "pie"
           }
          ],
          "scatter": [
           {
            "fillpattern": {
             "fillmode": "overlay",
             "size": 10,
             "solidity": 0.2
            },
            "type": "scatter"
           }
          ],
          "scatter3d": [
           {
            "line": {
             "colorbar": {
              "outlinewidth": 0,
              "ticks": ""
             }
            },
            "marker": {
             "colorbar": {
              "outlinewidth": 0,
              "ticks": ""
             }
            },
            "type": "scatter3d"
           }
          ],
          "scattercarpet": [
           {
            "marker": {
             "colorbar": {
              "outlinewidth": 0,
              "ticks": ""
             }
            },
            "type": "scattercarpet"
           }
          ],
          "scattergeo": [
           {
            "marker": {
             "colorbar": {
              "outlinewidth": 0,
              "ticks": ""
             }
            },
            "type": "scattergeo"
           }
          ],
          "scattergl": [
           {
            "marker": {
             "colorbar": {
              "outlinewidth": 0,
              "ticks": ""
             }
            },
            "type": "scattergl"
           }
          ],
          "scattermapbox": [
           {
            "marker": {
             "colorbar": {
              "outlinewidth": 0,
              "ticks": ""
             }
            },
            "type": "scattermapbox"
           }
          ],
          "scatterpolar": [
           {
            "marker": {
             "colorbar": {
              "outlinewidth": 0,
              "ticks": ""
             }
            },
            "type": "scatterpolar"
           }
          ],
          "scatterpolargl": [
           {
            "marker": {
             "colorbar": {
              "outlinewidth": 0,
              "ticks": ""
             }
            },
            "type": "scatterpolargl"
           }
          ],
          "scatterternary": [
           {
            "marker": {
             "colorbar": {
              "outlinewidth": 0,
              "ticks": ""
             }
            },
            "type": "scatterternary"
           }
          ],
          "surface": [
           {
            "colorbar": {
             "outlinewidth": 0,
             "ticks": ""
            },
            "colorscale": [
             [
              0,
              "#0d0887"
             ],
             [
              0.1111111111111111,
              "#46039f"
             ],
             [
              0.2222222222222222,
              "#7201a8"
             ],
             [
              0.3333333333333333,
              "#9c179e"
             ],
             [
              0.4444444444444444,
              "#bd3786"
             ],
             [
              0.5555555555555556,
              "#d8576b"
             ],
             [
              0.6666666666666666,
              "#ed7953"
             ],
             [
              0.7777777777777778,
              "#fb9f3a"
             ],
             [
              0.8888888888888888,
              "#fdca26"
             ],
             [
              1,
              "#f0f921"
             ]
            ],
            "type": "surface"
           }
          ],
          "table": [
           {
            "cells": {
             "fill": {
              "color": "#EBF0F8"
             },
             "line": {
              "color": "white"
             }
            },
            "header": {
             "fill": {
              "color": "#C8D4E3"
             },
             "line": {
              "color": "white"
             }
            },
            "type": "table"
           }
          ]
         },
         "layout": {
          "annotationdefaults": {
           "arrowcolor": "#2a3f5f",
           "arrowhead": 0,
           "arrowwidth": 1
          },
          "autotypenumbers": "strict",
          "coloraxis": {
           "colorbar": {
            "outlinewidth": 0,
            "ticks": ""
           }
          },
          "colorscale": {
           "diverging": [
            [
             0,
             "#8e0152"
            ],
            [
             0.1,
             "#c51b7d"
            ],
            [
             0.2,
             "#de77ae"
            ],
            [
             0.3,
             "#f1b6da"
            ],
            [
             0.4,
             "#fde0ef"
            ],
            [
             0.5,
             "#f7f7f7"
            ],
            [
             0.6,
             "#e6f5d0"
            ],
            [
             0.7,
             "#b8e186"
            ],
            [
             0.8,
             "#7fbc41"
            ],
            [
             0.9,
             "#4d9221"
            ],
            [
             1,
             "#276419"
            ]
           ],
           "sequential": [
            [
             0,
             "#0d0887"
            ],
            [
             0.1111111111111111,
             "#46039f"
            ],
            [
             0.2222222222222222,
             "#7201a8"
            ],
            [
             0.3333333333333333,
             "#9c179e"
            ],
            [
             0.4444444444444444,
             "#bd3786"
            ],
            [
             0.5555555555555556,
             "#d8576b"
            ],
            [
             0.6666666666666666,
             "#ed7953"
            ],
            [
             0.7777777777777778,
             "#fb9f3a"
            ],
            [
             0.8888888888888888,
             "#fdca26"
            ],
            [
             1,
             "#f0f921"
            ]
           ],
           "sequentialminus": [
            [
             0,
             "#0d0887"
            ],
            [
             0.1111111111111111,
             "#46039f"
            ],
            [
             0.2222222222222222,
             "#7201a8"
            ],
            [
             0.3333333333333333,
             "#9c179e"
            ],
            [
             0.4444444444444444,
             "#bd3786"
            ],
            [
             0.5555555555555556,
             "#d8576b"
            ],
            [
             0.6666666666666666,
             "#ed7953"
            ],
            [
             0.7777777777777778,
             "#fb9f3a"
            ],
            [
             0.8888888888888888,
             "#fdca26"
            ],
            [
             1,
             "#f0f921"
            ]
           ]
          },
          "colorway": [
           "#636efa",
           "#EF553B",
           "#00cc96",
           "#ab63fa",
           "#FFA15A",
           "#19d3f3",
           "#FF6692",
           "#B6E880",
           "#FF97FF",
           "#FECB52"
          ],
          "font": {
           "color": "#2a3f5f"
          },
          "geo": {
           "bgcolor": "white",
           "lakecolor": "white",
           "landcolor": "#E5ECF6",
           "showlakes": true,
           "showland": true,
           "subunitcolor": "white"
          },
          "hoverlabel": {
           "align": "left"
          },
          "hovermode": "closest",
          "mapbox": {
           "style": "light"
          },
          "paper_bgcolor": "white",
          "plot_bgcolor": "#E5ECF6",
          "polar": {
           "angularaxis": {
            "gridcolor": "white",
            "linecolor": "white",
            "ticks": ""
           },
           "bgcolor": "#E5ECF6",
           "radialaxis": {
            "gridcolor": "white",
            "linecolor": "white",
            "ticks": ""
           }
          },
          "scene": {
           "xaxis": {
            "backgroundcolor": "#E5ECF6",
            "gridcolor": "white",
            "gridwidth": 2,
            "linecolor": "white",
            "showbackground": true,
            "ticks": "",
            "zerolinecolor": "white"
           },
           "yaxis": {
            "backgroundcolor": "#E5ECF6",
            "gridcolor": "white",
            "gridwidth": 2,
            "linecolor": "white",
            "showbackground": true,
            "ticks": "",
            "zerolinecolor": "white"
           },
           "zaxis": {
            "backgroundcolor": "#E5ECF6",
            "gridcolor": "white",
            "gridwidth": 2,
            "linecolor": "white",
            "showbackground": true,
            "ticks": "",
            "zerolinecolor": "white"
           }
          },
          "shapedefaults": {
           "line": {
            "color": "#2a3f5f"
           }
          },
          "ternary": {
           "aaxis": {
            "gridcolor": "white",
            "linecolor": "white",
            "ticks": ""
           },
           "baxis": {
            "gridcolor": "white",
            "linecolor": "white",
            "ticks": ""
           },
           "bgcolor": "#E5ECF6",
           "caxis": {
            "gridcolor": "white",
            "linecolor": "white",
            "ticks": ""
           }
          },
          "title": {
           "x": 0.05
          },
          "xaxis": {
           "automargin": true,
           "gridcolor": "white",
           "linecolor": "white",
           "ticks": "",
           "title": {
            "standoff": 15
           },
           "zerolinecolor": "white",
           "zerolinewidth": 2
          },
          "yaxis": {
           "automargin": true,
           "gridcolor": "white",
           "linecolor": "white",
           "ticks": "",
           "title": {
            "standoff": 15
           },
           "zerolinecolor": "white",
           "zerolinewidth": 2
          }
         }
        },
        "title": {
         "text": "Mode vs Valence"
        },
        "xaxis": {
         "anchor": "y",
         "domain": [
          0,
          1
         ],
         "title": {
          "text": "mode"
         }
        },
        "yaxis": {
         "anchor": "x",
         "domain": [
          0,
          1
         ],
         "title": {
          "text": "sum of valence"
         }
        }
       }
      },
      "text/html": [
       "<div>                            <div id=\"486deea1-ae15-42f1-b9b4-ff1701258ca5\" class=\"plotly-graph-div\" style=\"height:525px; width:100%;\"></div>            <script type=\"text/javascript\">                require([\"plotly\"], function(Plotly) {                    window.PLOTLYENV=window.PLOTLYENV || {};                                    if (document.getElementById(\"486deea1-ae15-42f1-b9b4-ff1701258ca5\")) {                    Plotly.newPlot(                        \"486deea1-ae15-42f1-b9b4-ff1701258ca5\",                        [{\"alignmentgroup\":\"True\",\"bingroup\":\"x\",\"histfunc\":\"sum\",\"hovertemplate\":\"mode=%{x}<br>sum of valence=%{y}<extra></extra>\",\"legendgroup\":\"\",\"marker\":{\"color\":\"#636efa\",\"pattern\":{\"shape\":\"\"}},\"name\":\"\",\"offsetgroup\":\"\",\"orientation\":\"v\",\"showlegend\":false,\"x\":[1,0,0,1,0,1,1,1,0,0,0,1,1,1,1,1,1,0,0,0,1,1,1,0,0,1,1,0,1,1,1,0,1,1,0,1,0,1,0,0,0,0,1,1,1,0,1,0,1,1,1,0,0,1,1,0,0,1,1,1,1,1,1,0,1,1,1,1,1,1,0,0,1,1,1,0,0,1,1,1,1,1,0,1,0,1,0,1,0,1,0,1,1,1,1,1,1,1,1,1],\"xaxis\":\"x\",\"y\":[0.334,0.931,0.513,0.446,0.129,0.913,0.37,0.661,0.125,0.666,0.749,0.6,0.531,0.494,0.486,0.562,0.591,0.218,0.707,0.12,0.557,0.357,0.22,0.228,0.446,0.398,0.323,0.662,0.515,0.553,0.473,0.437,0.331,0.259,0.327,0.43,0.437,0.394,0.648,0.401,0.477,0.608,0.643,0.51,0.472,0.421,0.243,0.137,0.446,0.219,0.688,0.492,0.592,0.163,0.137,0.274,0.747,0.863,0.341,0.184,0.492,0.159,0.662,0.894,0.0612,0.556,0.428,0.236,0.928,0.476,0.915,0.71,0.674,0.412,0.843,0.145,0.71,0.532,0.405,0.733,0.816,0.816,0.711,0.434,0.494,0.86,0.642,0.1,0.969,0.755,0.732,0.72,0.62,0.505,0.419,0.34,0.285,0.557,0.839,0.419],\"yaxis\":\"y\",\"type\":\"histogram\"}],                        {\"template\":{\"data\":{\"histogram2dcontour\":[{\"type\":\"histogram2dcontour\",\"colorbar\":{\"outlinewidth\":0,\"ticks\":\"\"},\"colorscale\":[[0.0,\"#0d0887\"],[0.1111111111111111,\"#46039f\"],[0.2222222222222222,\"#7201a8\"],[0.3333333333333333,\"#9c179e\"],[0.4444444444444444,\"#bd3786\"],[0.5555555555555556,\"#d8576b\"],[0.6666666666666666,\"#ed7953\"],[0.7777777777777778,\"#fb9f3a\"],[0.8888888888888888,\"#fdca26\"],[1.0,\"#f0f921\"]]}],\"choropleth\":[{\"type\":\"choropleth\",\"colorbar\":{\"outlinewidth\":0,\"ticks\":\"\"}}],\"histogram2d\":[{\"type\":\"histogram2d\",\"colorbar\":{\"outlinewidth\":0,\"ticks\":\"\"},\"colorscale\":[[0.0,\"#0d0887\"],[0.1111111111111111,\"#46039f\"],[0.2222222222222222,\"#7201a8\"],[0.3333333333333333,\"#9c179e\"],[0.4444444444444444,\"#bd3786\"],[0.5555555555555556,\"#d8576b\"],[0.6666666666666666,\"#ed7953\"],[0.7777777777777778,\"#fb9f3a\"],[0.8888888888888888,\"#fdca26\"],[1.0,\"#f0f921\"]]}],\"heatmap\":[{\"type\":\"heatmap\",\"colorbar\":{\"outlinewidth\":0,\"ticks\":\"\"},\"colorscale\":[[0.0,\"#0d0887\"],[0.1111111111111111,\"#46039f\"],[0.2222222222222222,\"#7201a8\"],[0.3333333333333333,\"#9c179e\"],[0.4444444444444444,\"#bd3786\"],[0.5555555555555556,\"#d8576b\"],[0.6666666666666666,\"#ed7953\"],[0.7777777777777778,\"#fb9f3a\"],[0.8888888888888888,\"#fdca26\"],[1.0,\"#f0f921\"]]}],\"heatmapgl\":[{\"type\":\"heatmapgl\",\"colorbar\":{\"outlinewidth\":0,\"ticks\":\"\"},\"colorscale\":[[0.0,\"#0d0887\"],[0.1111111111111111,\"#46039f\"],[0.2222222222222222,\"#7201a8\"],[0.3333333333333333,\"#9c179e\"],[0.4444444444444444,\"#bd3786\"],[0.5555555555555556,\"#d8576b\"],[0.6666666666666666,\"#ed7953\"],[0.7777777777777778,\"#fb9f3a\"],[0.8888888888888888,\"#fdca26\"],[1.0,\"#f0f921\"]]}],\"contourcarpet\":[{\"type\":\"contourcarpet\",\"colorbar\":{\"outlinewidth\":0,\"ticks\":\"\"}}],\"contour\":[{\"type\":\"contour\",\"colorbar\":{\"outlinewidth\":0,\"ticks\":\"\"},\"colorscale\":[[0.0,\"#0d0887\"],[0.1111111111111111,\"#46039f\"],[0.2222222222222222,\"#7201a8\"],[0.3333333333333333,\"#9c179e\"],[0.4444444444444444,\"#bd3786\"],[0.5555555555555556,\"#d8576b\"],[0.6666666666666666,\"#ed7953\"],[0.7777777777777778,\"#fb9f3a\"],[0.8888888888888888,\"#fdca26\"],[1.0,\"#f0f921\"]]}],\"surface\":[{\"type\":\"surface\",\"colorbar\":{\"outlinewidth\":0,\"ticks\":\"\"},\"colorscale\":[[0.0,\"#0d0887\"],[0.1111111111111111,\"#46039f\"],[0.2222222222222222,\"#7201a8\"],[0.3333333333333333,\"#9c179e\"],[0.4444444444444444,\"#bd3786\"],[0.5555555555555556,\"#d8576b\"],[0.6666666666666666,\"#ed7953\"],[0.7777777777777778,\"#fb9f3a\"],[0.8888888888888888,\"#fdca26\"],[1.0,\"#f0f921\"]]}],\"mesh3d\":[{\"type\":\"mesh3d\",\"colorbar\":{\"outlinewidth\":0,\"ticks\":\"\"}}],\"scatter\":[{\"fillpattern\":{\"fillmode\":\"overlay\",\"size\":10,\"solidity\":0.2},\"type\":\"scatter\"}],\"parcoords\":[{\"type\":\"parcoords\",\"line\":{\"colorbar\":{\"outlinewidth\":0,\"ticks\":\"\"}}}],\"scatterpolargl\":[{\"type\":\"scatterpolargl\",\"marker\":{\"colorbar\":{\"outlinewidth\":0,\"ticks\":\"\"}}}],\"bar\":[{\"error_x\":{\"color\":\"#2a3f5f\"},\"error_y\":{\"color\":\"#2a3f5f\"},\"marker\":{\"line\":{\"color\":\"#E5ECF6\",\"width\":0.5},\"pattern\":{\"fillmode\":\"overlay\",\"size\":10,\"solidity\":0.2}},\"type\":\"bar\"}],\"scattergeo\":[{\"type\":\"scattergeo\",\"marker\":{\"colorbar\":{\"outlinewidth\":0,\"ticks\":\"\"}}}],\"scatterpolar\":[{\"type\":\"scatterpolar\",\"marker\":{\"colorbar\":{\"outlinewidth\":0,\"ticks\":\"\"}}}],\"histogram\":[{\"marker\":{\"pattern\":{\"fillmode\":\"overlay\",\"size\":10,\"solidity\":0.2}},\"type\":\"histogram\"}],\"scattergl\":[{\"type\":\"scattergl\",\"marker\":{\"colorbar\":{\"outlinewidth\":0,\"ticks\":\"\"}}}],\"scatter3d\":[{\"type\":\"scatter3d\",\"line\":{\"colorbar\":{\"outlinewidth\":0,\"ticks\":\"\"}},\"marker\":{\"colorbar\":{\"outlinewidth\":0,\"ticks\":\"\"}}}],\"scattermapbox\":[{\"type\":\"scattermapbox\",\"marker\":{\"colorbar\":{\"outlinewidth\":0,\"ticks\":\"\"}}}],\"scatterternary\":[{\"type\":\"scatterternary\",\"marker\":{\"colorbar\":{\"outlinewidth\":0,\"ticks\":\"\"}}}],\"scattercarpet\":[{\"type\":\"scattercarpet\",\"marker\":{\"colorbar\":{\"outlinewidth\":0,\"ticks\":\"\"}}}],\"carpet\":[{\"aaxis\":{\"endlinecolor\":\"#2a3f5f\",\"gridcolor\":\"white\",\"linecolor\":\"white\",\"minorgridcolor\":\"white\",\"startlinecolor\":\"#2a3f5f\"},\"baxis\":{\"endlinecolor\":\"#2a3f5f\",\"gridcolor\":\"white\",\"linecolor\":\"white\",\"minorgridcolor\":\"white\",\"startlinecolor\":\"#2a3f5f\"},\"type\":\"carpet\"}],\"table\":[{\"cells\":{\"fill\":{\"color\":\"#EBF0F8\"},\"line\":{\"color\":\"white\"}},\"header\":{\"fill\":{\"color\":\"#C8D4E3\"},\"line\":{\"color\":\"white\"}},\"type\":\"table\"}],\"barpolar\":[{\"marker\":{\"line\":{\"color\":\"#E5ECF6\",\"width\":0.5},\"pattern\":{\"fillmode\":\"overlay\",\"size\":10,\"solidity\":0.2}},\"type\":\"barpolar\"}],\"pie\":[{\"automargin\":true,\"type\":\"pie\"}]},\"layout\":{\"autotypenumbers\":\"strict\",\"colorway\":[\"#636efa\",\"#EF553B\",\"#00cc96\",\"#ab63fa\",\"#FFA15A\",\"#19d3f3\",\"#FF6692\",\"#B6E880\",\"#FF97FF\",\"#FECB52\"],\"font\":{\"color\":\"#2a3f5f\"},\"hovermode\":\"closest\",\"hoverlabel\":{\"align\":\"left\"},\"paper_bgcolor\":\"white\",\"plot_bgcolor\":\"#E5ECF6\",\"polar\":{\"bgcolor\":\"#E5ECF6\",\"angularaxis\":{\"gridcolor\":\"white\",\"linecolor\":\"white\",\"ticks\":\"\"},\"radialaxis\":{\"gridcolor\":\"white\",\"linecolor\":\"white\",\"ticks\":\"\"}},\"ternary\":{\"bgcolor\":\"#E5ECF6\",\"aaxis\":{\"gridcolor\":\"white\",\"linecolor\":\"white\",\"ticks\":\"\"},\"baxis\":{\"gridcolor\":\"white\",\"linecolor\":\"white\",\"ticks\":\"\"},\"caxis\":{\"gridcolor\":\"white\",\"linecolor\":\"white\",\"ticks\":\"\"}},\"coloraxis\":{\"colorbar\":{\"outlinewidth\":0,\"ticks\":\"\"}},\"colorscale\":{\"sequential\":[[0.0,\"#0d0887\"],[0.1111111111111111,\"#46039f\"],[0.2222222222222222,\"#7201a8\"],[0.3333333333333333,\"#9c179e\"],[0.4444444444444444,\"#bd3786\"],[0.5555555555555556,\"#d8576b\"],[0.6666666666666666,\"#ed7953\"],[0.7777777777777778,\"#fb9f3a\"],[0.8888888888888888,\"#fdca26\"],[1.0,\"#f0f921\"]],\"sequentialminus\":[[0.0,\"#0d0887\"],[0.1111111111111111,\"#46039f\"],[0.2222222222222222,\"#7201a8\"],[0.3333333333333333,\"#9c179e\"],[0.4444444444444444,\"#bd3786\"],[0.5555555555555556,\"#d8576b\"],[0.6666666666666666,\"#ed7953\"],[0.7777777777777778,\"#fb9f3a\"],[0.8888888888888888,\"#fdca26\"],[1.0,\"#f0f921\"]],\"diverging\":[[0,\"#8e0152\"],[0.1,\"#c51b7d\"],[0.2,\"#de77ae\"],[0.3,\"#f1b6da\"],[0.4,\"#fde0ef\"],[0.5,\"#f7f7f7\"],[0.6,\"#e6f5d0\"],[0.7,\"#b8e186\"],[0.8,\"#7fbc41\"],[0.9,\"#4d9221\"],[1,\"#276419\"]]},\"xaxis\":{\"gridcolor\":\"white\",\"linecolor\":\"white\",\"ticks\":\"\",\"title\":{\"standoff\":15},\"zerolinecolor\":\"white\",\"automargin\":true,\"zerolinewidth\":2},\"yaxis\":{\"gridcolor\":\"white\",\"linecolor\":\"white\",\"ticks\":\"\",\"title\":{\"standoff\":15},\"zerolinecolor\":\"white\",\"automargin\":true,\"zerolinewidth\":2},\"scene\":{\"xaxis\":{\"backgroundcolor\":\"#E5ECF6\",\"gridcolor\":\"white\",\"linecolor\":\"white\",\"showbackground\":true,\"ticks\":\"\",\"zerolinecolor\":\"white\",\"gridwidth\":2},\"yaxis\":{\"backgroundcolor\":\"#E5ECF6\",\"gridcolor\":\"white\",\"linecolor\":\"white\",\"showbackground\":true,\"ticks\":\"\",\"zerolinecolor\":\"white\",\"gridwidth\":2},\"zaxis\":{\"backgroundcolor\":\"#E5ECF6\",\"gridcolor\":\"white\",\"linecolor\":\"white\",\"showbackground\":true,\"ticks\":\"\",\"zerolinecolor\":\"white\",\"gridwidth\":2}},\"shapedefaults\":{\"line\":{\"color\":\"#2a3f5f\"}},\"annotationdefaults\":{\"arrowcolor\":\"#2a3f5f\",\"arrowhead\":0,\"arrowwidth\":1},\"geo\":{\"bgcolor\":\"white\",\"landcolor\":\"#E5ECF6\",\"subunitcolor\":\"white\",\"showland\":true,\"showlakes\":true,\"lakecolor\":\"white\"},\"title\":{\"x\":0.05},\"mapbox\":{\"style\":\"light\"}}},\"xaxis\":{\"anchor\":\"y\",\"domain\":[0.0,1.0],\"title\":{\"text\":\"mode\"}},\"yaxis\":{\"anchor\":\"x\",\"domain\":[0.0,1.0],\"title\":{\"text\":\"sum of valence\"}},\"legend\":{\"tracegroupgap\":0},\"title\":{\"text\":\"Mode vs Valence\"},\"barmode\":\"relative\"},                        {\"responsive\": true}                    ).then(function(){\n",
       "                            \n",
       "var gd = document.getElementById('486deea1-ae15-42f1-b9b4-ff1701258ca5');\n",
       "var x = new MutationObserver(function (mutations, observer) {{\n",
       "        var display = window.getComputedStyle(gd).display;\n",
       "        if (!display || display === 'none') {{\n",
       "            console.log([gd, 'removed!']);\n",
       "            Plotly.purge(gd);\n",
       "            observer.disconnect();\n",
       "        }}\n",
       "}});\n",
       "\n",
       "// Listen for the removal of the full notebook cells\n",
       "var notebookContainer = gd.closest('#notebook-container');\n",
       "if (notebookContainer) {{\n",
       "    x.observe(notebookContainer, {childList: true});\n",
       "}}\n",
       "\n",
       "// Listen for the clearing of the current output cell\n",
       "var outputEl = gd.closest('.output');\n",
       "if (outputEl) {{\n",
       "    x.observe(outputEl, {childList: true});\n",
       "}}\n",
       "\n",
       "                        })                };                });            </script>        </div>"
      ]
     },
     "metadata": {},
     "output_type": "display_data"
    }
   ],
   "source": [
    "streams_df.rename(columns = {'Song':'name'}, inplace = True)\n",
    "\n",
    "df = pd.merge(features_df, streams_df, on='name')\n",
    "\n",
    "fig = px.histogram(df, x='mode', y='valence', title='Mode vs Valence')\n",
    "fig.show()"
   ]
  },
  {
   "attachments": {},
   "cell_type": "markdown",
   "metadata": {},
   "source": [
    "Mode = 1 : Major scale\n"
   ]
  },
  {
   "attachments": {},
   "cell_type": "markdown",
   "metadata": {},
   "source": [
    "Mode = 0 : Minor scale\n"
   ]
  },
  {
   "attachments": {},
   "cell_type": "markdown",
   "metadata": {},
   "source": [
    "Different Machine Learning models implementation"
   ]
  },
  {
   "cell_type": "code",
   "execution_count": 131,
   "metadata": {},
   "outputs": [],
   "source": [
    "from sklearn.model_selection import train_test_split\n",
    "from sklearn.linear_model import LinearRegression\n",
    "from sklearn.metrics import mean_squared_error\n",
    "from sklearn.decomposition import PCA\n",
    "\n",
    "X = df.drop([\"id\",\"mode\",\"name\", \"Artist\", \"Streams (Billions)\", \"Release Date\"], axis=1)\n",
    "y = df[\"Streams (Billions)\"]"
   ]
  },
  {
   "cell_type": "code",
   "execution_count": 293,
   "metadata": {},
   "outputs": [],
   "source": [
    "# Splitting the data into training and test sets\n",
    "X_train, X_test, y_train, y_test = train_test_split(X, y, test_size=0.2, random_state=42)"
   ]
  },
  {
   "attachments": {},
   "cell_type": "markdown",
   "metadata": {},
   "source": [
    "Linear Regression"
   ]
  },
  {
   "cell_type": "code",
   "execution_count": 297,
   "metadata": {},
   "outputs": [
    {
     "name": "stdout",
     "output_type": "stream",
     "text": [
      "Mean Squared Error: 0.00013080393655552267\n",
      "Training Set Accuracy: 0.9991203248624334\n",
      "Test Set Accuracy: 0.999023295355255\n"
     ]
    }
   ],
   "source": [
    "from sklearn.linear_model import Ridge\n",
    "\n",
    "model = Ridge(alpha=0.2)\n",
    "model.fit(X_train, y_train)\n",
    "\n",
    "y_pred = model.predict(X_test)\n",
    "mse = mean_squared_error(y_test, y_pred)\n",
    "print(\"Mean Squared Error:\", mse)\n",
    "\n",
    "train_acc = model.score(X_train, y_train)\n",
    "print(\"Training Set Accuracy:\", train_acc)\n",
    "\n",
    "test_acc = r2_score(y_test, y_pred)\n",
    "print(\"Test Set Accuracy:\", test_acc)\n"
   ]
  },
  {
   "cell_type": "code",
   "execution_count": 337,
   "metadata": {},
   "outputs": [
    {
     "data": {
      "image/png": "[encoded data removed]",
      "text/plain": [
       "<Figure size 640x480 with 1 Axes>"
      ]
     },
     "metadata": {},
     "output_type": "display_data"
    }
   ],
   "source": [
    "import matplotlib.pyplot as plt\n",
    "\n",
    "plt.scatter(y_test, y_pred, alpha=1)\n",
    "\n",
    "plt.plot([0, 1], [0, 1], transform=plt.gca().transAxes, color='red', linestyle='--')\n",
    "\n",
    "plt.xlabel('Actual Values')\n",
    "plt.ylabel('Predicted Values')\n",
    "plt.title('Ridge Regression Model\\nTest Set Accuracy: {:.3f}'.format(test_acc))\n",
    "\n",
    "plt.show()\n"
   ]
  },
  {
   "attachments": {},
   "cell_type": "markdown",
   "metadata": {},
   "source": [
    "Random Forest Regressor"
   ]
  },
  {
   "cell_type": "code",
   "execution_count": 276,
   "metadata": {},
   "outputs": [
    {
     "name": "stdout",
     "output_type": "stream",
     "text": [
      "Mean Squared Error: 0.006546288629999873\n",
      "Training Set Accuracy: 1.0\n",
      "Test Set Accuracy: 0.9666459684117473\n"
     ]
    }
   ],
   "source": [
    "from sklearn.ensemble import RandomForestRegressor\n",
    "\n",
    "rf = RandomForestRegressor(n_estimators=100, random_state=42)\n",
    "\n",
    "rf.fit(X_train, y_train)\n",
    "\n",
    "y_pred = rf.predict(X_test)\n",
    "\n",
    "mse = mean_squared_error(y_test, y_pred)\n",
    "\n",
    "print(\"Mean Squared Error:\", mse)\n",
    "\n",
    "train_acc = model.score(X_train, y_train)\n",
    "print(\"Training Set Accuracy:\", train_acc)\n",
    "\n",
    "test_acc = r2_score(y_test, y_pred)\n",
    "print(\"Test Set Accuracy:\", test_acc)\n",
    "\n"
   ]
  },
  {
   "attachments": {},
   "cell_type": "markdown",
   "metadata": {},
   "source": [
    "Support Vector Regressor"
   ]
  },
  {
   "cell_type": "code",
   "execution_count": 320,
   "metadata": {},
   "outputs": [
    {
     "name": "stdout",
     "output_type": "stream",
     "text": [
      "Mean Squared Error: 0.004464783185325001\n",
      "Training Set Accuracy: 0.9598649060706137\n",
      "Test Set Accuracy: 0.9666617489525248\n",
      "Best hyperparameters: {'C': 15, 'gamma': 15}\n"
     ]
    }
   ],
   "source": [
    "from sklearn.svm import SVR\n",
    "from sklearn.metrics import mean_squared_error\n",
    "from sklearn.model_selection import GridSearchCV\n",
    "\n",
    "# Define the parameter grid for grid search\n",
    "param_grid = {'C': [15, 10, 2], 'gamma': [15, 10, 2]}\n",
    "\n",
    "# Train a support vector regressor model with grid search for hyperparameters\n",
    "model = GridSearchCV(SVR(kernel='linear'), param_grid, cv=5)\n",
    "model.fit(X_train, y_train)\n",
    "y_pred = model.predict(X_test)\n",
    "\n",
    "mse = mean_squared_error(y_test, y_pred)\n",
    "print(\"Mean Squared Error:\", mse)\n",
    "\n",
    "train_acc = model.score(X_train, y_train)\n",
    "print(\"Training Set Accuracy:\", train_acc)\n",
    "\n",
    "test_acc = model.score(X_test, y_test)\n",
    "print(\"Test Set Accuracy:\", test_acc)\n",
    "\n",
    "print(\"Best hyperparameters:\", model.best_params_)\n"
   ]
  },
  {
   "attachments": {},
   "cell_type": "markdown",
   "metadata": {},
   "source": [
    "XGB Regressor"
   ]
  },
  {
   "cell_type": "code",
   "execution_count": 325,
   "metadata": {},
   "outputs": [
    {
     "name": "stdout",
     "output_type": "stream",
     "text": [
      "Fitting 5 folds for each of 1215 candidates, totalling 6075 fits\n",
      "Best hyperparameters:  {'colsample_bytree': 1.0, 'learning_rate': 0.1, 'max_depth': 5, 'n_estimators': 200, 'reg_alpha': 0.0001, 'subsample': 0.8}\n",
      "R^2 score on test set:  0.9966845351822086\n"
     ]
    }
   ],
   "source": [
    "from sklearn.model_selection import GridSearchCV\n",
    "from xgboost import XGBRegressor\n",
    "\n",
    "param_grid = {'n_estimators': [50, 100, 200],\n",
    "              'learning_rate': [0.1, 1, 2],\n",
    "              'max_depth': [3, 5, 7],\n",
    "              'subsample': [0.5, 0.8, 1.0],\n",
    "              'colsample_bytree': [0.5, 0.8, 1.0],\n",
    "              'reg_alpha': np.logspace(-4, 0, 5)}\n",
    "\n",
    "model = XGBRegressor(objective='reg:squarederror', reg_alpha=0.1)\n",
    "\n",
    "grid_search = GridSearchCV(model, param_grid=param_grid, cv=5, verbose=1)\n",
    "\n",
    "grid_search.fit(X_train, y_train)\n",
    "\n",
    "print(\"Best hyperparameters: \", grid_search.best_params_)\n",
    "print(\"R^2 score on test set: \", grid_search.score(X_test, y_test))"
   ]
  },
  {
   "attachments": {},
   "cell_type": "markdown",
   "metadata": {},
   "source": [
    "Neural Network Regressor"
   ]
  },
  {
   "cell_type": "code",
   "execution_count": 326,
   "metadata": {},
   "outputs": [
    {
     "name": "stderr",
     "output_type": "stream",
     "text": [
      "C:\\Users\\deeee\\AppData\\Local\\Temp\\ipykernel_16704\\1839606552.py:20: DeprecationWarning:\n",
      "\n",
      "KerasRegressor is deprecated, use Sci-Keras (https://github.com/adriangb/scikeras) instead. See https://www.adriangb.com/scikeras/stable/migration.html for help migrating.\n",
      "\n"
     ]
    },
    {
     "name": "stdout",
     "output_type": "stream",
     "text": [
      "Best Parameters: {'batch_size': 8, 'epochs': 150, 'learning_rate': 0.01}\n",
      "R^2 Score: 0.9972969806931828\n"
     ]
    }
   ],
   "source": [
    "from sklearn.preprocessing import StandardScaler\n",
    "\n",
    "scaler = StandardScaler()\n",
    "X_train = scaler.fit_transform(X_train)\n",
    "X_test = scaler.transform(X_test)\n",
    "\n",
    "def create_model(learning_rate=0.0001):\n",
    "    model = keras.Sequential()\n",
    "    model.add(layers.Dense(64, input_shape=(X_train.shape[1],), activation='relu'))\n",
    "    model.add(layers.Dense(64, activation='linear'))\n",
    "    model.add(layers.Dense(1, activation='linear'))\n",
    "\n",
    "    optimizer = keras.optimizers.Adam(learning_rate=learning_rate)\n",
    "    model.compile(optimizer=optimizer, loss='mse', metrics=['mse'])\n",
    "    return model\n",
    "\n",
    "regressor = keras.wrappers.scikit_learn.KerasRegressor(build_fn=create_model, verbose=0)\n",
    "\n",
    "param_grid = {'batch_size': [8, 16, 32], 'epochs': [50, 100, 150], 'learning_rate': [0.001, 0.01, 0.1]}\n",
    "\n",
    "grid_search = GridSearchCV(estimator=regressor, param_grid=param_grid, cv=5)\n",
    "grid_search.fit(X_train, y_train)\n",
    "\n",
    "print(\"Best Parameters:\", grid_search.best_params_)\n",
    "\n",
    "y_pred = grid_search.predict(X_test)\n",
    "\n",
    "r2 = r2_score(y_test, y_pred)\n",
    "print(\"R^2 Score:\", r2)\n"
   ]
  },
  {
   "attachments": {},
   "cell_type": "markdown",
   "metadata": {},
   "source": [
    "K-Means Clustering"
   ]
  },
  {
   "cell_type": "code",
   "execution_count": 341,
   "metadata": {},
   "outputs": [
    {
     "data": {
      "image/png": "[encoded data removed]",
      "text/plain": [
       "<Figure size 640x480 with 2 Axes>"
      ]
     },
     "metadata": {},
     "output_type": "display_data"
    }
   ],
   "source": [
    "X = df.drop(['id','name','duration','energy','key','loudness','mode','speechiness','acousticness','instrumentalness','liveness','valence','tempo','danceability'], axis=1)  # Features\n",
    "y = df['Streams (Billions)']  \n",
    "\n",
    "from sklearn.preprocessing import StandardScaler\n",
    "scaler = StandardScaler()\n",
    "X_scaled = scaler.fit_transform(X_test)\n",
    "\n",
    "pca = PCA(n_components=2)\n",
    "\n",
    "# Fit the PCA model to your data\n",
    "pca.fit(X_scaled)\n",
    "\n",
    "# Transform your data into the principal component space\n",
    "X_pca = pca.transform(X_scaled)\n",
    "\n",
    "plt.scatter(X_pca[:,0], X_pca[:,1])\n",
    "plt.xlabel('Feature1')\n",
    "plt.ylabel('Feature2')\n",
    "plt.colorbar()\n",
    "plt.show()"
   ]
  },
  {
   "attachments": {},
   "cell_type": "markdown",
   "metadata": {},
   "source": [
    "Elbow point computation"
   ]
  },
  {
   "cell_type": "code",
   "execution_count": 342,
   "metadata": {},
   "outputs": [
    {
     "name": "stderr",
     "output_type": "stream",
     "text": [
      "c:\\Users\\deeee\\AppData\\Local\\Programs\\Python\\Python311\\Lib\\site-packages\\sklearn\\cluster\\_kmeans.py:870: FutureWarning:\n",
      "\n",
      "The default value of `n_init` will change from 10 to 'auto' in 1.4. Set the value of `n_init` explicitly to suppress the warning\n",
      "\n",
      "c:\\Users\\deeee\\AppData\\Local\\Programs\\Python\\Python311\\Lib\\site-packages\\sklearn\\cluster\\_kmeans.py:870: FutureWarning:\n",
      "\n",
      "The default value of `n_init` will change from 10 to 'auto' in 1.4. Set the value of `n_init` explicitly to suppress the warning\n",
      "\n",
      "c:\\Users\\deeee\\AppData\\Local\\Programs\\Python\\Python311\\Lib\\site-packages\\sklearn\\cluster\\_kmeans.py:870: FutureWarning:\n",
      "\n",
      "The default value of `n_init` will change from 10 to 'auto' in 1.4. Set the value of `n_init` explicitly to suppress the warning\n",
      "\n",
      "c:\\Users\\deeee\\AppData\\Local\\Programs\\Python\\Python311\\Lib\\site-packages\\sklearn\\cluster\\_kmeans.py:870: FutureWarning:\n",
      "\n",
      "The default value of `n_init` will change from 10 to 'auto' in 1.4. Set the value of `n_init` explicitly to suppress the warning\n",
      "\n",
      "c:\\Users\\deeee\\AppData\\Local\\Programs\\Python\\Python311\\Lib\\site-packages\\sklearn\\cluster\\_kmeans.py:870: FutureWarning:\n",
      "\n",
      "The default value of `n_init` will change from 10 to 'auto' in 1.4. Set the value of `n_init` explicitly to suppress the warning\n",
      "\n",
      "c:\\Users\\deeee\\AppData\\Local\\Programs\\Python\\Python311\\Lib\\site-packages\\sklearn\\cluster\\_kmeans.py:870: FutureWarning:\n",
      "\n",
      "The default value of `n_init` will change from 10 to 'auto' in 1.4. Set the value of `n_init` explicitly to suppress the warning\n",
      "\n",
      "c:\\Users\\deeee\\AppData\\Local\\Programs\\Python\\Python311\\Lib\\site-packages\\sklearn\\cluster\\_kmeans.py:870: FutureWarning:\n",
      "\n",
      "The default value of `n_init` will change from 10 to 'auto' in 1.4. Set the value of `n_init` explicitly to suppress the warning\n",
      "\n",
      "c:\\Users\\deeee\\AppData\\Local\\Programs\\Python\\Python311\\Lib\\site-packages\\sklearn\\cluster\\_kmeans.py:870: FutureWarning:\n",
      "\n",
      "The default value of `n_init` will change from 10 to 'auto' in 1.4. Set the value of `n_init` explicitly to suppress the warning\n",
      "\n",
      "c:\\Users\\deeee\\AppData\\Local\\Programs\\Python\\Python311\\Lib\\site-packages\\sklearn\\cluster\\_kmeans.py:870: FutureWarning:\n",
      "\n",
      "The default value of `n_init` will change from 10 to 'auto' in 1.4. Set the value of `n_init` explicitly to suppress the warning\n",
      "\n",
      "c:\\Users\\deeee\\AppData\\Local\\Programs\\Python\\Python311\\Lib\\site-packages\\sklearn\\cluster\\_kmeans.py:870: FutureWarning:\n",
      "\n",
      "The default value of `n_init` will change from 10 to 'auto' in 1.4. Set the value of `n_init` explicitly to suppress the warning\n",
      "\n"
     ]
    },
    {
     "data": {
      "image/png": "[encoded data removed]",
      "text/plain": [
       "<Figure size 640x480 with 1 Axes>"
      ]
     },
     "metadata": {},
     "output_type": "display_data"
    }
   ],
   "source": [
    "sse = []\n",
    "for k in range(1, 11):\n",
    "    kmeans = KMeans(n_clusters=k, random_state=42)\n",
    "    kmeans.fit(X_pca)\n",
    "    sse.append(kmeans.inertia_)\n",
    "\n",
    "plt.plot(range(1, 11), sse, 'bx-')\n",
    "plt.xlabel('Number of clusters (k)')\n",
    "plt.ylabel('Sum of Squared Distances')\n",
    "plt.title('Elbow Method')\n",
    "plt.show()"
   ]
  },
  {
   "cell_type": "code",
   "execution_count": 343,
   "metadata": {},
   "outputs": [
    {
     "name": "stderr",
     "output_type": "stream",
     "text": [
      "c:\\Users\\deeee\\AppData\\Local\\Programs\\Python\\Python311\\Lib\\site-packages\\sklearn\\cluster\\_kmeans.py:870: FutureWarning:\n",
      "\n",
      "The default value of `n_init` will change from 10 to 'auto' in 1.4. Set the value of `n_init` explicitly to suppress the warning\n",
      "\n"
     ]
    },
    {
     "data": {
      "image/png": "[encoded data removed]",
      "text/plain": [
       "<Figure size 640x480 with 1 Axes>"
      ]
     },
     "metadata": {},
     "output_type": "display_data"
    }
   ],
   "source": [
    "X = df[['energy', 'tempo', 'Streams (Billions)']]\n",
    "\n",
    "kmeans = KMeans(n_clusters=3)\n",
    "\n",
    "kmeans.fit(X)\n",
    "\n",
    "df['cluster'] = kmeans.labels_\n",
    "\n",
    "plt.scatter(X.iloc[:, 0], X.iloc[:, 1], c=kmeans.labels_, cmap='cividis')\n",
    "plt.xlabel('Energy')\n",
    "plt.ylabel('Tempo')\n",
    "plt.title('')\n",
    "plt.show()"
   ]
  },
  {
   "cell_type": "code",
   "execution_count": 344,
   "metadata": {},
   "outputs": [
    {
     "name": "stderr",
     "output_type": "stream",
     "text": [
      "c:\\Users\\deeee\\AppData\\Local\\Programs\\Python\\Python311\\Lib\\site-packages\\sklearn\\cluster\\_kmeans.py:870: FutureWarning:\n",
      "\n",
      "The default value of `n_init` will change from 10 to 'auto' in 1.4. Set the value of `n_init` explicitly to suppress the warning\n",
      "\n",
      "C:\\Users\\deeee\\AppData\\Local\\Temp\\ipykernel_16704\\3047280770.py:10: SettingWithCopyWarning:\n",
      "\n",
      "\n",
      "A value is trying to be set on a copy of a slice from a DataFrame.\n",
      "Try using .loc[row_indexer,col_indexer] = value instead\n",
      "\n",
      "See the caveats in the documentation: https://pandas.pydata.org/pandas-docs/stable/user_guide/indexing.html#returning-a-view-versus-a-copy\n",
      "\n"
     ]
    },
    {
     "data": {
      "application/vnd.plotly.v1+json": {
       "config": {
        "plotlyServerURL": "https://plot.ly"
       },
       "data": [
        {
         "customdata": [
          [
           3.33,
           0.0598,
           0.00146,
           0.0000954,
           0.0897,
           0.334,
           0.514
          ],
          [
           3.9,
           0.0802,
           0.581,
           0,
           0.0931,
           0.931,
           0.825
          ],
          [
           3.49,
           0.0924,
           0.692,
           0.000104,
           0.149,
           0.513,
           0.824
          ],
          [
           3.04,
           0.0319,
           0.751,
           0,
           0.105,
           0.446,
           0.501
          ],
          [
           3.64,
           0.0712,
           0.124,
           0.0000701,
           0.131,
           0.129,
           0.585
          ],
          [
           2.63,
           0.0466,
           0.556,
           0,
           0.0703,
           0.913,
           0.76
          ],
          [
           2.9,
           0.0536,
           0.00776,
           0.0018,
           0.329,
           0.37,
           0.792
          ],
          [
           4.08,
           0.0338,
           0.414,
           0,
           0.111,
           0.661,
           0.748
          ],
          [
           4.01,
           0.0283,
           0.945,
           0.0000612,
           0.117,
           0.125,
           0.621
          ],
          [
           3.41,
           0.128,
           0.0622,
           0,
           0.081,
           0.666,
           0.776
          ],
          [
           3.18,
           0.029,
           0.0392,
           0,
           0.0828,
           0.749,
           0.759
          ],
          [
           2.96,
           0.0331,
           0.433,
           0.124,
           0.102,
           0.6,
           0.634
          ],
          [
           3.98,
           0.0944,
           0.44,
           0.0000067,
           0.0921,
           0.531,
           0.761
          ],
          [
           3.52,
           0.059,
           0.695,
           0,
           0.0902,
           0.494,
           0.358
          ],
          [
           3.84,
           0.276,
           0.141,
           0.00000635,
           0.137,
           0.486,
           0.679
          ],
          [
           3.23,
           0.375,
           0.328,
           0.13,
           0.1,
           0.562,
           0.701
          ],
          [
           4.69,
           0.0296,
           0.474,
           0,
           0.184,
           0.591,
           0.781
          ],
          [
           4,
           0.2,
           0.349,
           0,
           0.34,
           0.218,
           0.511
          ],
          [
           3.02,
           0.0484,
           0.876,
           0.459,
           0.237,
           0.707,
           0.498
          ],
          [
           3.34,
           0.0333,
           0.934,
           0,
           0.095,
           0.12,
           0.351
          ],
          [
           2.9,
           0.0465,
           0.122,
           0,
           0.335,
           0.557,
           0.548
          ],
          [
           3.32,
           0.109,
           0.0332,
           0.0000829,
           0.552,
           0.357,
           0.754
          ],
          [
           4.32,
           0.0359,
           0.607,
           0.000472,
           0.0986,
           0.22,
           0.718
          ],
          [
           5.91,
           0.0536,
           0.288,
           0,
           0.243,
           0.228,
           0.392
          ],
          [
           4.12,
           0.0317,
           0.0498,
           0.0000144,
           0.164,
           0.446,
           0.617
          ],
          [
           4.01,
           0.0336,
           0.0495,
           0.0177,
           0.101,
           0.398,
           0.612
          ],
          [
           3.6,
           0.0308,
           0.371,
           0,
           0.231,
           0.323,
           0.572
          ],
          [
           2.79,
           0.0557,
           0.342,
           0.00101,
           0.311,
           0.662,
           0.52
          ],
          [
           3.9,
           0.438,
           0.835,
           0,
           0.28,
           0.515,
           0.609
          ],
          [
           3.59,
           0.0395,
           0.192,
           0.00244,
           0.0863,
           0.553,
           0.695
          ],
          [
           2.78,
           0.145,
           0.258,
           0.00372,
           0.123,
           0.473,
           0.74
          ],
          [
           4.03,
           0.0464,
           0.634,
           0,
           0.116,
           0.437,
           0.566
          ],
          [
           4.49,
           0.0322,
           0.922,
           0,
           0.132,
           0.331,
           0.422
          ],
          [
           4.88,
           0.0364,
           0.000147,
           0.0117,
           0.217,
           0.259,
           0.502
          ],
          [
           2.98,
           0.334,
           0.592,
           0,
           0.0881,
           0.327,
           0.778
          ],
          [
           4.06,
           0.0484,
           0.0847,
           0,
           0.149,
           0.43,
           0.841
          ],
          [
           1.99,
           0.242,
           0.469,
           0.00000413,
           0.297,
           0.437,
           0.872
          ],
          [
           3.62,
           0.03,
           0.184,
           0.0000356,
           0.132,
           0.394,
           0.765
          ],
          [
           3.37,
           0.141,
           0.0462,
           0.0000229,
           0.0602,
           0.648,
           0.734
          ],
          [
           3.05,
           0.231,
           0.00264,
           0,
           0.109,
           0.401,
           0.732
          ],
          [
           4.3,
           0.0382,
           0.0654,
           0,
           0.115,
           0.477,
           0.664
          ],
          [
           3.49,
           0.0694,
           0.00265,
           0.0000155,
           0.153,
           0.608,
           0.762
          ],
          [
           4.12,
           0.0523,
           0.0038,
           0.0012,
           0.161,
           0.643,
           0.532
          ],
          [
           3.4,
           0.0379,
           0.431,
           0,
           0.151,
           0.51,
           0.484
          ],
          [
           3.21,
           0.0751,
           0.121,
           0,
           0.121,
           0.472,
           0.733
          ],
          [
           2.95,
           0.102,
           0.000282,
           0.0000539,
           0.0958,
           0.421,
           0.908
          ],
          [
           4.21,
           0.0688,
           0.365,
           0,
           0.0963,
           0.243,
           0.479
          ],
          [
           4.04,
           0.0515,
           0.0671,
           0,
           0.135,
           0.137,
           0.585
          ],
          [
           5.21,
           0.222,
           0.00513,
           0,
           0.124,
           0.446,
           0.834
          ],
          [
           1.52,
           0.0752,
           0.000744,
           0.00498,
           0.253,
           0.219,
           0.556
          ],
          [
           2.97,
           0.154,
           0.335,
           0,
           0.0849,
           0.688,
           0.563
          ],
          [
           3.1,
           0.0984,
           0.0000847,
           0,
           0.203,
           0.492,
           0.73
          ],
          [
           3.58,
           0.11,
           0.037,
           0.0000219,
           0.0814,
           0.592,
           0.791
          ],
          [
           3.43,
           0.0349,
           0.0863,
           0.0000263,
           0.135,
           0.163,
           0.649
          ],
          [
           4.03,
           0.0578,
           0.768,
           0.0000142,
           0.106,
           0.137,
           0.561
          ],
          [
           2.94,
           0.0625,
           0.00346,
           0.00123,
           0.565,
           0.274,
           0.723
          ],
          [
           3.13,
           0.341,
           0.106,
           0,
           0.107,
           0.747,
           0.444
          ],
          [
           2.95,
           0.0474,
           0.0143,
           0.00777,
           0.359,
           0.863,
           0.769
          ],
          [
           3.85,
           0.04,
           0.331,
           0,
           0.135,
           0.341,
           0.68
          ],
          [
           2.88,
           0.0414,
           0.588,
           0.0000639,
           0.11,
           0.184,
           0.418
          ],
          [
           3.67,
           0.0363,
           0.215,
           0,
           0.253,
           0.492,
           0.63
          ],
          [
           3.54,
           0.0476,
           0.0281,
           0.00000797,
           0.11,
           0.159,
           0.468
          ],
          [
           4.84,
           0.0738,
           0.00286,
           0,
           0.237,
           0.662,
           0.908
          ],
          [
           3.53,
           0.0615,
           0.0203,
           0,
           0.0501,
           0.894,
           0.736
          ],
          [
           5.44,
           0.257,
           0.00868,
           0.000423,
           0.359,
           0.0612,
           0.692
          ],
          [
           4.15,
           0.044,
           0.00979,
           0,
           0.348,
           0.556,
           0.34
          ],
          [
           2.92,
           0.0321,
           0.19,
           0.00025,
           0.329,
           0.428,
           0.505
          ],
          [
           3.72,
           0.0747,
           0.00121,
           0,
           0.0995,
           0.236,
           0.352
          ],
          [
           4.49,
           0.0824,
           0.00801,
           0.0000815,
           0.0344,
           0.928,
           0.856
          ],
          [
           3.35,
           0.0432,
           0.64,
           0,
           0.169,
           0.476,
           0.681
          ],
          [
           3.38,
           0.0601,
           0.00883,
           0,
           0.0674,
           0.915,
           0.702
          ],
          [
           3.3,
           0.111,
           0.0353,
           0.00000842,
           0.0843,
           0.71,
           0.664
          ],
          [
           3.49,
           0.0493,
           0.699,
           0.000156,
           0.094,
           0.674,
           0.455
          ],
          [
           3.46,
           0.0658,
           0.229,
           0,
           0.101,
           0.412,
           0.717
          ],
          [
           3.67,
           0.0442,
           0.0902,
           0,
           0.0894,
           0.843,
           0.798
          ],
          [
           3.42,
           0.0544,
           0.401,
           0.0000522,
           0.113,
           0.145,
           0.731
          ],
          [
           2.3,
           0.22,
           0.293,
           0,
           0.405,
           0.71,
           0.593
          ],
          [
           2.16,
           0.336,
           0.696,
           0.00000681,
           0.23,
           0.532,
           0.768
          ],
          [
           4.54,
           0.0323,
           0.186,
           0.000263,
           0.217,
           0.405,
           0.548
          ],
          [
           3.9,
           0.123,
           0.0293,
           0.0101,
           0.104,
           0.733,
           0.726
          ],
          [
           3.38,
           0.0859,
           0.00379,
           0,
           0.036,
           0.816,
           0.751
          ],
          [
           3.81,
           0.167,
           0.228,
           0,
           0.0967,
           0.816,
           0.653
          ],
          [
           2.25,
           0.0804,
           0.556,
           0.00404,
           0.102,
           0.711,
           0.921
          ],
          [
           4.31,
           0.0406,
           0.000509,
           0,
           0.187,
           0.434,
           0.375
          ],
          [
           4.88,
           0.339,
           0.324,
           0,
           0.0534,
           0.494,
           0.69
          ],
          [
           3.44,
           0.0406,
           0.013,
           0,
           0.0944,
           0.86,
           0.853
          ],
          [
           3.28,
           0.0559,
           0.104,
           0,
           0.79,
           0.642,
           0.896
          ],
          [
           4.96,
           0.186,
           0.0622,
           0,
           0.0816,
           0.1,
           0.548
          ],
          [
           3.32,
           0.0554,
           0.38,
           0,
           0.0779,
           0.969,
           0.866
          ],
          [
           3.45,
           0.0615,
           0.0151,
           0,
           0.0486,
           0.755,
           0.752
          ],
          [
           3.53,
           0.105,
           0.0472,
           0.00143,
           0.0907,
           0.732,
           0.628
          ],
          [
           5.03,
           0.0564,
           0.0000255,
           0.000173,
           0.106,
           0.72,
           0.502
          ],
          [
           3.01,
           0.0959,
           0.371,
           0.00000749,
           0.109,
           0.62,
           0.558
          ],
          [
           2.93,
           0.0711,
           0.0886,
           0,
           0.116,
           0.505,
           0.646
          ],
          [
           3.29,
           0.255,
           0.534,
           0.00000258,
           0.104,
           0.419,
           0.753
          ],
          [
           3.96,
           0.0514,
           0.287,
           0,
           0.391,
           0.34,
           0.765
          ],
          [
           4.45,
           0.0281,
           0.00239,
           0.000121,
           0.234,
           0.285,
           0.429
          ],
          [
           2.9,
           0.0465,
           0.122,
           0,
           0.335,
           0.557,
           0.548
          ],
          [
           3.82,
           0.153,
           0.198,
           0,
           0.067,
           0.839,
           0.655
          ],
          [
           7.05,
           0.0773,
           0.71,
           0,
           0.101,
           0.419,
           0.471
          ]
         ],
         "hovertemplate": "<b>%{hovertext}</b><br><br>energy=%{x}<br>loudness=%{y}<br>tempo=%{z}<br>duration=%{customdata[0]}<br>speechiness=%{customdata[1]}<br>acousticness=%{customdata[2]}<br>instrumentalness=%{customdata[3]}<br>liveness=%{customdata[4]}<br>valence=%{customdata[5]}<br>danceability=%{customdata[6]}<br>cluster=%{marker.color}<extra></extra>",
         "hovertext": [
          "Blinding Lights",
          "Shape of You",
          "Dance Monkey",
          "Someone You Loved",
          "Rockstar",
          "Sunflower",
          "One Dance",
          "Closer",
          "Stay",
          "Believer",
          "Señorita",
          "Perfect",
          "Heat Waves",
          "Say You Won't Let Go",
          "Starboy",
          "Bad Guy",
          "Thinking Out Loud",
          "Lucid Dreams",
          "Don't Start Now",
          "Lovely",
          "Watermelon Sugar",
          "God's Plan",
          "Photograph",
          "Bohemian Rhapsody",
          "Something Just Like This",
          "Sweater Weather",
          "Shallow",
          "As It Was",
          "Love Yourself",
          "Circles",
          "Sad!",
          "Take Me to Church",
          "All of Me",
          "Thunder",
          "7 Rings",
          "Goosebumps",
          "Jocelyn Flores",
          "Havana",
          "Stressed Out",
          "XO Tour Llif3",
          "Counting Stars",
          "New Rules",
          "Wake Me Up",
          "Riptide",
          "Happier",
          "Humble",
          "Let Her Go",
          "The Hills",
          "Sicko Mode",
          "Can't Hold Us",
          "Good 4 U",
          "Sorry",
          "One Kiss",
          "Let Me Love You",
          "Drivers License",
          "Lean On",
          "Treat You Better",
          "Roses (Imanbek remix)",
          "Better Now",
          "Stay with Me",
          "Congratulations",
          "Faded",
          "Without Me",
          "Industry Baby",
          "Lose Yourself",
          "Memories",
          "Demons",
          "Mr. Brightside",
          "Uptown Funk",
          "Too Good at Goodbyes",
          "Levitating",
          "I Took a Pill in Ibiza (Seeb Remix)",
          "Don't Let Me Down",
          "Thank U, Next",
          "I Don't Care",
          "Dakiti",
          "Montero (Call Me by Your Name)",
          "Mood",
          "Do I Wanna Know?",
          "Unforgettable",
          "Dynamite",
          "Despacito (remix)",
          "Moonlight",
          "Wonderwall",
          "No Role Modelz",
          "That's What I Like",
          "The Box",
          "'Till I Collapse",
          "There's Nothing Holdin' Me Back",
          "Stitches",
          "Cheap Thrills",
          "Smells Like Teen Spirit",
          "See You Again",
          "I'm Yours",
          "I Like Me Better",
          "7 Years",
          "Yellow",
          "Sugar",
          "Despacito",
          "Don't Stop Me Now"
         ],
         "legendgroup": "",
         "marker": {
          "color": [
           1,
           1,
           2,
           0,
           1,
           1,
           1,
           1,
           0,
           1,
           1,
           1,
           0,
           0,
           2,
           2,
           0,
           2,
           3,
           0,
           1,
           2,
           0,
           0,
           1,
           1,
           0,
           1,
           2,
           1,
           1,
           0,
           0,
           1,
           2,
           1,
           2,
           1,
           1,
           1,
           1,
           1,
           1,
           0,
           1,
           1,
           0,
           0,
           1,
           1,
           1,
           1,
           1,
           1,
           0,
           1,
           1,
           1,
           1,
           0,
           1,
           1,
           1,
           1,
           1,
           1,
           1,
           1,
           1,
           0,
           1,
           1,
           0,
           1,
           1,
           0,
           2,
           2,
           0,
           1,
           1,
           1,
           2,
           1,
           2,
           1,
           2,
           1,
           1,
           1,
           1,
           1,
           0,
           1,
           2,
           2,
           1,
           1,
           1,
           0
          ],
          "coloraxis": "coloraxis",
          "symbol": "circle"
         },
         "mode": "markers",
         "name": "",
         "scene": "scene",
         "showlegend": false,
         "type": "scatter3d",
         "x": [
          0.73,
          0.652,
          0.588,
          0.405,
          0.52,
          0.479,
          0.625,
          0.524,
          0.31,
          0.78,
          0.548,
          0.663,
          0.525,
          0.557,
          0.587,
          0.425,
          0.445,
          0.566,
          0.185,
          0.296,
          0.816,
          0.449,
          0.379,
          0.402,
          0.635,
          0.807,
          0.385,
          0.731,
          0.378,
          0.762,
          0.613,
          0.664,
          0.264,
          0.89,
          0.317,
          0.728,
          0.391,
          0.523,
          0.637,
          0.75,
          0.705,
          0.7,
          0.783,
          0.731,
          0.67,
          0.621,
          0.545,
          0.564,
          0.73,
          0.871,
          0.664,
          0.643,
          0.862,
          0.716,
          0.431,
          0.809,
          0.819,
          0.719,
          0.578,
          0.42,
          0.804,
          0.627,
          0.669,
          0.704,
          0.744,
          0.684,
          0.71,
          0.911,
          0.609,
          0.372,
          0.825,
          0.714,
          0.502,
          0.653,
          0.676,
          0.573,
          0.503,
          0.74,
          0.532,
          0.769,
          0.783,
          0.816,
          0.537,
          0.893,
          0.521,
          0.56,
          0.586,
          0.847,
          0.813,
          0.754,
          0.698,
          0.912,
          0.559,
          0.633,
          0.505,
          0.473,
          0.661,
          0.816,
          0.797,
          0.553
         ],
         "y": [
          -5.934,
          -3.183,
          -6.4,
          -5.679,
          -6.136,
          -5.574,
          -5.609,
          -5.599,
          -10.164,
          -4.374,
          -6.049,
          -6.818,
          -6.9,
          -7.398,
          -7.015,
          -10.965,
          -6.061,
          -7.23,
          -12.205,
          -10.109,
          -4.209,
          -9.211,
          -10.48,
          -9.961,
          -6.769,
          -2.81,
          -6.362,
          -5.338,
          -9.828,
          -3.497,
          -4.88,
          -5.303,
          -7.064,
          -5.175,
          -10.732,
          -3.37,
          -9.144,
          -4.333,
          -5.677,
          -6.366,
          -4.972,
          -6.021,
          -5.697,
          -6.694,
          -6.009,
          -6.638,
          -7.346,
          -7.063,
          -3.714,
          -6.351,
          -5.044,
          -7.811,
          -3.24,
          -5.371,
          -8.81,
          -3.081,
          -4.078,
          -5.472,
          -5.804,
          -6.444,
          -4.183,
          -5.085,
          -2.827,
          -7.409,
          -4.565,
          -6.306,
          -3.015,
          -5.23,
          -7.223,
          -8.237,
          -3.787,
          -6.645,
          -7.539,
          -5.634,
          -5.041,
          -10.059,
          -6.725,
          -6.595,
          -7.596,
          -5.043,
          -3.724,
          -4.353,
          -5.723,
          -4.097,
          -8.492,
          -4.961,
          -6.687,
          -3.237,
          -4.063,
          -6.684,
          -5.608,
          -4.556,
          -9.222,
          -6.726,
          -7.621,
          -5.829,
          -7.227,
          -4.209,
          -4.787,
          -5.51
         ],
         "z": [
          171.005,
          95.977,
          98.027,
          109.891,
          159.801,
          89.911,
          103.967,
          95.01,
          111.893,
          124.949,
          116.967,
          146.053,
          80.87,
          85.043,
          186.003,
          135.128,
          78.997,
          83.903,
          78.775,
          115.284,
          95.39,
          77.169,
          108.033,
          143.883,
          103.019,
          124.053,
          95.799,
          173.93,
          100.418,
          120.042,
          75.023,
          128.945,
          119.93,
          133.52,
          140.048,
          130.049,
          134.021,
          104.988,
          169.977,
          155.096,
          122.017,
          116.078,
          124.08,
          101.654,
          100.964,
          150.011,
          74.897,
          113.003,
          155.008,
          128.044,
          166.928,
          141.961,
          123.994,
          99.988,
          143.875,
          98.007,
          82.695,
          121.955,
          145.038,
          84.094,
          123.146,
          179.642,
          112.238,
          149.995,
          171.374,
          112.969,
          89.938,
          148.033,
          114.988,
          91.873,
          102.977,
          101.969,
          163.347,
          106.966,
          101.956,
          109.928,
          178.781,
          141.059,
          85.03,
          97.985,
          119.975,
          178.085,
          128.009,
          174.323,
          100.028,
          134.066,
          116.971,
          171.447,
          121.998,
          149.789,
          89.976,
          116.761,
          78.558,
          94.875,
          91.972,
          119.992,
          173.372,
          95.39,
          177.928,
          112.603
         ]
        }
       ],
       "layout": {
        "coloraxis": {
         "colorbar": {
          "title": {
           "text": "cluster"
          }
         },
         "colorscale": [
          [
           0,
           "#0d0887"
          ],
          [
           0.1111111111111111,
           "#46039f"
          ],
          [
           0.2222222222222222,
           "#7201a8"
          ],
          [
           0.3333333333333333,
           "#9c179e"
          ],
          [
           0.4444444444444444,
           "#bd3786"
          ],
          [
           0.5555555555555556,
           "#d8576b"
          ],
          [
           0.6666666666666666,
           "#ed7953"
          ],
          [
           0.7777777777777778,
           "#fb9f3a"
          ],
          [
           0.8888888888888888,
           "#fdca26"
          ],
          [
           1,
           "#f0f921"
          ]
         ]
        },
        "legend": {
         "tracegroupgap": 0
        },
        "margin": {
         "t": 60
        },
        "scene": {
         "domain": {
          "x": [
           0,
           1
          ],
          "y": [
           0,
           1
          ]
         },
         "xaxis": {
          "title": {
           "text": "energy"
          }
         },
         "yaxis": {
          "title": {
           "text": "loudness"
          }
         },
         "zaxis": {
          "title": {
           "text": "tempo"
          }
         }
        },
        "template": {
         "data": {
          "bar": [
           {
            "error_x": {
             "color": "#2a3f5f"
            },
            "error_y": {
             "color": "#2a3f5f"
            },
            "marker": {
             "line": {
              "color": "#E5ECF6",
              "width": 0.5
             },
             "pattern": {
              "fillmode": "overlay",
              "size": 10,
              "solidity": 0.2
             }
            },
            "type": "bar"
           }
          ],
          "barpolar": [
           {
            "marker": {
             "line": {
              "color": "#E5ECF6",
              "width": 0.5
             },
             "pattern": {
              "fillmode": "overlay",
              "size": 10,
              "solidity": 0.2
             }
            },
            "type": "barpolar"
           }
          ],
          "carpet": [
           {
            "aaxis": {
             "endlinecolor": "#2a3f5f",
             "gridcolor": "white",
             "linecolor": "white",
             "minorgridcolor": "white",
             "startlinecolor": "#2a3f5f"
            },
            "baxis": {
             "endlinecolor": "#2a3f5f",
             "gridcolor": "white",
             "linecolor": "white",
             "minorgridcolor": "white",
             "startlinecolor": "#2a3f5f"
            },
            "type": "carpet"
           }
          ],
          "choropleth": [
           {
            "colorbar": {
             "outlinewidth": 0,
             "ticks": ""
            },
            "type": "choropleth"
           }
          ],
          "contour": [
           {
            "colorbar": {
             "outlinewidth": 0,
             "ticks": ""
            },
            "colorscale": [
             [
              0,
              "#0d0887"
             ],
             [
              0.1111111111111111,
              "#46039f"
             ],
             [
              0.2222222222222222,
              "#7201a8"
             ],
             [
              0.3333333333333333,
              "#9c179e"
             ],
             [
              0.4444444444444444,
              "#bd3786"
             ],
             [
              0.5555555555555556,
              "#d8576b"
             ],
             [
              0.6666666666666666,
              "#ed7953"
             ],
             [
              0.7777777777777778,
              "#fb9f3a"
             ],
             [
              0.8888888888888888,
              "#fdca26"
             ],
             [
              1,
              "#f0f921"
             ]
            ],
            "type": "contour"
           }
          ],
          "contourcarpet": [
           {
            "colorbar": {
             "outlinewidth": 0,
             "ticks": ""
            },
            "type": "contourcarpet"
           }
          ],
          "heatmap": [
           {
            "colorbar": {
             "outlinewidth": 0,
             "ticks": ""
            },
            "colorscale": [
             [
              0,
              "#0d0887"
             ],
             [
              0.1111111111111111,
              "#46039f"
             ],
             [
              0.2222222222222222,
              "#7201a8"
             ],
             [
              0.3333333333333333,
              "#9c179e"
             ],
             [
              0.4444444444444444,
              "#bd3786"
             ],
             [
              0.5555555555555556,
              "#d8576b"
             ],
             [
              0.6666666666666666,
              "#ed7953"
             ],
             [
              0.7777777777777778,
              "#fb9f3a"
             ],
             [
              0.8888888888888888,
              "#fdca26"
             ],
             [
              1,
              "#f0f921"
             ]
            ],
            "type": "heatmap"
           }
          ],
          "heatmapgl": [
           {
            "colorbar": {
             "outlinewidth": 0,
             "ticks": ""
            },
            "colorscale": [
             [
              0,
              "#0d0887"
             ],
             [
              0.1111111111111111,
              "#46039f"
             ],
             [
              0.2222222222222222,
              "#7201a8"
             ],
             [
              0.3333333333333333,
              "#9c179e"
             ],
             [
              0.4444444444444444,
              "#bd3786"
             ],
             [
              0.5555555555555556,
              "#d8576b"
             ],
             [
              0.6666666666666666,
              "#ed7953"
             ],
             [
              0.7777777777777778,
              "#fb9f3a"
             ],
             [
              0.8888888888888888,
              "#fdca26"
             ],
             [
              1,
              "#f0f921"
             ]
            ],
            "type": "heatmapgl"
           }
          ],
          "histogram": [
           {
            "marker": {
             "pattern": {
              "fillmode": "overlay",
              "size": 10,
              "solidity": 0.2
             }
            },
            "type": "histogram"
           }
          ],
          "histogram2d": [
           {
            "colorbar": {
             "outlinewidth": 0,
             "ticks": ""
            },
            "colorscale": [
             [
              0,
              "#0d0887"
             ],
             [
              0.1111111111111111,
              "#46039f"
             ],
             [
              0.2222222222222222,
              "#7201a8"
             ],
             [
              0.3333333333333333,
              "#9c179e"
             ],
             [
              0.4444444444444444,
              "#bd3786"
             ],
             [
              0.5555555555555556,
              "#d8576b"
             ],
             [
              0.6666666666666666,
              "#ed7953"
             ],
             [
              0.7777777777777778,
              "#fb9f3a"
             ],
             [
              0.8888888888888888,
              "#fdca26"
             ],
             [
              1,
              "#f0f921"
             ]
            ],
            "type": "histogram2d"
           }
          ],
          "histogram2dcontour": [
           {
            "colorbar": {
             "outlinewidth": 0,
             "ticks": ""
            },
            "colorscale": [
             [
              0,
              "#0d0887"
             ],
             [
              0.1111111111111111,
              "#46039f"
             ],
             [
              0.2222222222222222,
              "#7201a8"
             ],
             [
              0.3333333333333333,
              "#9c179e"
             ],
             [
              0.4444444444444444,
              "#bd3786"
             ],
             [
              0.5555555555555556,
              "#d8576b"
             ],
             [
              0.6666666666666666,
              "#ed7953"
             ],
             [
              0.7777777777777778,
              "#fb9f3a"
             ],
             [
              0.8888888888888888,
              "#fdca26"
             ],
             [
              1,
              "#f0f921"
             ]
            ],
            "type": "histogram2dcontour"
           }
          ],
          "mesh3d": [
           {
            "colorbar": {
             "outlinewidth": 0,
             "ticks": ""
            },
            "type": "mesh3d"
           }
          ],
          "parcoords": [
           {
            "line": {
             "colorbar": {
              "outlinewidth": 0,
              "ticks": ""
             }
            },
            "type": "parcoords"
           }
          ],
          "pie": [
           {
            "automargin": true,
            "type": "pie"
           }
          ],
          "scatter": [
           {
            "fillpattern": {
             "fillmode": "overlay",
             "size": 10,
             "solidity": 0.2
            },
            "type": "scatter"
           }
          ],
          "scatter3d": [
           {
            "line": {
             "colorbar": {
              "outlinewidth": 0,
              "ticks": ""
             }
            },
            "marker": {
             "colorbar": {
              "outlinewidth": 0,
              "ticks": ""
             }
            },
            "type": "scatter3d"
           }
          ],
          "scattercarpet": [
           {
            "marker": {
             "colorbar": {
              "outlinewidth": 0,
              "ticks": ""
             }
            },
            "type": "scattercarpet"
           }
          ],
          "scattergeo": [
           {
            "marker": {
             "colorbar": {
              "outlinewidth": 0,
              "ticks": ""
             }
            },
            "type": "scattergeo"
           }
          ],
          "scattergl": [
           {
            "marker": {
             "colorbar": {
              "outlinewidth": 0,
              "ticks": ""
             }
            },
            "type": "scattergl"
           }
          ],
          "scattermapbox": [
           {
            "marker": {
             "colorbar": {
              "outlinewidth": 0,
              "ticks": ""
             }
            },
            "type": "scattermapbox"
           }
          ],
          "scatterpolar": [
           {
            "marker": {
             "colorbar": {
              "outlinewidth": 0,
              "ticks": ""
             }
            },
            "type": "scatterpolar"
           }
          ],
          "scatterpolargl": [
           {
            "marker": {
             "colorbar": {
              "outlinewidth": 0,
              "ticks": ""
             }
            },
            "type": "scatterpolargl"
           }
          ],
          "scatterternary": [
           {
            "marker": {
             "colorbar": {
              "outlinewidth": 0,
              "ticks": ""
             }
            },
            "type": "scatterternary"
           }
          ],
          "surface": [
           {
            "colorbar": {
             "outlinewidth": 0,
             "ticks": ""
            },
            "colorscale": [
             [
              0,
              "#0d0887"
             ],
             [
              0.1111111111111111,
              "#46039f"
             ],
             [
              0.2222222222222222,
              "#7201a8"
             ],
             [
              0.3333333333333333,
              "#9c179e"
             ],
             [
              0.4444444444444444,
              "#bd3786"
             ],
             [
              0.5555555555555556,
              "#d8576b"
             ],
             [
              0.6666666666666666,
              "#ed7953"
             ],
             [
              0.7777777777777778,
              "#fb9f3a"
             ],
             [
              0.8888888888888888,
              "#fdca26"
             ],
             [
              1,
              "#f0f921"
             ]
            ],
            "type": "surface"
           }
          ],
          "table": [
           {
            "cells": {
             "fill": {
              "color": "#EBF0F8"
             },
             "line": {
              "color": "white"
             }
            },
            "header": {
             "fill": {
              "color": "#C8D4E3"
             },
             "line": {
              "color": "white"
             }
            },
            "type": "table"
           }
          ]
         },
         "layout": {
          "annotationdefaults": {
           "arrowcolor": "#2a3f5f",
           "arrowhead": 0,
           "arrowwidth": 1
          },
          "autotypenumbers": "strict",
          "coloraxis": {
           "colorbar": {
            "outlinewidth": 0,
            "ticks": ""
           }
          },
          "colorscale": {
           "diverging": [
            [
             0,
             "#8e0152"
            ],
            [
             0.1,
             "#c51b7d"
            ],
            [
             0.2,
             "#de77ae"
            ],
            [
             0.3,
             "#f1b6da"
            ],
            [
             0.4,
             "#fde0ef"
            ],
            [
             0.5,
             "#f7f7f7"
            ],
            [
             0.6,
             "#e6f5d0"
            ],
            [
             0.7,
             "#b8e186"
            ],
            [
             0.8,
             "#7fbc41"
            ],
            [
             0.9,
             "#4d9221"
            ],
            [
             1,
             "#276419"
            ]
           ],
           "sequential": [
            [
             0,
             "#0d0887"
            ],
            [
             0.1111111111111111,
             "#46039f"
            ],
            [
             0.2222222222222222,
             "#7201a8"
            ],
            [
             0.3333333333333333,
             "#9c179e"
            ],
            [
             0.4444444444444444,
             "#bd3786"
            ],
            [
             0.5555555555555556,
             "#d8576b"
            ],
            [
             0.6666666666666666,
             "#ed7953"
            ],
            [
             0.7777777777777778,
             "#fb9f3a"
            ],
            [
             0.8888888888888888,
             "#fdca26"
            ],
            [
             1,
             "#f0f921"
            ]
           ],
           "sequentialminus": [
            [
             0,
             "#0d0887"
            ],
            [
             0.1111111111111111,
             "#46039f"
            ],
            [
             0.2222222222222222,
             "#7201a8"
            ],
            [
             0.3333333333333333,
             "#9c179e"
            ],
            [
             0.4444444444444444,
             "#bd3786"
            ],
            [
             0.5555555555555556,
             "#d8576b"
            ],
            [
             0.6666666666666666,
             "#ed7953"
            ],
            [
             0.7777777777777778,
             "#fb9f3a"
            ],
            [
             0.8888888888888888,
             "#fdca26"
            ],
            [
             1,
             "#f0f921"
            ]
           ]
          },
          "colorway": [
           "#636efa",
           "#EF553B",
           "#00cc96",
           "#ab63fa",
           "#FFA15A",
           "#19d3f3",
           "#FF6692",
           "#B6E880",
           "#FF97FF",
           "#FECB52"
          ],
          "font": {
           "color": "#2a3f5f"
          },
          "geo": {
           "bgcolor": "white",
           "lakecolor": "white",
           "landcolor": "#E5ECF6",
           "showlakes": true,
           "showland": true,
           "subunitcolor": "white"
          },
          "hoverlabel": {
           "align": "left"
          },
          "hovermode": "closest",
          "mapbox": {
           "style": "light"
          },
          "paper_bgcolor": "white",
          "plot_bgcolor": "#E5ECF6",
          "polar": {
           "angularaxis": {
            "gridcolor": "white",
            "linecolor": "white",
            "ticks": ""
           },
           "bgcolor": "#E5ECF6",
           "radialaxis": {
            "gridcolor": "white",
            "linecolor": "white",
            "ticks": ""
           }
          },
          "scene": {
           "xaxis": {
            "backgroundcolor": "#E5ECF6",
            "gridcolor": "white",
            "gridwidth": 2,
            "linecolor": "white",
            "showbackground": true,
            "ticks": "",
            "zerolinecolor": "white"
           },
           "yaxis": {
            "backgroundcolor": "#E5ECF6",
            "gridcolor": "white",
            "gridwidth": 2,
            "linecolor": "white",
            "showbackground": true,
            "ticks": "",
            "zerolinecolor": "white"
           },
           "zaxis": {
            "backgroundcolor": "#E5ECF6",
            "gridcolor": "white",
            "gridwidth": 2,
            "linecolor": "white",
            "showbackground": true,
            "ticks": "",
            "zerolinecolor": "white"
           }
          },
          "shapedefaults": {
           "line": {
            "color": "#2a3f5f"
           }
          },
          "ternary": {
           "aaxis": {
            "gridcolor": "white",
            "linecolor": "white",
            "ticks": ""
           },
           "baxis": {
            "gridcolor": "white",
            "linecolor": "white",
            "ticks": ""
           },
           "bgcolor": "#E5ECF6",
           "caxis": {
            "gridcolor": "white",
            "linecolor": "white",
            "ticks": ""
           }
          },
          "title": {
           "x": 0.05
          },
          "xaxis": {
           "automargin": true,
           "gridcolor": "white",
           "linecolor": "white",
           "ticks": "",
           "title": {
            "standoff": 15
           },
           "zerolinecolor": "white",
           "zerolinewidth": 2
          },
          "yaxis": {
           "automargin": true,
           "gridcolor": "white",
           "linecolor": "white",
           "ticks": "",
           "title": {
            "standoff": 15
           },
           "zerolinecolor": "white",
           "zerolinewidth": 2
          }
         }
        }
       }
      },
      "text/html": [
       "<div>                            <div id=\"0216a034-5bdb-4e0a-8aaf-8a4be4b0d3ec\" class=\"plotly-graph-div\" style=\"height:525px; width:100%;\"></div>            <script type=\"text/javascript\">                require([\"plotly\"], function(Plotly) {                    window.PLOTLYENV=window.PLOTLYENV || {};                                    if (document.getElementById(\"0216a034-5bdb-4e0a-8aaf-8a4be4b0d3ec\")) {                    Plotly.newPlot(                        \"0216a034-5bdb-4e0a-8aaf-8a4be4b0d3ec\",                        [{\"customdata\":[[3.33,0.0598,0.00146,9.54e-05,0.0897,0.334,0.514],[3.9,0.0802,0.581,0.0,0.0931,0.931,0.825],[3.49,0.0924,0.692,0.000104,0.149,0.513,0.824],[3.04,0.0319,0.751,0.0,0.105,0.446,0.501],[3.64,0.0712,0.124,7.01e-05,0.131,0.129,0.585],[2.63,0.0466,0.556,0.0,0.0703,0.913,0.76],[2.9,0.0536,0.00776,0.0018,0.329,0.37,0.792],[4.08,0.0338,0.414,0.0,0.111,0.661,0.748],[4.01,0.0283,0.945,6.12e-05,0.117,0.125,0.621],[3.41,0.128,0.0622,0.0,0.081,0.666,0.776],[3.18,0.029,0.0392,0.0,0.0828,0.749,0.759],[2.96,0.0331,0.433,0.124,0.102,0.6,0.634],[3.98,0.0944,0.44,6.7e-06,0.0921,0.531,0.761],[3.52,0.059,0.695,0.0,0.0902,0.494,0.358],[3.84,0.276,0.141,6.35e-06,0.137,0.486,0.679],[3.23,0.375,0.328,0.13,0.1,0.562,0.701],[4.69,0.0296,0.474,0.0,0.184,0.591,0.781],[4.0,0.2,0.349,0.0,0.34,0.218,0.511],[3.02,0.0484,0.876,0.459,0.237,0.707,0.498],[3.34,0.0333,0.934,0.0,0.095,0.12,0.351],[2.9,0.0465,0.122,0.0,0.335,0.557,0.548],[3.32,0.109,0.0332,8.29e-05,0.552,0.357,0.754],[4.32,0.0359,0.607,0.000472,0.0986,0.22,0.718],[5.91,0.0536,0.288,0.0,0.243,0.228,0.392],[4.12,0.0317,0.0498,1.44e-05,0.164,0.446,0.617],[4.01,0.0336,0.0495,0.0177,0.101,0.398,0.612],[3.6,0.0308,0.371,0.0,0.231,0.323,0.572],[2.79,0.0557,0.342,0.00101,0.311,0.662,0.52],[3.9,0.438,0.835,0.0,0.28,0.515,0.609],[3.59,0.0395,0.192,0.00244,0.0863,0.553,0.695],[2.78,0.145,0.258,0.00372,0.123,0.473,0.74],[4.03,0.0464,0.634,0.0,0.116,0.437,0.566],[4.49,0.0322,0.922,0.0,0.132,0.331,0.422],[4.88,0.0364,0.000147,0.0117,0.217,0.259,0.502],[2.98,0.334,0.592,0.0,0.0881,0.327,0.778],[4.06,0.0484,0.0847,0.0,0.149,0.43,0.841],[1.99,0.242,0.469,4.13e-06,0.297,0.437,0.872],[3.62,0.03,0.184,3.56e-05,0.132,0.394,0.765],[3.37,0.141,0.0462,2.29e-05,0.0602,0.648,0.734],[3.05,0.231,0.00264,0.0,0.109,0.401,0.732],[4.3,0.0382,0.0654,0.0,0.115,0.477,0.664],[3.49,0.0694,0.00265,1.55e-05,0.153,0.608,0.762],[4.12,0.0523,0.0038,0.0012,0.161,0.643,0.532],[3.4,0.0379,0.431,0.0,0.151,0.51,0.484],[3.21,0.0751,0.121,0.0,0.121,0.472,0.733],[2.95,0.102,0.000282,5.39e-05,0.0958,0.421,0.908],[4.21,0.0688,0.365,0.0,0.0963,0.243,0.479],[4.04,0.0515,0.0671,0.0,0.135,0.137,0.585],[5.21,0.222,0.00513,0.0,0.124,0.446,0.834],[1.52,0.0752,0.000744,0.00498,0.253,0.219,0.556],[2.97,0.154,0.335,0.0,0.0849,0.688,0.563],[3.1,0.0984,8.47e-05,0.0,0.203,0.492,0.73],[3.58,0.11,0.037,2.19e-05,0.0814,0.592,0.791],[3.43,0.0349,0.0863,2.63e-05,0.135,0.163,0.649],[4.03,0.0578,0.768,1.42e-05,0.106,0.137,0.561],[2.94,0.0625,0.00346,0.00123,0.565,0.274,0.723],[3.13,0.341,0.106,0.0,0.107,0.747,0.444],[2.95,0.0474,0.0143,0.00777,0.359,0.863,0.769],[3.85,0.04,0.331,0.0,0.135,0.341,0.68],[2.88,0.0414,0.588,6.39e-05,0.11,0.184,0.418],[3.67,0.0363,0.215,0.0,0.253,0.492,0.63],[3.54,0.0476,0.0281,7.97e-06,0.11,0.159,0.468],[4.84,0.0738,0.00286,0.0,0.237,0.662,0.908],[3.53,0.0615,0.0203,0.0,0.0501,0.894,0.736],[5.44,0.257,0.00868,0.000423,0.359,0.0612,0.692],[4.15,0.044,0.00979,0.0,0.348,0.556,0.34],[2.92,0.0321,0.19,0.00025,0.329,0.428,0.505],[3.72,0.0747,0.00121,0.0,0.0995,0.236,0.352],[4.49,0.0824,0.00801,8.15e-05,0.0344,0.928,0.856],[3.35,0.0432,0.64,0.0,0.169,0.476,0.681],[3.38,0.0601,0.00883,0.0,0.0674,0.915,0.702],[3.3,0.111,0.0353,8.42e-06,0.0843,0.71,0.664],[3.49,0.0493,0.699,0.000156,0.094,0.674,0.455],[3.46,0.0658,0.229,0.0,0.101,0.412,0.717],[3.67,0.0442,0.0902,0.0,0.0894,0.843,0.798],[3.42,0.0544,0.401,5.22e-05,0.113,0.145,0.731],[2.3,0.22,0.293,0.0,0.405,0.71,0.593],[2.16,0.336,0.696,6.81e-06,0.23,0.532,0.768],[4.54,0.0323,0.186,0.000263,0.217,0.405,0.548],[3.9,0.123,0.0293,0.0101,0.104,0.733,0.726],[3.38,0.0859,0.00379,0.0,0.036,0.816,0.751],[3.81,0.167,0.228,0.0,0.0967,0.816,0.653],[2.25,0.0804,0.556,0.00404,0.102,0.711,0.921],[4.31,0.0406,0.000509,0.0,0.187,0.434,0.375],[4.88,0.339,0.324,0.0,0.0534,0.494,0.69],[3.44,0.0406,0.013,0.0,0.0944,0.86,0.853],[3.28,0.0559,0.104,0.0,0.79,0.642,0.896],[4.96,0.186,0.0622,0.0,0.0816,0.1,0.548],[3.32,0.0554,0.38,0.0,0.0779,0.969,0.866],[3.45,0.0615,0.0151,0.0,0.0486,0.755,0.752],[3.53,0.105,0.0472,0.00143,0.0907,0.732,0.628],[5.03,0.0564,2.55e-05,0.000173,0.106,0.72,0.502],[3.01,0.0959,0.371,7.49e-06,0.109,0.62,0.558],[2.93,0.0711,0.0886,0.0,0.116,0.505,0.646],[3.29,0.255,0.534,2.58e-06,0.104,0.419,0.753],[3.96,0.0514,0.287,0.0,0.391,0.34,0.765],[4.45,0.0281,0.00239,0.000121,0.234,0.285,0.429],[2.9,0.0465,0.122,0.0,0.335,0.557,0.548],[3.82,0.153,0.198,0.0,0.067,0.839,0.655],[7.05,0.0773,0.71,0.0,0.101,0.419,0.471]],\"hovertemplate\":\"<b>%{hovertext}</b><br><br>energy=%{x}<br>loudness=%{y}<br>tempo=%{z}<br>duration=%{customdata[0]}<br>speechiness=%{customdata[1]}<br>acousticness=%{customdata[2]}<br>instrumentalness=%{customdata[3]}<br>liveness=%{customdata[4]}<br>valence=%{customdata[5]}<br>danceability=%{customdata[6]}<br>cluster=%{marker.color}<extra></extra>\",\"hovertext\":[\"Blinding Lights\",\"Shape of You\",\"Dance Monkey\",\"Someone You Loved\",\"Rockstar\",\"Sunflower\",\"One Dance\",\"Closer\",\"Stay\",\"Believer\",\"Se\\u00f1orita\",\"Perfect\",\"Heat Waves\",\"Say You Won't Let Go\",\"Starboy\",\"Bad Guy\",\"Thinking Out Loud\",\"Lucid Dreams\",\"Don't Start Now\",\"Lovely\",\"Watermelon Sugar\",\"God's Plan\",\"Photograph\",\"Bohemian Rhapsody\",\"Something Just Like This\",\"Sweater Weather\",\"Shallow\",\"As It Was\",\"Love Yourself\",\"Circles\",\"Sad!\",\"Take Me to Church\",\"All of Me\",\"Thunder\",\"7 Rings\",\"Goosebumps\",\"Jocelyn Flores\",\"Havana\",\"Stressed Out\",\"XO Tour Llif3\",\"Counting Stars\",\"New Rules\",\"Wake Me Up\",\"Riptide\",\"Happier\",\"Humble\",\"Let Her Go\",\"The Hills\",\"Sicko Mode\",\"Can't Hold Us\",\"Good 4 U\",\"Sorry\",\"One Kiss\",\"Let Me Love You\",\"Drivers License\",\"Lean On\",\"Treat You Better\",\"Roses (Imanbek remix)\",\"Better Now\",\"Stay with Me\",\"Congratulations\",\"Faded\",\"Without Me\",\"Industry Baby\",\"Lose Yourself\",\"Memories\",\"Demons\",\"Mr. Brightside\",\"Uptown Funk\",\"Too Good at Goodbyes\",\"Levitating\",\"I Took a Pill in Ibiza\\u00a0(Seeb\\u00a0Remix)\",\"Don't Let Me Down\",\"Thank U, Next\",\"I Don't Care\",\"Dakiti\",\"Montero (Call Me by Your Name)\",\"Mood\",\"Do I Wanna Know?\",\"Unforgettable\",\"Dynamite\",\"Despacito (remix)\",\"Moonlight\",\"Wonderwall\",\"No Role Modelz\",\"That's What I Like\",\"The Box\",\"'Till I Collapse\",\"There's Nothing Holdin' Me Back\",\"Stitches\",\"Cheap Thrills\",\"Smells Like Teen Spirit\",\"See You Again\",\"I'm Yours\",\"I Like Me Better\",\"7 Years\",\"Yellow\",\"Sugar\",\"Despacito\",\"Don't Stop Me Now\"],\"legendgroup\":\"\",\"marker\":{\"color\":[1,1,2,0,1,1,1,1,0,1,1,1,0,0,2,2,0,2,3,0,1,2,0,0,1,1,0,1,2,1,1,0,0,1,2,1,2,1,1,1,1,1,1,0,1,1,0,0,1,1,1,1,1,1,0,1,1,1,1,0,1,1,1,1,1,1,1,1,1,0,1,1,0,1,1,0,2,2,0,1,1,1,2,1,2,1,2,1,1,1,1,1,0,1,2,2,1,1,1,0],\"coloraxis\":\"coloraxis\",\"symbol\":\"circle\"},\"mode\":\"markers\",\"name\":\"\",\"scene\":\"scene\",\"showlegend\":false,\"x\":[0.73,0.652,0.588,0.405,0.52,0.479,0.625,0.524,0.31,0.78,0.548,0.663,0.525,0.557,0.587,0.425,0.445,0.566,0.185,0.296,0.816,0.449,0.379,0.402,0.635,0.807,0.385,0.731,0.378,0.762,0.613,0.664,0.264,0.89,0.317,0.728,0.391,0.523,0.637,0.75,0.705,0.7,0.783,0.731,0.67,0.621,0.545,0.564,0.73,0.871,0.664,0.643,0.862,0.716,0.431,0.809,0.819,0.719,0.578,0.42,0.804,0.627,0.669,0.704,0.744,0.684,0.71,0.911,0.609,0.372,0.825,0.714,0.502,0.653,0.676,0.573,0.503,0.74,0.532,0.769,0.783,0.816,0.537,0.893,0.521,0.56,0.586,0.847,0.813,0.754,0.698,0.912,0.559,0.633,0.505,0.473,0.661,0.816,0.797,0.553],\"y\":[-5.934,-3.183,-6.4,-5.679,-6.136,-5.574,-5.609,-5.599,-10.164,-4.374,-6.049,-6.818,-6.9,-7.398,-7.015,-10.965,-6.061,-7.23,-12.205,-10.109,-4.209,-9.211,-10.48,-9.961,-6.769,-2.81,-6.362,-5.338,-9.828,-3.497,-4.88,-5.303,-7.064,-5.175,-10.732,-3.37,-9.144,-4.333,-5.677,-6.366,-4.972,-6.021,-5.697,-6.694,-6.009,-6.638,-7.346,-7.063,-3.714,-6.351,-5.044,-7.811,-3.24,-5.371,-8.81,-3.081,-4.078,-5.472,-5.804,-6.444,-4.183,-5.085,-2.827,-7.409,-4.565,-6.306,-3.015,-5.23,-7.223,-8.237,-3.787,-6.645,-7.539,-5.634,-5.041,-10.059,-6.725,-6.595,-7.596,-5.043,-3.724,-4.353,-5.723,-4.097,-8.492,-4.961,-6.687,-3.237,-4.063,-6.684,-5.608,-4.556,-9.222,-6.726,-7.621,-5.829,-7.227,-4.209,-4.787,-5.51],\"z\":[171.005,95.977,98.027,109.891,159.801,89.911,103.967,95.01,111.893,124.949,116.967,146.053,80.87,85.043,186.003,135.128,78.997,83.903,78.775,115.284,95.39,77.169,108.033,143.883,103.019,124.053,95.799,173.93,100.418,120.042,75.023,128.945,119.93,133.52,140.048,130.049,134.021,104.988,169.977,155.096,122.017,116.078,124.08,101.654,100.964,150.011,74.897,113.003,155.008,128.044,166.928,141.961,123.994,99.988,143.875,98.007,82.695,121.955,145.038,84.094,123.146,179.642,112.238,149.995,171.374,112.969,89.938,148.033,114.988,91.873,102.977,101.969,163.347,106.966,101.956,109.928,178.781,141.059,85.03,97.985,119.975,178.085,128.009,174.323,100.028,134.066,116.971,171.447,121.998,149.789,89.976,116.761,78.558,94.875,91.972,119.992,173.372,95.39,177.928,112.603],\"type\":\"scatter3d\"}],                        {\"template\":{\"data\":{\"histogram2dcontour\":[{\"type\":\"histogram2dcontour\",\"colorbar\":{\"outlinewidth\":0,\"ticks\":\"\"},\"colorscale\":[[0.0,\"#0d0887\"],[0.1111111111111111,\"#46039f\"],[0.2222222222222222,\"#7201a8\"],[0.3333333333333333,\"#9c179e\"],[0.4444444444444444,\"#bd3786\"],[0.5555555555555556,\"#d8576b\"],[0.6666666666666666,\"#ed7953\"],[0.7777777777777778,\"#fb9f3a\"],[0.8888888888888888,\"#fdca26\"],[1.0,\"#f0f921\"]]}],\"choropleth\":[{\"type\":\"choropleth\",\"colorbar\":{\"outlinewidth\":0,\"ticks\":\"\"}}],\"histogram2d\":[{\"type\":\"histogram2d\",\"colorbar\":{\"outlinewidth\":0,\"ticks\":\"\"},\"colorscale\":[[0.0,\"#0d0887\"],[0.1111111111111111,\"#46039f\"],[0.2222222222222222,\"#7201a8\"],[0.3333333333333333,\"#9c179e\"],[0.4444444444444444,\"#bd3786\"],[0.5555555555555556,\"#d8576b\"],[0.6666666666666666,\"#ed7953\"],[0.7777777777777778,\"#fb9f3a\"],[0.8888888888888888,\"#fdca26\"],[1.0,\"#f0f921\"]]}],\"heatmap\":[{\"type\":\"heatmap\",\"colorbar\":{\"outlinewidth\":0,\"ticks\":\"\"},\"colorscale\":[[0.0,\"#0d0887\"],[0.1111111111111111,\"#46039f\"],[0.2222222222222222,\"#7201a8\"],[0.3333333333333333,\"#9c179e\"],[0.4444444444444444,\"#bd3786\"],[0.5555555555555556,\"#d8576b\"],[0.6666666666666666,\"#ed7953\"],[0.7777777777777778,\"#fb9f3a\"],[0.8888888888888888,\"#fdca26\"],[1.0,\"#f0f921\"]]}],\"heatmapgl\":[{\"type\":\"heatmapgl\",\"colorbar\":{\"outlinewidth\":0,\"ticks\":\"\"},\"colorscale\":[[0.0,\"#0d0887\"],[0.1111111111111111,\"#46039f\"],[0.2222222222222222,\"#7201a8\"],[0.3333333333333333,\"#9c179e\"],[0.4444444444444444,\"#bd3786\"],[0.5555555555555556,\"#d8576b\"],[0.6666666666666666,\"#ed7953\"],[0.7777777777777778,\"#fb9f3a\"],[0.8888888888888888,\"#fdca26\"],[1.0,\"#f0f921\"]]}],\"contourcarpet\":[{\"type\":\"contourcarpet\",\"colorbar\":{\"outlinewidth\":0,\"ticks\":\"\"}}],\"contour\":[{\"type\":\"contour\",\"colorbar\":{\"outlinewidth\":0,\"ticks\":\"\"},\"colorscale\":[[0.0,\"#0d0887\"],[0.1111111111111111,\"#46039f\"],[0.2222222222222222,\"#7201a8\"],[0.3333333333333333,\"#9c179e\"],[0.4444444444444444,\"#bd3786\"],[0.5555555555555556,\"#d8576b\"],[0.6666666666666666,\"#ed7953\"],[0.7777777777777778,\"#fb9f3a\"],[0.8888888888888888,\"#fdca26\"],[1.0,\"#f0f921\"]]}],\"surface\":[{\"type\":\"surface\",\"colorbar\":{\"outlinewidth\":0,\"ticks\":\"\"},\"colorscale\":[[0.0,\"#0d0887\"],[0.1111111111111111,\"#46039f\"],[0.2222222222222222,\"#7201a8\"],[0.3333333333333333,\"#9c179e\"],[0.4444444444444444,\"#bd3786\"],[0.5555555555555556,\"#d8576b\"],[0.6666666666666666,\"#ed7953\"],[0.7777777777777778,\"#fb9f3a\"],[0.8888888888888888,\"#fdca26\"],[1.0,\"#f0f921\"]]}],\"mesh3d\":[{\"type\":\"mesh3d\",\"colorbar\":{\"outlinewidth\":0,\"ticks\":\"\"}}],\"scatter\":[{\"fillpattern\":{\"fillmode\":\"overlay\",\"size\":10,\"solidity\":0.2},\"type\":\"scatter\"}],\"parcoords\":[{\"type\":\"parcoords\",\"line\":{\"colorbar\":{\"outlinewidth\":0,\"ticks\":\"\"}}}],\"scatterpolargl\":[{\"type\":\"scatterpolargl\",\"marker\":{\"colorbar\":{\"outlinewidth\":0,\"ticks\":\"\"}}}],\"bar\":[{\"error_x\":{\"color\":\"#2a3f5f\"},\"error_y\":{\"color\":\"#2a3f5f\"},\"marker\":{\"line\":{\"color\":\"#E5ECF6\",\"width\":0.5},\"pattern\":{\"fillmode\":\"overlay\",\"size\":10,\"solidity\":0.2}},\"type\":\"bar\"}],\"scattergeo\":[{\"type\":\"scattergeo\",\"marker\":{\"colorbar\":{\"outlinewidth\":0,\"ticks\":\"\"}}}],\"scatterpolar\":[{\"type\":\"scatterpolar\",\"marker\":{\"colorbar\":{\"outlinewidth\":0,\"ticks\":\"\"}}}],\"histogram\":[{\"marker\":{\"pattern\":{\"fillmode\":\"overlay\",\"size\":10,\"solidity\":0.2}},\"type\":\"histogram\"}],\"scattergl\":[{\"type\":\"scattergl\",\"marker\":{\"colorbar\":{\"outlinewidth\":0,\"ticks\":\"\"}}}],\"scatter3d\":[{\"type\":\"scatter3d\",\"line\":{\"colorbar\":{\"outlinewidth\":0,\"ticks\":\"\"}},\"marker\":{\"colorbar\":{\"outlinewidth\":0,\"ticks\":\"\"}}}],\"scattermapbox\":[{\"type\":\"scattermapbox\",\"marker\":{\"colorbar\":{\"outlinewidth\":0,\"ticks\":\"\"}}}],\"scatterternary\":[{\"type\":\"scatterternary\",\"marker\":{\"colorbar\":{\"outlinewidth\":0,\"ticks\":\"\"}}}],\"scattercarpet\":[{\"type\":\"scattercarpet\",\"marker\":{\"colorbar\":{\"outlinewidth\":0,\"ticks\":\"\"}}}],\"carpet\":[{\"aaxis\":{\"endlinecolor\":\"#2a3f5f\",\"gridcolor\":\"white\",\"linecolor\":\"white\",\"minorgridcolor\":\"white\",\"startlinecolor\":\"#2a3f5f\"},\"baxis\":{\"endlinecolor\":\"#2a3f5f\",\"gridcolor\":\"white\",\"linecolor\":\"white\",\"minorgridcolor\":\"white\",\"startlinecolor\":\"#2a3f5f\"},\"type\":\"carpet\"}],\"table\":[{\"cells\":{\"fill\":{\"color\":\"#EBF0F8\"},\"line\":{\"color\":\"white\"}},\"header\":{\"fill\":{\"color\":\"#C8D4E3\"},\"line\":{\"color\":\"white\"}},\"type\":\"table\"}],\"barpolar\":[{\"marker\":{\"line\":{\"color\":\"#E5ECF6\",\"width\":0.5},\"pattern\":{\"fillmode\":\"overlay\",\"size\":10,\"solidity\":0.2}},\"type\":\"barpolar\"}],\"pie\":[{\"automargin\":true,\"type\":\"pie\"}]},\"layout\":{\"autotypenumbers\":\"strict\",\"colorway\":[\"#636efa\",\"#EF553B\",\"#00cc96\",\"#ab63fa\",\"#FFA15A\",\"#19d3f3\",\"#FF6692\",\"#B6E880\",\"#FF97FF\",\"#FECB52\"],\"font\":{\"color\":\"#2a3f5f\"},\"hovermode\":\"closest\",\"hoverlabel\":{\"align\":\"left\"},\"paper_bgcolor\":\"white\",\"plot_bgcolor\":\"#E5ECF6\",\"polar\":{\"bgcolor\":\"#E5ECF6\",\"angularaxis\":{\"gridcolor\":\"white\",\"linecolor\":\"white\",\"ticks\":\"\"},\"radialaxis\":{\"gridcolor\":\"white\",\"linecolor\":\"white\",\"ticks\":\"\"}},\"ternary\":{\"bgcolor\":\"#E5ECF6\",\"aaxis\":{\"gridcolor\":\"white\",\"linecolor\":\"white\",\"ticks\":\"\"},\"baxis\":{\"gridcolor\":\"white\",\"linecolor\":\"white\",\"ticks\":\"\"},\"caxis\":{\"gridcolor\":\"white\",\"linecolor\":\"white\",\"ticks\":\"\"}},\"coloraxis\":{\"colorbar\":{\"outlinewidth\":0,\"ticks\":\"\"}},\"colorscale\":{\"sequential\":[[0.0,\"#0d0887\"],[0.1111111111111111,\"#46039f\"],[0.2222222222222222,\"#7201a8\"],[0.3333333333333333,\"#9c179e\"],[0.4444444444444444,\"#bd3786\"],[0.5555555555555556,\"#d8576b\"],[0.6666666666666666,\"#ed7953\"],[0.7777777777777778,\"#fb9f3a\"],[0.8888888888888888,\"#fdca26\"],[1.0,\"#f0f921\"]],\"sequentialminus\":[[0.0,\"#0d0887\"],[0.1111111111111111,\"#46039f\"],[0.2222222222222222,\"#7201a8\"],[0.3333333333333333,\"#9c179e\"],[0.4444444444444444,\"#bd3786\"],[0.5555555555555556,\"#d8576b\"],[0.6666666666666666,\"#ed7953\"],[0.7777777777777778,\"#fb9f3a\"],[0.8888888888888888,\"#fdca26\"],[1.0,\"#f0f921\"]],\"diverging\":[[0,\"#8e0152\"],[0.1,\"#c51b7d\"],[0.2,\"#de77ae\"],[0.3,\"#f1b6da\"],[0.4,\"#fde0ef\"],[0.5,\"#f7f7f7\"],[0.6,\"#e6f5d0\"],[0.7,\"#b8e186\"],[0.8,\"#7fbc41\"],[0.9,\"#4d9221\"],[1,\"#276419\"]]},\"xaxis\":{\"gridcolor\":\"white\",\"linecolor\":\"white\",\"ticks\":\"\",\"title\":{\"standoff\":15},\"zerolinecolor\":\"white\",\"automargin\":true,\"zerolinewidth\":2},\"yaxis\":{\"gridcolor\":\"white\",\"linecolor\":\"white\",\"ticks\":\"\",\"title\":{\"standoff\":15},\"zerolinecolor\":\"white\",\"automargin\":true,\"zerolinewidth\":2},\"scene\":{\"xaxis\":{\"backgroundcolor\":\"#E5ECF6\",\"gridcolor\":\"white\",\"linecolor\":\"white\",\"showbackground\":true,\"ticks\":\"\",\"zerolinecolor\":\"white\",\"gridwidth\":2},\"yaxis\":{\"backgroundcolor\":\"#E5ECF6\",\"gridcolor\":\"white\",\"linecolor\":\"white\",\"showbackground\":true,\"ticks\":\"\",\"zerolinecolor\":\"white\",\"gridwidth\":2},\"zaxis\":{\"backgroundcolor\":\"#E5ECF6\",\"gridcolor\":\"white\",\"linecolor\":\"white\",\"showbackground\":true,\"ticks\":\"\",\"zerolinecolor\":\"white\",\"gridwidth\":2}},\"shapedefaults\":{\"line\":{\"color\":\"#2a3f5f\"}},\"annotationdefaults\":{\"arrowcolor\":\"#2a3f5f\",\"arrowhead\":0,\"arrowwidth\":1},\"geo\":{\"bgcolor\":\"white\",\"landcolor\":\"#E5ECF6\",\"subunitcolor\":\"white\",\"showland\":true,\"showlakes\":true,\"lakecolor\":\"white\"},\"title\":{\"x\":0.05},\"mapbox\":{\"style\":\"light\"}}},\"scene\":{\"domain\":{\"x\":[0.0,1.0],\"y\":[0.0,1.0]},\"xaxis\":{\"title\":{\"text\":\"energy\"}},\"yaxis\":{\"title\":{\"text\":\"loudness\"}},\"zaxis\":{\"title\":{\"text\":\"tempo\"}}},\"coloraxis\":{\"colorbar\":{\"title\":{\"text\":\"cluster\"}},\"colorscale\":[[0.0,\"#0d0887\"],[0.1111111111111111,\"#46039f\"],[0.2222222222222222,\"#7201a8\"],[0.3333333333333333,\"#9c179e\"],[0.4444444444444444,\"#bd3786\"],[0.5555555555555556,\"#d8576b\"],[0.6666666666666666,\"#ed7953\"],[0.7777777777777778,\"#fb9f3a\"],[0.8888888888888888,\"#fdca26\"],[1.0,\"#f0f921\"]]},\"legend\":{\"tracegroupgap\":0},\"margin\":{\"t\":60}},                        {\"responsive\": true}                    ).then(function(){\n",
       "                            \n",
       "var gd = document.getElementById('0216a034-5bdb-4e0a-8aaf-8a4be4b0d3ec');\n",
       "var x = new MutationObserver(function (mutations, observer) {{\n",
       "        var display = window.getComputedStyle(gd).display;\n",
       "        if (!display || display === 'none') {{\n",
       "            console.log([gd, 'removed!']);\n",
       "            Plotly.purge(gd);\n",
       "            observer.disconnect();\n",
       "        }}\n",
       "}});\n",
       "\n",
       "// Listen for the removal of the full notebook cells\n",
       "var notebookContainer = gd.closest('#notebook-container');\n",
       "if (notebookContainer) {{\n",
       "    x.observe(notebookContainer, {childList: true});\n",
       "}}\n",
       "\n",
       "// Listen for the clearing of the current output cell\n",
       "var outputEl = gd.closest('.output');\n",
       "if (outputEl) {{\n",
       "    x.observe(outputEl, {childList: true});\n",
       "}}\n",
       "\n",
       "                        })                };                });            </script>        </div>"
      ]
     },
     "metadata": {},
     "output_type": "display_data"
    }
   ],
   "source": [
    "df_clustering = df[['id', 'name', 'duration', 'energy', 'key', 'loudness', 'mode', 'speechiness', 'acousticness', 'instrumentalness', 'liveness', 'valence', 'tempo', 'danceability']]\n",
    "\n",
    "scaler = StandardScaler()\n",
    "scaled_data = scaler.fit_transform(df_clustering.iloc[:,2:])\n",
    "kmeans = KMeans(n_clusters=4, random_state=42)\n",
    "kmeans.fit(scaled_data)\n",
    "\n",
    "df_clustering['cluster'] = kmeans.labels_\n",
    "\n",
    "fig = px.scatter_3d(df_clustering, x='energy', y='loudness', z='tempo', color='cluster', hover_name='name', hover_data=['duration', 'speechiness', 'acousticness', 'instrumentalness', 'liveness', 'valence', 'danceability'])\n",
    "fig.show()"
   ]
  }
 ],
 "metadata": {
  "kernelspec": {
   "display_name": "Python 3",
   "language": "python",
   "name": "python3"
  },
  "language_info": {
   "codemirror_mode": {
    "name": "ipython",
    "version": 3
   },
   "file_extension": ".py",
   "mimetype": "text/x-python",
   "name": "python",
   "nbconvert_exporter": "python",
   "pygments_lexer": "ipython3",
   "version": "3.11.3"
  },
  "orig_nbformat": 4
 },
 "nbformat": 4,
 "nbformat_minor": 2
}
